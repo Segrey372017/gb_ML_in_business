{
  "nbformat": 4,
  "nbformat_minor": 0,
  "metadata": {
    "colab": {
      "name": "Lesson 9_request.ipynb",
      "provenance": [],
      "toc_visible": true,
      "collapsed_sections": [],
      "include_colab_link": true
    },
    "kernelspec": {
      "name": "python3",
      "display_name": "Python 3"
    }
  },
  "cells": [
    {
      "cell_type": "markdown",
      "metadata": {
        "id": "view-in-github",
        "colab_type": "text"
      },
      "source": [
        "<a href=\"https://colab.research.google.com/github/Segrey372017/gb_ML_in_business/blob/main/Lesson_9_request.ipynb\" target=\"_parent\"><img src=\"https://colab.research.google.com/assets/colab-badge.svg\" alt=\"Open In Colab\"/></a>"
      ]
    },
    {
      "cell_type": "markdown",
      "metadata": {
        "id": "mCvG3HpmbRKo"
      },
      "source": [
        "Строим запрос к нашему сервису"
      ]
    },
    {
      "cell_type": "code",
      "metadata": {
        "id": "Cxm28pii80xp"
      },
      "source": [
        "import requests\n",
        "\n",
        "import urllib.request\n",
        "import json "
      ],
      "execution_count": null,
      "outputs": []
    },
    {
      "cell_type": "code",
      "source": [
        "# Пример данных\n",
        "data = ( \n",
        "    \"Stylect is a dynamic startup that helps helps women discover and buy shoes. We’re a small team based in London that has previously worked at Google, Techstars, Pixelmator and Rocket Internet.We place a high premium on simplicity no matter what we’re working on (i.e. design, programming, marketing). We’re also a team that ships fast. We built version 1 of our app in a week, the next release (built in a month) was featured in the Apple Appstore Italy as a best new fashion app. Fast release cycles are challenging, but also very fun - which is why we love them.\\xa0As we’ve grown, the projects that we’re working on have grown both in scale and in technical complexity. \\xa0Stylect is looking for someone who can help us improve our backend which gathers product data; analyses/categorizes it; and shows it to thousands of users daily. Each step in the process has unique challenges that demands a strong technical background.\",\n",
        "    \"ustwo offers you the opportunity to be yourself, whilst delivering the best work on the planet for some of the biggest and most innovative brands. A culture thriving on collaboration underpins what is an amazing work smart/ live well environment.We genuinely care about the work that we deliver and the people who help make it all possible. We only invest in projects, people and practices that we believe in, to ensure we remain excited about every opportunity.\",\n",
        "    \"We are negotiable on salary and there is the potential for equity for the right candidate.\"\n",
        ")"
      ],
      "metadata": {
        "id": "EWP3BCM6OBXv"
      },
      "execution_count": null,
      "outputs": []
    },
    {
      "cell_type": "code",
      "metadata": {
        "id": "J_xtPIQt8toy"
      },
      "source": [
        "# формируем запрос\n",
        "def send_json(x):\n",
        "    description, company_profile, benefits = x\n",
        "    #print(description, company_profile, benefits)\n",
        "    body = {\n",
        "        'description': description, \n",
        "        'company_profile': company_profile,\n",
        "        'benefits': benefits\n",
        "        }\n",
        "    myurl = 'http://3669-104-198-71-64.ngrok.io' + '/predict'\n",
        "    headers = {'content-type': 'application/json; charset=utf-8'}\n",
        "    response = requests.post(myurl, json=body, headers=headers)\n",
        "    return response.json()['predictions']"
      ],
      "execution_count": null,
      "outputs": []
    },
    {
      "cell_type": "code",
      "source": [
        "# обращение к серверу с запросом из одного набора (его построили руками выше - data)\n",
        "response = send_json(data)\n",
        "print('предсказание', response)"
      ],
      "metadata": {
        "id": "OehA49hRN_pU",
        "outputId": "4c8e97eb-e479-4dd4-9e47-6363188cd780",
        "colab": {
          "base_uri": "https://localhost:8080/"
        }
      },
      "execution_count": null,
      "outputs": [
        {
          "output_type": "stream",
          "name": "stdout",
          "text": [
            "предсказание 0.001129359819418078\n"
          ]
        }
      ]
    },
    {
      "cell_type": "markdown",
      "metadata": {
        "id": "0ap3kT0Ndwy8"
      },
      "source": [
        "Сделаем обработку массы запросов:\n",
        "\n",
        "1. загрузим данные X_test\n",
        "\n",
        "https://drive.google.com/file/d/1-Ltk-t1acAoA5Xtz0zPZ1yOqjoYiP2h5\n",
        "\n",
        "https://drive.google.com/file/d/1vb0KLnOeRsg4G33TaPxKEV2OMnla1oyL"
      ]
    },
    {
      "cell_type": "code",
      "source": [
        "!wget 'https://drive.google.com/uc?export=download&id=1-Ltk-t1acAoA5Xtz0zPZ1yOqjoYiP2h5' -O X_test.csv\n",
        "!wget 'https://drive.google.com/uc?export=download&id=1vb0KLnOeRsg4G33TaPxKEV2OMnla1oyL' -O y_test.csv"
      ],
      "metadata": {
        "colab": {
          "base_uri": "https://localhost:8080/"
        },
        "id": "j58BjnCOM4Sr",
        "outputId": "b013e482-e6a9-4525-b5c6-fb02f6c63afd"
      },
      "execution_count": null,
      "outputs": [
        {
          "output_type": "stream",
          "name": "stdout",
          "text": [
            "--2022-04-16 16:37:22--  https://drive.google.com/uc?export=download&id=1-Ltk-t1acAoA5Xtz0zPZ1yOqjoYiP2h5\n",
            "Resolving drive.google.com (drive.google.com)... 64.233.189.139, 64.233.189.113, 64.233.189.102, ...\n",
            "Connecting to drive.google.com (drive.google.com)|64.233.189.139|:443... connected.\n",
            "HTTP request sent, awaiting response... 303 See Other\n",
            "Location: https://doc-0k-c0-docs.googleusercontent.com/docs/securesc/ha0ro937gcuc7l7deffksulhg5h7mbp1/horo989ttv7s8aqbr3b7gvio6r557o90/1650126975000/14904333240138417226/*/1-Ltk-t1acAoA5Xtz0zPZ1yOqjoYiP2h5?e=download [following]\n",
            "Warning: wildcards not supported in HTTP.\n",
            "--2022-04-16 16:37:25--  https://doc-0k-c0-docs.googleusercontent.com/docs/securesc/ha0ro937gcuc7l7deffksulhg5h7mbp1/horo989ttv7s8aqbr3b7gvio6r557o90/1650126975000/14904333240138417226/*/1-Ltk-t1acAoA5Xtz0zPZ1yOqjoYiP2h5?e=download\n",
            "Resolving doc-0k-c0-docs.googleusercontent.com (doc-0k-c0-docs.googleusercontent.com)... 74.125.203.132, 2404:6800:4008:c03::84\n",
            "Connecting to doc-0k-c0-docs.googleusercontent.com (doc-0k-c0-docs.googleusercontent.com)|74.125.203.132|:443... connected.\n",
            "HTTP request sent, awaiting response... 200 OK\n",
            "Length: 16364609 (16M) [text/csv]\n",
            "Saving to: ‘X_test.csv’\n",
            "\n",
            "X_test.csv          100%[===================>]  15.61M  38.2MB/s    in 0.4s    \n",
            "\n",
            "2022-04-16 16:37:26 (38.2 MB/s) - ‘X_test.csv’ saved [16364609/16364609]\n",
            "\n",
            "--2022-04-16 16:37:26--  https://drive.google.com/uc?export=download&id=1vb0KLnOeRsg4G33TaPxKEV2OMnla1oyL\n",
            "Resolving drive.google.com (drive.google.com)... 64.233.189.139, 64.233.189.113, 64.233.189.102, ...\n",
            "Connecting to drive.google.com (drive.google.com)|64.233.189.139|:443... connected.\n",
            "HTTP request sent, awaiting response... 303 See Other\n",
            "Location: https://doc-14-c0-docs.googleusercontent.com/docs/securesc/ha0ro937gcuc7l7deffksulhg5h7mbp1/ii4dl6m4m0oj9rig6e436lu82d9bovho/1650126975000/14904333240138417226/*/1vb0KLnOeRsg4G33TaPxKEV2OMnla1oyL?e=download [following]\n",
            "Warning: wildcards not supported in HTTP.\n",
            "--2022-04-16 16:37:26--  https://doc-14-c0-docs.googleusercontent.com/docs/securesc/ha0ro937gcuc7l7deffksulhg5h7mbp1/ii4dl6m4m0oj9rig6e436lu82d9bovho/1650126975000/14904333240138417226/*/1vb0KLnOeRsg4G33TaPxKEV2OMnla1oyL?e=download\n",
            "Resolving doc-14-c0-docs.googleusercontent.com (doc-14-c0-docs.googleusercontent.com)... 74.125.203.132, 2404:6800:4008:c03::84\n",
            "Connecting to doc-14-c0-docs.googleusercontent.com (doc-14-c0-docs.googleusercontent.com)|74.125.203.132|:443... connected.\n",
            "HTTP request sent, awaiting response... 200 OK\n",
            "Length: 11813 (12K) [text/csv]\n",
            "Saving to: ‘y_test.csv’\n",
            "\n",
            "y_test.csv          100%[===================>]  11.54K  --.-KB/s    in 0s      \n",
            "\n",
            "2022-04-16 16:37:27 (62.7 MB/s) - ‘y_test.csv’ saved [11813/11813]\n",
            "\n"
          ]
        }
      ]
    },
    {
      "cell_type": "code",
      "metadata": {
        "id": "86un8JyLFzIy"
      },
      "source": [
        "import pandas as pd\n",
        "from sklearn.metrics import roc_auc_score, roc_curve, precision_recall_curve\n",
        "from sklearn.metrics import f1_score\n",
        "from urllib import request, parse\n",
        "\n",
        "\n",
        "X_test = pd.read_csv(\"X_test.csv\")\n",
        "y_test = pd.read_csv(\"y_test.csv\")"
      ],
      "execution_count": null,
      "outputs": []
    },
    {
      "cell_type": "markdown",
      "metadata": {
        "id": "EEI1n7m4d6hl"
      },
      "source": [
        "2. Передаем запрос одиночный из наших данных и посмотрим на ответ"
      ]
    },
    {
      "cell_type": "code",
      "metadata": {
        "id": "6hdMT1q39TuA"
      },
      "source": [
        "response = send_json(X_test[['description', 'company_profile', 'benefits']].iloc[0,:])"
      ],
      "execution_count": null,
      "outputs": []
    },
    {
      "cell_type": "code",
      "metadata": {
        "id": "bfMibegjGgKq",
        "colab": {
          "base_uri": "https://localhost:8080/"
        },
        "outputId": "48f0b72e-a52b-4082-84c3-69326d6acc3a"
      },
      "source": [
        "response"
      ],
      "execution_count": null,
      "outputs": [
        {
          "output_type": "execute_result",
          "data": {
            "text/plain": [
              "0.02602202506963531"
            ]
          },
          "metadata": {},
          "execution_count": 21
        }
      ]
    },
    {
      "cell_type": "code",
      "metadata": {
        "colab": {
          "base_uri": "https://localhost:8080/",
          "height": 206
        },
        "id": "ldRkh4v9miMF",
        "outputId": "24ae50dd-f05d-4df3-b624-6db85e052b56"
      },
      "source": [
        "X_test[['description', 'company_profile', 'benefits']].head()"
      ],
      "execution_count": null,
      "outputs": [
        {
          "output_type": "execute_result",
          "data": {
            "text/plain": [
              "                                         description  \\\n",
              "0  Stylect is a dynamic startup that helps helps ...   \n",
              "1  General Summary: Achieves maximum sales profit...   \n",
              "2  At ustwo™ you get to be yourself, whilst deliv...   \n",
              "3  About EDITDEDITD runs the world's biggest appa...   \n",
              "4  As a Web Engineer at Runscope you'll be respon...   \n",
              "\n",
              "                                     company_profile  \\\n",
              "0                                                NaN   \n",
              "1                                                NaN   \n",
              "2  ustwo offers you the opportunity to be yoursel...   \n",
              "3  We build software for fashion retailers, to he...   \n",
              "4  Runscope is building tools for developers work...   \n",
              "\n",
              "                                            benefits  \n",
              "0  We are negotiable on salary and there is the p...  \n",
              "1  Great Health and DentalFast Advancement Opport...  \n",
              "2                                                NaN  \n",
              "3                                                NaN  \n",
              "4  Be a part of an experienced team who have work...  "
            ],
            "text/html": [
              "\n",
              "  <div id=\"df-06690137-d3f7-4022-a358-967e51451caf\">\n",
              "    <div class=\"colab-df-container\">\n",
              "      <div>\n",
              "<style scoped>\n",
              "    .dataframe tbody tr th:only-of-type {\n",
              "        vertical-align: middle;\n",
              "    }\n",
              "\n",
              "    .dataframe tbody tr th {\n",
              "        vertical-align: top;\n",
              "    }\n",
              "\n",
              "    .dataframe thead th {\n",
              "        text-align: right;\n",
              "    }\n",
              "</style>\n",
              "<table border=\"1\" class=\"dataframe\">\n",
              "  <thead>\n",
              "    <tr style=\"text-align: right;\">\n",
              "      <th></th>\n",
              "      <th>description</th>\n",
              "      <th>company_profile</th>\n",
              "      <th>benefits</th>\n",
              "    </tr>\n",
              "  </thead>\n",
              "  <tbody>\n",
              "    <tr>\n",
              "      <th>0</th>\n",
              "      <td>Stylect is a dynamic startup that helps helps ...</td>\n",
              "      <td>NaN</td>\n",
              "      <td>We are negotiable on salary and there is the p...</td>\n",
              "    </tr>\n",
              "    <tr>\n",
              "      <th>1</th>\n",
              "      <td>General Summary: Achieves maximum sales profit...</td>\n",
              "      <td>NaN</td>\n",
              "      <td>Great Health and DentalFast Advancement Opport...</td>\n",
              "    </tr>\n",
              "    <tr>\n",
              "      <th>2</th>\n",
              "      <td>At ustwo™ you get to be yourself, whilst deliv...</td>\n",
              "      <td>ustwo offers you the opportunity to be yoursel...</td>\n",
              "      <td>NaN</td>\n",
              "    </tr>\n",
              "    <tr>\n",
              "      <th>3</th>\n",
              "      <td>About EDITDEDITD runs the world's biggest appa...</td>\n",
              "      <td>We build software for fashion retailers, to he...</td>\n",
              "      <td>NaN</td>\n",
              "    </tr>\n",
              "    <tr>\n",
              "      <th>4</th>\n",
              "      <td>As a Web Engineer at Runscope you'll be respon...</td>\n",
              "      <td>Runscope is building tools for developers work...</td>\n",
              "      <td>Be a part of an experienced team who have work...</td>\n",
              "    </tr>\n",
              "  </tbody>\n",
              "</table>\n",
              "</div>\n",
              "      <button class=\"colab-df-convert\" onclick=\"convertToInteractive('df-06690137-d3f7-4022-a358-967e51451caf')\"\n",
              "              title=\"Convert this dataframe to an interactive table.\"\n",
              "              style=\"display:none;\">\n",
              "        \n",
              "  <svg xmlns=\"http://www.w3.org/2000/svg\" height=\"24px\"viewBox=\"0 0 24 24\"\n",
              "       width=\"24px\">\n",
              "    <path d=\"M0 0h24v24H0V0z\" fill=\"none\"/>\n",
              "    <path d=\"M18.56 5.44l.94 2.06.94-2.06 2.06-.94-2.06-.94-.94-2.06-.94 2.06-2.06.94zm-11 1L8.5 8.5l.94-2.06 2.06-.94-2.06-.94L8.5 2.5l-.94 2.06-2.06.94zm10 10l.94 2.06.94-2.06 2.06-.94-2.06-.94-.94-2.06-.94 2.06-2.06.94z\"/><path d=\"M17.41 7.96l-1.37-1.37c-.4-.4-.92-.59-1.43-.59-.52 0-1.04.2-1.43.59L10.3 9.45l-7.72 7.72c-.78.78-.78 2.05 0 2.83L4 21.41c.39.39.9.59 1.41.59.51 0 1.02-.2 1.41-.59l7.78-7.78 2.81-2.81c.8-.78.8-2.07 0-2.86zM5.41 20L4 18.59l7.72-7.72 1.47 1.35L5.41 20z\"/>\n",
              "  </svg>\n",
              "      </button>\n",
              "      \n",
              "  <style>\n",
              "    .colab-df-container {\n",
              "      display:flex;\n",
              "      flex-wrap:wrap;\n",
              "      gap: 12px;\n",
              "    }\n",
              "\n",
              "    .colab-df-convert {\n",
              "      background-color: #E8F0FE;\n",
              "      border: none;\n",
              "      border-radius: 50%;\n",
              "      cursor: pointer;\n",
              "      display: none;\n",
              "      fill: #1967D2;\n",
              "      height: 32px;\n",
              "      padding: 0 0 0 0;\n",
              "      width: 32px;\n",
              "    }\n",
              "\n",
              "    .colab-df-convert:hover {\n",
              "      background-color: #E2EBFA;\n",
              "      box-shadow: 0px 1px 2px rgba(60, 64, 67, 0.3), 0px 1px 3px 1px rgba(60, 64, 67, 0.15);\n",
              "      fill: #174EA6;\n",
              "    }\n",
              "\n",
              "    [theme=dark] .colab-df-convert {\n",
              "      background-color: #3B4455;\n",
              "      fill: #D2E3FC;\n",
              "    }\n",
              "\n",
              "    [theme=dark] .colab-df-convert:hover {\n",
              "      background-color: #434B5C;\n",
              "      box-shadow: 0px 1px 3px 1px rgba(0, 0, 0, 0.15);\n",
              "      filter: drop-shadow(0px 1px 2px rgba(0, 0, 0, 0.3));\n",
              "      fill: #FFFFFF;\n",
              "    }\n",
              "  </style>\n",
              "\n",
              "      <script>\n",
              "        const buttonEl =\n",
              "          document.querySelector('#df-06690137-d3f7-4022-a358-967e51451caf button.colab-df-convert');\n",
              "        buttonEl.style.display =\n",
              "          google.colab.kernel.accessAllowed ? 'block' : 'none';\n",
              "\n",
              "        async function convertToInteractive(key) {\n",
              "          const element = document.querySelector('#df-06690137-d3f7-4022-a358-967e51451caf');\n",
              "          const dataTable =\n",
              "            await google.colab.kernel.invokeFunction('convertToInteractive',\n",
              "                                                     [key], {});\n",
              "          if (!dataTable) return;\n",
              "\n",
              "          const docLinkHtml = 'Like what you see? Visit the ' +\n",
              "            '<a target=\"_blank\" href=https://colab.research.google.com/notebooks/data_table.ipynb>data table notebook</a>'\n",
              "            + ' to learn more about interactive tables.';\n",
              "          element.innerHTML = '';\n",
              "          dataTable['output_type'] = 'display_data';\n",
              "          await google.colab.output.renderOutput(dataTable, element);\n",
              "          const docLink = document.createElement('div');\n",
              "          docLink.innerHTML = docLinkHtml;\n",
              "          element.appendChild(docLink);\n",
              "        }\n",
              "      </script>\n",
              "    </div>\n",
              "  </div>\n",
              "  "
            ]
          },
          "metadata": {},
          "execution_count": 9
        }
      ]
    },
    {
      "cell_type": "markdown",
      "metadata": {
        "id": "mPcCXiQ1eMwN"
      },
      "source": [
        "3. Сделаем N запросов и оценим время"
      ]
    },
    {
      "cell_type": "code",
      "metadata": {
        "id": "B8rN18B4qCJV"
      },
      "source": [
        "N = 50"
      ],
      "execution_count": null,
      "outputs": []
    },
    {
      "cell_type": "code",
      "metadata": {
        "colab": {
          "base_uri": "https://localhost:8080/"
        },
        "id": "UbD-kDI7j5G_",
        "outputId": "f44b1a37-359f-48c5-e9b5-0617278450c2"
      },
      "source": [
        "%%time\n",
        "predictions = X_test[\n",
        "                     ['description', 'company_profile', 'benefits']\n",
        "                     ].iloc[:N].apply(lambda x: send_json(x), axis=1)"
      ],
      "execution_count": null,
      "outputs": [
        {
          "output_type": "stream",
          "name": "stdout",
          "text": [
            "CPU times: user 267 ms, sys: 29.4 ms, total: 297 ms\n",
            "Wall time: 20.9 s\n"
          ]
        }
      ]
    },
    {
      "cell_type": "code",
      "metadata": {
        "colab": {
          "base_uri": "https://localhost:8080/"
        },
        "id": "bMtyzhLNo5b7",
        "outputId": "482998a0-f4f0-460d-dba4-cadfe8d56665"
      },
      "source": [
        "predictions.values[:5]"
      ],
      "execution_count": null,
      "outputs": [
        {
          "output_type": "execute_result",
          "data": {
            "text/plain": [
              "array([0.02602203, 0.04317015, 0.00370601, 0.00112958, 0.00151454])"
            ]
          },
          "metadata": {},
          "execution_count": 12
        }
      ]
    },
    {
      "cell_type": "markdown",
      "metadata": {
        "id": "5-Emg5b1eTia"
      },
      "source": [
        "4. Посчитаем метрику"
      ]
    },
    {
      "cell_type": "code",
      "metadata": {
        "colab": {
          "base_uri": "https://localhost:8080/",
          "height": 206
        },
        "id": "qrbuoWWNpDU0",
        "outputId": "4b89d4dd-5fb6-4ffc-80a0-1d5218c43d94"
      },
      "source": [
        "y_test.head()"
      ],
      "execution_count": null,
      "outputs": [
        {
          "output_type": "execute_result",
          "data": {
            "text/plain": [
              "   fraudulent\n",
              "0           0\n",
              "1           0\n",
              "2           0\n",
              "3           0\n",
              "4           0"
            ],
            "text/html": [
              "\n",
              "  <div id=\"df-27c284f3-0df8-4d3a-9a5e-cc3470f6ea74\">\n",
              "    <div class=\"colab-df-container\">\n",
              "      <div>\n",
              "<style scoped>\n",
              "    .dataframe tbody tr th:only-of-type {\n",
              "        vertical-align: middle;\n",
              "    }\n",
              "\n",
              "    .dataframe tbody tr th {\n",
              "        vertical-align: top;\n",
              "    }\n",
              "\n",
              "    .dataframe thead th {\n",
              "        text-align: right;\n",
              "    }\n",
              "</style>\n",
              "<table border=\"1\" class=\"dataframe\">\n",
              "  <thead>\n",
              "    <tr style=\"text-align: right;\">\n",
              "      <th></th>\n",
              "      <th>fraudulent</th>\n",
              "    </tr>\n",
              "  </thead>\n",
              "  <tbody>\n",
              "    <tr>\n",
              "      <th>0</th>\n",
              "      <td>0</td>\n",
              "    </tr>\n",
              "    <tr>\n",
              "      <th>1</th>\n",
              "      <td>0</td>\n",
              "    </tr>\n",
              "    <tr>\n",
              "      <th>2</th>\n",
              "      <td>0</td>\n",
              "    </tr>\n",
              "    <tr>\n",
              "      <th>3</th>\n",
              "      <td>0</td>\n",
              "    </tr>\n",
              "    <tr>\n",
              "      <th>4</th>\n",
              "      <td>0</td>\n",
              "    </tr>\n",
              "  </tbody>\n",
              "</table>\n",
              "</div>\n",
              "      <button class=\"colab-df-convert\" onclick=\"convertToInteractive('df-27c284f3-0df8-4d3a-9a5e-cc3470f6ea74')\"\n",
              "              title=\"Convert this dataframe to an interactive table.\"\n",
              "              style=\"display:none;\">\n",
              "        \n",
              "  <svg xmlns=\"http://www.w3.org/2000/svg\" height=\"24px\"viewBox=\"0 0 24 24\"\n",
              "       width=\"24px\">\n",
              "    <path d=\"M0 0h24v24H0V0z\" fill=\"none\"/>\n",
              "    <path d=\"M18.56 5.44l.94 2.06.94-2.06 2.06-.94-2.06-.94-.94-2.06-.94 2.06-2.06.94zm-11 1L8.5 8.5l.94-2.06 2.06-.94-2.06-.94L8.5 2.5l-.94 2.06-2.06.94zm10 10l.94 2.06.94-2.06 2.06-.94-2.06-.94-.94-2.06-.94 2.06-2.06.94z\"/><path d=\"M17.41 7.96l-1.37-1.37c-.4-.4-.92-.59-1.43-.59-.52 0-1.04.2-1.43.59L10.3 9.45l-7.72 7.72c-.78.78-.78 2.05 0 2.83L4 21.41c.39.39.9.59 1.41.59.51 0 1.02-.2 1.41-.59l7.78-7.78 2.81-2.81c.8-.78.8-2.07 0-2.86zM5.41 20L4 18.59l7.72-7.72 1.47 1.35L5.41 20z\"/>\n",
              "  </svg>\n",
              "      </button>\n",
              "      \n",
              "  <style>\n",
              "    .colab-df-container {\n",
              "      display:flex;\n",
              "      flex-wrap:wrap;\n",
              "      gap: 12px;\n",
              "    }\n",
              "\n",
              "    .colab-df-convert {\n",
              "      background-color: #E8F0FE;\n",
              "      border: none;\n",
              "      border-radius: 50%;\n",
              "      cursor: pointer;\n",
              "      display: none;\n",
              "      fill: #1967D2;\n",
              "      height: 32px;\n",
              "      padding: 0 0 0 0;\n",
              "      width: 32px;\n",
              "    }\n",
              "\n",
              "    .colab-df-convert:hover {\n",
              "      background-color: #E2EBFA;\n",
              "      box-shadow: 0px 1px 2px rgba(60, 64, 67, 0.3), 0px 1px 3px 1px rgba(60, 64, 67, 0.15);\n",
              "      fill: #174EA6;\n",
              "    }\n",
              "\n",
              "    [theme=dark] .colab-df-convert {\n",
              "      background-color: #3B4455;\n",
              "      fill: #D2E3FC;\n",
              "    }\n",
              "\n",
              "    [theme=dark] .colab-df-convert:hover {\n",
              "      background-color: #434B5C;\n",
              "      box-shadow: 0px 1px 3px 1px rgba(0, 0, 0, 0.15);\n",
              "      filter: drop-shadow(0px 1px 2px rgba(0, 0, 0, 0.3));\n",
              "      fill: #FFFFFF;\n",
              "    }\n",
              "  </style>\n",
              "\n",
              "      <script>\n",
              "        const buttonEl =\n",
              "          document.querySelector('#df-27c284f3-0df8-4d3a-9a5e-cc3470f6ea74 button.colab-df-convert');\n",
              "        buttonEl.style.display =\n",
              "          google.colab.kernel.accessAllowed ? 'block' : 'none';\n",
              "\n",
              "        async function convertToInteractive(key) {\n",
              "          const element = document.querySelector('#df-27c284f3-0df8-4d3a-9a5e-cc3470f6ea74');\n",
              "          const dataTable =\n",
              "            await google.colab.kernel.invokeFunction('convertToInteractive',\n",
              "                                                     [key], {});\n",
              "          if (!dataTable) return;\n",
              "\n",
              "          const docLinkHtml = 'Like what you see? Visit the ' +\n",
              "            '<a target=\"_blank\" href=https://colab.research.google.com/notebooks/data_table.ipynb>data table notebook</a>'\n",
              "            + ' to learn more about interactive tables.';\n",
              "          element.innerHTML = '';\n",
              "          dataTable['output_type'] = 'display_data';\n",
              "          await google.colab.output.renderOutput(dataTable, element);\n",
              "          const docLink = document.createElement('div');\n",
              "          docLink.innerHTML = docLinkHtml;\n",
              "          element.appendChild(docLink);\n",
              "        }\n",
              "      </script>\n",
              "    </div>\n",
              "  </div>\n",
              "  "
            ]
          },
          "metadata": {},
          "execution_count": 13
        }
      ]
    },
    {
      "cell_type": "code",
      "source": [
        "import numpy as np\n",
        "\n",
        "precision, recall, thresholds = precision_recall_curve(y_test[:N], predictions)\n",
        "\n",
        "fscore = (2 * precision * recall) / (precision + recall)\n",
        "# locate the index of the largest f score\n",
        "ix = np.argmax(fscore)\n",
        "print(f'Best Threshold={thresholds[ix]}, F-Score={fscore[ix]:.3f}, Precision={precision[ix]:.3f}, Recall={recall[ix]:.3f}')"
      ],
      "metadata": {
        "colab": {
          "base_uri": "https://localhost:8080/"
        },
        "id": "PhGNR_vtNbg5",
        "outputId": "eb291235-2155-4fe8-eb88-cef3102c18bd"
      },
      "execution_count": null,
      "outputs": [
        {
          "output_type": "stream",
          "name": "stdout",
          "text": [
            "Best Threshold=0.907162655181958, F-Score=0.667, Precision=1.000, Recall=0.500\n"
          ]
        }
      ]
    },
    {
      "cell_type": "code",
      "metadata": {
        "colab": {
          "base_uri": "https://localhost:8080/"
        },
        "id": "RNQmFOfXnAky",
        "outputId": "ebbbd3ca-21ce-4f98-9790-73ddc3ed95b0"
      },
      "source": [
        "roc_auc_score(y_score=predictions.values, y_true=y_test.values[:N])"
      ],
      "execution_count": null,
      "outputs": [
        {
          "output_type": "execute_result",
          "data": {
            "text/plain": [
              "0.96875"
            ]
          },
          "metadata": {},
          "execution_count": 15
        }
      ]
    },
    {
      "cell_type": "markdown",
      "metadata": {
        "id": "4-wsAkrJebRl"
      },
      "source": [
        "5. Анализ : в целом похоже"
      ]
    }
  ]
}