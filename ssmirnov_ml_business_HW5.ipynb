{
  "nbformat": 4,
  "nbformat_minor": 0,
  "metadata": {
    "colab": {
      "name": "ssmirnov_ml_business_HW5.ipynb",
      "provenance": [],
      "collapsed_sections": [],
      "authorship_tag": "ABX9TyNlfkyNk+ovRPg5EvG4VEOY",
      "include_colab_link": true
    },
    "kernelspec": {
      "name": "python3",
      "display_name": "Python 3"
    },
    "language_info": {
      "name": "python"
    }
  },
  "cells": [
    {
      "cell_type": "markdown",
      "metadata": {
        "id": "view-in-github",
        "colab_type": "text"
      },
      "source": [
        "<a href=\"https://colab.research.google.com/github/Segrey372017/gb_ML_in_business/blob/main/ssmirnov_ml_business_HW5.ipynb\" target=\"_parent\"><img src=\"https://colab.research.google.com/assets/colab-badge.svg\" alt=\"Open In Colab\"/></a>"
      ]
    },
    {
      "cell_type": "code",
      "execution_count": null,
      "metadata": {
        "id": "zt8xc9UNMx0Q"
      },
      "outputs": [],
      "source": [
        "import numpy as np\n",
        "import pandas as pd\n",
        "import matplotlib.pyplot as plt\n",
        "import seaborn as sns\n",
        "sns.set()"
      ]
    },
    {
      "cell_type": "code",
      "source": [
        "from sklearn.base import BaseEstimator, TransformerMixin\n",
        "from sklearn.pipeline import Pipeline, make_pipeline, FeatureUnion\n",
        "from sklearn.preprocessing import MinMaxScaler\n",
        "from sklearn.model_selection import train_test_split, GridSearchCV\n",
        "from sklearn.linear_model import LogisticRegression\n",
        "from sklearn.ensemble import RandomForestClassifier\n",
        "from lightgbm import LGBMClassifier\n",
        "from sklearn.metrics import roc_auc_score, precision_recall_curve, confusion_matrix, classification_report, log_loss\n",
        " "
      ],
      "metadata": {
        "id": "W_7m4OjJM_Mg"
      },
      "execution_count": null,
      "outputs": []
    },
    {
      "cell_type": "markdown",
      "source": [
        "#Домашняя работа к Уроку 5"
      ],
      "metadata": {
        "id": "nMW9Eh0aNoMD"
      }
    },
    {
      "cell_type": "markdown",
      "source": [
        "### Задание 1\n",
        "<p> Для нашего пайплайна (Case1) поэкспериментировать с разными моделями:\n",
        "<ul> \n",
        "   <li> бустинг </li>\n",
        "  <li> логистическая регрессия </li>\n",
        "</ul>\n",
        "</p>"
      ],
      "metadata": {
        "id": "BycE7Mi8NtQM"
      }
    },
    {
      "cell_type": "code",
      "source": [
        "#!wget 'https://drive.google.com/uc?export=download&id=1yIIxDfW7Wfq-wPlbsa0dFrSlD3r-Ai91' -O hw5_churn_data.csv"
      ],
      "metadata": {
        "id": "hfwfUrGzOQkx"
      },
      "execution_count": null,
      "outputs": []
    },
    {
      "cell_type": "code",
      "source": [
        "DATA_LINK = 'https://raw.githubusercontent.com/Segrey372017/gb_ML_in_business/310a500f1bcefb375bd42e8c6b0192ae1be15ac5/hw5_churn_data.csv' # датасет загружен на гит"
      ],
      "metadata": {
        "id": "-eAcQxsCQfnE"
      },
      "execution_count": null,
      "outputs": []
    },
    {
      "cell_type": "code",
      "source": [
        "df = pd.read_csv(DATA_LINK)"
      ],
      "metadata": {
        "id": "nT5WLe1mOmyU"
      },
      "execution_count": null,
      "outputs": []
    },
    {
      "cell_type": "code",
      "source": [
        "df.head()"
      ],
      "metadata": {
        "colab": {
          "base_uri": "https://localhost:8080/",
          "height": 206
        },
        "id": "8QigiC09Oyn9",
        "outputId": "91dc6937-7746-447d-ea8e-1a546d310b9e"
      },
      "execution_count": null,
      "outputs": [
        {
          "output_type": "execute_result",
          "data": {
            "text/plain": [
              "   RowNumber  CustomerId   Surname  CreditScore Geography  Gender  Age  \\\n",
              "0          1    15634602  Hargrave          619    France  Female   42   \n",
              "1          2    15647311      Hill          608     Spain  Female   41   \n",
              "2          3    15619304      Onio          502    France  Female   42   \n",
              "3          4    15701354      Boni          699    France  Female   39   \n",
              "4          5    15737888  Mitchell          850     Spain  Female   43   \n",
              "\n",
              "   Tenure    Balance  NumOfProducts  HasCrCard  IsActiveMember  \\\n",
              "0       2       0.00              1          1               1   \n",
              "1       1   83807.86              1          0               1   \n",
              "2       8  159660.80              3          1               0   \n",
              "3       1       0.00              2          0               0   \n",
              "4       2  125510.82              1          1               1   \n",
              "\n",
              "   EstimatedSalary  Exited  \n",
              "0        101348.88       1  \n",
              "1        112542.58       0  \n",
              "2        113931.57       1  \n",
              "3         93826.63       0  \n",
              "4         79084.10       0  "
            ],
            "text/html": [
              "\n",
              "  <div id=\"df-7e60cfef-1fa5-4135-a47f-5fe718dcc909\">\n",
              "    <div class=\"colab-df-container\">\n",
              "      <div>\n",
              "<style scoped>\n",
              "    .dataframe tbody tr th:only-of-type {\n",
              "        vertical-align: middle;\n",
              "    }\n",
              "\n",
              "    .dataframe tbody tr th {\n",
              "        vertical-align: top;\n",
              "    }\n",
              "\n",
              "    .dataframe thead th {\n",
              "        text-align: right;\n",
              "    }\n",
              "</style>\n",
              "<table border=\"1\" class=\"dataframe\">\n",
              "  <thead>\n",
              "    <tr style=\"text-align: right;\">\n",
              "      <th></th>\n",
              "      <th>RowNumber</th>\n",
              "      <th>CustomerId</th>\n",
              "      <th>Surname</th>\n",
              "      <th>CreditScore</th>\n",
              "      <th>Geography</th>\n",
              "      <th>Gender</th>\n",
              "      <th>Age</th>\n",
              "      <th>Tenure</th>\n",
              "      <th>Balance</th>\n",
              "      <th>NumOfProducts</th>\n",
              "      <th>HasCrCard</th>\n",
              "      <th>IsActiveMember</th>\n",
              "      <th>EstimatedSalary</th>\n",
              "      <th>Exited</th>\n",
              "    </tr>\n",
              "  </thead>\n",
              "  <tbody>\n",
              "    <tr>\n",
              "      <th>0</th>\n",
              "      <td>1</td>\n",
              "      <td>15634602</td>\n",
              "      <td>Hargrave</td>\n",
              "      <td>619</td>\n",
              "      <td>France</td>\n",
              "      <td>Female</td>\n",
              "      <td>42</td>\n",
              "      <td>2</td>\n",
              "      <td>0.00</td>\n",
              "      <td>1</td>\n",
              "      <td>1</td>\n",
              "      <td>1</td>\n",
              "      <td>101348.88</td>\n",
              "      <td>1</td>\n",
              "    </tr>\n",
              "    <tr>\n",
              "      <th>1</th>\n",
              "      <td>2</td>\n",
              "      <td>15647311</td>\n",
              "      <td>Hill</td>\n",
              "      <td>608</td>\n",
              "      <td>Spain</td>\n",
              "      <td>Female</td>\n",
              "      <td>41</td>\n",
              "      <td>1</td>\n",
              "      <td>83807.86</td>\n",
              "      <td>1</td>\n",
              "      <td>0</td>\n",
              "      <td>1</td>\n",
              "      <td>112542.58</td>\n",
              "      <td>0</td>\n",
              "    </tr>\n",
              "    <tr>\n",
              "      <th>2</th>\n",
              "      <td>3</td>\n",
              "      <td>15619304</td>\n",
              "      <td>Onio</td>\n",
              "      <td>502</td>\n",
              "      <td>France</td>\n",
              "      <td>Female</td>\n",
              "      <td>42</td>\n",
              "      <td>8</td>\n",
              "      <td>159660.80</td>\n",
              "      <td>3</td>\n",
              "      <td>1</td>\n",
              "      <td>0</td>\n",
              "      <td>113931.57</td>\n",
              "      <td>1</td>\n",
              "    </tr>\n",
              "    <tr>\n",
              "      <th>3</th>\n",
              "      <td>4</td>\n",
              "      <td>15701354</td>\n",
              "      <td>Boni</td>\n",
              "      <td>699</td>\n",
              "      <td>France</td>\n",
              "      <td>Female</td>\n",
              "      <td>39</td>\n",
              "      <td>1</td>\n",
              "      <td>0.00</td>\n",
              "      <td>2</td>\n",
              "      <td>0</td>\n",
              "      <td>0</td>\n",
              "      <td>93826.63</td>\n",
              "      <td>0</td>\n",
              "    </tr>\n",
              "    <tr>\n",
              "      <th>4</th>\n",
              "      <td>5</td>\n",
              "      <td>15737888</td>\n",
              "      <td>Mitchell</td>\n",
              "      <td>850</td>\n",
              "      <td>Spain</td>\n",
              "      <td>Female</td>\n",
              "      <td>43</td>\n",
              "      <td>2</td>\n",
              "      <td>125510.82</td>\n",
              "      <td>1</td>\n",
              "      <td>1</td>\n",
              "      <td>1</td>\n",
              "      <td>79084.10</td>\n",
              "      <td>0</td>\n",
              "    </tr>\n",
              "  </tbody>\n",
              "</table>\n",
              "</div>\n",
              "      <button class=\"colab-df-convert\" onclick=\"convertToInteractive('df-7e60cfef-1fa5-4135-a47f-5fe718dcc909')\"\n",
              "              title=\"Convert this dataframe to an interactive table.\"\n",
              "              style=\"display:none;\">\n",
              "        \n",
              "  <svg xmlns=\"http://www.w3.org/2000/svg\" height=\"24px\"viewBox=\"0 0 24 24\"\n",
              "       width=\"24px\">\n",
              "    <path d=\"M0 0h24v24H0V0z\" fill=\"none\"/>\n",
              "    <path d=\"M18.56 5.44l.94 2.06.94-2.06 2.06-.94-2.06-.94-.94-2.06-.94 2.06-2.06.94zm-11 1L8.5 8.5l.94-2.06 2.06-.94-2.06-.94L8.5 2.5l-.94 2.06-2.06.94zm10 10l.94 2.06.94-2.06 2.06-.94-2.06-.94-.94-2.06-.94 2.06-2.06.94z\"/><path d=\"M17.41 7.96l-1.37-1.37c-.4-.4-.92-.59-1.43-.59-.52 0-1.04.2-1.43.59L10.3 9.45l-7.72 7.72c-.78.78-.78 2.05 0 2.83L4 21.41c.39.39.9.59 1.41.59.51 0 1.02-.2 1.41-.59l7.78-7.78 2.81-2.81c.8-.78.8-2.07 0-2.86zM5.41 20L4 18.59l7.72-7.72 1.47 1.35L5.41 20z\"/>\n",
              "  </svg>\n",
              "      </button>\n",
              "      \n",
              "  <style>\n",
              "    .colab-df-container {\n",
              "      display:flex;\n",
              "      flex-wrap:wrap;\n",
              "      gap: 12px;\n",
              "    }\n",
              "\n",
              "    .colab-df-convert {\n",
              "      background-color: #E8F0FE;\n",
              "      border: none;\n",
              "      border-radius: 50%;\n",
              "      cursor: pointer;\n",
              "      display: none;\n",
              "      fill: #1967D2;\n",
              "      height: 32px;\n",
              "      padding: 0 0 0 0;\n",
              "      width: 32px;\n",
              "    }\n",
              "\n",
              "    .colab-df-convert:hover {\n",
              "      background-color: #E2EBFA;\n",
              "      box-shadow: 0px 1px 2px rgba(60, 64, 67, 0.3), 0px 1px 3px 1px rgba(60, 64, 67, 0.15);\n",
              "      fill: #174EA6;\n",
              "    }\n",
              "\n",
              "    [theme=dark] .colab-df-convert {\n",
              "      background-color: #3B4455;\n",
              "      fill: #D2E3FC;\n",
              "    }\n",
              "\n",
              "    [theme=dark] .colab-df-convert:hover {\n",
              "      background-color: #434B5C;\n",
              "      box-shadow: 0px 1px 3px 1px rgba(0, 0, 0, 0.15);\n",
              "      filter: drop-shadow(0px 1px 2px rgba(0, 0, 0, 0.3));\n",
              "      fill: #FFFFFF;\n",
              "    }\n",
              "  </style>\n",
              "\n",
              "      <script>\n",
              "        const buttonEl =\n",
              "          document.querySelector('#df-7e60cfef-1fa5-4135-a47f-5fe718dcc909 button.colab-df-convert');\n",
              "        buttonEl.style.display =\n",
              "          google.colab.kernel.accessAllowed ? 'block' : 'none';\n",
              "\n",
              "        async function convertToInteractive(key) {\n",
              "          const element = document.querySelector('#df-7e60cfef-1fa5-4135-a47f-5fe718dcc909');\n",
              "          const dataTable =\n",
              "            await google.colab.kernel.invokeFunction('convertToInteractive',\n",
              "                                                     [key], {});\n",
              "          if (!dataTable) return;\n",
              "\n",
              "          const docLinkHtml = 'Like what you see? Visit the ' +\n",
              "            '<a target=\"_blank\" href=https://colab.research.google.com/notebooks/data_table.ipynb>data table notebook</a>'\n",
              "            + ' to learn more about interactive tables.';\n",
              "          element.innerHTML = '';\n",
              "          dataTable['output_type'] = 'display_data';\n",
              "          await google.colab.output.renderOutput(dataTable, element);\n",
              "          const docLink = document.createElement('div');\n",
              "          docLink.innerHTML = docLinkHtml;\n",
              "          element.appendChild(docLink);\n",
              "        }\n",
              "      </script>\n",
              "    </div>\n",
              "  </div>\n",
              "  "
            ]
          },
          "metadata": {},
          "execution_count": 6
        }
      ]
    },
    {
      "cell_type": "code",
      "source": [
        "df['Exited'].value_counts()"
      ],
      "metadata": {
        "colab": {
          "base_uri": "https://localhost:8080/"
        },
        "id": "Wd8CIoJNQvlG",
        "outputId": "fa6306da-16a6-49b9-92ce-2acac0d86ddc"
      },
      "execution_count": null,
      "outputs": [
        {
          "output_type": "execute_result",
          "data": {
            "text/plain": [
              "0    7963\n",
              "1    2037\n",
              "Name: Exited, dtype: int64"
            ]
          },
          "metadata": {},
          "execution_count": 7
        }
      ]
    },
    {
      "cell_type": "code",
      "source": [
        "7963/2037"
      ],
      "metadata": {
        "colab": {
          "base_uri": "https://localhost:8080/"
        },
        "id": "FKz4hoD5owf_",
        "outputId": "5f7d34e7-d942-4b9f-80c1-f8cbd8afa3ed"
      },
      "execution_count": null,
      "outputs": [
        {
          "output_type": "execute_result",
          "data": {
            "text/plain": [
              "3.9091801669121256"
            ]
          },
          "metadata": {},
          "execution_count": 66
        }
      ]
    },
    {
      "cell_type": "code",
      "source": [
        "X_train, X_test, y_train, y_test = train_test_split(df, df['Exited'], random_state=0)"
      ],
      "metadata": {
        "id": "4ERUkaSBQ2ue"
      },
      "execution_count": null,
      "outputs": []
    },
    {
      "cell_type": "code",
      "source": [
        "#соберем наш простой pipeline, но нам понадобится написать класс для выбора нужного поля\n",
        "class FeatureSelector(BaseEstimator, TransformerMixin):\n",
        "    \"\"\"\n",
        "    Селектор для выбора категориальных текстовых колонок\n",
        "    \"\"\"\n",
        "    def __init__(self, column):\n",
        "        self.column = column\n",
        "\n",
        "    def fit(self, X, y=None):\n",
        "        return self\n",
        "\n",
        "    def transform(self, X, y=None):\n",
        "        return X[self.column]\n",
        "    \n",
        "\n",
        "class NumberSelector(BaseEstimator, TransformerMixin):\n",
        "    \"\"\"\n",
        "    Transformer to select a single column from the data frame to perform additional transformations on\n",
        "    Use on numeric columns in the data\n",
        "    \"\"\"\n",
        "    def __init__(self, key):\n",
        "        self.key = key\n",
        "\n",
        "    def fit(self, X, y=None):\n",
        "        return self\n",
        "\n",
        "    def transform(self, X):\n",
        "        return X[[self.key]]\n",
        "    \n",
        "    \n",
        "class OHEEncoder(BaseEstimator, TransformerMixin):\n",
        "    \"\"\"\n",
        "    Кодировщик категориальных признаков в разреженные векторы\n",
        "    \"\"\"\n",
        "    def __init__(self, key):\n",
        "        self.key = key\n",
        "        self.columns = []\n",
        "\n",
        "    def fit(self, X, y=None):\n",
        "        self.columns = [col for col in pd.get_dummies(X, prefix=self.key).columns]\n",
        "        return self\n",
        "\n",
        "    def transform(self, X):\n",
        "        X = pd.get_dummies(X, prefix=self.key)\n",
        "        test_columns = [col for col in X.columns]\n",
        "        \n",
        "        for col_ in self.columns:\n",
        "            if col_ not in test_columns:\n",
        "                X[col_] = 0\n",
        "        return X[self.columns]\n",
        "\n",
        "class MinMaxEncoder(BaseEstimator, TransformerMixin):\n",
        "    \"\"\"\n",
        "    Класс для маштабирования данных в диапазон [-1:1]\n",
        "\n",
        "    \"\"\"\n",
        "    def __init__(self):\n",
        "        self.MinMax = MinMaxScaler(feature_range = (-1,1))\n",
        "        return\n",
        "\n",
        "    def fit(self, X, y = None):\n",
        "        self.MinMax.fit(X)\n",
        "        return\n",
        "\n",
        "    def transform(self, X):\n",
        "        return self.MinMax.transform(X)\n"
      ],
      "metadata": {
        "id": "LheH_wCYQ7b9"
      },
      "execution_count": null,
      "outputs": []
    },
    {
      "cell_type": "code",
      "source": [
        "df.dtypes"
      ],
      "metadata": {
        "colab": {
          "base_uri": "https://localhost:8080/"
        },
        "id": "xPe_b4mmRmIH",
        "outputId": "79160b38-165a-42c1-d5f1-20d46f3a29ac"
      },
      "execution_count": null,
      "outputs": [
        {
          "output_type": "execute_result",
          "data": {
            "text/plain": [
              "RowNumber            int64\n",
              "CustomerId           int64\n",
              "Surname             object\n",
              "CreditScore          int64\n",
              "Geography           object\n",
              "Gender              object\n",
              "Age                  int64\n",
              "Tenure               int64\n",
              "Balance            float64\n",
              "NumOfProducts        int64\n",
              "HasCrCard            int64\n",
              "IsActiveMember       int64\n",
              "EstimatedSalary    float64\n",
              "Exited               int64\n",
              "dtype: object"
            ]
          },
          "metadata": {},
          "execution_count": 10
        }
      ]
    },
    {
      "cell_type": "code",
      "source": [
        "# Отбираем категориальные и количественные признаки в разные списки\n",
        "categorical_columns = ['Geography', 'Gender', 'Tenure', 'HasCrCard', 'IsActiveMember']\n",
        "continuous_columns = ['CreditScore', 'Age', 'Balance', 'NumOfProducts', 'EstimatedSalary']"
      ],
      "metadata": {
        "id": "7d-341HkR4k4"
      },
      "execution_count": null,
      "outputs": []
    },
    {
      "cell_type": "code",
      "source": [
        "# протестируем пайплайн для количественных признаков\n",
        "num_transformer = Pipeline([\n",
        "                            ('selector', NumberSelector(key = 'CreditScore')),\n",
        "                             ('min_max', MinMaxEncoder())\n",
        "                             ])"
      ],
      "metadata": {
        "id": "YgyXc6TCXYmj"
      },
      "execution_count": null,
      "outputs": []
    },
    {
      "cell_type": "code",
      "source": [
        "num_transformer.fit(X_train)"
      ],
      "metadata": {
        "colab": {
          "base_uri": "https://localhost:8080/"
        },
        "id": "nShnpb_dZWYB",
        "outputId": "934b6267-1c17-4026-a749-eb146704f167"
      },
      "execution_count": null,
      "outputs": [
        {
          "output_type": "execute_result",
          "data": {
            "text/plain": [
              "Pipeline(steps=[('selector', NumberSelector(key='CreditScore')),\n",
              "                ('min_max', MinMaxEncoder())])"
            ]
          },
          "metadata": {},
          "execution_count": 19
        }
      ]
    },
    {
      "cell_type": "code",
      "source": [
        "min(num_transformer.transform(X_train))"
      ],
      "metadata": {
        "colab": {
          "base_uri": "https://localhost:8080/"
        },
        "id": "tYaMQk1HaCnW",
        "outputId": "2185da35-18cf-4e54-80e6-70dd40224093"
      },
      "execution_count": null,
      "outputs": [
        {
          "output_type": "execute_result",
          "data": {
            "text/plain": [
              "array([-1.])"
            ]
          },
          "metadata": {},
          "execution_count": 21
        }
      ]
    },
    {
      "cell_type": "code",
      "source": [
        "# Теперь нам нужно под каждый признак создать трансформер и объединить их в список.\n",
        "final_transformers = list()\n",
        "\n",
        "for cat_col in categorical_columns:\n",
        "    cat_transformer = Pipeline([\n",
        "                ('selector', FeatureSelector(column=cat_col)),\n",
        "                ('ohe', OHEEncoder(key=cat_col))\n",
        "            ])\n",
        "    \n",
        "    final_transformers.append((cat_col, cat_transformer))\n",
        "    \n",
        "for cont_col in continuous_columns:\n",
        "    cont_transformer = Pipeline([\n",
        "                ('selector', NumberSelector(key=cont_col)),\n",
        "                ('min_max', MinMaxScaler((-1,1))) # что-то не заработало на этабе сборки пайплайна применяю скалер без обертки\n",
        "            ])\n",
        "    \n",
        "    final_transformers.append((cont_col, cont_transformer))"
      ],
      "metadata": {
        "id": "cv8ysHkmS5_9"
      },
      "execution_count": null,
      "outputs": []
    },
    {
      "cell_type": "code",
      "source": [
        "# Объединим все это в единый пайплайн\n",
        "feats = FeatureUnion(final_transformers)\n",
        "\n",
        "feature_processing = Pipeline([('feats', feats)])"
      ],
      "metadata": {
        "id": "sCgfcdcyTXoU"
      },
      "execution_count": null,
      "outputs": []
    },
    {
      "cell_type": "code",
      "source": [
        "# создадим пайплайны для соответствующих модлей\n",
        "LR_classifier = Pipeline([('feature_processing', feature_processing),\n",
        "                         ('classifier', LogisticRegression())]\n",
        "                         )\n",
        "\n",
        "LGBM_classifier = Pipeline( [('feature_processing', feature_processing),\n",
        "                           ('classifier', LGBMClassifier(n_estimators = 100, silent = True, random_state= 12))]\n",
        "\n",
        "                         )"
      ],
      "metadata": {
        "id": "mX52mrz1TuDU"
      },
      "execution_count": null,
      "outputs": []
    },
    {
      "cell_type": "markdown",
      "source": [
        "Обучаем модели"
      ],
      "metadata": {
        "id": "3ZEaQ7U3VXtH"
      }
    },
    {
      "cell_type": "code",
      "source": [
        "%%time\n",
        "LR_classifier.fit(X_train, y_train)"
      ],
      "metadata": {
        "colab": {
          "base_uri": "https://localhost:8080/"
        },
        "id": "5YGoO8WOVbtL",
        "outputId": "b6ffa2c6-7353-4f8d-b196-e817b6b515b9"
      },
      "execution_count": null,
      "outputs": [
        {
          "output_type": "stream",
          "name": "stdout",
          "text": [
            "CPU times: user 109 ms, sys: 49.4 ms, total: 158 ms\n",
            "Wall time: 112 ms\n"
          ]
        },
        {
          "output_type": "execute_result",
          "data": {
            "text/plain": [
              "Pipeline(steps=[('feature_processing',\n",
              "                 Pipeline(steps=[('feats',\n",
              "                                  FeatureUnion(transformer_list=[('Geography',\n",
              "                                                                  Pipeline(steps=[('selector',\n",
              "                                                                                   FeatureSelector(column='Geography')),\n",
              "                                                                                  ('ohe',\n",
              "                                                                                   OHEEncoder(key='Geography'))])),\n",
              "                                                                 ('Gender',\n",
              "                                                                  Pipeline(steps=[('selector',\n",
              "                                                                                   FeatureSelector(column='Gender')),\n",
              "                                                                                  ('ohe',\n",
              "                                                                                   OHEEncoder(key='Gender'))])),\n",
              "                                                                 ('Tenure',\n",
              "                                                                  Pipeline(steps=[('sel...\n",
              "                                                                                   MinMaxScaler(feature_range=(-1,\n",
              "                                                                                                               1)))])),\n",
              "                                                                 ('NumOfProducts',\n",
              "                                                                  Pipeline(steps=[('selector',\n",
              "                                                                                   NumberSelector(key='NumOfProducts')),\n",
              "                                                                                  ('min_max',\n",
              "                                                                                   MinMaxScaler(feature_range=(-1,\n",
              "                                                                                                               1)))])),\n",
              "                                                                 ('EstimatedSalary',\n",
              "                                                                  Pipeline(steps=[('selector',\n",
              "                                                                                   NumberSelector(key='EstimatedSalary')),\n",
              "                                                                                  ('min_max',\n",
              "                                                                                   MinMaxScaler(feature_range=(-1,\n",
              "                                                                                                               1)))]))]))])),\n",
              "                ('classifier', LogisticRegression())])"
            ]
          },
          "metadata": {},
          "execution_count": 29
        }
      ]
    },
    {
      "cell_type": "code",
      "source": [
        "%%time\n",
        "LGBM_classifier.fit(X_train, y_train)"
      ],
      "metadata": {
        "colab": {
          "base_uri": "https://localhost:8080/"
        },
        "id": "5xXe20sOVmip",
        "outputId": "650421a0-0a99-4160-a855-1401754e8033"
      },
      "execution_count": null,
      "outputs": [
        {
          "output_type": "stream",
          "name": "stdout",
          "text": [
            "CPU times: user 405 ms, sys: 11.3 ms, total: 416 ms\n",
            "Wall time: 254 ms\n"
          ]
        },
        {
          "output_type": "execute_result",
          "data": {
            "text/plain": [
              "Pipeline(steps=[('feature_processing',\n",
              "                 Pipeline(steps=[('feats',\n",
              "                                  FeatureUnion(transformer_list=[('Geography',\n",
              "                                                                  Pipeline(steps=[('selector',\n",
              "                                                                                   FeatureSelector(column='Geography')),\n",
              "                                                                                  ('ohe',\n",
              "                                                                                   OHEEncoder(key='Geography'))])),\n",
              "                                                                 ('Gender',\n",
              "                                                                  Pipeline(steps=[('selector',\n",
              "                                                                                   FeatureSelector(column='Gender')),\n",
              "                                                                                  ('ohe',\n",
              "                                                                                   OHEEncoder(key='Gender'))])),\n",
              "                                                                 ('Tenure',\n",
              "                                                                  Pipeline(steps=[('sel...\n",
              "                                                                                   MinMaxScaler(feature_range=(-1,\n",
              "                                                                                                               1)))])),\n",
              "                                                                 ('NumOfProducts',\n",
              "                                                                  Pipeline(steps=[('selector',\n",
              "                                                                                   NumberSelector(key='NumOfProducts')),\n",
              "                                                                                  ('min_max',\n",
              "                                                                                   MinMaxScaler(feature_range=(-1,\n",
              "                                                                                                               1)))])),\n",
              "                                                                 ('EstimatedSalary',\n",
              "                                                                  Pipeline(steps=[('selector',\n",
              "                                                                                   NumberSelector(key='EstimatedSalary')),\n",
              "                                                                                  ('min_max',\n",
              "                                                                                   MinMaxScaler(feature_range=(-1,\n",
              "                                                                                                               1)))]))]))])),\n",
              "                ('classifier', LGBMClassifier(random_state=12))])"
            ]
          },
          "metadata": {},
          "execution_count": 30
        }
      ]
    },
    {
      "cell_type": "code",
      "source": [
        "y_LR_preds = LR_classifier.predict_proba(X_test)[:, 1]\n",
        "y_LR_preds[:10]"
      ],
      "metadata": {
        "colab": {
          "base_uri": "https://localhost:8080/"
        },
        "id": "fXXgy6XWVxY_",
        "outputId": "f2c22cbd-0c7f-481d-c878-f938da71743a"
      },
      "execution_count": null,
      "outputs": [
        {
          "output_type": "execute_result",
          "data": {
            "text/plain": [
              "array([0.22887941, 0.33469817, 0.15375075, 0.12523701, 0.15563266,\n",
              "       0.64044916, 0.06257609, 0.07861492, 0.36485072, 0.7646624 ])"
            ]
          },
          "metadata": {},
          "execution_count": 31
        }
      ]
    },
    {
      "cell_type": "code",
      "source": [
        "y_LGBM_preds = LGBM_classifier.predict_proba(X_test)[:, 1]\n",
        "y_LGBM_preds[:10]"
      ],
      "metadata": {
        "colab": {
          "base_uri": "https://localhost:8080/"
        },
        "id": "G3MNfTakWiUX",
        "outputId": "3866e62c-074f-4ba0-b53e-7c0c44c5af1a"
      },
      "execution_count": null,
      "outputs": [
        {
          "output_type": "execute_result",
          "data": {
            "text/plain": [
              "array([0.34307948, 0.25243662, 0.1441027 , 0.04057859, 0.03532505,\n",
              "       0.92669428, 0.07014209, 0.06560687, 0.10517906, 0.71983354])"
            ]
          },
          "metadata": {},
          "execution_count": 32
        }
      ]
    },
    {
      "cell_type": "markdown",
      "source": [
        "### Задание 2\n",
        "<p> Отобрать лучшую модель по метрикам (какая по вашему мнению здесь наиболее подходящая ML-метрика)</p>"
      ],
      "metadata": {
        "id": "4jhju1cScv80"
      }
    },
    {
      "cell_type": "code",
      "source": [
        "# функция для получени метрик модели и подбора наилучшего порога\n",
        "def get_treshold(y_test, y_score, b = 1):\n",
        "    \"\"\"\n",
        "    Функция для подбора оптимального порога вероятности.\n",
        "    Максимизирует F-score\n",
        "    \"\"\"\n",
        "\n",
        "    precision, recall, thresholds = precision_recall_curve(y_test.values, y_score)\n",
        "    fscore = (1 +b**2) * (precision * recall) / (b**2 * precision + recall)\n",
        "    # locate the index of the largest f score\n",
        "    ix = np.argmax(fscore)\n",
        "    auc = roc_auc_score(y_test, y_score)\n",
        "    # логарифм потерь\n",
        "    llos = log_loss(y_test, y_score)\n",
        "    # отдадим в виде словаря порог вероятности и метрики\n",
        "    return {'BestTreshold': thresholds[ix], 'Precision': precision[ix], 'Recall': recall[ix], 'ROC_AUC': auc, 'F-Score':fscore[ix],'log-loss': llos}"
      ],
      "metadata": {
        "id": "fUf2BGNLXOS7"
      },
      "execution_count": null,
      "outputs": []
    },
    {
      "cell_type": "code",
      "source": [
        "LR_result = get_treshold(y_test, y_LR_preds)"
      ],
      "metadata": {
        "id": "q1NnBiDDZQD9"
      },
      "execution_count": null,
      "outputs": []
    },
    {
      "cell_type": "code",
      "source": [
        "LGBM_result = get_treshold(y_test, y_LGBM_preds)"
      ],
      "metadata": {
        "id": "l7HULd7RZkhG"
      },
      "execution_count": null,
      "outputs": []
    },
    {
      "cell_type": "code",
      "source": [
        "res_tab = pd.DataFrame(data = [LR_result, LGBM_result], index = ['Logistic_Reg', 'LGBM_Classifier'])\n",
        "res_tab.sort_values(by = 'F-Score', ascending = False)"
      ],
      "metadata": {
        "colab": {
          "base_uri": "https://localhost:8080/",
          "height": 112
        },
        "id": "7qoPcs25ZrpX",
        "outputId": "26867901-329c-42c4-b8f7-b527221206d5"
      },
      "execution_count": null,
      "outputs": [
        {
          "output_type": "execute_result",
          "data": {
            "text/plain": [
              "                 BestTreshold  Precision    Recall   ROC_AUC   F-Score  \\\n",
              "LGBM_Classifier      0.344127   0.623400  0.669941  0.874785  0.645833   \n",
              "Logistic_Reg         0.287666   0.461905  0.571709  0.771902  0.510975   \n",
              "\n",
              "                 log-loss  \n",
              "LGBM_Classifier  0.325192  \n",
              "Logistic_Reg     0.426828  "
            ],
            "text/html": [
              "\n",
              "  <div id=\"df-fabbc9d8-16da-41b9-86b9-d6077538dee8\">\n",
              "    <div class=\"colab-df-container\">\n",
              "      <div>\n",
              "<style scoped>\n",
              "    .dataframe tbody tr th:only-of-type {\n",
              "        vertical-align: middle;\n",
              "    }\n",
              "\n",
              "    .dataframe tbody tr th {\n",
              "        vertical-align: top;\n",
              "    }\n",
              "\n",
              "    .dataframe thead th {\n",
              "        text-align: right;\n",
              "    }\n",
              "</style>\n",
              "<table border=\"1\" class=\"dataframe\">\n",
              "  <thead>\n",
              "    <tr style=\"text-align: right;\">\n",
              "      <th></th>\n",
              "      <th>BestTreshold</th>\n",
              "      <th>Precision</th>\n",
              "      <th>Recall</th>\n",
              "      <th>ROC_AUC</th>\n",
              "      <th>F-Score</th>\n",
              "      <th>log-loss</th>\n",
              "    </tr>\n",
              "  </thead>\n",
              "  <tbody>\n",
              "    <tr>\n",
              "      <th>LGBM_Classifier</th>\n",
              "      <td>0.344127</td>\n",
              "      <td>0.623400</td>\n",
              "      <td>0.669941</td>\n",
              "      <td>0.874785</td>\n",
              "      <td>0.645833</td>\n",
              "      <td>0.325192</td>\n",
              "    </tr>\n",
              "    <tr>\n",
              "      <th>Logistic_Reg</th>\n",
              "      <td>0.287666</td>\n",
              "      <td>0.461905</td>\n",
              "      <td>0.571709</td>\n",
              "      <td>0.771902</td>\n",
              "      <td>0.510975</td>\n",
              "      <td>0.426828</td>\n",
              "    </tr>\n",
              "  </tbody>\n",
              "</table>\n",
              "</div>\n",
              "      <button class=\"colab-df-convert\" onclick=\"convertToInteractive('df-fabbc9d8-16da-41b9-86b9-d6077538dee8')\"\n",
              "              title=\"Convert this dataframe to an interactive table.\"\n",
              "              style=\"display:none;\">\n",
              "        \n",
              "  <svg xmlns=\"http://www.w3.org/2000/svg\" height=\"24px\"viewBox=\"0 0 24 24\"\n",
              "       width=\"24px\">\n",
              "    <path d=\"M0 0h24v24H0V0z\" fill=\"none\"/>\n",
              "    <path d=\"M18.56 5.44l.94 2.06.94-2.06 2.06-.94-2.06-.94-.94-2.06-.94 2.06-2.06.94zm-11 1L8.5 8.5l.94-2.06 2.06-.94-2.06-.94L8.5 2.5l-.94 2.06-2.06.94zm10 10l.94 2.06.94-2.06 2.06-.94-2.06-.94-.94-2.06-.94 2.06-2.06.94z\"/><path d=\"M17.41 7.96l-1.37-1.37c-.4-.4-.92-.59-1.43-.59-.52 0-1.04.2-1.43.59L10.3 9.45l-7.72 7.72c-.78.78-.78 2.05 0 2.83L4 21.41c.39.39.9.59 1.41.59.51 0 1.02-.2 1.41-.59l7.78-7.78 2.81-2.81c.8-.78.8-2.07 0-2.86zM5.41 20L4 18.59l7.72-7.72 1.47 1.35L5.41 20z\"/>\n",
              "  </svg>\n",
              "      </button>\n",
              "      \n",
              "  <style>\n",
              "    .colab-df-container {\n",
              "      display:flex;\n",
              "      flex-wrap:wrap;\n",
              "      gap: 12px;\n",
              "    }\n",
              "\n",
              "    .colab-df-convert {\n",
              "      background-color: #E8F0FE;\n",
              "      border: none;\n",
              "      border-radius: 50%;\n",
              "      cursor: pointer;\n",
              "      display: none;\n",
              "      fill: #1967D2;\n",
              "      height: 32px;\n",
              "      padding: 0 0 0 0;\n",
              "      width: 32px;\n",
              "    }\n",
              "\n",
              "    .colab-df-convert:hover {\n",
              "      background-color: #E2EBFA;\n",
              "      box-shadow: 0px 1px 2px rgba(60, 64, 67, 0.3), 0px 1px 3px 1px rgba(60, 64, 67, 0.15);\n",
              "      fill: #174EA6;\n",
              "    }\n",
              "\n",
              "    [theme=dark] .colab-df-convert {\n",
              "      background-color: #3B4455;\n",
              "      fill: #D2E3FC;\n",
              "    }\n",
              "\n",
              "    [theme=dark] .colab-df-convert:hover {\n",
              "      background-color: #434B5C;\n",
              "      box-shadow: 0px 1px 3px 1px rgba(0, 0, 0, 0.15);\n",
              "      filter: drop-shadow(0px 1px 2px rgba(0, 0, 0, 0.3));\n",
              "      fill: #FFFFFF;\n",
              "    }\n",
              "  </style>\n",
              "\n",
              "      <script>\n",
              "        const buttonEl =\n",
              "          document.querySelector('#df-fabbc9d8-16da-41b9-86b9-d6077538dee8 button.colab-df-convert');\n",
              "        buttonEl.style.display =\n",
              "          google.colab.kernel.accessAllowed ? 'block' : 'none';\n",
              "\n",
              "        async function convertToInteractive(key) {\n",
              "          const element = document.querySelector('#df-fabbc9d8-16da-41b9-86b9-d6077538dee8');\n",
              "          const dataTable =\n",
              "            await google.colab.kernel.invokeFunction('convertToInteractive',\n",
              "                                                     [key], {});\n",
              "          if (!dataTable) return;\n",
              "\n",
              "          const docLinkHtml = 'Like what you see? Visit the ' +\n",
              "            '<a target=\"_blank\" href=https://colab.research.google.com/notebooks/data_table.ipynb>data table notebook</a>'\n",
              "            + ' to learn more about interactive tables.';\n",
              "          element.innerHTML = '';\n",
              "          dataTable['output_type'] = 'display_data';\n",
              "          await google.colab.output.renderOutput(dataTable, element);\n",
              "          const docLink = document.createElement('div');\n",
              "          docLink.innerHTML = docLinkHtml;\n",
              "          element.appendChild(docLink);\n",
              "        }\n",
              "      </script>\n",
              "    </div>\n",
              "  </div>\n",
              "  "
            ]
          },
          "metadata": {},
          "execution_count": 40
        }
      ]
    },
    {
      "cell_type": "markdown",
      "source": [
        "<p> Наиболее подходящей метрикой, как и в большинстве случаев является F-score как агрегированный показатель точности и полноты классификации. При высоких значениях ROC_AUC она позволяет трезво взглянуть на то что эффективность обоих моделей недалеко ушла от простого 50/50. </p>\n",
        "<p> Ожидаемо модель бустинга показала лучший результат</p>"
      ],
      "metadata": {
        "id": "mGv1GQ5LdYu1"
      }
    },
    {
      "cell_type": "markdown",
      "source": [
        "### Задание 3\n",
        "<p> Для отобранной модели (на отложенной выборке) сделать оценку экономической эффективности при тех же вводных, как в вопросе 2:<br>\n",
        "a. 1 доллар на удержание <br>\n",
        "b. 2 доллара - с каждого правильно классифицированного (True Positive)<br>\n",
        " </p>"
      ],
      "metadata": {
        "id": "ACqkTsxPeq8o"
      }
    },
    {
      "cell_type": "code",
      "source": [
        "# Функциюя для отрисовки матрицы соответсвия\n",
        "def show_matrix(y_true, y_pred, classes, title):\n",
        "    \"\"\"\n",
        "    Отрисовка матрицы соответсвия средствами seaborn\n",
        "\n",
        "    \"\"\"\n",
        "    plt.title(title)\n",
        "    cnf = confusion_matrix(y_true, y_pred)\n",
        "    \n",
        "    sns.heatmap(cnf, cmap = 'Blues', annot = True, fmt = \".1f\", linecolor= 'black',\n",
        "                linewidths= 1, xticklabels= classes, yticklabels= classes)\n",
        "    plt.xlabel('Predicted labels')\n",
        "    plt.ylabel('True labels')\n",
        "    \n",
        "    plt.figure(figsize = (8,8))\n",
        "    plt.show()\n",
        "\n",
        "    return"
      ],
      "metadata": {
        "id": "DtKgWfS0mml4"
      },
      "execution_count": null,
      "outputs": []
    },
    {
      "cell_type": "code",
      "source": [
        "show_matrix(y_test, y_LGBM_preds > res_tab.BestTreshold.loc['LGBM_Classifier'],\n",
        "            classes = ['not-churn', 'churn'],\n",
        "            title = 'Mатрица соответсвия \"LGBMClassifier')"
      ],
      "metadata": {
        "colab": {
          "base_uri": "https://localhost:8080/",
          "height": 319
        },
        "id": "yphSu6ggmtwO",
        "outputId": "c17f4e61-9097-4321-de28-b1f87b7c3748"
      },
      "execution_count": null,
      "outputs": [
        {
          "output_type": "display_data",
          "data": {
            "text/plain": [
              "<Figure size 432x288 with 2 Axes>"
            ],
            "image/png": "[encoded data removed]"
          },
          "metadata": {
            "needs_background": "light"
          }
        },
        {
          "output_type": "display_data",
          "data": {
            "text/plain": [
              "<Figure size 576x576 with 0 Axes>"
            ]
          },
          "metadata": {}
        }
      ]
    },
    {
      "cell_type": "code",
      "source": [
        "# функция для подсчета финансового результата\n",
        "def fin_results(y_true, y_pred, hold_cost = 1, user_income = 2):\n",
        "    cnf = confusion_matrix(y_true, y_pred)\n",
        "\n",
        "    TN = cnf[0][0]\n",
        "    FP = cnf[0][1]\n",
        "    FN = cnf[1][0]\n",
        "    TP = cnf[1][1]\n",
        "    \n",
        "    income = TP * user_income\n",
        "    retain_sum = (TP + FN) * hold_cost\n",
        "\n",
        "    return {'prof' :income - retain_sum, 'income':income, 'retain_sum': retain_sum, 'TN': TN, 'FP':FP, 'FN': FN, 'TP':TP}"
      ],
      "metadata": {
        "id": "0CtN8fWVfBR9"
      },
      "execution_count": null,
      "outputs": []
    },
    {
      "cell_type": "code",
      "source": [
        "f_results = fin_results(y_test, y_LGBM_preds > res_tab.BestTreshold.loc['LGBM_Classifier'])\n"
      ],
      "metadata": {
        "id": "voYmLsKDhufH"
      },
      "execution_count": null,
      "outputs": []
    },
    {
      "cell_type": "code",
      "source": [
        "f_results"
      ],
      "metadata": {
        "colab": {
          "base_uri": "https://localhost:8080/"
        },
        "id": "73aLte9Hk9rY",
        "outputId": "c80c683d-931a-43e9-f1b4-209107cf4530"
      },
      "execution_count": null,
      "outputs": [
        {
          "output_type": "execute_result",
          "data": {
            "text/plain": [
              "{'FN': 169,\n",
              " 'FP': 206,\n",
              " 'TN': 1785,\n",
              " 'TP': 340,\n",
              " 'income': 680,\n",
              " 'prof': 171,\n",
              " 'retain_sum': 509}"
            ]
          },
          "metadata": {},
          "execution_count": 56
        }
      ]
    },
    {
      "cell_type": "code",
      "source": [
        "print('Ожидаемая прибыль от применения модели (долл.): ', f_results['prof'] )\n",
        "print(f'Общие затраты на удержание клиентов  (долл.): ', f_results['retain_sum'] )\n",
        "print(f'Рентабельность мероприятия по удержанию клиентов с помощью ML  (долл.): ', f_results['prof'] / f_results['retain_sum']*100 )"
      ],
      "metadata": {
        "colab": {
          "base_uri": "https://localhost:8080/"
        },
        "id": "iWJ5Obw8k4BG",
        "outputId": "213b12e4-8881-47a6-a692-7746f37f350d"
      },
      "execution_count": null,
      "outputs": [
        {
          "output_type": "stream",
          "name": "stdout",
          "text": [
            "Ожидаемая прибыль от применения модели (долл.):  171\n",
            "Общие затраты на удержание клиентов  (долл.):  509\n",
            "Рентабельность мероприятия по удержанию клиентов с помощью ML  (долл.):  33.59528487229863\n"
          ]
        }
      ]
    },
    {
      "cell_type": "markdown",
      "source": [
        "В принципе применение даже довольно упрощенной модели дает вполне привлекательную операционную рентабельность."
      ],
      "metadata": {
        "id": "E3fZ4S-8mD1K"
      }
    },
    {
      "cell_type": "markdown",
      "source": [
        "### Задание 4\n",
        "Провести подбор гиперпараметров лучшей модели по итогам 2-3"
      ],
      "metadata": {
        "id": "Cy-qU_5rnTfe"
      }
    },
    {
      "cell_type": "code",
      "source": [
        "# задаем сетку параметров\n",
        "cv_params = {'classifier__n_estimators' : [50, 100, 120, 150, 200], # количество решающих деревьев\n",
        "             'classifier__class_weight' : [None, {0:4, 1:1}],\n",
        "             'classifier__reg_lambda' : [0.0, 0.1, 0.2, 0.6]}"
      ],
      "metadata": {
        "id": "xZMa80LSngE0"
      },
      "execution_count": null,
      "outputs": []
    },
    {
      "cell_type": "code",
      "source": [
        "%%time\n",
        "grid = GridSearchCV(LGBM_classifier,\n",
        "                    param_grid=cv_params,\n",
        "                    cv=5,\n",
        "                    refit=False)\n",
        "\n",
        "search = grid.fit(X_train, y_train)\n"
      ],
      "metadata": {
        "colab": {
          "base_uri": "https://localhost:8080/"
        },
        "id": "PAUMMeBmpcsT",
        "outputId": "a4a635a4-d767-4484-fcf8-73b47e06d21a"
      },
      "execution_count": null,
      "outputs": [
        {
          "output_type": "stream",
          "name": "stdout",
          "text": [
            "CPU times: user 1min 42s, sys: 2.53 s, total: 1min 45s\n",
            "Wall time: 59.1 s\n"
          ]
        }
      ]
    },
    {
      "cell_type": "code",
      "source": [
        "search.best_params_"
      ],
      "metadata": {
        "colab": {
          "base_uri": "https://localhost:8080/"
        },
        "id": "vIEukUUNqzkX",
        "outputId": "291be2d1-e010-4bb0-f3a1-d6552f617934"
      },
      "execution_count": null,
      "outputs": [
        {
          "output_type": "execute_result",
          "data": {
            "text/plain": [
              "{'classifier__class_weight': None,\n",
              " 'classifier__n_estimators': 50,\n",
              " 'classifier__reg_lambda': 0.2}"
            ]
          },
          "metadata": {},
          "execution_count": 74
        }
      ]
    },
    {
      "cell_type": "markdown",
      "source": [
        "Оптимальные параметры: {'classifier__class_weight': None,\n",
        " 'classifier__n_estimators': 50,\n",
        " 'classifier__reg_lambda': 0.2}"
      ],
      "metadata": {
        "id": "S0coxFG_q4YY"
      }
    },
    {
      "cell_type": "code",
      "source": [
        "# выполним обучение модели и предсказание с оптимальными параметрами\n",
        "LGBM_classifier2 = Pipeline( [('feature_processing', feature_processing),\n",
        "                           ('classifier', LGBMClassifier(n_estimators = 50, silent = True, class_weight = None, reg_lambda = 0.2,\n",
        "                                                         random_state= 12))]\n",
        "\n",
        "                         )"
      ],
      "metadata": {
        "id": "8x8sMNDerBKi"
      },
      "execution_count": null,
      "outputs": []
    },
    {
      "cell_type": "code",
      "source": [
        "LGBM_classifier2.fit(X_train, y_train)"
      ],
      "metadata": {
        "colab": {
          "base_uri": "https://localhost:8080/"
        },
        "id": "BiEBaDKhrqck",
        "outputId": "1ae87fca-5158-4ed4-c544-70eb12de6530"
      },
      "execution_count": null,
      "outputs": [
        {
          "output_type": "execute_result",
          "data": {
            "text/plain": [
              "Pipeline(steps=[('feature_processing',\n",
              "                 Pipeline(steps=[('feats',\n",
              "                                  FeatureUnion(transformer_list=[('Geography',\n",
              "                                                                  Pipeline(steps=[('selector',\n",
              "                                                                                   FeatureSelector(column='Geography')),\n",
              "                                                                                  ('ohe',\n",
              "                                                                                   OHEEncoder(key='Geography'))])),\n",
              "                                                                 ('Gender',\n",
              "                                                                  Pipeline(steps=[('selector',\n",
              "                                                                                   FeatureSelector(column='Gender')),\n",
              "                                                                                  ('ohe',\n",
              "                                                                                   OHEEncoder(key='Gender'))])),\n",
              "                                                                 ('Tenure',\n",
              "                                                                  Pipeline(steps=[('sel...\n",
              "                                                                 ('NumOfProducts',\n",
              "                                                                  Pipeline(steps=[('selector',\n",
              "                                                                                   NumberSelector(key='NumOfProducts')),\n",
              "                                                                                  ('min_max',\n",
              "                                                                                   MinMaxScaler(feature_range=(-1,\n",
              "                                                                                                               1)))])),\n",
              "                                                                 ('EstimatedSalary',\n",
              "                                                                  Pipeline(steps=[('selector',\n",
              "                                                                                   NumberSelector(key='EstimatedSalary')),\n",
              "                                                                                  ('min_max',\n",
              "                                                                                   MinMaxScaler(feature_range=(-1,\n",
              "                                                                                                               1)))]))]))])),\n",
              "                ('classifier',\n",
              "                 LGBMClassifier(n_estimators=50, random_state=12,\n",
              "                                reg_lambda=0.2))])"
            ]
          },
          "metadata": {},
          "execution_count": 77
        }
      ]
    },
    {
      "cell_type": "code",
      "source": [
        "y_LGBM2_preds = LGBM_classifier2.predict_proba(X_test)[:, 1]"
      ],
      "metadata": {
        "id": "u82T42c8rww9"
      },
      "execution_count": null,
      "outputs": []
    },
    {
      "cell_type": "code",
      "source": [
        "LGBM2_result = get_treshold(y_test, y_LGBM2_preds)\n"
      ],
      "metadata": {
        "id": "Ews8yE7or5Qx"
      },
      "execution_count": null,
      "outputs": []
    },
    {
      "cell_type": "code",
      "source": [
        "res_tab = pd.DataFrame(data = [LR_result, LGBM_result, LGBM2_result], index = ['Logistic_Reg', 'LGBM_Classifier','LGBM_Classifier2'])\n",
        "res_tab.sort_values(by = 'F-Score', ascending = False)"
      ],
      "metadata": {
        "colab": {
          "base_uri": "https://localhost:8080/",
          "height": 143
        },
        "id": "NqJX3HdMsv0F",
        "outputId": "6c6a4de4-4664-4ead-c191-847be9fb9c6e"
      },
      "execution_count": null,
      "outputs": [
        {
          "output_type": "execute_result",
          "data": {
            "text/plain": [
              "                  BestTreshold  Precision    Recall   ROC_AUC   F-Score  \\\n",
              "LGBM_Classifier2      0.357344   0.647860  0.654224  0.876500  0.651026   \n",
              "LGBM_Classifier       0.344127   0.623400  0.669941  0.874785  0.645833   \n",
              "Logistic_Reg          0.287666   0.461905  0.571709  0.771902  0.510975   \n",
              "\n",
              "                  log-loss  \n",
              "LGBM_Classifier2  0.324924  \n",
              "LGBM_Classifier   0.325192  \n",
              "Logistic_Reg      0.426828  "
            ],
            "text/html": [
              "\n",
              "  <div id=\"df-dc3a0e9b-0f92-4ef3-924e-1df778b27336\">\n",
              "    <div class=\"colab-df-container\">\n",
              "      <div>\n",
              "<style scoped>\n",
              "    .dataframe tbody tr th:only-of-type {\n",
              "        vertical-align: middle;\n",
              "    }\n",
              "\n",
              "    .dataframe tbody tr th {\n",
              "        vertical-align: top;\n",
              "    }\n",
              "\n",
              "    .dataframe thead th {\n",
              "        text-align: right;\n",
              "    }\n",
              "</style>\n",
              "<table border=\"1\" class=\"dataframe\">\n",
              "  <thead>\n",
              "    <tr style=\"text-align: right;\">\n",
              "      <th></th>\n",
              "      <th>BestTreshold</th>\n",
              "      <th>Precision</th>\n",
              "      <th>Recall</th>\n",
              "      <th>ROC_AUC</th>\n",
              "      <th>F-Score</th>\n",
              "      <th>log-loss</th>\n",
              "    </tr>\n",
              "  </thead>\n",
              "  <tbody>\n",
              "    <tr>\n",
              "      <th>LGBM_Classifier2</th>\n",
              "      <td>0.357344</td>\n",
              "      <td>0.647860</td>\n",
              "      <td>0.654224</td>\n",
              "      <td>0.876500</td>\n",
              "      <td>0.651026</td>\n",
              "      <td>0.324924</td>\n",
              "    </tr>\n",
              "    <tr>\n",
              "      <th>LGBM_Classifier</th>\n",
              "      <td>0.344127</td>\n",
              "      <td>0.623400</td>\n",
              "      <td>0.669941</td>\n",
              "      <td>0.874785</td>\n",
              "      <td>0.645833</td>\n",
              "      <td>0.325192</td>\n",
              "    </tr>\n",
              "    <tr>\n",
              "      <th>Logistic_Reg</th>\n",
              "      <td>0.287666</td>\n",
              "      <td>0.461905</td>\n",
              "      <td>0.571709</td>\n",
              "      <td>0.771902</td>\n",
              "      <td>0.510975</td>\n",
              "      <td>0.426828</td>\n",
              "    </tr>\n",
              "  </tbody>\n",
              "</table>\n",
              "</div>\n",
              "      <button class=\"colab-df-convert\" onclick=\"convertToInteractive('df-dc3a0e9b-0f92-4ef3-924e-1df778b27336')\"\n",
              "              title=\"Convert this dataframe to an interactive table.\"\n",
              "              style=\"display:none;\">\n",
              "        \n",
              "  <svg xmlns=\"http://www.w3.org/2000/svg\" height=\"24px\"viewBox=\"0 0 24 24\"\n",
              "       width=\"24px\">\n",
              "    <path d=\"M0 0h24v24H0V0z\" fill=\"none\"/>\n",
              "    <path d=\"M18.56 5.44l.94 2.06.94-2.06 2.06-.94-2.06-.94-.94-2.06-.94 2.06-2.06.94zm-11 1L8.5 8.5l.94-2.06 2.06-.94-2.06-.94L8.5 2.5l-.94 2.06-2.06.94zm10 10l.94 2.06.94-2.06 2.06-.94-2.06-.94-.94-2.06-.94 2.06-2.06.94z\"/><path d=\"M17.41 7.96l-1.37-1.37c-.4-.4-.92-.59-1.43-.59-.52 0-1.04.2-1.43.59L10.3 9.45l-7.72 7.72c-.78.78-.78 2.05 0 2.83L4 21.41c.39.39.9.59 1.41.59.51 0 1.02-.2 1.41-.59l7.78-7.78 2.81-2.81c.8-.78.8-2.07 0-2.86zM5.41 20L4 18.59l7.72-7.72 1.47 1.35L5.41 20z\"/>\n",
              "  </svg>\n",
              "      </button>\n",
              "      \n",
              "  <style>\n",
              "    .colab-df-container {\n",
              "      display:flex;\n",
              "      flex-wrap:wrap;\n",
              "      gap: 12px;\n",
              "    }\n",
              "\n",
              "    .colab-df-convert {\n",
              "      background-color: #E8F0FE;\n",
              "      border: none;\n",
              "      border-radius: 50%;\n",
              "      cursor: pointer;\n",
              "      display: none;\n",
              "      fill: #1967D2;\n",
              "      height: 32px;\n",
              "      padding: 0 0 0 0;\n",
              "      width: 32px;\n",
              "    }\n",
              "\n",
              "    .colab-df-convert:hover {\n",
              "      background-color: #E2EBFA;\n",
              "      box-shadow: 0px 1px 2px rgba(60, 64, 67, 0.3), 0px 1px 3px 1px rgba(60, 64, 67, 0.15);\n",
              "      fill: #174EA6;\n",
              "    }\n",
              "\n",
              "    [theme=dark] .colab-df-convert {\n",
              "      background-color: #3B4455;\n",
              "      fill: #D2E3FC;\n",
              "    }\n",
              "\n",
              "    [theme=dark] .colab-df-convert:hover {\n",
              "      background-color: #434B5C;\n",
              "      box-shadow: 0px 1px 3px 1px rgba(0, 0, 0, 0.15);\n",
              "      filter: drop-shadow(0px 1px 2px rgba(0, 0, 0, 0.3));\n",
              "      fill: #FFFFFF;\n",
              "    }\n",
              "  </style>\n",
              "\n",
              "      <script>\n",
              "        const buttonEl =\n",
              "          document.querySelector('#df-dc3a0e9b-0f92-4ef3-924e-1df778b27336 button.colab-df-convert');\n",
              "        buttonEl.style.display =\n",
              "          google.colab.kernel.accessAllowed ? 'block' : 'none';\n",
              "\n",
              "        async function convertToInteractive(key) {\n",
              "          const element = document.querySelector('#df-dc3a0e9b-0f92-4ef3-924e-1df778b27336');\n",
              "          const dataTable =\n",
              "            await google.colab.kernel.invokeFunction('convertToInteractive',\n",
              "                                                     [key], {});\n",
              "          if (!dataTable) return;\n",
              "\n",
              "          const docLinkHtml = 'Like what you see? Visit the ' +\n",
              "            '<a target=\"_blank\" href=https://colab.research.google.com/notebooks/data_table.ipynb>data table notebook</a>'\n",
              "            + ' to learn more about interactive tables.';\n",
              "          element.innerHTML = '';\n",
              "          dataTable['output_type'] = 'display_data';\n",
              "          await google.colab.output.renderOutput(dataTable, element);\n",
              "          const docLink = document.createElement('div');\n",
              "          docLink.innerHTML = docLinkHtml;\n",
              "          element.appendChild(docLink);\n",
              "        }\n",
              "      </script>\n",
              "    </div>\n",
              "  </div>\n",
              "  "
            ]
          },
          "metadata": {},
          "execution_count": 83
        }
      ]
    },
    {
      "cell_type": "markdown",
      "source": [
        "Модель с подгонкой параметров оказалась немного 1-2% более эффективной. Проверим как это скажется на финансовых результатах"
      ],
      "metadata": {
        "id": "kFBhly1dshZi"
      }
    },
    {
      "cell_type": "code",
      "source": [
        "show_matrix(y_test, y_LGBM2_preds > res_tab.BestTreshold.loc['LGBM_Classifier2'],\n",
        "            classes = ['not-churn', 'churn'],\n",
        "            title = 'Mатрица соответсвия \"LGBMClassifier2')"
      ],
      "metadata": {
        "colab": {
          "base_uri": "https://localhost:8080/",
          "height": 319
        },
        "id": "BTWBvWiZtJAL",
        "outputId": "f5916d81-b847-465f-86cd-fc7679f00ecb"
      },
      "execution_count": null,
      "outputs": [
        {
          "output_type": "display_data",
          "data": {
            "text/plain": [
              "<Figure size 432x288 with 2 Axes>"
            ],
            "image/png": "[encoded data removed]"
          },
          "metadata": {
            "needs_background": "light"
          }
        },
        {
          "output_type": "display_data",
          "data": {
            "text/plain": [
              "<Figure size 576x576 with 0 Axes>"
            ]
          },
          "metadata": {}
        }
      ]
    },
    {
      "cell_type": "markdown",
      "source": [
        "### Задание 5\n",
        "<p>Еще раз провести оценку экономической эффективности </p>"
      ],
      "metadata": {
        "id": "pnry6VVW3_km"
      }
    },
    {
      "cell_type": "markdown",
      "source": [
        "Точность модели по-видимому увеличилась за счет повышения точности распознавания лояльных клиентов (non-churn)"
      ],
      "metadata": {
        "id": "4UvK71HBtgJq"
      }
    },
    {
      "cell_type": "code",
      "source": [
        "# оценим финансовый результат\n",
        "f_results = fin_results(y_test, y_LGBM2_preds > res_tab.BestTreshold.loc['LGBM_Classifier2'])"
      ],
      "metadata": {
        "id": "W0mLSmeHteAR"
      },
      "execution_count": null,
      "outputs": []
    },
    {
      "cell_type": "code",
      "source": [
        "print('Ожидаемая прибыль от применения модели (долл.): ', f_results['prof'] )\n",
        "print(f'Общие затраты на удержание клиентов  (долл.): ', f_results['retain_sum'] )\n",
        "print(f'Рентабельность мероприятия по удержанию клиентов с помощью ML  (долл.): ', f_results['prof'] / f_results['retain_sum']*100 )"
      ],
      "metadata": {
        "colab": {
          "base_uri": "https://localhost:8080/"
        },
        "id": "oV_TicWdt4yP",
        "outputId": "dec11f1d-3e79-4324-90e0-f7554f0e2e71"
      },
      "execution_count": null,
      "outputs": [
        {
          "output_type": "stream",
          "name": "stdout",
          "text": [
            "Ожидаемая прибыль от применения модели (долл.):  155\n",
            "Общие затраты на удержание клиентов  (долл.):  509\n",
            "Рентабельность мероприятия по удержанию клиентов с помощью ML  (долл.):  30.451866404715126\n"
          ]
        }
      ]
    },
    {
      "cell_type": "markdown",
      "source": [
        "К сожалению, экономические расчеты показали, что предудущая модель оказалась эффективнее с точки зрения бизнеса."
      ],
      "metadata": {
        "id": "LqFKtw8UuEpO"
      }
    }
  ]
}