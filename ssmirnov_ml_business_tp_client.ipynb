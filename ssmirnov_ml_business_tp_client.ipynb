{
  "nbformat": 4,
  "nbformat_minor": 0,
  "metadata": {
    "colab": {
      "name": "ssmirnov_ml_business_tp_client.ipynb",
      "provenance": [],
      "collapsed_sections": [],
      "authorship_tag": "ABX9TyNB7dcLebhg+1Tr6IO2TVNL",
      "include_colab_link": true
    },
    "kernelspec": {
      "name": "python3",
      "display_name": "Python 3"
    },
    "language_info": {
      "name": "python"
    }
  },
  "cells": [
    {
      "cell_type": "markdown",
      "metadata": {
        "id": "view-in-github",
        "colab_type": "text"
      },
      "source": [
        "<a href=\"https://colab.research.google.com/github/Segrey372017/gb_ML_in_business/blob/main/ssmirnov_ml_business_tp_client.ipynb\" target=\"_parent\"><img src=\"https://colab.research.google.com/assets/colab-badge.svg\" alt=\"Open In Colab\"/></a>"
      ]
    },
    {
      "cell_type": "code",
      "execution_count": 1,
      "metadata": {
        "id": "nQOBJQ8K_lWX"
      },
      "outputs": [],
      "source": [
        "import numpy as np\n",
        "import pandas as pd\n",
        "import matplotlib.pyplot as plt\n",
        "import seaborn as sns\n",
        "sns.set()"
      ]
    },
    {
      "cell_type": "code",
      "source": [
        "from sklearn.base import BaseEstimator, TransformerMixin\n",
        "from sklearn.pipeline import Pipeline, make_pipeline, FeatureUnion\n",
        "from sklearn.preprocessing import MinMaxScaler\n",
        "from sklearn.model_selection import train_test_split, GridSearchCV\n",
        "from sklearn.svm import SVC\n",
        "from lightgbm import LGBMClassifier\n",
        "from sklearn.metrics import roc_auc_score, precision_recall_curve, confusion_matrix, classification_report, log_loss"
      ],
      "metadata": {
        "id": "7GQO5rEp_tpP"
      },
      "execution_count": 2,
      "outputs": []
    },
    {
      "cell_type": "code",
      "source": [
        "import requests\n",
        "\n",
        "import urllib.request\n",
        "import json "
      ],
      "metadata": {
        "id": "TNON9iHHBbW_"
      },
      "execution_count": 3,
      "outputs": []
    },
    {
      "cell_type": "code",
      "source": [
        "def get_bmi(weight, height):\n",
        "    \"\"\"\n",
        "    Возвращает значение Индекса массы тела, рассчитываемый по формуле вес человека (кг)\n",
        "    деленный на рост (в метрах) в квадрате \n",
        "    \"\"\"\n",
        "    return weight / height**2\n",
        "\n",
        "def get_age_group(age):\n",
        "    \"\"\"\n",
        "    По заданному значению возраста возращает \n",
        "    номер возрастной группы по 13 ранговой группировке\n",
        "    \"\"\"\n",
        "    age_groups = {1:[18, 19, 20, 21, 22, 23, 24], #словарь с группами возрастов\n",
        "                  2:[25, 26, 27, 28, 29],\n",
        "                  3:[30, 31, 32, 33, 34],\n",
        "                  4:[35, 36, 37, 38, 39],\n",
        "                  5:[40, 41, 42, 43, 44],\n",
        "                  6:[45, 46, 47, 48, 49],\n",
        "                  7:[50, 51, 52, 53, 54],\n",
        "                  8:[55, 56, 57, 58, 59],\n",
        "                  9:[60, 61, 62, 63, 64],\n",
        "                  10:[65, 66, 67, 68, 69],\n",
        "                  11:[70, 71, 72, 73, 74],\n",
        "                  12:[75, 76, 77, 78, 79],\n",
        "                  13:[80, 81, 82, 83, 84]}\n",
        "\n",
        "    #Выполним подгонку полученного возраста если меньше 18, то будет 18, если больше 84, ставим 84\n",
        "    if age < 18:\n",
        "        age = 18\n",
        "    elif age > 84:\n",
        "        age = 84\n",
        "    \n",
        "    for group in age_groups.keys(): # итерируемся по группам словаря\n",
        "        if age in age_groups[group]:\n",
        "            return group\n",
        "\n",
        "    return"
      ],
      "metadata": {
        "id": "lIyoxF2zGMP1"
      },
      "execution_count": 4,
      "outputs": []
    },
    {
      "cell_type": "markdown",
      "source": [
        "#Итоговый проект курса \"Машинное обучение в бизнесе\"\n",
        "<h3> (клиентская часть)</h3>"
      ],
      "metadata": {
        "id": "YRKbde1V_-HE"
      }
    },
    {
      "cell_type": "markdown",
      "source": [
        "### Задание 3\n",
        "<p> Реализовать ноутбук с клиентом</p>"
      ],
      "metadata": {
        "id": "h0at0vu_AWfd"
      }
    },
    {
      "cell_type": "code",
      "source": [
        "# загрузим тестовый набор данных\n",
        "X_test = pd.read_csv('https://raw.githubusercontent.com/Segrey372017/gb_ML_in_business/main/tp_x_test.csv')\n",
        "X_test.head()"
      ],
      "metadata": {
        "colab": {
          "base_uri": "https://localhost:8080/",
          "height": 206
        },
        "id": "ewuWw8AUAN4v",
        "outputId": "6afa0bd9-dc4d-4bdc-c3ac-66f7e94ce219"
      },
      "execution_count": 5,
      "outputs": [
        {
          "output_type": "execute_result",
          "data": {
            "text/plain": [
              "   HighBP  HighChol  CholCheck   BMI  Smoker  Stroke  HeartDiseaseorAttack  \\\n",
              "0     1.0       0.0        1.0  30.0     1.0     0.0                   0.0   \n",
              "1     0.0       0.0        1.0  21.0     1.0     0.0                   0.0   \n",
              "2     1.0       0.0        1.0  29.0     0.0     0.0                   0.0   \n",
              "3     0.0       0.0        1.0  22.0     0.0     0.0                   0.0   \n",
              "4     1.0       0.0        1.0  40.0     0.0     0.0                   0.0   \n",
              "\n",
              "   PhysActivity  Fruits  Veggies  HvyAlcoholConsump  Sex  Age  \n",
              "0           1.0     1.0      1.0                0.0  0.0  9.0  \n",
              "1           0.0     1.0      1.0                0.0  0.0  3.0  \n",
              "2           0.0     0.0      1.0                0.0  1.0  8.0  \n",
              "3           1.0     1.0      1.0                1.0  0.0  7.0  \n",
              "4           1.0     0.0      1.0                0.0  1.0  9.0  "
            ],
            "text/html": [
              "\n",
              "  <div id=\"df-356a7661-6c6e-46ce-b431-9832cd96122d\">\n",
              "    <div class=\"colab-df-container\">\n",
              "      <div>\n",
              "<style scoped>\n",
              "    .dataframe tbody tr th:only-of-type {\n",
              "        vertical-align: middle;\n",
              "    }\n",
              "\n",
              "    .dataframe tbody tr th {\n",
              "        vertical-align: top;\n",
              "    }\n",
              "\n",
              "    .dataframe thead th {\n",
              "        text-align: right;\n",
              "    }\n",
              "</style>\n",
              "<table border=\"1\" class=\"dataframe\">\n",
              "  <thead>\n",
              "    <tr style=\"text-align: right;\">\n",
              "      <th></th>\n",
              "      <th>HighBP</th>\n",
              "      <th>HighChol</th>\n",
              "      <th>CholCheck</th>\n",
              "      <th>BMI</th>\n",
              "      <th>Smoker</th>\n",
              "      <th>Stroke</th>\n",
              "      <th>HeartDiseaseorAttack</th>\n",
              "      <th>PhysActivity</th>\n",
              "      <th>Fruits</th>\n",
              "      <th>Veggies</th>\n",
              "      <th>HvyAlcoholConsump</th>\n",
              "      <th>Sex</th>\n",
              "      <th>Age</th>\n",
              "    </tr>\n",
              "  </thead>\n",
              "  <tbody>\n",
              "    <tr>\n",
              "      <th>0</th>\n",
              "      <td>1.0</td>\n",
              "      <td>0.0</td>\n",
              "      <td>1.0</td>\n",
              "      <td>30.0</td>\n",
              "      <td>1.0</td>\n",
              "      <td>0.0</td>\n",
              "      <td>0.0</td>\n",
              "      <td>1.0</td>\n",
              "      <td>1.0</td>\n",
              "      <td>1.0</td>\n",
              "      <td>0.0</td>\n",
              "      <td>0.0</td>\n",
              "      <td>9.0</td>\n",
              "    </tr>\n",
              "    <tr>\n",
              "      <th>1</th>\n",
              "      <td>0.0</td>\n",
              "      <td>0.0</td>\n",
              "      <td>1.0</td>\n",
              "      <td>21.0</td>\n",
              "      <td>1.0</td>\n",
              "      <td>0.0</td>\n",
              "      <td>0.0</td>\n",
              "      <td>0.0</td>\n",
              "      <td>1.0</td>\n",
              "      <td>1.0</td>\n",
              "      <td>0.0</td>\n",
              "      <td>0.0</td>\n",
              "      <td>3.0</td>\n",
              "    </tr>\n",
              "    <tr>\n",
              "      <th>2</th>\n",
              "      <td>1.0</td>\n",
              "      <td>0.0</td>\n",
              "      <td>1.0</td>\n",
              "      <td>29.0</td>\n",
              "      <td>0.0</td>\n",
              "      <td>0.0</td>\n",
              "      <td>0.0</td>\n",
              "      <td>0.0</td>\n",
              "      <td>0.0</td>\n",
              "      <td>1.0</td>\n",
              "      <td>0.0</td>\n",
              "      <td>1.0</td>\n",
              "      <td>8.0</td>\n",
              "    </tr>\n",
              "    <tr>\n",
              "      <th>3</th>\n",
              "      <td>0.0</td>\n",
              "      <td>0.0</td>\n",
              "      <td>1.0</td>\n",
              "      <td>22.0</td>\n",
              "      <td>0.0</td>\n",
              "      <td>0.0</td>\n",
              "      <td>0.0</td>\n",
              "      <td>1.0</td>\n",
              "      <td>1.0</td>\n",
              "      <td>1.0</td>\n",
              "      <td>1.0</td>\n",
              "      <td>0.0</td>\n",
              "      <td>7.0</td>\n",
              "    </tr>\n",
              "    <tr>\n",
              "      <th>4</th>\n",
              "      <td>1.0</td>\n",
              "      <td>0.0</td>\n",
              "      <td>1.0</td>\n",
              "      <td>40.0</td>\n",
              "      <td>0.0</td>\n",
              "      <td>0.0</td>\n",
              "      <td>0.0</td>\n",
              "      <td>1.0</td>\n",
              "      <td>0.0</td>\n",
              "      <td>1.0</td>\n",
              "      <td>0.0</td>\n",
              "      <td>1.0</td>\n",
              "      <td>9.0</td>\n",
              "    </tr>\n",
              "  </tbody>\n",
              "</table>\n",
              "</div>\n",
              "      <button class=\"colab-df-convert\" onclick=\"convertToInteractive('df-356a7661-6c6e-46ce-b431-9832cd96122d')\"\n",
              "              title=\"Convert this dataframe to an interactive table.\"\n",
              "              style=\"display:none;\">\n",
              "        \n",
              "  <svg xmlns=\"http://www.w3.org/2000/svg\" height=\"24px\"viewBox=\"0 0 24 24\"\n",
              "       width=\"24px\">\n",
              "    <path d=\"M0 0h24v24H0V0z\" fill=\"none\"/>\n",
              "    <path d=\"M18.56 5.44l.94 2.06.94-2.06 2.06-.94-2.06-.94-.94-2.06-.94 2.06-2.06.94zm-11 1L8.5 8.5l.94-2.06 2.06-.94-2.06-.94L8.5 2.5l-.94 2.06-2.06.94zm10 10l.94 2.06.94-2.06 2.06-.94-2.06-.94-.94-2.06-.94 2.06-2.06.94z\"/><path d=\"M17.41 7.96l-1.37-1.37c-.4-.4-.92-.59-1.43-.59-.52 0-1.04.2-1.43.59L10.3 9.45l-7.72 7.72c-.78.78-.78 2.05 0 2.83L4 21.41c.39.39.9.59 1.41.59.51 0 1.02-.2 1.41-.59l7.78-7.78 2.81-2.81c.8-.78.8-2.07 0-2.86zM5.41 20L4 18.59l7.72-7.72 1.47 1.35L5.41 20z\"/>\n",
              "  </svg>\n",
              "      </button>\n",
              "      \n",
              "  <style>\n",
              "    .colab-df-container {\n",
              "      display:flex;\n",
              "      flex-wrap:wrap;\n",
              "      gap: 12px;\n",
              "    }\n",
              "\n",
              "    .colab-df-convert {\n",
              "      background-color: #E8F0FE;\n",
              "      border: none;\n",
              "      border-radius: 50%;\n",
              "      cursor: pointer;\n",
              "      display: none;\n",
              "      fill: #1967D2;\n",
              "      height: 32px;\n",
              "      padding: 0 0 0 0;\n",
              "      width: 32px;\n",
              "    }\n",
              "\n",
              "    .colab-df-convert:hover {\n",
              "      background-color: #E2EBFA;\n",
              "      box-shadow: 0px 1px 2px rgba(60, 64, 67, 0.3), 0px 1px 3px 1px rgba(60, 64, 67, 0.15);\n",
              "      fill: #174EA6;\n",
              "    }\n",
              "\n",
              "    [theme=dark] .colab-df-convert {\n",
              "      background-color: #3B4455;\n",
              "      fill: #D2E3FC;\n",
              "    }\n",
              "\n",
              "    [theme=dark] .colab-df-convert:hover {\n",
              "      background-color: #434B5C;\n",
              "      box-shadow: 0px 1px 3px 1px rgba(0, 0, 0, 0.15);\n",
              "      filter: drop-shadow(0px 1px 2px rgba(0, 0, 0, 0.3));\n",
              "      fill: #FFFFFF;\n",
              "    }\n",
              "  </style>\n",
              "\n",
              "      <script>\n",
              "        const buttonEl =\n",
              "          document.querySelector('#df-356a7661-6c6e-46ce-b431-9832cd96122d button.colab-df-convert');\n",
              "        buttonEl.style.display =\n",
              "          google.colab.kernel.accessAllowed ? 'block' : 'none';\n",
              "\n",
              "        async function convertToInteractive(key) {\n",
              "          const element = document.querySelector('#df-356a7661-6c6e-46ce-b431-9832cd96122d');\n",
              "          const dataTable =\n",
              "            await google.colab.kernel.invokeFunction('convertToInteractive',\n",
              "                                                     [key], {});\n",
              "          if (!dataTable) return;\n",
              "\n",
              "          const docLinkHtml = 'Like what you see? Visit the ' +\n",
              "            '<a target=\"_blank\" href=https://colab.research.google.com/notebooks/data_table.ipynb>data table notebook</a>'\n",
              "            + ' to learn more about interactive tables.';\n",
              "          element.innerHTML = '';\n",
              "          dataTable['output_type'] = 'display_data';\n",
              "          await google.colab.output.renderOutput(dataTable, element);\n",
              "          const docLink = document.createElement('div');\n",
              "          docLink.innerHTML = docLinkHtml;\n",
              "          element.appendChild(docLink);\n",
              "        }\n",
              "      </script>\n",
              "    </div>\n",
              "  </div>\n",
              "  "
            ]
          },
          "metadata": {},
          "execution_count": 5
        }
      ]
    },
    {
      "cell_type": "code",
      "source": [
        "y_test = pd.read_csv('https://raw.githubusercontent.com/Segrey372017/gb_ML_in_business/main/tp_y_test.csv')\n",
        "y_test.head()"
      ],
      "metadata": {
        "colab": {
          "base_uri": "https://localhost:8080/",
          "height": 206
        },
        "id": "7ELJT4YHA2rq",
        "outputId": "e30a0f9b-5caf-46ad-8ab4-1d8cb57089f4"
      },
      "execution_count": 6,
      "outputs": [
        {
          "output_type": "execute_result",
          "data": {
            "text/plain": [
              "   Diabetes_012\n",
              "0           0.0\n",
              "1           0.0\n",
              "2           1.0\n",
              "3           0.0\n",
              "4           0.0"
            ],
            "text/html": [
              "\n",
              "  <div id=\"df-d52d5831-9dd1-4f51-afbc-bd6deb8aa63e\">\n",
              "    <div class=\"colab-df-container\">\n",
              "      <div>\n",
              "<style scoped>\n",
              "    .dataframe tbody tr th:only-of-type {\n",
              "        vertical-align: middle;\n",
              "    }\n",
              "\n",
              "    .dataframe tbody tr th {\n",
              "        vertical-align: top;\n",
              "    }\n",
              "\n",
              "    .dataframe thead th {\n",
              "        text-align: right;\n",
              "    }\n",
              "</style>\n",
              "<table border=\"1\" class=\"dataframe\">\n",
              "  <thead>\n",
              "    <tr style=\"text-align: right;\">\n",
              "      <th></th>\n",
              "      <th>Diabetes_012</th>\n",
              "    </tr>\n",
              "  </thead>\n",
              "  <tbody>\n",
              "    <tr>\n",
              "      <th>0</th>\n",
              "      <td>0.0</td>\n",
              "    </tr>\n",
              "    <tr>\n",
              "      <th>1</th>\n",
              "      <td>0.0</td>\n",
              "    </tr>\n",
              "    <tr>\n",
              "      <th>2</th>\n",
              "      <td>1.0</td>\n",
              "    </tr>\n",
              "    <tr>\n",
              "      <th>3</th>\n",
              "      <td>0.0</td>\n",
              "    </tr>\n",
              "    <tr>\n",
              "      <th>4</th>\n",
              "      <td>0.0</td>\n",
              "    </tr>\n",
              "  </tbody>\n",
              "</table>\n",
              "</div>\n",
              "      <button class=\"colab-df-convert\" onclick=\"convertToInteractive('df-d52d5831-9dd1-4f51-afbc-bd6deb8aa63e')\"\n",
              "              title=\"Convert this dataframe to an interactive table.\"\n",
              "              style=\"display:none;\">\n",
              "        \n",
              "  <svg xmlns=\"http://www.w3.org/2000/svg\" height=\"24px\"viewBox=\"0 0 24 24\"\n",
              "       width=\"24px\">\n",
              "    <path d=\"M0 0h24v24H0V0z\" fill=\"none\"/>\n",
              "    <path d=\"M18.56 5.44l.94 2.06.94-2.06 2.06-.94-2.06-.94-.94-2.06-.94 2.06-2.06.94zm-11 1L8.5 8.5l.94-2.06 2.06-.94-2.06-.94L8.5 2.5l-.94 2.06-2.06.94zm10 10l.94 2.06.94-2.06 2.06-.94-2.06-.94-.94-2.06-.94 2.06-2.06.94z\"/><path d=\"M17.41 7.96l-1.37-1.37c-.4-.4-.92-.59-1.43-.59-.52 0-1.04.2-1.43.59L10.3 9.45l-7.72 7.72c-.78.78-.78 2.05 0 2.83L4 21.41c.39.39.9.59 1.41.59.51 0 1.02-.2 1.41-.59l7.78-7.78 2.81-2.81c.8-.78.8-2.07 0-2.86zM5.41 20L4 18.59l7.72-7.72 1.47 1.35L5.41 20z\"/>\n",
              "  </svg>\n",
              "      </button>\n",
              "      \n",
              "  <style>\n",
              "    .colab-df-container {\n",
              "      display:flex;\n",
              "      flex-wrap:wrap;\n",
              "      gap: 12px;\n",
              "    }\n",
              "\n",
              "    .colab-df-convert {\n",
              "      background-color: #E8F0FE;\n",
              "      border: none;\n",
              "      border-radius: 50%;\n",
              "      cursor: pointer;\n",
              "      display: none;\n",
              "      fill: #1967D2;\n",
              "      height: 32px;\n",
              "      padding: 0 0 0 0;\n",
              "      width: 32px;\n",
              "    }\n",
              "\n",
              "    .colab-df-convert:hover {\n",
              "      background-color: #E2EBFA;\n",
              "      box-shadow: 0px 1px 2px rgba(60, 64, 67, 0.3), 0px 1px 3px 1px rgba(60, 64, 67, 0.15);\n",
              "      fill: #174EA6;\n",
              "    }\n",
              "\n",
              "    [theme=dark] .colab-df-convert {\n",
              "      background-color: #3B4455;\n",
              "      fill: #D2E3FC;\n",
              "    }\n",
              "\n",
              "    [theme=dark] .colab-df-convert:hover {\n",
              "      background-color: #434B5C;\n",
              "      box-shadow: 0px 1px 3px 1px rgba(0, 0, 0, 0.15);\n",
              "      filter: drop-shadow(0px 1px 2px rgba(0, 0, 0, 0.3));\n",
              "      fill: #FFFFFF;\n",
              "    }\n",
              "  </style>\n",
              "\n",
              "      <script>\n",
              "        const buttonEl =\n",
              "          document.querySelector('#df-d52d5831-9dd1-4f51-afbc-bd6deb8aa63e button.colab-df-convert');\n",
              "        buttonEl.style.display =\n",
              "          google.colab.kernel.accessAllowed ? 'block' : 'none';\n",
              "\n",
              "        async function convertToInteractive(key) {\n",
              "          const element = document.querySelector('#df-d52d5831-9dd1-4f51-afbc-bd6deb8aa63e');\n",
              "          const dataTable =\n",
              "            await google.colab.kernel.invokeFunction('convertToInteractive',\n",
              "                                                     [key], {});\n",
              "          if (!dataTable) return;\n",
              "\n",
              "          const docLinkHtml = 'Like what you see? Visit the ' +\n",
              "            '<a target=\"_blank\" href=https://colab.research.google.com/notebooks/data_table.ipynb>data table notebook</a>'\n",
              "            + ' to learn more about interactive tables.';\n",
              "          element.innerHTML = '';\n",
              "          dataTable['output_type'] = 'display_data';\n",
              "          await google.colab.output.renderOutput(dataTable, element);\n",
              "          const docLink = document.createElement('div');\n",
              "          docLink.innerHTML = docLinkHtml;\n",
              "          element.appendChild(docLink);\n",
              "        }\n",
              "      </script>\n",
              "    </div>\n",
              "  </div>\n",
              "  "
            ]
          },
          "metadata": {},
          "execution_count": 6
        }
      ]
    },
    {
      "cell_type": "code",
      "source": [
        "feats_cols = list(X_test.columns) # колонки с признаками\n",
        "feats_cols"
      ],
      "metadata": {
        "colab": {
          "base_uri": "https://localhost:8080/"
        },
        "id": "kuNDtmMMB0Ji",
        "outputId": "5cc8f9c0-2009-47bc-b4f8-8093be425e8c"
      },
      "execution_count": 7,
      "outputs": [
        {
          "output_type": "execute_result",
          "data": {
            "text/plain": [
              "['HighBP',\n",
              " 'HighChol',\n",
              " 'CholCheck',\n",
              " 'BMI',\n",
              " 'Smoker',\n",
              " 'Stroke',\n",
              " 'HeartDiseaseorAttack',\n",
              " 'PhysActivity',\n",
              " 'Fruits',\n",
              " 'Veggies',\n",
              " 'HvyAlcoholConsump',\n",
              " 'Sex',\n",
              " 'Age']"
            ]
          },
          "metadata": {},
          "execution_count": 7
        }
      ]
    },
    {
      "cell_type": "code",
      "source": [
        "# функция для построения запроса к серверу\n",
        "def send_json(x):\n",
        "    body  = dict()\n",
        "\n",
        "    for key in x.keys():\n",
        "        body[key] = x[key]\n",
        "        \n",
        "    print(body)\n",
        "\n",
        "    myurl = 'http://eb85-34-91-252-59.ngrok.io' + '/predict' # адрес сайта приходится менять каждый запуск сервера\n",
        "    headers = {'content-type': 'application/json; charset=utf-8'}\n",
        "   \n",
        "    response = requests.post(myurl, json= body, headers=headers) # запрос на сервер\n",
        "    print('Ответ от сервеа', response)\n",
        "    return response.json()\n",
        "\n"
      ],
      "metadata": {
        "id": "YTWiwaDaCFLs"
      },
      "execution_count": 19,
      "outputs": []
    },
    {
      "cell_type": "code",
      "source": [
        "t_data = dict()\n",
        "for col in feats_cols:\n",
        "    t_data[col] = \"\""
      ],
      "metadata": {
        "id": "HLicLTauE4yW"
      },
      "execution_count": 9,
      "outputs": []
    },
    {
      "cell_type": "code",
      "source": [
        "t_data"
      ],
      "metadata": {
        "colab": {
          "base_uri": "https://localhost:8080/"
        },
        "id": "UZAVko9hF3Tz",
        "outputId": "c44a3043-fddb-4c03-970d-f6a82208bbea"
      },
      "execution_count": 10,
      "outputs": [
        {
          "output_type": "execute_result",
          "data": {
            "text/plain": [
              "{'Age': '',\n",
              " 'BMI': '',\n",
              " 'CholCheck': '',\n",
              " 'Fruits': '',\n",
              " 'HeartDiseaseorAttack': '',\n",
              " 'HighBP': '',\n",
              " 'HighChol': '',\n",
              " 'HvyAlcoholConsump': '',\n",
              " 'PhysActivity': '',\n",
              " 'Sex': '',\n",
              " 'Smoker': '',\n",
              " 'Stroke': '',\n",
              " 'Veggies': ''}"
            ]
          },
          "metadata": {},
          "execution_count": 10
        }
      ]
    },
    {
      "cell_type": "code",
      "source": [
        "t_data = {'Age': get_age_group(37), # заполним структуру проверочными данными\n",
        " 'BMI': get_bmi(95, 185/100),\n",
        " 'CholCheck': 1,\n",
        " 'Fruits': 0,\n",
        " 'HeartDiseaseorAttack': 0,\n",
        " 'HighBP': 1,\n",
        " 'HighChol': 0,\n",
        " 'HvyAlcoholConsump': 0,\n",
        " 'PhysActivity': 1,\n",
        " 'Sex': 1,\n",
        " 'Smoker': 0,\n",
        " 'Stroke': 0,\n",
        " 'Veggies': 1}"
      ],
      "metadata": {
        "id": "HnyM1rDFGHlu"
      },
      "execution_count": 11,
      "outputs": []
    },
    {
      "cell_type": "code",
      "source": [
        "t_data"
      ],
      "metadata": {
        "colab": {
          "base_uri": "https://localhost:8080/"
        },
        "id": "2-vT0D9aIbUa",
        "outputId": "fa35d2d9-f699-4217-f18c-e938d8d34922"
      },
      "execution_count": 12,
      "outputs": [
        {
          "output_type": "execute_result",
          "data": {
            "text/plain": [
              "{'Age': 4,\n",
              " 'BMI': 27.757487216946675,\n",
              " 'CholCheck': 1,\n",
              " 'Fruits': 0,\n",
              " 'HeartDiseaseorAttack': 0,\n",
              " 'HighBP': 1,\n",
              " 'HighChol': 0,\n",
              " 'HvyAlcoholConsump': 0,\n",
              " 'PhysActivity': 1,\n",
              " 'Sex': 1,\n",
              " 'Smoker': 0,\n",
              " 'Stroke': 0,\n",
              " 'Veggies': 1}"
            ]
          },
          "metadata": {},
          "execution_count": 12
        }
      ]
    },
    {
      "cell_type": "code",
      "source": [
        "response = send_json(x = t_data)\n",
        "response"
      ],
      "metadata": {
        "colab": {
          "base_uri": "https://localhost:8080/"
        },
        "id": "a9Pt7NzdHNHx",
        "outputId": "ca05471a-3979-48f5-c799-266c56295067"
      },
      "execution_count": 20,
      "outputs": [
        {
          "output_type": "stream",
          "name": "stdout",
          "text": [
            "{'Age': 4, 'BMI': 27.757487216946675, 'CholCheck': 1, 'Fruits': 0, 'HeartDiseaseorAttack': 0, 'HighBP': 1, 'HighChol': 0, 'HvyAlcoholConsump': 0, 'PhysActivity': 1, 'Sex': 1, 'Smoker': 0, 'Stroke': 0, 'Veggies': 1}\n",
            "Ответ от сервеа <Response [200]>\n"
          ]
        },
        {
          "output_type": "execute_result",
          "data": {
            "text/plain": [
              "{'OK': True, 'proba': 0.03668778752920068, 'treshold': 0.42}"
            ]
          },
          "metadata": {},
          "execution_count": 20
        }
      ]
    },
    {
      "cell_type": "code",
      "source": [
        "# функция для интерпритации результата\n",
        "def decision(response):\n",
        "    \"\"\"\n",
        "    интерпретирует результат, полученный от сервера\n",
        "\n",
        "    \"\"\"\n",
        "    try :\n",
        "        if response['OK']:\n",
        "            if response['proba'] > response['treshold']:\n",
        "                return 1\n",
        "            else:\n",
        "                return 0\n",
        "    except e :\n",
        "        print('Ошибка:', e)\n",
        "    return\n"
      ],
      "metadata": {
        "id": "0IXSQZB5Ris_"
      },
      "execution_count": 21,
      "outputs": []
    },
    {
      "cell_type": "code",
      "source": [
        "if decision(response) == 1:\n",
        "    print('Есть риск развития диабета')\n",
        "else :\n",
        "    print('Развитие диабета маловероятно')"
      ],
      "metadata": {
        "colab": {
          "base_uri": "https://localhost:8080/"
        },
        "id": "HeKSj0-bToNf",
        "outputId": "038b44e6-e523-4efd-f205-c2ac0a5758c3"
      },
      "execution_count": 31,
      "outputs": [
        {
          "output_type": "stream",
          "name": "stdout",
          "text": [
            "Развитие диабета маловероятно\n"
          ]
        }
      ]
    },
    {
      "cell_type": "markdown",
      "source": [
        "### Направление массовых запросов"
      ],
      "metadata": {
        "id": "Cjacd9myUu36"
      }
    },
    {
      "cell_type": "code",
      "source": [
        "y_pred = list()"
      ],
      "metadata": {
        "id": "krKBtt3DJ9mL"
      },
      "execution_count": 25,
      "outputs": []
    },
    {
      "cell_type": "code",
      "source": [
        "N = 50 # выполним предсказания по 50 первым экземплярам тестового набора"
      ],
      "metadata": {
        "id": "rYuO5-yeLtxL"
      },
      "execution_count": 22,
      "outputs": []
    },
    {
      "cell_type": "code",
      "source": [
        "%%time\n",
        "for i in range(N):\n",
        "    resp = send_json(dict(X_test.iloc[i,:])) # отдаем на сервер экземпляр из тестового набора\n",
        "    y_pred.append(decision(resp))"
      ],
      "metadata": {
        "colab": {
          "base_uri": "https://localhost:8080/"
        },
        "id": "o0yW8qdKLyGG",
        "outputId": "d1c5f18b-6708-41b8-fc9e-db51fd1deb3a"
      },
      "execution_count": 26,
      "outputs": [
        {
          "output_type": "stream",
          "name": "stdout",
          "text": [
            "{'HighBP': 1.0, 'HighChol': 0.0, 'CholCheck': 1.0, 'BMI': 30.0, 'Smoker': 1.0, 'Stroke': 0.0, 'HeartDiseaseorAttack': 0.0, 'PhysActivity': 1.0, 'Fruits': 1.0, 'Veggies': 1.0, 'HvyAlcoholConsump': 0.0, 'Sex': 0.0, 'Age': 9.0}\n",
            "Ответ от сервеа <Response [200]>\n",
            "{'HighBP': 0.0, 'HighChol': 0.0, 'CholCheck': 1.0, 'BMI': 21.0, 'Smoker': 1.0, 'Stroke': 0.0, 'HeartDiseaseorAttack': 0.0, 'PhysActivity': 0.0, 'Fruits': 1.0, 'Veggies': 1.0, 'HvyAlcoholConsump': 0.0, 'Sex': 0.0, 'Age': 3.0}\n",
            "Ответ от сервеа <Response [200]>\n",
            "{'HighBP': 1.0, 'HighChol': 0.0, 'CholCheck': 1.0, 'BMI': 29.0, 'Smoker': 0.0, 'Stroke': 0.0, 'HeartDiseaseorAttack': 0.0, 'PhysActivity': 0.0, 'Fruits': 0.0, 'Veggies': 1.0, 'HvyAlcoholConsump': 0.0, 'Sex': 1.0, 'Age': 8.0}\n",
            "Ответ от сервеа <Response [200]>\n",
            "{'HighBP': 0.0, 'HighChol': 0.0, 'CholCheck': 1.0, 'BMI': 22.0, 'Smoker': 0.0, 'Stroke': 0.0, 'HeartDiseaseorAttack': 0.0, 'PhysActivity': 1.0, 'Fruits': 1.0, 'Veggies': 1.0, 'HvyAlcoholConsump': 1.0, 'Sex': 0.0, 'Age': 7.0}\n",
            "Ответ от сервеа <Response [200]>\n",
            "{'HighBP': 1.0, 'HighChol': 0.0, 'CholCheck': 1.0, 'BMI': 40.0, 'Smoker': 0.0, 'Stroke': 0.0, 'HeartDiseaseorAttack': 0.0, 'PhysActivity': 1.0, 'Fruits': 0.0, 'Veggies': 1.0, 'HvyAlcoholConsump': 0.0, 'Sex': 1.0, 'Age': 9.0}\n",
            "Ответ от сервеа <Response [200]>\n",
            "{'HighBP': 0.0, 'HighChol': 1.0, 'CholCheck': 1.0, 'BMI': 20.0, 'Smoker': 1.0, 'Stroke': 1.0, 'HeartDiseaseorAttack': 1.0, 'PhysActivity': 0.0, 'Fruits': 0.0, 'Veggies': 0.0, 'HvyAlcoholConsump': 0.0, 'Sex': 0.0, 'Age': 8.0}\n",
            "Ответ от сервеа <Response [200]>\n",
            "{'HighBP': 0.0, 'HighChol': 0.0, 'CholCheck': 1.0, 'BMI': 31.0, 'Smoker': 0.0, 'Stroke': 0.0, 'HeartDiseaseorAttack': 0.0, 'PhysActivity': 1.0, 'Fruits': 1.0, 'Veggies': 1.0, 'HvyAlcoholConsump': 0.0, 'Sex': 0.0, 'Age': 6.0}\n",
            "Ответ от сервеа <Response [200]>\n",
            "{'HighBP': 1.0, 'HighChol': 0.0, 'CholCheck': 1.0, 'BMI': 27.0, 'Smoker': 0.0, 'Stroke': 0.0, 'HeartDiseaseorAttack': 0.0, 'PhysActivity': 1.0, 'Fruits': 0.0, 'Veggies': 1.0, 'HvyAlcoholConsump': 0.0, 'Sex': 1.0, 'Age': 5.0}\n",
            "Ответ от сервеа <Response [200]>\n",
            "{'HighBP': 0.0, 'HighChol': 0.0, 'CholCheck': 1.0, 'BMI': 20.0, 'Smoker': 0.0, 'Stroke': 0.0, 'HeartDiseaseorAttack': 0.0, 'PhysActivity': 0.0, 'Fruits': 1.0, 'Veggies': 1.0, 'HvyAlcoholConsump': 1.0, 'Sex': 0.0, 'Age': 1.0}\n",
            "Ответ от сервеа <Response [200]>\n",
            "{'HighBP': 0.0, 'HighChol': 0.0, 'CholCheck': 1.0, 'BMI': 29.0, 'Smoker': 1.0, 'Stroke': 0.0, 'HeartDiseaseorAttack': 0.0, 'PhysActivity': 1.0, 'Fruits': 1.0, 'Veggies': 1.0, 'HvyAlcoholConsump': 0.0, 'Sex': 1.0, 'Age': 11.0}\n",
            "Ответ от сервеа <Response [200]>\n",
            "{'HighBP': 0.0, 'HighChol': 0.0, 'CholCheck': 1.0, 'BMI': 28.0, 'Smoker': 0.0, 'Stroke': 0.0, 'HeartDiseaseorAttack': 0.0, 'PhysActivity': 1.0, 'Fruits': 1.0, 'Veggies': 0.0, 'HvyAlcoholConsump': 0.0, 'Sex': 1.0, 'Age': 8.0}\n",
            "Ответ от сервеа <Response [200]>\n",
            "{'HighBP': 0.0, 'HighChol': 1.0, 'CholCheck': 1.0, 'BMI': 36.0, 'Smoker': 0.0, 'Stroke': 0.0, 'HeartDiseaseorAttack': 0.0, 'PhysActivity': 1.0, 'Fruits': 1.0, 'Veggies': 0.0, 'HvyAlcoholConsump': 0.0, 'Sex': 1.0, 'Age': 8.0}\n",
            "Ответ от сервеа <Response [200]>\n",
            "{'HighBP': 0.0, 'HighChol': 0.0, 'CholCheck': 1.0, 'BMI': 22.0, 'Smoker': 1.0, 'Stroke': 0.0, 'HeartDiseaseorAttack': 0.0, 'PhysActivity': 1.0, 'Fruits': 1.0, 'Veggies': 1.0, 'HvyAlcoholConsump': 1.0, 'Sex': 0.0, 'Age': 9.0}\n",
            "Ответ от сервеа <Response [200]>\n",
            "{'HighBP': 1.0, 'HighChol': 1.0, 'CholCheck': 1.0, 'BMI': 29.0, 'Smoker': 0.0, 'Stroke': 0.0, 'HeartDiseaseorAttack': 1.0, 'PhysActivity': 1.0, 'Fruits': 1.0, 'Veggies': 1.0, 'HvyAlcoholConsump': 0.0, 'Sex': 0.0, 'Age': 10.0}\n",
            "Ответ от сервеа <Response [200]>\n",
            "{'HighBP': 0.0, 'HighChol': 0.0, 'CholCheck': 1.0, 'BMI': 31.0, 'Smoker': 1.0, 'Stroke': 0.0, 'HeartDiseaseorAttack': 0.0, 'PhysActivity': 1.0, 'Fruits': 0.0, 'Veggies': 0.0, 'HvyAlcoholConsump': 0.0, 'Sex': 0.0, 'Age': 11.0}\n",
            "Ответ от сервеа <Response [200]>\n",
            "{'HighBP': 0.0, 'HighChol': 1.0, 'CholCheck': 1.0, 'BMI': 21.0, 'Smoker': 1.0, 'Stroke': 0.0, 'HeartDiseaseorAttack': 0.0, 'PhysActivity': 1.0, 'Fruits': 1.0, 'Veggies': 1.0, 'HvyAlcoholConsump': 0.0, 'Sex': 0.0, 'Age': 7.0}\n",
            "Ответ от сервеа <Response [200]>\n",
            "{'HighBP': 0.0, 'HighChol': 0.0, 'CholCheck': 1.0, 'BMI': 26.0, 'Smoker': 0.0, 'Stroke': 0.0, 'HeartDiseaseorAttack': 0.0, 'PhysActivity': 1.0, 'Fruits': 0.0, 'Veggies': 1.0, 'HvyAlcoholConsump': 0.0, 'Sex': 1.0, 'Age': 8.0}\n",
            "Ответ от сервеа <Response [200]>\n",
            "{'HighBP': 0.0, 'HighChol': 0.0, 'CholCheck': 1.0, 'BMI': 30.0, 'Smoker': 0.0, 'Stroke': 0.0, 'HeartDiseaseorAttack': 0.0, 'PhysActivity': 1.0, 'Fruits': 1.0, 'Veggies': 0.0, 'HvyAlcoholConsump': 0.0, 'Sex': 1.0, 'Age': 9.0}\n",
            "Ответ от сервеа <Response [200]>\n",
            "{'HighBP': 0.0, 'HighChol': 0.0, 'CholCheck': 1.0, 'BMI': 27.0, 'Smoker': 1.0, 'Stroke': 0.0, 'HeartDiseaseorAttack': 1.0, 'PhysActivity': 1.0, 'Fruits': 1.0, 'Veggies': 1.0, 'HvyAlcoholConsump': 0.0, 'Sex': 0.0, 'Age': 12.0}\n",
            "Ответ от сервеа <Response [200]>\n",
            "{'HighBP': 1.0, 'HighChol': 1.0, 'CholCheck': 1.0, 'BMI': 27.0, 'Smoker': 0.0, 'Stroke': 0.0, 'HeartDiseaseorAttack': 0.0, 'PhysActivity': 0.0, 'Fruits': 0.0, 'Veggies': 0.0, 'HvyAlcoholConsump': 0.0, 'Sex': 0.0, 'Age': 7.0}\n",
            "Ответ от сервеа <Response [200]>\n",
            "{'HighBP': 1.0, 'HighChol': 0.0, 'CholCheck': 1.0, 'BMI': 23.0, 'Smoker': 1.0, 'Stroke': 0.0, 'HeartDiseaseorAttack': 0.0, 'PhysActivity': 1.0, 'Fruits': 1.0, 'Veggies': 1.0, 'HvyAlcoholConsump': 0.0, 'Sex': 1.0, 'Age': 10.0}\n",
            "Ответ от сервеа <Response [200]>\n",
            "{'HighBP': 0.0, 'HighChol': 0.0, 'CholCheck': 1.0, 'BMI': 24.0, 'Smoker': 0.0, 'Stroke': 0.0, 'HeartDiseaseorAttack': 0.0, 'PhysActivity': 1.0, 'Fruits': 0.0, 'Veggies': 1.0, 'HvyAlcoholConsump': 1.0, 'Sex': 1.0, 'Age': 6.0}\n",
            "Ответ от сервеа <Response [200]>\n",
            "{'HighBP': 1.0, 'HighChol': 0.0, 'CholCheck': 1.0, 'BMI': 32.0, 'Smoker': 0.0, 'Stroke': 0.0, 'HeartDiseaseorAttack': 0.0, 'PhysActivity': 1.0, 'Fruits': 0.0, 'Veggies': 1.0, 'HvyAlcoholConsump': 0.0, 'Sex': 1.0, 'Age': 5.0}\n",
            "Ответ от сервеа <Response [200]>\n",
            "{'HighBP': 0.0, 'HighChol': 0.0, 'CholCheck': 1.0, 'BMI': 19.0, 'Smoker': 1.0, 'Stroke': 0.0, 'HeartDiseaseorAttack': 0.0, 'PhysActivity': 1.0, 'Fruits': 1.0, 'Veggies': 1.0, 'HvyAlcoholConsump': 0.0, 'Sex': 1.0, 'Age': 9.0}\n",
            "Ответ от сервеа <Response [200]>\n",
            "{'HighBP': 1.0, 'HighChol': 0.0, 'CholCheck': 1.0, 'BMI': 40.0, 'Smoker': 0.0, 'Stroke': 0.0, 'HeartDiseaseorAttack': 0.0, 'PhysActivity': 1.0, 'Fruits': 1.0, 'Veggies': 1.0, 'HvyAlcoholConsump': 0.0, 'Sex': 0.0, 'Age': 3.0}\n",
            "Ответ от сервеа <Response [200]>\n",
            "{'HighBP': 1.0, 'HighChol': 1.0, 'CholCheck': 1.0, 'BMI': 22.0, 'Smoker': 1.0, 'Stroke': 0.0, 'HeartDiseaseorAttack': 0.0, 'PhysActivity': 1.0, 'Fruits': 1.0, 'Veggies': 1.0, 'HvyAlcoholConsump': 0.0, 'Sex': 1.0, 'Age': 9.0}\n",
            "Ответ от сервеа <Response [200]>\n",
            "{'HighBP': 1.0, 'HighChol': 0.0, 'CholCheck': 1.0, 'BMI': 30.0, 'Smoker': 0.0, 'Stroke': 0.0, 'HeartDiseaseorAttack': 0.0, 'PhysActivity': 0.0, 'Fruits': 1.0, 'Veggies': 0.0, 'HvyAlcoholConsump': 0.0, 'Sex': 0.0, 'Age': 9.0}\n",
            "Ответ от сервеа <Response [200]>\n",
            "{'HighBP': 1.0, 'HighChol': 1.0, 'CholCheck': 1.0, 'BMI': 26.0, 'Smoker': 0.0, 'Stroke': 0.0, 'HeartDiseaseorAttack': 0.0, 'PhysActivity': 1.0, 'Fruits': 1.0, 'Veggies': 1.0, 'HvyAlcoholConsump': 0.0, 'Sex': 0.0, 'Age': 12.0}\n",
            "Ответ от сервеа <Response [200]>\n",
            "{'HighBP': 0.0, 'HighChol': 0.0, 'CholCheck': 1.0, 'BMI': 23.0, 'Smoker': 0.0, 'Stroke': 0.0, 'HeartDiseaseorAttack': 0.0, 'PhysActivity': 1.0, 'Fruits': 0.0, 'Veggies': 0.0, 'HvyAlcoholConsump': 0.0, 'Sex': 0.0, 'Age': 1.0}\n",
            "Ответ от сервеа <Response [200]>\n",
            "{'HighBP': 1.0, 'HighChol': 1.0, 'CholCheck': 1.0, 'BMI': 30.0, 'Smoker': 1.0, 'Stroke': 0.0, 'HeartDiseaseorAttack': 0.0, 'PhysActivity': 0.0, 'Fruits': 0.0, 'Veggies': 1.0, 'HvyAlcoholConsump': 1.0, 'Sex': 0.0, 'Age': 5.0}\n",
            "Ответ от сервеа <Response [200]>\n",
            "{'HighBP': 1.0, 'HighChol': 0.0, 'CholCheck': 1.0, 'BMI': 27.0, 'Smoker': 0.0, 'Stroke': 0.0, 'HeartDiseaseorAttack': 0.0, 'PhysActivity': 1.0, 'Fruits': 1.0, 'Veggies': 1.0, 'HvyAlcoholConsump': 0.0, 'Sex': 0.0, 'Age': 8.0}\n",
            "Ответ от сервеа <Response [200]>\n",
            "{'HighBP': 1.0, 'HighChol': 1.0, 'CholCheck': 1.0, 'BMI': 24.0, 'Smoker': 0.0, 'Stroke': 0.0, 'HeartDiseaseorAttack': 1.0, 'PhysActivity': 1.0, 'Fruits': 0.0, 'Veggies': 1.0, 'HvyAlcoholConsump': 0.0, 'Sex': 1.0, 'Age': 13.0}\n",
            "Ответ от сервеа <Response [200]>\n",
            "{'HighBP': 1.0, 'HighChol': 0.0, 'CholCheck': 1.0, 'BMI': 26.0, 'Smoker': 1.0, 'Stroke': 0.0, 'HeartDiseaseorAttack': 0.0, 'PhysActivity': 1.0, 'Fruits': 1.0, 'Veggies': 1.0, 'HvyAlcoholConsump': 0.0, 'Sex': 1.0, 'Age': 12.0}\n",
            "Ответ от сервеа <Response [200]>\n",
            "{'HighBP': 0.0, 'HighChol': 0.0, 'CholCheck': 1.0, 'BMI': 23.0, 'Smoker': 0.0, 'Stroke': 0.0, 'HeartDiseaseorAttack': 0.0, 'PhysActivity': 1.0, 'Fruits': 0.0, 'Veggies': 1.0, 'HvyAlcoholConsump': 0.0, 'Sex': 0.0, 'Age': 5.0}\n",
            "Ответ от сервеа <Response [200]>\n",
            "{'HighBP': 1.0, 'HighChol': 0.0, 'CholCheck': 1.0, 'BMI': 32.0, 'Smoker': 0.0, 'Stroke': 0.0, 'HeartDiseaseorAttack': 0.0, 'PhysActivity': 1.0, 'Fruits': 0.0, 'Veggies': 0.0, 'HvyAlcoholConsump': 0.0, 'Sex': 0.0, 'Age': 5.0}\n",
            "Ответ от сервеа <Response [200]>\n",
            "{'HighBP': 0.0, 'HighChol': 0.0, 'CholCheck': 1.0, 'BMI': 24.0, 'Smoker': 0.0, 'Stroke': 0.0, 'HeartDiseaseorAttack': 0.0, 'PhysActivity': 1.0, 'Fruits': 1.0, 'Veggies': 0.0, 'HvyAlcoholConsump': 0.0, 'Sex': 1.0, 'Age': 6.0}\n",
            "Ответ от сервеа <Response [200]>\n",
            "{'HighBP': 0.0, 'HighChol': 0.0, 'CholCheck': 1.0, 'BMI': 23.0, 'Smoker': 1.0, 'Stroke': 0.0, 'HeartDiseaseorAttack': 0.0, 'PhysActivity': 0.0, 'Fruits': 1.0, 'Veggies': 1.0, 'HvyAlcoholConsump': 0.0, 'Sex': 0.0, 'Age': 8.0}\n",
            "Ответ от сервеа <Response [200]>\n",
            "{'HighBP': 1.0, 'HighChol': 1.0, 'CholCheck': 1.0, 'BMI': 38.0, 'Smoker': 1.0, 'Stroke': 0.0, 'HeartDiseaseorAttack': 0.0, 'PhysActivity': 0.0, 'Fruits': 0.0, 'Veggies': 0.0, 'HvyAlcoholConsump': 0.0, 'Sex': 0.0, 'Age': 7.0}\n",
            "Ответ от сервеа <Response [200]>\n",
            "{'HighBP': 0.0, 'HighChol': 0.0, 'CholCheck': 1.0, 'BMI': 17.0, 'Smoker': 0.0, 'Stroke': 0.0, 'HeartDiseaseorAttack': 0.0, 'PhysActivity': 1.0, 'Fruits': 0.0, 'Veggies': 0.0, 'HvyAlcoholConsump': 0.0, 'Sex': 0.0, 'Age': 6.0}\n",
            "Ответ от сервеа <Response [200]>\n",
            "{'HighBP': 1.0, 'HighChol': 0.0, 'CholCheck': 1.0, 'BMI': 24.0, 'Smoker': 1.0, 'Stroke': 0.0, 'HeartDiseaseorAttack': 0.0, 'PhysActivity': 1.0, 'Fruits': 1.0, 'Veggies': 1.0, 'HvyAlcoholConsump': 0.0, 'Sex': 0.0, 'Age': 13.0}\n",
            "Ответ от сервеа <Response [200]>\n",
            "{'HighBP': 0.0, 'HighChol': 0.0, 'CholCheck': 1.0, 'BMI': 26.0, 'Smoker': 1.0, 'Stroke': 0.0, 'HeartDiseaseorAttack': 0.0, 'PhysActivity': 1.0, 'Fruits': 0.0, 'Veggies': 1.0, 'HvyAlcoholConsump': 0.0, 'Sex': 0.0, 'Age': 3.0}\n",
            "Ответ от сервеа <Response [200]>\n",
            "{'HighBP': 0.0, 'HighChol': 0.0, 'CholCheck': 1.0, 'BMI': 33.0, 'Smoker': 0.0, 'Stroke': 0.0, 'HeartDiseaseorAttack': 0.0, 'PhysActivity': 1.0, 'Fruits': 1.0, 'Veggies': 1.0, 'HvyAlcoholConsump': 0.0, 'Sex': 0.0, 'Age': 9.0}\n",
            "Ответ от сервеа <Response [200]>\n",
            "{'HighBP': 1.0, 'HighChol': 0.0, 'CholCheck': 1.0, 'BMI': 33.0, 'Smoker': 0.0, 'Stroke': 0.0, 'HeartDiseaseorAttack': 0.0, 'PhysActivity': 1.0, 'Fruits': 1.0, 'Veggies': 1.0, 'HvyAlcoholConsump': 0.0, 'Sex': 1.0, 'Age': 6.0}\n",
            "Ответ от сервеа <Response [200]>\n",
            "{'HighBP': 1.0, 'HighChol': 1.0, 'CholCheck': 1.0, 'BMI': 31.0, 'Smoker': 1.0, 'Stroke': 0.0, 'HeartDiseaseorAttack': 1.0, 'PhysActivity': 1.0, 'Fruits': 0.0, 'Veggies': 1.0, 'HvyAlcoholConsump': 0.0, 'Sex': 1.0, 'Age': 8.0}\n",
            "Ответ от сервеа <Response [200]>\n",
            "{'HighBP': 1.0, 'HighChol': 1.0, 'CholCheck': 1.0, 'BMI': 33.0, 'Smoker': 1.0, 'Stroke': 0.0, 'HeartDiseaseorAttack': 1.0, 'PhysActivity': 1.0, 'Fruits': 1.0, 'Veggies': 1.0, 'HvyAlcoholConsump': 0.0, 'Sex': 1.0, 'Age': 8.0}\n",
            "Ответ от сервеа <Response [200]>\n",
            "{'HighBP': 1.0, 'HighChol': 1.0, 'CholCheck': 1.0, 'BMI': 28.0, 'Smoker': 0.0, 'Stroke': 0.0, 'HeartDiseaseorAttack': 0.0, 'PhysActivity': 1.0, 'Fruits': 1.0, 'Veggies': 1.0, 'HvyAlcoholConsump': 0.0, 'Sex': 0.0, 'Age': 11.0}\n",
            "Ответ от сервеа <Response [200]>\n",
            "{'HighBP': 0.0, 'HighChol': 0.0, 'CholCheck': 1.0, 'BMI': 27.0, 'Smoker': 0.0, 'Stroke': 0.0, 'HeartDiseaseorAttack': 0.0, 'PhysActivity': 1.0, 'Fruits': 1.0, 'Veggies': 1.0, 'HvyAlcoholConsump': 0.0, 'Sex': 0.0, 'Age': 7.0}\n",
            "Ответ от сервеа <Response [200]>\n",
            "{'HighBP': 0.0, 'HighChol': 0.0, 'CholCheck': 1.0, 'BMI': 26.0, 'Smoker': 1.0, 'Stroke': 0.0, 'HeartDiseaseorAttack': 0.0, 'PhysActivity': 1.0, 'Fruits': 1.0, 'Veggies': 1.0, 'HvyAlcoholConsump': 1.0, 'Sex': 0.0, 'Age': 8.0}\n",
            "Ответ от сервеа <Response [200]>\n",
            "{'HighBP': 1.0, 'HighChol': 1.0, 'CholCheck': 1.0, 'BMI': 29.0, 'Smoker': 0.0, 'Stroke': 0.0, 'HeartDiseaseorAttack': 0.0, 'PhysActivity': 1.0, 'Fruits': 1.0, 'Veggies': 1.0, 'HvyAlcoholConsump': 0.0, 'Sex': 0.0, 'Age': 8.0}\n",
            "Ответ от сервеа <Response [200]>\n",
            "{'HighBP': 0.0, 'HighChol': 1.0, 'CholCheck': 1.0, 'BMI': 29.0, 'Smoker': 1.0, 'Stroke': 0.0, 'HeartDiseaseorAttack': 0.0, 'PhysActivity': 1.0, 'Fruits': 1.0, 'Veggies': 1.0, 'HvyAlcoholConsump': 0.0, 'Sex': 1.0, 'Age': 13.0}\n",
            "Ответ от сервеа <Response [200]>\n",
            "CPU times: user 332 ms, sys: 41.5 ms, total: 373 ms\n",
            "Wall time: 11.9 s\n"
          ]
        }
      ]
    },
    {
      "cell_type": "code",
      "source": [
        "print(classification_report(y_test[:N], y_pred))"
      ],
      "metadata": {
        "colab": {
          "base_uri": "https://localhost:8080/"
        },
        "id": "xfz5jNV4Mmnu",
        "outputId": "d6036ac7-ebb6-4c31-eb2e-a1ca3880199b"
      },
      "execution_count": 30,
      "outputs": [
        {
          "output_type": "stream",
          "name": "stdout",
          "text": [
            "              precision    recall  f1-score   support\n",
            "\n",
            "         0.0       0.88      1.00      0.93        42\n",
            "         1.0       1.00      0.25      0.40         8\n",
            "\n",
            "    accuracy                           0.88        50\n",
            "   macro avg       0.94      0.62      0.67        50\n",
            "weighted avg       0.90      0.88      0.85        50\n",
            "\n"
          ]
        }
      ]
    },
    {
      "cell_type": "code",
      "source": [
        "# Функциюя для отрисовки матрицы соответсвия\n",
        "def show_matrix(y_true, y_pred, classes, title):\n",
        "    \"\"\"\n",
        "    Отрисовка матрицы соответсвия средствами seaborn\n",
        "\n",
        "    \"\"\"\n",
        "    plt.title(title)\n",
        "    cnf = confusion_matrix(y_true, y_pred)\n",
        "    \n",
        "    sns.heatmap(cnf, cmap = 'Blues', annot = True, fmt = \".1f\", linecolor= 'black',\n",
        "                linewidths= 1, xticklabels= classes, yticklabels= classes)\n",
        "    plt.xlabel('Predicted labels')\n",
        "    plt.ylabel('True labels')\n",
        "    \n",
        "    plt.figure(figsize = (8,8))\n",
        "    plt.show()\n",
        "\n",
        "    return"
      ],
      "metadata": {
        "id": "sJht_PuGQJ2d"
      },
      "execution_count": 32,
      "outputs": []
    },
    {
      "cell_type": "code",
      "source": [
        "show_matrix(y_test[:N], y_pred, classes = ['No_risk', 'Enable_risk'], title = 'Классификация - риск развития диабета')"
      ],
      "metadata": {
        "colab": {
          "base_uri": "https://localhost:8080/",
          "height": 320
        },
        "id": "AdYiZzJYQTZI",
        "outputId": "922efef4-6788-4fa4-f71b-21ebf42be0c3"
      },
      "execution_count": 34,
      "outputs": [
        {
          "output_type": "display_data",
          "data": {
            "text/plain": [
              "<Figure size 432x288 with 2 Axes>"
            ],
            "image/png": "[encoded data removed]"
          },
          "metadata": {
            "needs_background": "light"
          }
        },
        {
          "output_type": "display_data",
          "data": {
            "text/plain": [
              "<Figure size 576x576 with 0 Axes>"
            ]
          },
          "metadata": {}
        }
      ]
    },
    {
      "cell_type": "markdown",
      "source": [
        "Вроде функционирует и таже есть положительные результаты, к сожалению модель пробускает значительные число людей с риском диабета"
      ],
      "metadata": {
        "id": "CQWBbGiUPoj7"
      }
    }
  ]
}