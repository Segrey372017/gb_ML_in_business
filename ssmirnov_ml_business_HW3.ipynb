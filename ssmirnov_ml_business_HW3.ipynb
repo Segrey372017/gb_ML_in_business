{
  "nbformat": 4,
  "nbformat_minor": 0,
  "metadata": {
    "colab": {
      "name": "ssmirnov_ml_business_HW3.ipynb",
      "provenance": [],
      "collapsed_sections": [],
      "toc_visible": true,
      "authorship_tag": "ABX9TyPmGMtvpG+NHOOrYUczYEFf",
      "include_colab_link": true
    },
    "kernelspec": {
      "name": "python3",
      "display_name": "Python 3"
    },
    "language_info": {
      "name": "python"
    }
  },
  "cells": [
    {
      "cell_type": "markdown",
      "metadata": {
        "id": "view-in-github",
        "colab_type": "text"
      },
      "source": [
        "<a href=\"https://colab.research.google.com/github/Segrey372017/gb_ML_in_business/blob/main/ssmirnov_ml_business_HW3.ipynb\" target=\"_parent\"><img src=\"https://colab.research.google.com/assets/colab-badge.svg\" alt=\"Open In Colab\"/></a>"
      ]
    },
    {
      "cell_type": "code",
      "execution_count": 1,
      "metadata": {
        "id": "rgh94HgB5Z7c"
      },
      "outputs": [],
      "source": [
        "import numpy as np\n",
        "import pandas as pd\n",
        "import matplotlib.pyplot as plt\n",
        "import seaborn as sns\n",
        "sns.set()"
      ]
    },
    {
      "cell_type": "code",
      "source": [
        "from sklearn.model_selection import train_test_split\n",
        "from sklearn.base import BaseEstimator, TransformerMixin\n",
        "from sklearn.pipeline import Pipeline\n",
        "from sklearn.model_selection import cross_val_score\n",
        "from sklearn.metrics import precision_recall_curve, roc_curve, roc_auc_score, confusion_matrix, classification_report"
      ],
      "metadata": {
        "id": "PBgjp92o6xuf"
      },
      "execution_count": 54,
      "outputs": []
    },
    {
      "cell_type": "markdown",
      "metadata": {
        "id": "JKqZSl_XuTMT"
      },
      "source": [
        "## Кейс 2 - определение ССЗ"
      ]
    },
    {
      "cell_type": "markdown",
      "metadata": {
        "id": "uOepmUfRuTMi"
      },
      "source": [
        "Таргет - наличие сердечно-сосудистых заболеваний (ССЗ)"
      ]
    },
    {
      "cell_type": "markdown",
      "source": [
        "Ссылка на google drive: https://drive.google.com/file/d/1Si4EJ_RexI3Q7yZU8eLjgp4ORe_BXr4G"
      ],
      "metadata": {
        "id": "FkGlZFSjdPhi"
      }
    },
    {
      "cell_type": "code",
      "source": [
        "!wget 'https://drive.google.com/uc?export=download&id=1Si4EJ_RexI3Q7yZU8eLjgp4ORe_BXr4G' -O train_case2.csv"
      ],
      "metadata": {
        "colab": {
          "base_uri": "https://localhost:8080/"
        },
        "id": "ttqVNPeaJm7G",
        "outputId": "6d03a97e-a866-46cc-e3d4-d5110c127818"
      },
      "execution_count": 3,
      "outputs": [
        {
          "output_type": "stream",
          "name": "stdout",
          "text": [
            "--2022-04-02 11:12:59--  https://drive.google.com/uc?export=download&id=1Si4EJ_RexI3Q7yZU8eLjgp4ORe_BXr4G\n",
            "Resolving drive.google.com (drive.google.com)... 142.250.141.101, 142.250.141.113, 142.250.141.139, ...\n",
            "Connecting to drive.google.com (drive.google.com)|142.250.141.101|:443... connected.\n",
            "HTTP request sent, awaiting response... 303 See Other\n",
            "Location: https://doc-00-c0-docs.googleusercontent.com/docs/securesc/ha0ro937gcuc7l7deffksulhg5h7mbp1/mkcgfjrs1abmdgjl5070tlfhqit5h66q/1648897950000/14904333240138417226/*/1Si4EJ_RexI3Q7yZU8eLjgp4ORe_BXr4G?e=download [following]\n",
            "Warning: wildcards not supported in HTTP.\n",
            "--2022-04-02 11:13:00--  https://doc-00-c0-docs.googleusercontent.com/docs/securesc/ha0ro937gcuc7l7deffksulhg5h7mbp1/mkcgfjrs1abmdgjl5070tlfhqit5h66q/1648897950000/14904333240138417226/*/1Si4EJ_RexI3Q7yZU8eLjgp4ORe_BXr4G?e=download\n",
            "Resolving doc-00-c0-docs.googleusercontent.com (doc-00-c0-docs.googleusercontent.com)... 142.250.141.132, 2607:f8b0:4023:c0b::84\n",
            "Connecting to doc-00-c0-docs.googleusercontent.com (doc-00-c0-docs.googleusercontent.com)|142.250.141.132|:443... connected.\n",
            "HTTP request sent, awaiting response... 200 OK\n",
            "Length: 2941524 (2.8M) [text/csv]\n",
            "Saving to: ‘train_case2.csv’\n",
            "\n",
            "train_case2.csv     100%[===================>]   2.80M  13.0MB/s    in 0.2s    \n",
            "\n",
            "2022-04-02 11:13:01 (13.0 MB/s) - ‘train_case2.csv’ saved [2941524/2941524]\n",
            "\n"
          ]
        }
      ]
    },
    {
      "cell_type": "code",
      "execution_count": 4,
      "metadata": {
        "id": "eyWhvm-wuTMl",
        "outputId": "2a9c45a9-00a6-4d7f-d1a1-085d76514a86",
        "colab": {
          "base_uri": "https://localhost:8080/",
          "height": 200
        }
      },
      "outputs": [
        {
          "output_type": "stream",
          "name": "stderr",
          "text": [
            "/usr/local/lib/python3.7/dist-packages/IPython/core/interactiveshell.py:2882: FutureWarning: In a future version of pandas all arguments of read_csv except for the argument 'filepath_or_buffer' will be keyword-only\n",
            "  exec(code_obj, self.user_global_ns, self.user_ns)\n"
          ]
        },
        {
          "output_type": "execute_result",
          "data": {
            "text/plain": [
              "   id    age  gender  height  weight  ap_hi  ap_lo  cholesterol  gluc  smoke  \\\n",
              "0   0  18393       2     168    62.0    110     80            1     1      0   \n",
              "1   1  20228       1     156    85.0    140     90            3     1      0   \n",
              "2   2  18857       1     165    64.0    130     70            3     1      0   \n",
              "\n",
              "   alco  active  cardio  \n",
              "0     0       1       0  \n",
              "1     0       1       1  \n",
              "2     0       0       1  "
            ],
            "text/html": [
              "\n",
              "  <div id=\"df-bf5e95da-29f8-4d6d-b672-1ab685b61ff3\">\n",
              "    <div class=\"colab-df-container\">\n",
              "      <div>\n",
              "<style scoped>\n",
              "    .dataframe tbody tr th:only-of-type {\n",
              "        vertical-align: middle;\n",
              "    }\n",
              "\n",
              "    .dataframe tbody tr th {\n",
              "        vertical-align: top;\n",
              "    }\n",
              "\n",
              "    .dataframe thead th {\n",
              "        text-align: right;\n",
              "    }\n",
              "</style>\n",
              "<table border=\"1\" class=\"dataframe\">\n",
              "  <thead>\n",
              "    <tr style=\"text-align: right;\">\n",
              "      <th></th>\n",
              "      <th>id</th>\n",
              "      <th>age</th>\n",
              "      <th>gender</th>\n",
              "      <th>height</th>\n",
              "      <th>weight</th>\n",
              "      <th>ap_hi</th>\n",
              "      <th>ap_lo</th>\n",
              "      <th>cholesterol</th>\n",
              "      <th>gluc</th>\n",
              "      <th>smoke</th>\n",
              "      <th>alco</th>\n",
              "      <th>active</th>\n",
              "      <th>cardio</th>\n",
              "    </tr>\n",
              "  </thead>\n",
              "  <tbody>\n",
              "    <tr>\n",
              "      <th>0</th>\n",
              "      <td>0</td>\n",
              "      <td>18393</td>\n",
              "      <td>2</td>\n",
              "      <td>168</td>\n",
              "      <td>62.0</td>\n",
              "      <td>110</td>\n",
              "      <td>80</td>\n",
              "      <td>1</td>\n",
              "      <td>1</td>\n",
              "      <td>0</td>\n",
              "      <td>0</td>\n",
              "      <td>1</td>\n",
              "      <td>0</td>\n",
              "    </tr>\n",
              "    <tr>\n",
              "      <th>1</th>\n",
              "      <td>1</td>\n",
              "      <td>20228</td>\n",
              "      <td>1</td>\n",
              "      <td>156</td>\n",
              "      <td>85.0</td>\n",
              "      <td>140</td>\n",
              "      <td>90</td>\n",
              "      <td>3</td>\n",
              "      <td>1</td>\n",
              "      <td>0</td>\n",
              "      <td>0</td>\n",
              "      <td>1</td>\n",
              "      <td>1</td>\n",
              "    </tr>\n",
              "    <tr>\n",
              "      <th>2</th>\n",
              "      <td>2</td>\n",
              "      <td>18857</td>\n",
              "      <td>1</td>\n",
              "      <td>165</td>\n",
              "      <td>64.0</td>\n",
              "      <td>130</td>\n",
              "      <td>70</td>\n",
              "      <td>3</td>\n",
              "      <td>1</td>\n",
              "      <td>0</td>\n",
              "      <td>0</td>\n",
              "      <td>0</td>\n",
              "      <td>1</td>\n",
              "    </tr>\n",
              "  </tbody>\n",
              "</table>\n",
              "</div>\n",
              "      <button class=\"colab-df-convert\" onclick=\"convertToInteractive('df-bf5e95da-29f8-4d6d-b672-1ab685b61ff3')\"\n",
              "              title=\"Convert this dataframe to an interactive table.\"\n",
              "              style=\"display:none;\">\n",
              "        \n",
              "  <svg xmlns=\"http://www.w3.org/2000/svg\" height=\"24px\"viewBox=\"0 0 24 24\"\n",
              "       width=\"24px\">\n",
              "    <path d=\"M0 0h24v24H0V0z\" fill=\"none\"/>\n",
              "    <path d=\"M18.56 5.44l.94 2.06.94-2.06 2.06-.94-2.06-.94-.94-2.06-.94 2.06-2.06.94zm-11 1L8.5 8.5l.94-2.06 2.06-.94-2.06-.94L8.5 2.5l-.94 2.06-2.06.94zm10 10l.94 2.06.94-2.06 2.06-.94-2.06-.94-.94-2.06-.94 2.06-2.06.94z\"/><path d=\"M17.41 7.96l-1.37-1.37c-.4-.4-.92-.59-1.43-.59-.52 0-1.04.2-1.43.59L10.3 9.45l-7.72 7.72c-.78.78-.78 2.05 0 2.83L4 21.41c.39.39.9.59 1.41.59.51 0 1.02-.2 1.41-.59l7.78-7.78 2.81-2.81c.8-.78.8-2.07 0-2.86zM5.41 20L4 18.59l7.72-7.72 1.47 1.35L5.41 20z\"/>\n",
              "  </svg>\n",
              "      </button>\n",
              "      \n",
              "  <style>\n",
              "    .colab-df-container {\n",
              "      display:flex;\n",
              "      flex-wrap:wrap;\n",
              "      gap: 12px;\n",
              "    }\n",
              "\n",
              "    .colab-df-convert {\n",
              "      background-color: #E8F0FE;\n",
              "      border: none;\n",
              "      border-radius: 50%;\n",
              "      cursor: pointer;\n",
              "      display: none;\n",
              "      fill: #1967D2;\n",
              "      height: 32px;\n",
              "      padding: 0 0 0 0;\n",
              "      width: 32px;\n",
              "    }\n",
              "\n",
              "    .colab-df-convert:hover {\n",
              "      background-color: #E2EBFA;\n",
              "      box-shadow: 0px 1px 2px rgba(60, 64, 67, 0.3), 0px 1px 3px 1px rgba(60, 64, 67, 0.15);\n",
              "      fill: #174EA6;\n",
              "    }\n",
              "\n",
              "    [theme=dark] .colab-df-convert {\n",
              "      background-color: #3B4455;\n",
              "      fill: #D2E3FC;\n",
              "    }\n",
              "\n",
              "    [theme=dark] .colab-df-convert:hover {\n",
              "      background-color: #434B5C;\n",
              "      box-shadow: 0px 1px 3px 1px rgba(0, 0, 0, 0.15);\n",
              "      filter: drop-shadow(0px 1px 2px rgba(0, 0, 0, 0.3));\n",
              "      fill: #FFFFFF;\n",
              "    }\n",
              "  </style>\n",
              "\n",
              "      <script>\n",
              "        const buttonEl =\n",
              "          document.querySelector('#df-bf5e95da-29f8-4d6d-b672-1ab685b61ff3 button.colab-df-convert');\n",
              "        buttonEl.style.display =\n",
              "          google.colab.kernel.accessAllowed ? 'block' : 'none';\n",
              "\n",
              "        async function convertToInteractive(key) {\n",
              "          const element = document.querySelector('#df-bf5e95da-29f8-4d6d-b672-1ab685b61ff3');\n",
              "          const dataTable =\n",
              "            await google.colab.kernel.invokeFunction('convertToInteractive',\n",
              "                                                     [key], {});\n",
              "          if (!dataTable) return;\n",
              "\n",
              "          const docLinkHtml = 'Like what you see? Visit the ' +\n",
              "            '<a target=\"_blank\" href=https://colab.research.google.com/notebooks/data_table.ipynb>data table notebook</a>'\n",
              "            + ' to learn more about interactive tables.';\n",
              "          element.innerHTML = '';\n",
              "          dataTable['output_type'] = 'display_data';\n",
              "          await google.colab.output.renderOutput(dataTable, element);\n",
              "          const docLink = document.createElement('div');\n",
              "          docLink.innerHTML = docLinkHtml;\n",
              "          element.appendChild(docLink);\n",
              "        }\n",
              "      </script>\n",
              "    </div>\n",
              "  </div>\n",
              "  "
            ]
          },
          "metadata": {},
          "execution_count": 4
        }
      ],
      "source": [
        "df = pd.read_csv('train_case2.csv', ';')\n",
        "df.head(3)"
      ]
    },
    {
      "cell_type": "markdown",
      "metadata": {
        "id": "mslyI3rkuTMq"
      },
      "source": [
        "Разделим наши данные на тренировочную и тестовую выборки"
      ]
    },
    {
      "cell_type": "code",
      "execution_count": 5,
      "metadata": {
        "id": "8y5FPlYsuTMw"
      },
      "outputs": [],
      "source": [
        "# разделим данные на train/test\n",
        "X_train, X_test, y_train, y_test = train_test_split(df.drop(columns='cardio'), \n",
        "                                                    df['cardio'], random_state=0)"
      ]
    },
    {
      "cell_type": "markdown",
      "metadata": {
        "id": "iz0zpgeQuTMx"
      },
      "source": [
        "К полям:\n",
        "- gender, cholesterol применим OHE-кодирование\n",
        "- age, height, weight, ap_hi, ap_lo - standardScaler\n",
        "- gluc, smoke, alco, active - оставим пока как есть"
      ]
    },
    {
      "cell_type": "code",
      "execution_count": 6,
      "metadata": {
        "id": "NZzwZ0DzuTM6"
      },
      "outputs": [],
      "source": [
        "class ColumnSelector(BaseEstimator, TransformerMixin):\n",
        "    \"\"\"\n",
        "    Transformer to select a single column from the data frame to perform additional transformations on\n",
        "    \"\"\"\n",
        "    def __init__(self, key):\n",
        "        self.key = key\n",
        "\n",
        "    def fit(self, X, y=None):\n",
        "        return self\n",
        "\n",
        "    def transform(self, X):\n",
        "        return X[self.key]\n",
        "    \n",
        "class NumberSelector(BaseEstimator, TransformerMixin):\n",
        "    \"\"\"\n",
        "    Transformer to select a single column from the data frame to perform additional transformations on\n",
        "    Use on numeric columns in the data\n",
        "    \"\"\"\n",
        "    def __init__(self, key):\n",
        "        self.key = key\n",
        "\n",
        "    def fit(self, X, y=None):\n",
        "        return self\n",
        "\n",
        "    def transform(self, X):\n",
        "        return X[[self.key]]\n",
        "    \n",
        "class OHEEncoder(BaseEstimator, TransformerMixin):\n",
        "    def __init__(self, key):\n",
        "        self.key = key\n",
        "        self.columns = []\n",
        "\n",
        "    def fit(self, X, y=None):\n",
        "        self.columns = [col for col in pd.get_dummies(X, prefix=self.key).columns]\n",
        "        return self\n",
        "\n",
        "    def transform(self, X):\n",
        "        X = pd.get_dummies(X, prefix=self.key)\n",
        "        test_columns = [col for col in X.columns]\n",
        "        for col_ in self.columns:\n",
        "            if col_ not in test_columns:\n",
        "                X[col_] = 0\n",
        "        return X[self.columns]\n",
        "\n",
        "\n",
        "from sklearn.preprocessing import StandardScaler\n",
        "\n",
        "\n",
        "continuos_cols = ['age', 'height', 'weight', 'ap_hi', 'ap_lo']\n",
        "cat_cols = ['gender', 'cholesterol']\n",
        "base_cols = ['gluc', 'smoke', 'alco', 'active']\n",
        "\n",
        "continuos_transformers = []\n",
        "cat_transformers = []\n",
        "base_transformers = []\n",
        "\n",
        "for cont_col in continuos_cols:\n",
        "    transfomer =  Pipeline([\n",
        "                ('selector', NumberSelector(key=cont_col)),\n",
        "                ('standard', StandardScaler())\n",
        "            ])\n",
        "    continuos_transformers.append((cont_col, transfomer))\n",
        "    \n",
        "for cat_col in cat_cols:\n",
        "    cat_transformer = Pipeline([\n",
        "                ('selector', ColumnSelector(key=cat_col)),\n",
        "                ('ohe', OHEEncoder(key=cat_col))\n",
        "            ])\n",
        "    cat_transformers.append((cat_col, cat_transformer))\n",
        "    \n",
        "for base_col in base_cols:\n",
        "    base_transformer = Pipeline([\n",
        "                ('selector', NumberSelector(key=base_col))\n",
        "            ])\n",
        "    base_transformers.append((base_col, base_transformer))"
      ]
    },
    {
      "cell_type": "markdown",
      "metadata": {
        "id": "kqbcTHEauTNC"
      },
      "source": [
        "Теперь объединим все наши трансформеры с помощью FeatureUnion"
      ]
    },
    {
      "cell_type": "code",
      "execution_count": 7,
      "metadata": {
        "id": "UrSLisPTuTNE",
        "outputId": "db572f5f-45cd-44a9-bb2e-7b35b69ba643",
        "colab": {
          "base_uri": "https://localhost:8080/"
        }
      },
      "outputs": [
        {
          "output_type": "execute_result",
          "data": {
            "text/plain": [
              "array([[-1.73391771,  0.6873301 ,  0.74843904, ...,  1.        ,\n",
              "         0.        ,  1.        ],\n",
              "       [-1.67343538,  0.07758923, -0.29640123, ...,  0.        ,\n",
              "         0.        ,  1.        ],\n",
              "       [ 0.13738132,  1.17512278, -0.15708919, ...,  0.        ,\n",
              "         0.        ,  0.        ],\n",
              "       ...,\n",
              "       [ 1.17775864,  1.17512278, -0.15708919, ...,  0.        ,\n",
              "         0.        ,  1.        ],\n",
              "       [-0.47190715, -1.38578883,  0.74843904, ...,  0.        ,\n",
              "         0.        ,  1.        ],\n",
              "       [ 0.38174619,  0.56538192, -0.08743318, ...,  0.        ,\n",
              "         0.        ,  1.        ]])"
            ]
          },
          "metadata": {},
          "execution_count": 7
        }
      ],
      "source": [
        "from sklearn.pipeline import FeatureUnion\n",
        "\n",
        "feats = FeatureUnion(continuos_transformers+cat_transformers+base_transformers)\n",
        "feature_processing = Pipeline([('feats', feats)])\n",
        "\n",
        "feature_processing.fit_transform(X_train)"
      ]
    },
    {
      "cell_type": "markdown",
      "metadata": {
        "id": "gq_x1pNFuTNU"
      },
      "source": [
        "Добавим классификатор и запустим кросс-валидацию"
      ]
    },
    {
      "cell_type": "markdown",
      "source": [
        "### Задание 1\n",
        "<p> Обучить несколько разных моделей на наборе данных ССЗ (train_case2.csv): логрег, бустинг, лес и т.д - на ваш выбор 2-3 варианта</p>"
      ],
      "metadata": {
        "id": "nRD7c1yr9ZpG"
      }
    },
    {
      "cell_type": "markdown",
      "source": [
        "### Обучение моделей классификаторов\n",
        "<p> Обучим 3 модели классификатора на имеющемся датасете, создав соответсвующие пайплайны: </p>\n",
        "<ul> \n",
        "<li> 'Classifier1' - К-ближайших соседей </li>\n",
        "<li> 'Classifier2' - Случайный лес </li>\n",
        "<li> 'Classifier3' - классификатор на основе LightGBM </li>\n",
        "</ul>"
      ],
      "metadata": {
        "id": "A5rVsljO9i_g"
      }
    },
    {
      "cell_type": "code",
      "source": [
        "# импорты соответсвующих компонентов\n",
        "from sklearn.neighbors import KNeighborsClassifier\n",
        "from sklearn.ensemble import RandomForestClassifier\n"
      ],
      "metadata": {
        "id": "VIn7NQKn_JOa"
      },
      "execution_count": 8,
      "outputs": []
    },
    {
      "cell_type": "code",
      "source": [
        "# установка и иморт lightGBN\n",
        "from lightgbm import LGBMClassifier"
      ],
      "metadata": {
        "id": "bQQO9Yj2_xZ4"
      },
      "execution_count": 9,
      "outputs": []
    },
    {
      "cell_type": "code",
      "source": [
        "# инициализируем соответствующие пайпланы классификаторов\n",
        "classifier1 = Pipeline([\n",
        "    ('features', feats),\n",
        "    ('classifier', KNeighborsClassifier()),\n",
        "])\n",
        "\n",
        "classifier2 = Pipeline([\n",
        "    ('features', feats),\n",
        "    ('classifier', RandomForestClassifier()),\n",
        "])\n",
        "\n",
        "classifier3 = Pipeline([\n",
        "    ('features', feats),\n",
        "    ('classifier', LGBMClassifier()),\n",
        "])"
      ],
      "metadata": {
        "id": "iIDexuUNA8Ib"
      },
      "execution_count": 10,
      "outputs": []
    },
    {
      "cell_type": "code",
      "execution_count": 11,
      "metadata": {
        "id": "1611alE9uTNW"
      },
      "outputs": [],
      "source": [
        "# Напишем фунции для кросс-валидации и получения предсказаний от  моделей\n",
        "\n",
        "# запустим кросс-валидацию\n",
        "def make_cv(c_pipe, X_train, y_train):\n",
        "    \"\"\"\n",
        "    Рассчитывает результативность модели методом кросс-валидации на тренировочных\n",
        "    данных\n",
        "    \"\"\"\n",
        "    cv_scores = cross_val_score(c_pipe, X_train, y_train, cv=7, scoring='roc_auc')\n",
        "    cv_score = np.mean(cv_scores)\n",
        "    cv_score_std = np.std(cv_scores)\n",
        "    return print(f'CV score is {cv_score}+-{cv_score_std}')\n",
        "\n",
        "# обучим пайплайны на всем тренировочном датасете\n",
        "def get_score (c_pipe, X_train, y_train):\n",
        "    \"\"\"\n",
        "    Возвращает вероятности предсказания первого класса\n",
        "    \"\"\"\n",
        "    c_pipe.fit(X_train, y_train)\n",
        "    return c_pipe.predict_proba(X_test)[:, 1]"
      ]
    },
    {
      "cell_type": "code",
      "source": [
        "# выполняем кросс-валидацию по всем моделям\n",
        "%%time\n",
        "make_cv(classifier1, X_train, y_train)\n",
        "make_cv(classifier2, X_train, y_train)\n",
        "make_cv(classifier3, X_train, y_train)"
      ],
      "metadata": {
        "colab": {
          "base_uri": "https://localhost:8080/"
        },
        "id": "V2IPP6NJFu89",
        "outputId": "fc350c40-6082-4aa9-b739-7c7ab1433c2f"
      },
      "execution_count": 12,
      "outputs": [
        {
          "output_type": "stream",
          "name": "stdout",
          "text": [
            "CV score is 0.6912766334769298+-0.0034373176868339114\n",
            "CV score is 0.7746848682352743+-0.0029623862176379827\n",
            "CV score is 0.8019383066904299+-0.003285200200143236\n",
            "CPU times: user 1min 21s, sys: 981 ms, total: 1min 22s\n",
            "Wall time: 1min 40s\n"
          ]
        }
      ]
    },
    {
      "cell_type": "markdown",
      "source": [
        "Кросс-валидация показала, что выбранные модели работаю устойчиво, разброс результатов по фолдам составляет 3-4 десятых процента. Чем сложнее модель тем выше результат. Ожидаемо градиентный бустинг показал лучший результа порядка 80"
      ],
      "metadata": {
        "id": "85E9DpUIH_MN"
      }
    },
    {
      "cell_type": "code",
      "source": [
        "# получим  предсказания от всех моделей, обучив их на полном тренировочном наборе\n",
        "%%time\n",
        "y_KNN_score = get_score(classifier1, X_train, y_train)\n",
        "y_RF_score = get_score(classifier2, X_train, y_train)\n",
        "y_LGBM_score = get_score(classifier3, X_train, y_train)"
      ],
      "metadata": {
        "colab": {
          "base_uri": "https://localhost:8080/"
        },
        "id": "UECqmAm33zA7",
        "outputId": "5d1a5f8d-a5a7-4e68-b105-5793751b759d"
      },
      "execution_count": 14,
      "outputs": [
        {
          "output_type": "stream",
          "name": "stdout",
          "text": [
            "CPU times: user 16.5 s, sys: 116 ms, total: 16.6 s\n",
            "Wall time: 16.5 s\n"
          ]
        }
      ]
    },
    {
      "cell_type": "markdown",
      "source": [
        "### Задание 2\n",
        "<p> Вывести сравнение полученных моделей по основным метрикам классификации: pr/rec/auc/f_score (можно в виде таблицы, где строки - модели, а столбцы - метрики)</p>"
      ],
      "metadata": {
        "id": "b_Uo_3l5-DEx"
      }
    },
    {
      "cell_type": "markdown",
      "metadata": {
        "id": "DgFEEWCzuTNf"
      },
      "source": [
        "Посчитаем precision/recall/f_score"
      ]
    },
    {
      "cell_type": "code",
      "execution_count": 15,
      "metadata": {
        "id": "steFA0gTuTNg"
      },
      "outputs": [],
      "source": [
        "# также обернем подбор порога вероятностей в фунцию для использованя на каждой модели\n",
        "\n",
        "def get_treshold(y_test, y_score, b = 1):\n",
        "    \"\"\"\n",
        "    Функция для подбора оптимального порога вероятности.\n",
        "    Максимизирует F-score\n",
        "    \"\"\"\n",
        "\n",
        "    precision, recall, thresholds = precision_recall_curve(y_test.values, y_score)\n",
        "    fscore = (1 +b**2) * (precision * recall) / (b**2 * precision + recall)\n",
        "    # locate the index of the largest f score\n",
        "    ix = np.argmax(fscore)\n",
        "    # заодно расчитаем метрику ROC_AUC поскольку она в домашнем заднии\n",
        "    auc = roc_auc_score(y_test, y_score)\n",
        "    # отдадим в виде словаря порог вероятности и метрики\n",
        "    return {'BestTreshold': thresholds[ix], 'Precision': precision[ix], 'Recall': recall[ix], 'ROC_AUC': auc, 'F-Score':fscore[ix]}"
      ]
    },
    {
      "cell_type": "code",
      "source": [
        "stat1 = get_treshold(y_test, y_KNN_score)\n",
        "stat2 = get_treshold(y_test, y_RF_score)\n",
        "stat3 = get_treshold(y_test, y_LGBM_score)"
      ],
      "metadata": {
        "id": "wm3NHFJj3Yf1"
      },
      "execution_count": 16,
      "outputs": []
    },
    {
      "cell_type": "code",
      "source": [
        "res = pd.DataFrame(data = [stat1, stat2, stat3], index = ['KNN', 'RandomForest', 'LightGBM']) # выведем метрики\n",
        "res"
      ],
      "metadata": {
        "colab": {
          "base_uri": "https://localhost:8080/",
          "height": 143
        },
        "id": "TQLEpDeH7MUt",
        "outputId": "c2bab8f1-2ddd-4aff-bcab-0bda1605bad3"
      },
      "execution_count": 17,
      "outputs": [
        {
          "output_type": "execute_result",
          "data": {
            "text/plain": [
              "              BestTreshold  Precision    Recall   ROC_AUC   F-Score\n",
              "KNN               0.400000   0.588468  0.821889  0.694098  0.685863\n",
              "RandomForest      0.383333   0.662973  0.785714  0.770985  0.719144\n",
              "LightGBM          0.355647   0.667099  0.829954  0.801182  0.739668"
            ],
            "text/html": [
              "\n",
              "  <div id=\"df-5e05b537-226a-43fe-93d4-71da915e16b5\">\n",
              "    <div class=\"colab-df-container\">\n",
              "      <div>\n",
              "<style scoped>\n",
              "    .dataframe tbody tr th:only-of-type {\n",
              "        vertical-align: middle;\n",
              "    }\n",
              "\n",
              "    .dataframe tbody tr th {\n",
              "        vertical-align: top;\n",
              "    }\n",
              "\n",
              "    .dataframe thead th {\n",
              "        text-align: right;\n",
              "    }\n",
              "</style>\n",
              "<table border=\"1\" class=\"dataframe\">\n",
              "  <thead>\n",
              "    <tr style=\"text-align: right;\">\n",
              "      <th></th>\n",
              "      <th>BestTreshold</th>\n",
              "      <th>Precision</th>\n",
              "      <th>Recall</th>\n",
              "      <th>ROC_AUC</th>\n",
              "      <th>F-Score</th>\n",
              "    </tr>\n",
              "  </thead>\n",
              "  <tbody>\n",
              "    <tr>\n",
              "      <th>KNN</th>\n",
              "      <td>0.400000</td>\n",
              "      <td>0.588468</td>\n",
              "      <td>0.821889</td>\n",
              "      <td>0.694098</td>\n",
              "      <td>0.685863</td>\n",
              "    </tr>\n",
              "    <tr>\n",
              "      <th>RandomForest</th>\n",
              "      <td>0.383333</td>\n",
              "      <td>0.662973</td>\n",
              "      <td>0.785714</td>\n",
              "      <td>0.770985</td>\n",
              "      <td>0.719144</td>\n",
              "    </tr>\n",
              "    <tr>\n",
              "      <th>LightGBM</th>\n",
              "      <td>0.355647</td>\n",
              "      <td>0.667099</td>\n",
              "      <td>0.829954</td>\n",
              "      <td>0.801182</td>\n",
              "      <td>0.739668</td>\n",
              "    </tr>\n",
              "  </tbody>\n",
              "</table>\n",
              "</div>\n",
              "      <button class=\"colab-df-convert\" onclick=\"convertToInteractive('df-5e05b537-226a-43fe-93d4-71da915e16b5')\"\n",
              "              title=\"Convert this dataframe to an interactive table.\"\n",
              "              style=\"display:none;\">\n",
              "        \n",
              "  <svg xmlns=\"http://www.w3.org/2000/svg\" height=\"24px\"viewBox=\"0 0 24 24\"\n",
              "       width=\"24px\">\n",
              "    <path d=\"M0 0h24v24H0V0z\" fill=\"none\"/>\n",
              "    <path d=\"M18.56 5.44l.94 2.06.94-2.06 2.06-.94-2.06-.94-.94-2.06-.94 2.06-2.06.94zm-11 1L8.5 8.5l.94-2.06 2.06-.94-2.06-.94L8.5 2.5l-.94 2.06-2.06.94zm10 10l.94 2.06.94-2.06 2.06-.94-2.06-.94-.94-2.06-.94 2.06-2.06.94z\"/><path d=\"M17.41 7.96l-1.37-1.37c-.4-.4-.92-.59-1.43-.59-.52 0-1.04.2-1.43.59L10.3 9.45l-7.72 7.72c-.78.78-.78 2.05 0 2.83L4 21.41c.39.39.9.59 1.41.59.51 0 1.02-.2 1.41-.59l7.78-7.78 2.81-2.81c.8-.78.8-2.07 0-2.86zM5.41 20L4 18.59l7.72-7.72 1.47 1.35L5.41 20z\"/>\n",
              "  </svg>\n",
              "      </button>\n",
              "      \n",
              "  <style>\n",
              "    .colab-df-container {\n",
              "      display:flex;\n",
              "      flex-wrap:wrap;\n",
              "      gap: 12px;\n",
              "    }\n",
              "\n",
              "    .colab-df-convert {\n",
              "      background-color: #E8F0FE;\n",
              "      border: none;\n",
              "      border-radius: 50%;\n",
              "      cursor: pointer;\n",
              "      display: none;\n",
              "      fill: #1967D2;\n",
              "      height: 32px;\n",
              "      padding: 0 0 0 0;\n",
              "      width: 32px;\n",
              "    }\n",
              "\n",
              "    .colab-df-convert:hover {\n",
              "      background-color: #E2EBFA;\n",
              "      box-shadow: 0px 1px 2px rgba(60, 64, 67, 0.3), 0px 1px 3px 1px rgba(60, 64, 67, 0.15);\n",
              "      fill: #174EA6;\n",
              "    }\n",
              "\n",
              "    [theme=dark] .colab-df-convert {\n",
              "      background-color: #3B4455;\n",
              "      fill: #D2E3FC;\n",
              "    }\n",
              "\n",
              "    [theme=dark] .colab-df-convert:hover {\n",
              "      background-color: #434B5C;\n",
              "      box-shadow: 0px 1px 3px 1px rgba(0, 0, 0, 0.15);\n",
              "      filter: drop-shadow(0px 1px 2px rgba(0, 0, 0, 0.3));\n",
              "      fill: #FFFFFF;\n",
              "    }\n",
              "  </style>\n",
              "\n",
              "      <script>\n",
              "        const buttonEl =\n",
              "          document.querySelector('#df-5e05b537-226a-43fe-93d4-71da915e16b5 button.colab-df-convert');\n",
              "        buttonEl.style.display =\n",
              "          google.colab.kernel.accessAllowed ? 'block' : 'none';\n",
              "\n",
              "        async function convertToInteractive(key) {\n",
              "          const element = document.querySelector('#df-5e05b537-226a-43fe-93d4-71da915e16b5');\n",
              "          const dataTable =\n",
              "            await google.colab.kernel.invokeFunction('convertToInteractive',\n",
              "                                                     [key], {});\n",
              "          if (!dataTable) return;\n",
              "\n",
              "          const docLinkHtml = 'Like what you see? Visit the ' +\n",
              "            '<a target=\"_blank\" href=https://colab.research.google.com/notebooks/data_table.ipynb>data table notebook</a>'\n",
              "            + ' to learn more about interactive tables.';\n",
              "          element.innerHTML = '';\n",
              "          dataTable['output_type'] = 'display_data';\n",
              "          await google.colab.output.renderOutput(dataTable, element);\n",
              "          const docLink = document.createElement('div');\n",
              "          docLink.innerHTML = docLinkHtml;\n",
              "          element.appendChild(docLink);\n",
              "        }\n",
              "      </script>\n",
              "    </div>\n",
              "  </div>\n",
              "  "
            ]
          },
          "metadata": {},
          "execution_count": 17
        }
      ]
    },
    {
      "cell_type": "markdown",
      "source": [
        "По показатели полноты хорошие результаты показали модели KNN и Лёгкий бустинг (LightGBM). В свою очередь наибольше точностью 67% и показтелем F-score лидерство за LightGMB. Наиболее сложной моделью."
      ],
      "metadata": {
        "id": "BAxwaYx0_TJJ"
      }
    },
    {
      "cell_type": "markdown",
      "metadata": {
        "id": "5KFvapbiuTNk"
      },
      "source": [
        "Нарисуем roc auc кривую. Для модели LightGBM"
      ]
    },
    {
      "cell_type": "code",
      "execution_count": null,
      "metadata": {
        "id": "QOR0-kTnuTNm",
        "outputId": "ee9ce537-c865-4821-91b1-96f3acab0916",
        "colab": {
          "base_uri": "https://localhost:8080/",
          "height": 535
        }
      },
      "outputs": [
        {
          "output_type": "display_data",
          "data": {
            "text/plain": [
              "<Figure size 720x576 with 1 Axes>"
            ],
            "image/png": "[encoded data removed]"
          },
          "metadata": {}
        }
      ],
      "source": [
        "sns.set(font_scale=1.5)\n",
        "sns.set_color_codes(\"muted\")\n",
        "\n",
        "plt.figure(figsize=(10, 8))\n",
        "fpr, tpr, thresholds_ = roc_curve(y_test, y_LGBM_score, pos_label=1)\n",
        "lw = 2\n",
        "plt.plot(fpr, tpr, lw=lw, label='ROC curve ')\n",
        "plt.plot([0, 1], [0, 1])\n",
        "plt.xlim([0.0, 1.0])\n",
        "plt.ylim([0.0, 1.05])\n",
        "plt.xlabel('False Positive Rate')\n",
        "plt.ylabel('True Positive Rate')\n",
        "plt.title('ROC curve')\n",
        "plt.savefig(\"ROC.png\")\n",
        "plt.show()"
      ]
    },
    {
      "cell_type": "markdown",
      "metadata": {
        "id": "7dG0qFH1uTN0"
      },
      "source": [
        "Посмотрим на матрицу ошибок"
      ]
    },
    {
      "cell_type": "code",
      "execution_count": 24,
      "metadata": {
        "id": "tS-ALOCJuTN2"
      },
      "outputs": [],
      "source": [
        "# Функциюя для отрисовки матрицы соответсвия\n",
        "def show_matrix(y_true, y_pred, classes, title):\n",
        "    \"\"\"\n",
        "    Отрисовка матрицы соответсвия средствами seaborn\n",
        "\n",
        "    \"\"\"\n",
        "    plt.title(title)\n",
        "    cnf = confusion_matrix(y_true, y_pred)\n",
        "    \n",
        "    sns.heatmap(cnf, cmap = 'Blues', annot = True, fmt = \".1f\", linecolor= 'black',\n",
        "                linewidths= 1, xticklabels= classes, yticklabels= classes)\n",
        "    plt.xlabel('Predicted labels')\n",
        "    plt.ylabel('True labels')\n",
        "    \n",
        "    plt.figure(figsize = (8,8))\n",
        "    plt.show()\n",
        "\n",
        "    return"
      ]
    },
    {
      "cell_type": "markdown",
      "metadata": {
        "id": "choNr-tRuTN4"
      },
      "source": [
        "Посчитаем FPR, TPR для каждой модели"
      ]
    },
    {
      "cell_type": "code",
      "execution_count": 39,
      "metadata": {
        "id": "qqYcY09xuTN6"
      },
      "outputs": [],
      "source": [
        "# также обернем расчет в функцию для многократного использования\n",
        "def cnf_metrics(y_true, y_pred):\n",
        "    \"\"\"\n",
        "    Расчитывает показатели точности классификаци из матрицы соответсвия\n",
        "    \"\"\"\n",
        "    cnf = confusion_matrix(y_true, y_pred)\n",
        "    TN = cnf[0][0]\n",
        "    FN = cnf[1][0]\n",
        "    TP = cnf[1][1]\n",
        "    FP = cnf[0][1]\n",
        "\n",
        "    TPR = TP / (TP+FN)\n",
        "    FPR = FP / (FP+TN)\n",
        "    TNR = TN / (FP+TN)\n",
        "    print(f'True positive rate {TPR}, False positive rate {FPR}, True negative rate {TNR}')\n",
        "    #вернем показатели TN, FN, TP, FP для дальнейших расчетов\n",
        "    return {'TN':TN, 'FN':FN, 'TP':TP, 'FP':FP, 'cnf_mat':cnf}"
      ]
    },
    {
      "cell_type": "markdown",
      "source": [
        "Для модели KNN"
      ],
      "metadata": {
        "id": "JJz9HuLwErHR"
      }
    },
    {
      "cell_type": "code",
      "source": [
        "KNN_cnf = cnf_metrics(y_test, y_KNN_score > res.BestTreshold.loc['KNN'])\n",
        "print(KNN_cnf)\n",
        "show_matrix(y_test, y_KNN_score > res.BestTreshold.loc['KNN'], classes = ['cardio_0', 'cardio_1'],\n",
        "            title  = 'Матрица соответствия KNN')"
      ],
      "metadata": {
        "colab": {
          "base_uri": "https://localhost:8080/",
          "height": 375
        },
        "id": "uaBVfOjjEx-1",
        "outputId": "70453bfc-8f43-4f31-a6c4-fb06b447b5ac"
      },
      "execution_count": 41,
      "outputs": [
        {
          "output_type": "stream",
          "name": "stdout",
          "text": [
            "True positive rate 0.6185483870967742, False positive rate 0.322108843537415, True negative rate 0.677891156462585\n",
            "{'TN': 5979, 'FN': 3311, 'TP': 5369, 'FP': 2841, 'cnf_mat': array([[5979, 2841],\n",
            "       [3311, 5369]])}\n"
          ]
        },
        {
          "output_type": "display_data",
          "data": {
            "text/plain": [
              "<Figure size 432x288 with 2 Axes>"
            ],
            "image/png": "[encoded data removed]"
          },
          "metadata": {
            "needs_background": "light"
          }
        },
        {
          "output_type": "display_data",
          "data": {
            "text/plain": [
              "<Figure size 576x576 with 0 Axes>"
            ]
          },
          "metadata": {}
        }
      ]
    },
    {
      "cell_type": "markdown",
      "source": [
        "Для модели RandomForest"
      ],
      "metadata": {
        "id": "v_zvFlK4FrRH"
      }
    },
    {
      "cell_type": "code",
      "source": [
        "RF_cnf = cnf_metrics(y_test, y_RF_score > res.BestTreshold.loc['RandomForest'])\n",
        "print(RF_cnf)\n",
        "show_matrix(y_test, y_RF_score > res.BestTreshold.loc['RandomForest'], classes = ['cardio_0', 'cardio_1'],\n",
        "            title  = 'Матрица соответствия RandomForest')"
      ],
      "metadata": {
        "colab": {
          "base_uri": "https://localhost:8080/",
          "height": 375
        },
        "id": "o522od1mFxd_",
        "outputId": "d5964ac3-42d5-4a79-ef3c-2d91663dca87"
      },
      "execution_count": 44,
      "outputs": [
        {
          "output_type": "stream",
          "name": "stdout",
          "text": [
            "True positive rate 0.7855990783410138, False positive rate 0.3930839002267574, True negative rate 0.6069160997732427\n",
            "{'TN': 5353, 'FN': 1861, 'TP': 6819, 'FP': 3467, 'cnf_mat': array([[5353, 3467],\n",
            "       [1861, 6819]])}\n"
          ]
        },
        {
          "output_type": "display_data",
          "data": {
            "text/plain": [
              "<Figure size 432x288 with 2 Axes>"
            ],
            "image/png": "[encoded data removed]"
          },
          "metadata": {
            "needs_background": "light"
          }
        },
        {
          "output_type": "display_data",
          "data": {
            "text/plain": [
              "<Figure size 576x576 with 0 Axes>"
            ]
          },
          "metadata": {}
        }
      ]
    },
    {
      "cell_type": "code",
      "source": [
        "LGBM_cnf = cnf_metrics(y_test, y_LGBM_score > res.BestTreshold.loc['LightGBM'])\n",
        "print(LGBM_cnf)\n",
        "show_matrix(y_test, y_LGBM_score > res.BestTreshold.loc['LightGBM'], classes = ['cardio_0', 'cardio_1'],\n",
        "            title  = 'Матрица соответствия LightGBM')"
      ],
      "metadata": {
        "colab": {
          "base_uri": "https://localhost:8080/",
          "height": 375
        },
        "id": "Z36JSlTvGGmE",
        "outputId": "8195c5c5-3e49-4cbc-85d1-78c3bc67dd1b"
      },
      "execution_count": 45,
      "outputs": [
        {
          "output_type": "stream",
          "name": "stdout",
          "text": [
            "True positive rate 0.8298387096774194, False positive rate 0.4075963718820862, True negative rate 0.5924036281179138\n",
            "{'TN': 5225, 'FN': 1477, 'TP': 7203, 'FP': 3595, 'cnf_mat': array([[5225, 3595],\n",
            "       [1477, 7203]])}\n"
          ]
        },
        {
          "output_type": "display_data",
          "data": {
            "text/plain": [
              "<Figure size 432x288 with 2 Axes>"
            ],
            "image/png": "[encoded data removed]"
          },
          "metadata": {
            "needs_background": "light"
          }
        },
        {
          "output_type": "display_data",
          "data": {
            "text/plain": [
              "<Figure size 576x576 with 0 Axes>"
            ]
          },
          "metadata": {}
        }
      ]
    },
    {
      "cell_type": "markdown",
      "metadata": {
        "id": "kubScvxuuTOA"
      },
      "source": [
        "\n",
        "Пусть:\n",
        "\n",
        "- стоимость лечения 15000р, если сделали тест и начали лечить вовремя\n",
        "- стоимость лечения 20000р, если упустили и начали лечить когда уже проявились все симптомы\n",
        "- стоимость теста 1400р\n",
        "\n",
        "\n",
        "\n",
        "- лишних тестов сделали FP = cnf_matrix[0][1]\n",
        "- пропустили больных FN = cnf_matrix[1][0]\n",
        "- правильных тестов сделали TP = cnf_matrix[1][1]\n",
        "\n",
        "Оценим расходы, если не делать тест и ждать симптомов:\n"
      ]
    },
    {
      "cell_type": "code",
      "source": [
        "rubl_test = 1400\n",
        "rubl_early_treatment = 15000\n",
        "rubl_late_treatment = 20000"
      ],
      "metadata": {
        "id": "Bnfn3FaGQu8p"
      },
      "execution_count": 47,
      "outputs": []
    },
    {
      "cell_type": "markdown",
      "source": [
        "### Задание 3\n",
        "<p> Вывести сравнение полученных моделей по метрикам бизнеса по показателям с урока:\n",
        "<ul>\n",
        "<li> стоимость лечения 15000р, если сделали тест и начали лечить вовремя </li>\n",
        "<li>стоимость лечения 20000р, если упустили и начали лечить когда уже проявились все симптомы </li>\n",
        "<li>стоимость теста 1400р </li>\n",
        "</ul>\n",
        "</p>"
      ],
      "metadata": {
        "id": "WdJW3tYYPflh"
      }
    },
    {
      "cell_type": "markdown",
      "source": [
        "Расчет экономического эффекта тажке обернем в функцию"
      ],
      "metadata": {
        "id": "1Y5GM3YUHFW8"
      }
    },
    {
      "cell_type": "code",
      "source": [
        "def fin_results( cnf_metrics, rubl_test, rubl_early_treatment, rubl_late_treatment):\n",
        "    \"\"\"\n",
        "    Проводит сравнение экономического эффекта от применения модели ML и без его применения\n",
        "    \"\"\"\n",
        "    rubl_1 = (cnf_metrics['FN'] + cnf_metrics['TP']) * rubl_late_treatment\n",
        "    print('расходы, если не делать тест и ждать симптомов:', rubl_1)\n",
        "\n",
        "    rubl_test_all = np.sum(cnf_metrics['cnf_mat']) * rubl_test + (cnf_metrics['FN'] + cnf_metrics['TP']) * rubl_early_treatment\n",
        "    print('расходы, если делать тест всем и лечить группу большых:', rubl_test_all)\n",
        "\n",
        "    rubl_ML = (cnf_metrics['FP'] + cnf_metrics['TP']) * rubl_test + cnf_metrics['FN'] * rubl_late_treatment + cnf_metrics['TP']* rubl_early_treatment\n",
        "    print('расходы, если использовать МЛ:', rubl_ML)\n",
        "\n",
        "    print('+'*60, '\\n')\n",
        "    print('Расходы \"решение не делать тесты - расходы с МL:\"', rubl_1 - rubl_ML)\n",
        "    print('Расходы \"решение не делать тесты - расходы сделать тесты всем\":', rubl_1 - rubl_test_all)\n",
        "    print('Расходы \"сделать тесты всем - решение делать тесты ML\":', rubl_test_all - rubl_ML)\n",
        "    return\n",
        "\n"
      ],
      "metadata": {
        "id": "NTGv-mYiHN8y"
      },
      "execution_count": 46,
      "outputs": []
    },
    {
      "cell_type": "markdown",
      "source": [
        "Экономический эффект при применении KNN"
      ],
      "metadata": {
        "id": "_JNmdH6VL8R6"
      }
    },
    {
      "cell_type": "code",
      "source": [
        "fin_results(KNN_cnf, rubl_test, rubl_early_treatment, rubl_late_treatment)"
      ],
      "metadata": {
        "colab": {
          "base_uri": "https://localhost:8080/"
        },
        "id": "u2vhHNORMBmS",
        "outputId": "e157b67f-122a-4afb-f3c2-b8099e2cf54f"
      },
      "execution_count": 48,
      "outputs": [
        {
          "output_type": "stream",
          "name": "stdout",
          "text": [
            "расходы, если не делать тест и ждать симптомов: 173600000\n",
            "расходы, если делать тест всем и лечить группу большых: 154700000\n",
            "расходы, если использовать МЛ: 158249000\n",
            "++++++++++++++++++++++++++++++++++++++++++++++++++++++++++++ \n",
            "\n",
            "Расходы \"решение не делать тесты - расходы с МL:\" 15351000\n",
            "Расходы \"решение не делать тесты - расходы сделать тесты всем\": 18900000\n",
            "Расходы \"сделать тесты всем - решение делать тесты ML\": -3549000\n"
          ]
        }
      ]
    },
    {
      "cell_type": "markdown",
      "source": [
        "Получается использовать модель KNN экономически не выгодно. Так как легче провести тестирование всей популяции чем полагаться на полученную модель."
      ],
      "metadata": {
        "id": "TQfBaZW-Mwd1"
      }
    },
    {
      "cell_type": "markdown",
      "source": [
        "Экономический эффект при применении RandomForest"
      ],
      "metadata": {
        "id": "rw0EBM9mNW8d"
      }
    },
    {
      "cell_type": "code",
      "source": [
        "fin_results(RF_cnf, rubl_test, rubl_early_treatment, rubl_late_treatment)"
      ],
      "metadata": {
        "colab": {
          "base_uri": "https://localhost:8080/"
        },
        "id": "UzUfQKz-Nfdn",
        "outputId": "ae82d477-d3de-495f-e0c4-7b3c977cfc8a"
      },
      "execution_count": 49,
      "outputs": [
        {
          "output_type": "stream",
          "name": "stdout",
          "text": [
            "расходы, если не делать тест и ждать симптомов: 173600000\n",
            "расходы, если делать тест всем и лечить группу большых: 154700000\n",
            "расходы, если использовать МЛ: 153905400\n",
            "++++++++++++++++++++++++++++++++++++++++++++++++++++++++++++ \n",
            "\n",
            "Расходы \"решение не делать тесты - расходы с МL:\" 19694600\n",
            "Расходы \"решение не делать тесты - расходы сделать тесты всем\": 18900000\n",
            "Расходы \"сделать тесты всем - решение делать тесты ML\": 794600\n"
          ]
        }
      ]
    },
    {
      "cell_type": "markdown",
      "source": [
        "Применение модели Случайных лесов уже дает экономический эффект по сравнению с поголовным тестированием или лечением больных с симптомами. Тестирование людей, определенных моделью выгоднее тестирования популяции на 794600 рублей."
      ],
      "metadata": {
        "id": "CZHtFaPINswR"
      }
    },
    {
      "cell_type": "markdown",
      "source": [
        "Экономический эффект при применении LightGBM"
      ],
      "metadata": {
        "id": "K8M2Wko9OjFv"
      }
    },
    {
      "cell_type": "markdown",
      "source": [
        "### Задание 4\n",
        "<p> Сделать выводы о том, какая модель справилась с задачей лучше других</p>"
      ],
      "metadata": {
        "id": "HTZfi4n4QIJI"
      }
    },
    {
      "cell_type": "code",
      "source": [
        "fin_results(LGBM_cnf, rubl_test, rubl_early_treatment, rubl_late_treatment)"
      ],
      "metadata": {
        "colab": {
          "base_uri": "https://localhost:8080/"
        },
        "id": "yavJCvs0OiHT",
        "outputId": "b9b5bdb2-1e52-4962-fd3e-07f63932675d"
      },
      "execution_count": 50,
      "outputs": [
        {
          "output_type": "stream",
          "name": "stdout",
          "text": [
            "расходы, если не делать тест и ждать симптомов: 173600000\n",
            "расходы, если делать тест всем и лечить группу большых: 154700000\n",
            "расходы, если использовать МЛ: 152702200\n",
            "++++++++++++++++++++++++++++++++++++++++++++++++++++++++++++ \n",
            "\n",
            "Расходы \"решение не делать тесты - расходы с МL:\" 20897800\n",
            "Расходы \"решение не делать тесты - расходы сделать тесты всем\": 18900000\n",
            "Расходы \"сделать тесты всем - решение делать тесты ML\": 1997800\n"
          ]
        }
      ]
    },
    {
      "cell_type": "markdown",
      "source": [
        "Модель градиентного бустинга оказалась нетолько более эффективной по DS метрикам, но и за счет больших значений precision и recall позволяет эффективнее проводить тестирование и снижать затраты на бесполезные тесты. Экономический эффект по-сравнению с поголовным тестированием 1 млн. 998 тыс."
      ],
      "metadata": {
        "id": "KUaDRhswOxlh"
      }
    },
    {
      "cell_type": "markdown",
      "source": [
        ""
      ],
      "metadata": {
        "id": "Y_RkYvyRPYne"
      }
    },
    {
      "cell_type": "markdown",
      "source": [
        "\n",
        "\n",
        "Метрика по деньгам : получить меньше расходов чем при полном тесте"
      ],
      "metadata": {
        "id": "UDKtpiI6RCxU"
      }
    },
    {
      "cell_type": "code",
      "source": [
        "def business_threshold_calibrate(y_test, y_score, thresholds,\n",
        "                                 rubl_test=100, rubl_early_treatment=100, rubl_late_treatment=1000):\n",
        "    business_threshold = 0\n",
        "    r_test_all_r_ML_ = 0\n",
        "\n",
        "    rubl_ML_ = 1_000_000_000 \n",
        "\n",
        "    rs = []\n",
        "    n = 20\n",
        "    for opt_buisness_tr in np.linspace(0, 1, n).tolist():\n",
        "        # подберем порог для улучшения бизнесс показателя\n",
        "\n",
        "        cnf_matrix = confusion_matrix(y_test, y_score > (opt_buisness_tr))\n",
        "        TN = cnf_matrix[0][0]\n",
        "        FN = cnf_matrix[1][0]\n",
        "        TP = cnf_matrix[1][1]\n",
        "        FP = cnf_matrix[0][1]\n",
        "\n",
        "        rubl_1 = (TP + FN) * rubl_late_treatment\n",
        "        rubl_test_all = np.sum(cnf_matrix) * rubl_test + (FN + TP) * rubl_early_treatment\n",
        "        rubl_ML = (TP + FP) * rubl_test + FN * rubl_late_treatment + TP * rubl_early_treatment\n",
        "        \n",
        "        r_test_all_r_ML = rubl_test_all - rubl_ML \n",
        "        \n",
        "        if rubl_ML < rubl_ML_:            \n",
        "            business_threshold = opt_buisness_tr\n",
        "            \n",
        "            rubl_ML_ = rubl_ML\n",
        "            \n",
        "        rs.append(rubl_ML)   \n",
        "            \n",
        "    \n",
        "    print('расходы, если не делать тест и ждать симптомов:', rubl_1)\n",
        "    print('расходы, если делать тест всем и лечить группу больных:', rubl_test_all)\n",
        "    print('расходы, если использовать МЛ:', rubl_ML_)\n",
        "\n",
        "    print('Расходы \"решение не делать тесты - расходы с МL:\"', rubl_1 - rubl_ML_)\n",
        "    print('Расходы \"решение не делать тесты - расходы сделать тесты всем\":', rubl_1 - rubl_test_all)\n",
        "    print('Расходы \"сделать тесты всем - решение делать тесты ML\":', rubl_test_all - rubl_ML_)\n",
        "    \n",
        "    plt.title('Потери при МЛ решении')\n",
        "    plt.xlabel('Отсечка')\n",
        "    plt.ylabel('Потери')\n",
        "    plt.plot(np.linspace(0,1,n), rs)\n",
        "    plt.show()\n",
        "    return business_threshold"
      ],
      "metadata": {
        "id": "wUdTFxtaRFOn"
      },
      "execution_count": 51,
      "outputs": []
    },
    {
      "cell_type": "markdown",
      "source": [
        "### Задание 5\n",
        "<p>*Найти порог классификации по деньгам для лучшей модели\n",
        "\n",
        "    Стоимость лечения 15000р, если сделали тест и начали лечить вовремя\n",
        "    Стоимость лечения 20000р, если упустили и начали лечить когда уже проявились все симптомы\n",
        "    Стоимость теста 1400р\n",
        " </p>"
      ],
      "metadata": {
        "id": "dET32-bkU-PD"
      }
    },
    {
      "cell_type": "code",
      "source": [
        "# изменим вызов функции для расчетом по результатам LightGBM\n",
        "busines_tr = business_threshold_calibrate(y_test,y_LGBM_score, \n",
        "                                          res.BestTreshold.loc['LightGBM'],\n",
        "                                          rubl_test=1400, \n",
        "                                          rubl_early_treatment=15000, \n",
        "                                          rubl_late_treatment=20000)\n",
        "\n",
        "print('уровень порога по бизнес метрике', busines_tr)\n",
        "print('уровень порога по f1 метрике', res.BestTreshold.loc['LightGBM'])"
      ],
      "metadata": {
        "colab": {
          "base_uri": "https://localhost:8080/",
          "height": 448
        },
        "id": "Melr9xD4RGw8",
        "outputId": "87e69592-4361-4d3a-fe34-5e52afb63632"
      },
      "execution_count": 52,
      "outputs": [
        {
          "output_type": "stream",
          "name": "stdout",
          "text": [
            "расходы, если не делать тест и ждать симптомов: 173600000\n",
            "расходы, если делать тест всем и лечить группу больных: 154700000\n",
            "расходы, если использовать МЛ: 152419200\n",
            "Расходы \"решение не делать тесты - расходы с МL:\" 21180800\n",
            "Расходы \"решение не делать тесты - расходы сделать тесты всем\": 18900000\n",
            "Расходы \"сделать тесты всем - решение делать тесты ML\": 2280800\n"
          ]
        },
        {
          "output_type": "display_data",
          "data": {
            "text/plain": [
              "<Figure size 432x288 with 1 Axes>"
            ],
            "image/png": "[encoded data removed]"
          },
          "metadata": {
            "needs_background": "light"
          }
        },
        {
          "output_type": "stream",
          "name": "stdout",
          "text": [
            "уровень порога по бизнес метрике 0.2631578947368421\n",
            "уровень порога по f1 метрике 0.3556466453103432\n"
          ]
        }
      ]
    },
    {
      "cell_type": "markdown",
      "source": [
        "Оптимизация порога вероятностей для модели LGBM позволила значительно увеличить ожидаемый финансовый результат с 1,9 млн. рублей до почти 2,3 млн. рублей для тестовой выборки. Причем для бизнес метрики \"выгодние\" еще сильнее снижать отсечку для повышения recall"
      ],
      "metadata": {
        "id": "Nmnbdh6ASH83"
      }
    },
    {
      "cell_type": "code",
      "source": [
        "LGBM_cnf2 = cnf_metrics(y_test, y_LGBM_score > 0.2631578947368421)\n",
        "print(LGBM_cnf2)\n",
        "show_matrix(y_test, y_LGBM_score > 0.2631578947368421, classes = ['cardio_0', 'cardio_1'],\n",
        "            title  = 'Матрица соответствия LightGBM')"
      ],
      "metadata": {
        "colab": {
          "base_uri": "https://localhost:8080/",
          "height": 375
        },
        "id": "XqDas5N0S2LX",
        "outputId": "099eeeb6-b651-47c1-9da9-620a87c9a892"
      },
      "execution_count": 53,
      "outputs": [
        {
          "output_type": "stream",
          "name": "stdout",
          "text": [
            "True positive rate 0.9091013824884793, False positive rate 0.5852607709750567, True negative rate 0.4147392290249433\n",
            "{'TN': 3658, 'FN': 789, 'TP': 7891, 'FP': 5162, 'cnf_mat': array([[3658, 5162],\n",
            "       [ 789, 7891]])}\n"
          ]
        },
        {
          "output_type": "display_data",
          "data": {
            "text/plain": [
              "<Figure size 432x288 with 2 Axes>"
            ],
            "image/png": "[encoded data removed]"
          },
          "metadata": {
            "needs_background": "light"
          }
        },
        {
          "output_type": "display_data",
          "data": {
            "text/plain": [
              "<Figure size 576x576 with 0 Axes>"
            ]
          },
          "metadata": {}
        }
      ]
    },
    {
      "cell_type": "code",
      "source": [
        "print(classification_report(y_test, y_LGBM_score > 0.2631578947368421))\n"
      ],
      "metadata": {
        "colab": {
          "base_uri": "https://localhost:8080/"
        },
        "id": "IE78-msiTXtO",
        "outputId": "9e5d5c33-a708-4f06-87f0-501f15695568"
      },
      "execution_count": 56,
      "outputs": [
        {
          "output_type": "stream",
          "name": "stdout",
          "text": [
            "              precision    recall  f1-score   support\n",
            "\n",
            "           0       0.82      0.41      0.55      8820\n",
            "           1       0.60      0.91      0.73      8680\n",
            "\n",
            "    accuracy                           0.66     17500\n",
            "   macro avg       0.71      0.66      0.64     17500\n",
            "weighted avg       0.71      0.66      0.64     17500\n",
            "\n"
          ]
        }
      ]
    },
    {
      "cell_type": "markdown",
      "source": [
        "Действительно, порог по бизнесовой метрикие увеличил показатель recall до 91%, против 83% для DS-метрики. Для данной бизнес задачи оказалось эффективнее пожертвовать точностью распознавания целевого класса с 67% до до 60%, поскольку стоиомсть обследования значительно меньше последствий развития заболевания.\n"
      ],
      "metadata": {
        "id": "lqpBQ5iCT2-7"
      }
    }
  ]
}