{
  "cells": [
    {
      "cell_type": "markdown",
      "metadata": {
        "id": "view-in-github",
        "colab_type": "text"
      },
      "source": [
        "<a href=\"https://colab.research.google.com/github/Segrey372017/gb_ML_in_business/blob/main/Lesson_6.ipynb\" target=\"_parent\"><img src=\"https://colab.research.google.com/assets/colab-badge.svg\" alt=\"Open In Colab\"/></a>"
      ]
    },
    {
      "cell_type": "markdown",
      "metadata": {
        "id": "XWHlmmzgFs0r"
      },
      "source": [
        "# Урок 6. Задача lookalike (Positive Unlabeled Learning)#"
      ]
    },
    {
      "cell_type": "markdown",
      "metadata": {
        "id": "6b2T16VXFs2U"
      },
      "source": [
        "<img src='https://drive.google.com/uc?export=view&id=1tgPJoFNVVULBpB8DcT2O0AYnSgZolbEH'>"
      ]
    },
    {
      "cell_type": "markdown",
      "source": [
        "Пример задачи - один клиент в магазине не купил корм для кошек, но если мы ему скажем о корме, может ли он его купить?"
      ],
      "metadata": {
        "id": "vYRBZQlcK9ke"
      }
    },
    {
      "cell_type": "markdown",
      "metadata": {
        "id": "O4U1ECdrFs0z"
      },
      "source": [
        "Программа урока:\n",
        "1. Теоретическая часть:\n",
        "\n",
        "     - Задача обучения с учителем (повторение)\n",
        "     - Примеры кейсов, когда разметка содержит только наблюдения положительного класса\n",
        "     - Какие задачи не относятся к lookalike\n",
        "\n",
        "\n",
        "2. Практическая часть\n",
        "    - Метод решения random negative sampling\n",
        "    - Метод 2-step approach\n",
        "    - Метод spy\n",
        "    - Сравнение методов между собой на датасете, для которого метки известны\n",
        "    - Сравнение лучшего метода с моделью, построенной на данных, для которых известны метки всех классов"
      ]
    },
    {
      "cell_type": "markdown",
      "metadata": {
        "id": "OmL_5Vd4Fs06"
      },
      "source": [
        "<img src='https://drive.google.com/uc?export=view&id=1EqTtbS848-pfoWA-MTV8scVmbYyoB0Sy' width=800>"
      ]
    },
    {
      "cell_type": "markdown",
      "metadata": {
        "id": "itk6NZ8zFs0-"
      },
      "source": [
        "Т.е в \"стандартной\" постановке задачи обучения с учителем у нас есть разметка.\n",
        "\n",
        "Например, если мы решаем задачу бинарной классификации, то у нас есть объекты с метками обоих классов (positive/negative)."
      ]
    },
    {
      "cell_type": "markdown",
      "metadata": {
        "id": "tLZ9E4UeFs1l"
      },
      "source": [
        "На практике часто бывает так, что мы сравнительно легко можем определить объекты одного класса (дпопустим, мы легко понимаем, какие объекты можно назвать положительными), но при этом возникают сложности с определением объектов другого класса (негативы)."
      ]
    },
    {
      "cell_type": "markdown",
      "metadata": {
        "id": "SQLShPwYFs2H"
      },
      "source": [
        "<img src='https://drive.google.com/uc?export=view&id=1begp9Rz9FI0DZ1Ff_jmcYRlYsK9SIXHB'>"
      ]
    },
    {
      "cell_type": "markdown",
      "metadata": {
        "id": "1KDoAlAPFs1z"
      },
      "source": [
        "Примеры задач:\n",
        "\n",
        "- Продвижение услуг и приложений\n",
        "- Выделение сегмента пользователей, которые совершат нужное нам целевое действие"
      ]
    },
    {
      "cell_type": "markdown",
      "metadata": {
        "id": "QH1BGob4Fs2N"
      },
      "source": [
        "<img src='https://drive.google.com/uc?export=view&id=1FoFble2hEnexFOpIbQWyMheFv92Tlieh'>\n",
        "\n",
        "a) Выделяем только группу позитивно размеченного класса. Хорошей похожести вряд ли найдем, т.к. ищем похожих только в одной группе\n",
        "\n",
        "b) Строим более интересную границу, чтобы обобщить неразмеченные объекты и интерпретировать их не как отрицание, а как положительный объект."
      ]
    },
    {
      "cell_type": "markdown",
      "metadata": {
        "id": "qSnZI10xFs2P"
      },
      "source": [
        "### Более формальное описание задачи"
      ]
    },
    {
      "cell_type": "markdown",
      "metadata": {
        "id": "Ytmpp5y_Fs2R"
      },
      "source": [
        "1. оценивается вероятность того, что пользователь совершит некоторое целевое действие (приобретение подписки, установка или регистрация в приложении и т.д)\n",
        "2. У нас есть только те, кто совершил это действие - это positives. При этом нет определения того, что такое negative. Все, кроме P - Unlabeled (U)\n",
        "3. Нам нужно как-то собрать выборку и обучить модель, которая будет отличать P от N \n"
      ]
    },
    {
      "cell_type": "markdown",
      "metadata": {
        "id": "MXdqea-gFs2b"
      },
      "source": [
        "Обучение на PU данных нетривиально. Существует 2 возможных объяснения, почему конкретный объект не имеет метки класса:\n",
        "1. это объект класса 0 (True negative)\n",
        "2. это объект класса 1, но просто неразмеченный"
      ]
    },
    {
      "cell_type": "markdown",
      "metadata": {
        "id": "eT4nzNw1Fs2c"
      },
      "source": [
        "## PU learning (варианты решения)\n",
        "\n",
        "\n",
        "1. Random negative sampling\n",
        "2. 2-step approach\n",
        "3. SPY\n",
        "4. … (много других)"
      ]
    },
    {
      "cell_type": "markdown",
      "metadata": {
        "id": "UqRt6V5RFs2k"
      },
      "source": [
        "### 1. Random negative sampling\n",
        "\n",
        "Другое название random negative sampling -> The Selected Completely At Random (SCAR)\n",
        "\n",
        "- Семплируем подможножество из U и присваиваем им метку 0 (множество N)\n",
        "- Строим бинарный классификатор, который учится различать N от P\n",
        "- Используем полученный классификатор без дополнительных телодвижений\n",
        "\n",
        "\n",
        "Здесь не можем строить точную модель, т.к. не уверены в своем множестве N, так что нужно позволить модели ошибаться."
      ]
    },
    {
      "cell_type": "markdown",
      "metadata": {
        "id": "DSu4LHlRFs22"
      },
      "source": [
        "- random negative sampling основан на предположении, что размеченные данные являются независимыми и одинаково распределенными\n",
        "- random negative sampling очень популярен, но главным образом благодаря тому, что проблема в итоге сводится к задаче бинарной классификации"
      ]
    },
    {
      "cell_type": "markdown",
      "metadata": {
        "id": "LdGFtQDtFs26"
      },
      "source": [
        "Ниже на картинке пример, если размеченные данные (Labeled Positive) выбраны независимо и равновероятно из генеральной совокупности (множества всех позитивов - Unlabeled Positive)\n",
        "\n",
        "<img src='https://drive.google.com/uc?export=view&id=1iLurg0reVcqyb1UJqnQDVLY2vk9az6jo' width=600>"
      ]
    },
    {
      "cell_type": "markdown",
      "metadata": {
        "id": "j8H69sxKFs28"
      },
      "source": [
        "Ниже на картинке пример, где мы уже видим, что семплирование смещено. \n",
        "\n",
        "<img src='https://drive.google.com/uc?export=view&id=17vzbOt7QrAEA2AN6lAVTkE4p36TEfFPC' width=600>"
      ]
    },
    {
      "cell_type": "markdown",
      "source": [
        "RNS - одностадийный и слишком простой."
      ],
      "metadata": {
        "id": "gJyLj9w2UGXs"
      }
    },
    {
      "cell_type": "markdown",
      "metadata": {
        "id": "TRILgiISFs2m"
      },
      "source": [
        "### 2-step approach"
      ]
    },
    {
      "cell_type": "markdown",
      "metadata": {
        "id": "xmh-CaCKFs2o"
      },
      "source": [
        "<img src='https://drive.google.com/uc?export=view&id=1KQKwTm_Wx68SLal456Bk8oVMtgkgsRjf' width=600>"
      ]
    },
    {
      "cell_type": "markdown",
      "metadata": {
        "id": "HxEoxstFFs2q"
      },
      "source": [
        "#### Или словами:"
      ]
    },
    {
      "cell_type": "markdown",
      "metadata": {
        "id": "58c41fSHFs2r"
      },
      "source": [
        "1. определяем RN (reliable negatives) (по факту это делаем шаг Random Negative Sampling'a).\n",
        "2. Используем метод обучения с учителем для обучения классификатора на P, RN\n",
        "3. Сделаем предсказание этой моделью на всем множестве U, проскорим и выберем топ объектов, которые вероятней всего принадлежат множеству N.\n",
        "4. Обучаем еще раз модель на P и проскоренных N из RN.\n",
        "5. Можно повторять шаги несколько раз."
      ]
    },
    {
      "cell_type": "markdown",
      "metadata": {
        "id": "0uHLXIWPFs2w"
      },
      "source": [
        "### 3. Алгоритм Spy\n",
        "\n",
        "\n",
        "<img src='https://drive.google.com/uc?export=view&id=1MYczAPDN0rlCyvf2fFS4_KaytGHreTGt'>\n",
        "\n",
        "- Семплируем множество S из P и помещаем их в U\n",
        "- S - это шпионы (позитивные примеры)\n",
        "- Обучение классификатор на P-S (метка 1) и UuS (метка 0)\n",
        "- Смотрим, какие вероятности получили элементы S, чтобы определить порог для выбора RN (надежные негативы)\n"
      ]
    },
    {
      "cell_type": "markdown",
      "metadata": {
        "id": "-RSeyQ_jFs2-"
      },
      "source": [
        "### Разметить все неразмеченные данные как Negatives\n",
        "\n",
        "Но конечно такой метод на практике почти не используется, хотя и очень прост и понятен."
      ]
    },
    {
      "cell_type": "markdown",
      "metadata": {
        "id": "ConIOowrFs3E"
      },
      "source": [
        "## Пример 1"
      ]
    },
    {
      "cell_type": "markdown",
      "metadata": {
        "id": "7ONQErfoFs3F"
      },
      "source": [
        "1. сгенерируем игрушечный датасет из двух множеств так, чтобы они немного пересекались с помощью https://scikit-learn.org/stable/modules/generated/sklearn.datasets.make_blobs.html#sklearn.datasets.make_blobs"
      ]
    },
    {
      "cell_type": "code",
      "execution_count": null,
      "metadata": {
        "id": "wYnI2_MhFs3H"
      },
      "outputs": [],
      "source": [
        "from __future__ import division, print_function\n",
        "import numpy as np\n",
        "%matplotlib inline\n",
        "import matplotlib.pylab as plt\n",
        "from sklearn.datasets import make_blobs\n",
        "from sklearn.tree import DecisionTreeClassifier\n",
        "from sklearn.metrics import precision_recall_curve"
      ]
    },
    {
      "cell_type": "markdown",
      "metadata": {
        "id": "emfC0JP4Fs3L"
      },
      "source": [
        "2. Нарисуем график с нашими и данными. Часть данных (250 примеров) размечена как позитивы, остальные - неразмечены"
      ]
    },
    {
      "cell_type": "code",
      "execution_count": null,
      "metadata": {
        "id": "70Oeb_DvFs3N",
        "outputId": "823323d5-32b9-43ad-c0e7-233d9529412d",
        "colab": {
          "base_uri": "https://localhost:8080/",
          "height": 418
        }
      },
      "outputs": [
        {
          "output_type": "stream",
          "name": "stdout",
          "text": [
            "labeled samples: 250\n"
          ]
        },
        {
          "output_type": "display_data",
          "data": {
            "text/plain": [
              "<Figure size 720x468 with 1 Axes>"
            ],
            "image/png": "[encoded data removed]"
          },
          "metadata": {
            "needs_background": "light"
          }
        }
      ],
      "source": [
        "N = 5000\n",
        "known_labels_ratio = 0.1\n",
        "X, y = make_blobs(n_samples=N, centers=2, \n",
        "                  n_features=2, shuffle=True, \n",
        "                  cluster_std=2,\n",
        "                #   cluster_std=5,\n",
        "                  random_state=42)\n",
        "\n",
        "rp = np.random.permutation(int(N/2))\n",
        "\n",
        "data_P = X[y == 1][rp[:int(len(rp) * known_labels_ratio)]]\n",
        "\n",
        "data_U = np.concatenate(\n",
        "    (X[y == 1][rp[int(len(rp) * known_labels_ratio):]], X[y == 0]),\n",
        "    axis=0)\n",
        "\n",
        "print(f\"labeled samples: {data_P.shape[0]}\")\n",
        "\n",
        "plt.figure(figsize=(10, 6.5))\n",
        "plt.scatter(data_U[:, 0], data_U[:, 1], c='k', marker='.', lw=1, s=1, alpha=0.5, label='Unlabeled')\n",
        "plt.scatter(data_P[:, 0], data_P[:, 1], c='b', marker='o', lw=0, s=20, alpha=0.5, label='Positive')\n",
        "plt.grid()\n",
        "plt.legend();"
      ]
    },
    {
      "cell_type": "markdown",
      "metadata": {
        "id": "oJuGiFLSFs3S"
      },
      "source": [
        "3. Обучим 1000 деревьев решений, используя bagging\n",
        "4. Предсказания делаем oob (out-of-the-bag) и затем для каждого примера мы все прогнозы усредняем"
      ]
    },
    {
      "cell_type": "markdown",
      "metadata": {
        "id": "m9P_C2mWFs3U"
      },
      "source": [
        "Что такое bagging (ссылка - https://en.wikipedia.org/wiki/Bootstrap_aggregating)"
      ]
    },
    {
      "cell_type": "markdown",
      "metadata": {
        "id": "kymZHaC2Fs3W"
      },
      "source": [
        "<img src='https://drive.google.com/uc?export=view&id=1Qcpg4-KWmDV8hL_DKdULd5580bQETaoy'>"
      ]
    },
    {
      "cell_type": "code",
      "execution_count": null,
      "metadata": {
        "id": "JAqRwapTFs3W"
      },
      "outputs": [],
      "source": [
        "NP = data_P.shape[0]\n",
        "NU = data_U.shape[0]\n",
        "\n",
        "num_trees = 1000\n",
        "train_label = np.zeros(shape=(NP+NP,))\n",
        "train_label[:NP] = 1.0\n",
        "n_oob = np.zeros(shape=(NU,))\n",
        "f_oob = np.zeros(shape=(NU, 2))\n",
        "\n",
        "for i in range(num_trees):\n",
        "    # Bootstrap resample\n",
        "    bootstrap_sample = np.random.choice(np.arange(NU), replace=True, size=NP)\n",
        "    \n",
        "    # Positive set + bootstrapped unlabeled set\n",
        "    data_bootstrap = np.concatenate((data_P, data_U[bootstrap_sample, :]), axis=0)\n",
        "\n",
        "    # Train model\n",
        "    model = DecisionTreeClassifier(class_weight='balanced')\n",
        "    model.fit(data_bootstrap, train_label)\n",
        "    \n",
        "    # Index for the out of the bag (oob) samples\n",
        "    idx_oob = sorted(set(range(NU)) - set(np.unique(bootstrap_sample)))\n",
        "    \n",
        "    # Transductive learning of oob samples\n",
        "    f_oob[idx_oob] += model.predict_proba(data_U[idx_oob])\n",
        "    n_oob[idx_oob] += 1\n",
        "\n",
        "predict_proba = f_oob[:, 1] / n_oob"
      ]
    },
    {
      "cell_type": "markdown",
      "metadata": {
        "id": "GVy2gDrDFs3Y"
      },
      "source": [
        "5. наконец, посчитаем Precision, Recall и оптимальный порог и посмотрим, как наш алгоритм справился (ведь мы для наших данных знаем реальные метки классов)"
      ]
    },
    {
      "cell_type": "code",
      "execution_count": null,
      "metadata": {
        "id": "1PsEXAeRFs3Z",
        "outputId": "352a85e7-6e4a-424b-d4cd-25c98d047cc6",
        "colab": {
          "base_uri": "https://localhost:8080/",
          "height": 279
        }
      },
      "outputs": [
        {
          "output_type": "display_data",
          "data": {
            "text/plain": [
              "<Figure size 864x288 with 3 Axes>"
            ],
            "image/png": "[encoded data removed]"
          },
          "metadata": {
            "needs_background": "light"
          }
        }
      ],
      "source": [
        "# Plot the class probabilities for the unlabeled samples\n",
        "fig = plt.figure(figsize=(12, 4))\n",
        "ax1 = fig.add_subplot(1, 2, 1)\n",
        "sp= ax1.scatter(data_U[:, 0], data_U[:, 1], c=predict_proba, \n",
        "                lw=0, s=5, alpha=0.5, cmap=plt.cm.plasma, label='unlabeled')\n",
        "plt.grid()\n",
        "plt.colorbar(sp, label='Class probability on Unlabeled set')\n",
        "\n",
        "true_labels = np.zeros(shape=(data_U.shape[0]))\n",
        "true_labels[:int(len(rp) * (1.0 - known_labels_ratio))] = 1.0\n",
        "\n",
        "precision, recall, th = precision_recall_curve(true_labels, predict_proba)\n",
        "ax2 = fig.add_subplot(1, 2, 2)\n",
        "f1s = precision[:-1] * recall[:-1]\n",
        "ax2.plot(th, f1s, lw=2, alpha=0.5)\n",
        "\n",
        "best_th = np.argmax(f1s)\n",
        "ax2.plot(th[best_th], f1s[best_th], c='r', marker='o')\n",
        "ax2.plot([th[best_th], th[best_th]], [0.0,f1s[best_th] ], 'r--')\n",
        "ax2.plot([0.0, th[best_th]], [f1s[best_th], f1s[best_th] ], 'r--')\n",
        "ax2.annotate(f'Pre: {precision[best_th]:.3f}, Rec: {recall[best_th]:.3f}', \n",
        "             xy=(th[best_th]+ 0.01, f1s[best_th]-0.05))\n",
        "ax2.set_ylabel('F1 score')\n",
        "ax2.set_xlabel('Probability threshold')\n",
        "plt.grid()\n"
      ]
    },
    {
      "cell_type": "markdown",
      "metadata": {
        "id": "wv7bNCLqFs3c"
      },
      "source": [
        "Видим, что наши данные очень неплохо разделяются и хорошие показатели pr/rec.\n",
        "\n",
        "Получившуюся модель можно использовать больше даже никак конечная модель, а как инструмент разметки нашей базы."
      ]
    },
    {
      "cell_type": "markdown",
      "metadata": {
        "id": "1KZMnsrfFs3f"
      },
      "source": [
        "## Пример 2"
      ]
    },
    {
      "cell_type": "markdown",
      "metadata": {
        "id": "EYpaEZzYFs3g"
      },
      "source": [
        "Есть аудитория магазина и покупки за некоторый период\n",
        "\n",
        "Датасет предметов (товаров):"
      ]
    },
    {
      "cell_type": "code",
      "source": [
        "!wget 'https://drive.google.com/uc?export=download&id=1TRYfDdFMHrSS6HT4anx_b9P2hxUDsvxt' -O items.csv"
      ],
      "metadata": {
        "id": "3mxCxVoxJkE4",
        "colab": {
          "base_uri": "https://localhost:8080/"
        },
        "outputId": "c9c082a6-7fed-4a05-f58d-2f5e5321fadb"
      },
      "execution_count": null,
      "outputs": [
        {
          "output_type": "stream",
          "name": "stdout",
          "text": [
            "--2022-04-06 16:37:35--  https://drive.google.com/uc?export=download&id=1TRYfDdFMHrSS6HT4anx_b9P2hxUDsvxt\n",
            "Resolving drive.google.com (drive.google.com)... 108.177.125.101, 108.177.125.139, 108.177.125.113, ...\n",
            "Connecting to drive.google.com (drive.google.com)|108.177.125.101|:443... connected.\n",
            "HTTP request sent, awaiting response... 303 See Other\n",
            "Location: https://doc-14-c0-docs.googleusercontent.com/docs/securesc/ha0ro937gcuc7l7deffksulhg5h7mbp1/l0ie74qi5trh2tbo7v45rnd9c9ta4knf/1649263050000/14904333240138417226/*/1TRYfDdFMHrSS6HT4anx_b9P2hxUDsvxt?e=download [following]\n",
            "Warning: wildcards not supported in HTTP.\n",
            "--2022-04-06 16:37:36--  https://doc-14-c0-docs.googleusercontent.com/docs/securesc/ha0ro937gcuc7l7deffksulhg5h7mbp1/l0ie74qi5trh2tbo7v45rnd9c9ta4knf/1649263050000/14904333240138417226/*/1TRYfDdFMHrSS6HT4anx_b9P2hxUDsvxt?e=download\n",
            "Resolving doc-14-c0-docs.googleusercontent.com (doc-14-c0-docs.googleusercontent.com)... 142.251.8.132, 2404:6800:4008:c15::84\n",
            "Connecting to doc-14-c0-docs.googleusercontent.com (doc-14-c0-docs.googleusercontent.com)|142.251.8.132|:443... connected.\n",
            "HTTP request sent, awaiting response... 200 OK\n",
            "Length: 1624576 (1.5M) [text/csv]\n",
            "Saving to: ‘items.csv’\n",
            "\n",
            "items.csv           100%[===================>]   1.55M  --.-KB/s    in 0.02s   \n",
            "\n",
            "2022-04-06 16:37:37 (101 MB/s) - ‘items.csv’ saved [1624576/1624576]\n",
            "\n"
          ]
        }
      ]
    },
    {
      "cell_type": "code",
      "execution_count": null,
      "metadata": {
        "id": "lq7FqZU-Fs3h",
        "outputId": "6333115d-0450-49c0-9b2d-2569ea9a76d0",
        "colab": {
          "base_uri": "https://localhost:8080/",
          "height": 178
        }
      },
      "outputs": [
        {
          "output_type": "stream",
          "name": "stdout",
          "text": [
            "Num unique items: 10237\n",
            "Num unique categories: 10\n"
          ]
        },
        {
          "output_type": "execute_result",
          "data": {
            "text/plain": [
              "                                                Name  \\\n",
              "0                    зубная паста лакалют актив 75мл   \n",
              "1                 зубная паста лакалют сенситив 75мл   \n",
              "2  зубная паста лесной бальзам ромашка и облепиха...   \n",
              "\n",
              "                     item_category      item_brand item_weight     item_type  \n",
              "0  Красота, гигиена, бытовая химия           splat        75мл  зубная паста  \n",
              "1  Красота, гигиена, бытовая химия           splat        75мл  зубная паста  \n",
              "2  Красота, гигиена, бытовая химия  лесной бальзам         NaN  зубная паста  "
            ],
            "text/html": [
              "\n",
              "  <div id=\"df-e8490322-8c62-42d8-ae8c-62e9b9840a01\">\n",
              "    <div class=\"colab-df-container\">\n",
              "      <div>\n",
              "<style scoped>\n",
              "    .dataframe tbody tr th:only-of-type {\n",
              "        vertical-align: middle;\n",
              "    }\n",
              "\n",
              "    .dataframe tbody tr th {\n",
              "        vertical-align: top;\n",
              "    }\n",
              "\n",
              "    .dataframe thead th {\n",
              "        text-align: right;\n",
              "    }\n",
              "</style>\n",
              "<table border=\"1\" class=\"dataframe\">\n",
              "  <thead>\n",
              "    <tr style=\"text-align: right;\">\n",
              "      <th></th>\n",
              "      <th>Name</th>\n",
              "      <th>item_category</th>\n",
              "      <th>item_brand</th>\n",
              "      <th>item_weight</th>\n",
              "      <th>item_type</th>\n",
              "    </tr>\n",
              "  </thead>\n",
              "  <tbody>\n",
              "    <tr>\n",
              "      <th>0</th>\n",
              "      <td>зубная паста лакалют актив 75мл</td>\n",
              "      <td>Красота, гигиена, бытовая химия</td>\n",
              "      <td>splat</td>\n",
              "      <td>75мл</td>\n",
              "      <td>зубная паста</td>\n",
              "    </tr>\n",
              "    <tr>\n",
              "      <th>1</th>\n",
              "      <td>зубная паста лакалют сенситив 75мл</td>\n",
              "      <td>Красота, гигиена, бытовая химия</td>\n",
              "      <td>splat</td>\n",
              "      <td>75мл</td>\n",
              "      <td>зубная паста</td>\n",
              "    </tr>\n",
              "    <tr>\n",
              "      <th>2</th>\n",
              "      <td>зубная паста лесной бальзам ромашка и облепиха...</td>\n",
              "      <td>Красота, гигиена, бытовая химия</td>\n",
              "      <td>лесной бальзам</td>\n",
              "      <td>NaN</td>\n",
              "      <td>зубная паста</td>\n",
              "    </tr>\n",
              "  </tbody>\n",
              "</table>\n",
              "</div>\n",
              "      <button class=\"colab-df-convert\" onclick=\"convertToInteractive('df-e8490322-8c62-42d8-ae8c-62e9b9840a01')\"\n",
              "              title=\"Convert this dataframe to an interactive table.\"\n",
              "              style=\"display:none;\">\n",
              "        \n",
              "  <svg xmlns=\"http://www.w3.org/2000/svg\" height=\"24px\"viewBox=\"0 0 24 24\"\n",
              "       width=\"24px\">\n",
              "    <path d=\"M0 0h24v24H0V0z\" fill=\"none\"/>\n",
              "    <path d=\"M18.56 5.44l.94 2.06.94-2.06 2.06-.94-2.06-.94-.94-2.06-.94 2.06-2.06.94zm-11 1L8.5 8.5l.94-2.06 2.06-.94-2.06-.94L8.5 2.5l-.94 2.06-2.06.94zm10 10l.94 2.06.94-2.06 2.06-.94-2.06-.94-.94-2.06-.94 2.06-2.06.94z\"/><path d=\"M17.41 7.96l-1.37-1.37c-.4-.4-.92-.59-1.43-.59-.52 0-1.04.2-1.43.59L10.3 9.45l-7.72 7.72c-.78.78-.78 2.05 0 2.83L4 21.41c.39.39.9.59 1.41.59.51 0 1.02-.2 1.41-.59l7.78-7.78 2.81-2.81c.8-.78.8-2.07 0-2.86zM5.41 20L4 18.59l7.72-7.72 1.47 1.35L5.41 20z\"/>\n",
              "  </svg>\n",
              "      </button>\n",
              "      \n",
              "  <style>\n",
              "    .colab-df-container {\n",
              "      display:flex;\n",
              "      flex-wrap:wrap;\n",
              "      gap: 12px;\n",
              "    }\n",
              "\n",
              "    .colab-df-convert {\n",
              "      background-color: #E8F0FE;\n",
              "      border: none;\n",
              "      border-radius: 50%;\n",
              "      cursor: pointer;\n",
              "      display: none;\n",
              "      fill: #1967D2;\n",
              "      height: 32px;\n",
              "      padding: 0 0 0 0;\n",
              "      width: 32px;\n",
              "    }\n",
              "\n",
              "    .colab-df-convert:hover {\n",
              "      background-color: #E2EBFA;\n",
              "      box-shadow: 0px 1px 2px rgba(60, 64, 67, 0.3), 0px 1px 3px 1px rgba(60, 64, 67, 0.15);\n",
              "      fill: #174EA6;\n",
              "    }\n",
              "\n",
              "    [theme=dark] .colab-df-convert {\n",
              "      background-color: #3B4455;\n",
              "      fill: #D2E3FC;\n",
              "    }\n",
              "\n",
              "    [theme=dark] .colab-df-convert:hover {\n",
              "      background-color: #434B5C;\n",
              "      box-shadow: 0px 1px 3px 1px rgba(0, 0, 0, 0.15);\n",
              "      filter: drop-shadow(0px 1px 2px rgba(0, 0, 0, 0.3));\n",
              "      fill: #FFFFFF;\n",
              "    }\n",
              "  </style>\n",
              "\n",
              "      <script>\n",
              "        const buttonEl =\n",
              "          document.querySelector('#df-e8490322-8c62-42d8-ae8c-62e9b9840a01 button.colab-df-convert');\n",
              "        buttonEl.style.display =\n",
              "          google.colab.kernel.accessAllowed ? 'block' : 'none';\n",
              "\n",
              "        async function convertToInteractive(key) {\n",
              "          const element = document.querySelector('#df-e8490322-8c62-42d8-ae8c-62e9b9840a01');\n",
              "          const dataTable =\n",
              "            await google.colab.kernel.invokeFunction('convertToInteractive',\n",
              "                                                     [key], {});\n",
              "          if (!dataTable) return;\n",
              "\n",
              "          const docLinkHtml = 'Like what you see? Visit the ' +\n",
              "            '<a target=\"_blank\" href=https://colab.research.google.com/notebooks/data_table.ipynb>data table notebook</a>'\n",
              "            + ' to learn more about interactive tables.';\n",
              "          element.innerHTML = '';\n",
              "          dataTable['output_type'] = 'display_data';\n",
              "          await google.colab.output.renderOutput(dataTable, element);\n",
              "          const docLink = document.createElement('div');\n",
              "          docLink.innerHTML = docLinkHtml;\n",
              "          element.appendChild(docLink);\n",
              "        }\n",
              "      </script>\n",
              "    </div>\n",
              "  </div>\n",
              "  "
            ]
          },
          "metadata": {},
          "execution_count": 6
        }
      ],
      "source": [
        "import numpy as np\n",
        "import pandas as pd\n",
        "from sklearn.pipeline import Pipeline, make_pipeline\n",
        "from sklearn.base import BaseEstimator, TransformerMixin\n",
        "from sklearn.linear_model import LogisticRegression\n",
        "from sklearn.model_selection import train_test_split\n",
        "from sklearn.feature_extraction.text import TfidfVectorizer\n",
        "import itertools\n",
        "\n",
        "import matplotlib.pyplot as plt\n",
        "\n",
        "\n",
        "items = pd.read_csv(\"items.csv\")\n",
        "print(f\"Num unique items: {items.shape[0]}\\nNum unique categories: {len(items['item_type'].unique())}\")\n",
        "items.head(3)"
      ]
    },
    {
      "cell_type": "markdown",
      "metadata": {
        "id": "-gwiHrY9Fs3n"
      },
      "source": [
        "Покупки"
      ]
    },
    {
      "cell_type": "code",
      "source": [
        "!wget 'https://drive.google.com/uc?export=download&id=1XngPllkMD71ENaKetD9PuihFtJUWmpea' -O purchases.csv"
      ],
      "metadata": {
        "id": "aOFsbfa3KPfn",
        "colab": {
          "base_uri": "https://localhost:8080/"
        },
        "outputId": "32449fcc-0223-4f94-8f37-cda0926b2f7f"
      },
      "execution_count": null,
      "outputs": [
        {
          "output_type": "stream",
          "name": "stdout",
          "text": [
            "--2022-04-06 16:37:38--  https://drive.google.com/uc?export=download&id=1XngPllkMD71ENaKetD9PuihFtJUWmpea\n",
            "Resolving drive.google.com (drive.google.com)... 108.177.125.100, 108.177.125.101, 108.177.125.113, ...\n",
            "Connecting to drive.google.com (drive.google.com)|108.177.125.100|:443... connected.\n",
            "HTTP request sent, awaiting response... 303 See Other\n",
            "Location: https://doc-0s-c0-docs.googleusercontent.com/docs/securesc/ha0ro937gcuc7l7deffksulhg5h7mbp1/cshfthq74uhcif783vdj2je6o3bjo024/1649263050000/14904333240138417226/*/1XngPllkMD71ENaKetD9PuihFtJUWmpea?e=download [following]\n",
            "Warning: wildcards not supported in HTTP.\n",
            "--2022-04-06 16:37:40--  https://doc-0s-c0-docs.googleusercontent.com/docs/securesc/ha0ro937gcuc7l7deffksulhg5h7mbp1/cshfthq74uhcif783vdj2je6o3bjo024/1649263050000/14904333240138417226/*/1XngPllkMD71ENaKetD9PuihFtJUWmpea?e=download\n",
            "Resolving doc-0s-c0-docs.googleusercontent.com (doc-0s-c0-docs.googleusercontent.com)... 142.251.8.132, 2404:6800:4008:c15::84\n",
            "Connecting to doc-0s-c0-docs.googleusercontent.com (doc-0s-c0-docs.googleusercontent.com)|142.251.8.132|:443... connected.\n",
            "HTTP request sent, awaiting response... 200 OK\n",
            "Length: 20127928 (19M) [text/csv]\n",
            "Saving to: ‘purchases.csv’\n",
            "\n",
            "purchases.csv       100%[===================>]  19.20M  43.6MB/s    in 0.4s    \n",
            "\n",
            "2022-04-06 16:37:41 (43.6 MB/s) - ‘purchases.csv’ saved [20127928/20127928]\n",
            "\n"
          ]
        }
      ]
    },
    {
      "cell_type": "code",
      "execution_count": null,
      "metadata": {
        "id": "qR2Xpj1AFs3o",
        "outputId": "610f643a-371b-4b08-c261-0d8871205675",
        "colab": {
          "base_uri": "https://localhost:8080/",
          "height": 161
        }
      },
      "outputs": [
        {
          "output_type": "stream",
          "name": "stdout",
          "text": [
            "Num unique users: 32000\n"
          ]
        },
        {
          "output_type": "execute_result",
          "data": {
            "text/plain": [
              "                                user_id  \\\n",
              "0  ed6b1aaf-21df-5b75-9b7f-ed67926cd17c   \n",
              "1  ba82ad84-3a19-5a91-8e1e-7fd87628afb4   \n",
              "2  74a2856d-f0ec-59a6-89f3-1f80b294e852   \n",
              "\n",
              "                                                Name  \n",
              "0  шоколад \"alpen gold\" белый с миндалем и кокосо...  \n",
              "1           пюре тема говядина с гречкой с 8 месяцев  \n",
              "2  колбаса микоян сервелат кремлевский варено-коп...  "
            ],
            "text/html": [
              "\n",
              "  <div id=\"df-f9420547-d5b4-4a9e-a8ff-64279aec75ce\">\n",
              "    <div class=\"colab-df-container\">\n",
              "      <div>\n",
              "<style scoped>\n",
              "    .dataframe tbody tr th:only-of-type {\n",
              "        vertical-align: middle;\n",
              "    }\n",
              "\n",
              "    .dataframe tbody tr th {\n",
              "        vertical-align: top;\n",
              "    }\n",
              "\n",
              "    .dataframe thead th {\n",
              "        text-align: right;\n",
              "    }\n",
              "</style>\n",
              "<table border=\"1\" class=\"dataframe\">\n",
              "  <thead>\n",
              "    <tr style=\"text-align: right;\">\n",
              "      <th></th>\n",
              "      <th>user_id</th>\n",
              "      <th>Name</th>\n",
              "    </tr>\n",
              "  </thead>\n",
              "  <tbody>\n",
              "    <tr>\n",
              "      <th>0</th>\n",
              "      <td>ed6b1aaf-21df-5b75-9b7f-ed67926cd17c</td>\n",
              "      <td>шоколад \"alpen gold\" белый с миндалем и кокосо...</td>\n",
              "    </tr>\n",
              "    <tr>\n",
              "      <th>1</th>\n",
              "      <td>ba82ad84-3a19-5a91-8e1e-7fd87628afb4</td>\n",
              "      <td>пюре тема говядина с гречкой с 8 месяцев</td>\n",
              "    </tr>\n",
              "    <tr>\n",
              "      <th>2</th>\n",
              "      <td>74a2856d-f0ec-59a6-89f3-1f80b294e852</td>\n",
              "      <td>колбаса микоян сервелат кремлевский варено-коп...</td>\n",
              "    </tr>\n",
              "  </tbody>\n",
              "</table>\n",
              "</div>\n",
              "      <button class=\"colab-df-convert\" onclick=\"convertToInteractive('df-f9420547-d5b4-4a9e-a8ff-64279aec75ce')\"\n",
              "              title=\"Convert this dataframe to an interactive table.\"\n",
              "              style=\"display:none;\">\n",
              "        \n",
              "  <svg xmlns=\"http://www.w3.org/2000/svg\" height=\"24px\"viewBox=\"0 0 24 24\"\n",
              "       width=\"24px\">\n",
              "    <path d=\"M0 0h24v24H0V0z\" fill=\"none\"/>\n",
              "    <path d=\"M18.56 5.44l.94 2.06.94-2.06 2.06-.94-2.06-.94-.94-2.06-.94 2.06-2.06.94zm-11 1L8.5 8.5l.94-2.06 2.06-.94-2.06-.94L8.5 2.5l-.94 2.06-2.06.94zm10 10l.94 2.06.94-2.06 2.06-.94-2.06-.94-.94-2.06-.94 2.06-2.06.94z\"/><path d=\"M17.41 7.96l-1.37-1.37c-.4-.4-.92-.59-1.43-.59-.52 0-1.04.2-1.43.59L10.3 9.45l-7.72 7.72c-.78.78-.78 2.05 0 2.83L4 21.41c.39.39.9.59 1.41.59.51 0 1.02-.2 1.41-.59l7.78-7.78 2.81-2.81c.8-.78.8-2.07 0-2.86zM5.41 20L4 18.59l7.72-7.72 1.47 1.35L5.41 20z\"/>\n",
              "  </svg>\n",
              "      </button>\n",
              "      \n",
              "  <style>\n",
              "    .colab-df-container {\n",
              "      display:flex;\n",
              "      flex-wrap:wrap;\n",
              "      gap: 12px;\n",
              "    }\n",
              "\n",
              "    .colab-df-convert {\n",
              "      background-color: #E8F0FE;\n",
              "      border: none;\n",
              "      border-radius: 50%;\n",
              "      cursor: pointer;\n",
              "      display: none;\n",
              "      fill: #1967D2;\n",
              "      height: 32px;\n",
              "      padding: 0 0 0 0;\n",
              "      width: 32px;\n",
              "    }\n",
              "\n",
              "    .colab-df-convert:hover {\n",
              "      background-color: #E2EBFA;\n",
              "      box-shadow: 0px 1px 2px rgba(60, 64, 67, 0.3), 0px 1px 3px 1px rgba(60, 64, 67, 0.15);\n",
              "      fill: #174EA6;\n",
              "    }\n",
              "\n",
              "    [theme=dark] .colab-df-convert {\n",
              "      background-color: #3B4455;\n",
              "      fill: #D2E3FC;\n",
              "    }\n",
              "\n",
              "    [theme=dark] .colab-df-convert:hover {\n",
              "      background-color: #434B5C;\n",
              "      box-shadow: 0px 1px 3px 1px rgba(0, 0, 0, 0.15);\n",
              "      filter: drop-shadow(0px 1px 2px rgba(0, 0, 0, 0.3));\n",
              "      fill: #FFFFFF;\n",
              "    }\n",
              "  </style>\n",
              "\n",
              "      <script>\n",
              "        const buttonEl =\n",
              "          document.querySelector('#df-f9420547-d5b4-4a9e-a8ff-64279aec75ce button.colab-df-convert');\n",
              "        buttonEl.style.display =\n",
              "          google.colab.kernel.accessAllowed ? 'block' : 'none';\n",
              "\n",
              "        async function convertToInteractive(key) {\n",
              "          const element = document.querySelector('#df-f9420547-d5b4-4a9e-a8ff-64279aec75ce');\n",
              "          const dataTable =\n",
              "            await google.colab.kernel.invokeFunction('convertToInteractive',\n",
              "                                                     [key], {});\n",
              "          if (!dataTable) return;\n",
              "\n",
              "          const docLinkHtml = 'Like what you see? Visit the ' +\n",
              "            '<a target=\"_blank\" href=https://colab.research.google.com/notebooks/data_table.ipynb>data table notebook</a>'\n",
              "            + ' to learn more about interactive tables.';\n",
              "          element.innerHTML = '';\n",
              "          dataTable['output_type'] = 'display_data';\n",
              "          await google.colab.output.renderOutput(dataTable, element);\n",
              "          const docLink = document.createElement('div');\n",
              "          docLink.innerHTML = docLinkHtml;\n",
              "          element.appendChild(docLink);\n",
              "        }\n",
              "      </script>\n",
              "    </div>\n",
              "  </div>\n",
              "  "
            ]
          },
          "metadata": {},
          "execution_count": 8
        }
      ],
      "source": [
        "purchases = pd.read_csv(\"purchases.csv\")\n",
        "print(f\"Num unique users: {len(purchases['user_id'].unique())}\")\n",
        "purchases.columns = ['user_id', 'Name']\n",
        "purchases.head(3)"
      ]
    },
    {
      "cell_type": "markdown",
      "metadata": {
        "id": "LnUTOrgoFs3r"
      },
      "source": [
        "**Задача: Нужно провести акцию с предложением чая (со скидкой) 5 тысячам пользователей (всего у нас 32 тысячи)**"
      ]
    },
    {
      "cell_type": "markdown",
      "metadata": {
        "id": "szlrAg3ZFs3r"
      },
      "source": [
        "Варианты решения задачи:\n",
        "1. Случайная выборка\n",
        "2. Что-то более умное (сведем все к задаче lookalike)"
      ]
    },
    {
      "cell_type": "markdown",
      "metadata": {
        "id": "ukLN-yy1Fs3t"
      },
      "source": [
        "Возможный алгоритм:\n",
        "1. Выбираем по базе тех, кто покупал чай ранее - это наши позитивы \n",
        "2. Решаем задачу бинарной классификации (lookalike)\n",
        "3. Скорим нашу аудиторию\n",
        "4. Берем топ 5 тысяч\n",
        "5. Запускаем рекламную кампанию"
      ]
    },
    {
      "cell_type": "markdown",
      "metadata": {
        "id": "ICT3tjGFFs3u"
      },
      "source": [
        "Далее дожидаемся окончания кампании и анализируем результаты"
      ]
    },
    {
      "cell_type": "markdown",
      "metadata": {
        "id": "8ePnH_UsFs3w"
      },
      "source": [
        "Для начала поджойним предметы и покупки"
      ]
    },
    {
      "cell_type": "code",
      "execution_count": null,
      "metadata": {
        "id": "AmjXz_vqFs3x",
        "outputId": "7d540dff-744a-4313-92b6-4d6f54dc2578",
        "colab": {
          "base_uri": "https://localhost:8080/",
          "height": 143
        }
      },
      "outputs": [
        {
          "output_type": "execute_result",
          "data": {
            "text/plain": [
              "                                user_id  \\\n",
              "0  ed6b1aaf-21df-5b75-9b7f-ed67926cd17c   \n",
              "1  b4a10859-3f8c-5dc1-8d5d-5977f9aa8bde   \n",
              "2  464053f2-ead4-500e-8486-9d5d66c1bbd7   \n",
              "\n",
              "                                                Name          item_category  \\\n",
              "0  шоколад \"alpen gold\" белый с миндалем и кокосо...  Хлеб, сладости, снеки   \n",
              "1  шоколад \"alpen gold\" белый с миндалем и кокосо...  Хлеб, сладости, снеки   \n",
              "2  шоколад \"alpen gold\" белый с миндалем и кокосо...  Хлеб, сладости, снеки   \n",
              "\n",
              "   item_brand item_weight item_type  \n",
              "0  alpen gold         90г   шоколад  \n",
              "1  alpen gold         90г   шоколад  \n",
              "2  alpen gold         90г   шоколад  "
            ],
            "text/html": [
              "\n",
              "  <div id=\"df-5fefe6db-0eba-41d5-b401-3523f94152fc\">\n",
              "    <div class=\"colab-df-container\">\n",
              "      <div>\n",
              "<style scoped>\n",
              "    .dataframe tbody tr th:only-of-type {\n",
              "        vertical-align: middle;\n",
              "    }\n",
              "\n",
              "    .dataframe tbody tr th {\n",
              "        vertical-align: top;\n",
              "    }\n",
              "\n",
              "    .dataframe thead th {\n",
              "        text-align: right;\n",
              "    }\n",
              "</style>\n",
              "<table border=\"1\" class=\"dataframe\">\n",
              "  <thead>\n",
              "    <tr style=\"text-align: right;\">\n",
              "      <th></th>\n",
              "      <th>user_id</th>\n",
              "      <th>Name</th>\n",
              "      <th>item_category</th>\n",
              "      <th>item_brand</th>\n",
              "      <th>item_weight</th>\n",
              "      <th>item_type</th>\n",
              "    </tr>\n",
              "  </thead>\n",
              "  <tbody>\n",
              "    <tr>\n",
              "      <th>0</th>\n",
              "      <td>ed6b1aaf-21df-5b75-9b7f-ed67926cd17c</td>\n",
              "      <td>шоколад \"alpen gold\" белый с миндалем и кокосо...</td>\n",
              "      <td>Хлеб, сладости, снеки</td>\n",
              "      <td>alpen gold</td>\n",
              "      <td>90г</td>\n",
              "      <td>шоколад</td>\n",
              "    </tr>\n",
              "    <tr>\n",
              "      <th>1</th>\n",
              "      <td>b4a10859-3f8c-5dc1-8d5d-5977f9aa8bde</td>\n",
              "      <td>шоколад \"alpen gold\" белый с миндалем и кокосо...</td>\n",
              "      <td>Хлеб, сладости, снеки</td>\n",
              "      <td>alpen gold</td>\n",
              "      <td>90г</td>\n",
              "      <td>шоколад</td>\n",
              "    </tr>\n",
              "    <tr>\n",
              "      <th>2</th>\n",
              "      <td>464053f2-ead4-500e-8486-9d5d66c1bbd7</td>\n",
              "      <td>шоколад \"alpen gold\" белый с миндалем и кокосо...</td>\n",
              "      <td>Хлеб, сладости, снеки</td>\n",
              "      <td>alpen gold</td>\n",
              "      <td>90г</td>\n",
              "      <td>шоколад</td>\n",
              "    </tr>\n",
              "  </tbody>\n",
              "</table>\n",
              "</div>\n",
              "      <button class=\"colab-df-convert\" onclick=\"convertToInteractive('df-5fefe6db-0eba-41d5-b401-3523f94152fc')\"\n",
              "              title=\"Convert this dataframe to an interactive table.\"\n",
              "              style=\"display:none;\">\n",
              "        \n",
              "  <svg xmlns=\"http://www.w3.org/2000/svg\" height=\"24px\"viewBox=\"0 0 24 24\"\n",
              "       width=\"24px\">\n",
              "    <path d=\"M0 0h24v24H0V0z\" fill=\"none\"/>\n",
              "    <path d=\"M18.56 5.44l.94 2.06.94-2.06 2.06-.94-2.06-.94-.94-2.06-.94 2.06-2.06.94zm-11 1L8.5 8.5l.94-2.06 2.06-.94-2.06-.94L8.5 2.5l-.94 2.06-2.06.94zm10 10l.94 2.06.94-2.06 2.06-.94-2.06-.94-.94-2.06-.94 2.06-2.06.94z\"/><path d=\"M17.41 7.96l-1.37-1.37c-.4-.4-.92-.59-1.43-.59-.52 0-1.04.2-1.43.59L10.3 9.45l-7.72 7.72c-.78.78-.78 2.05 0 2.83L4 21.41c.39.39.9.59 1.41.59.51 0 1.02-.2 1.41-.59l7.78-7.78 2.81-2.81c.8-.78.8-2.07 0-2.86zM5.41 20L4 18.59l7.72-7.72 1.47 1.35L5.41 20z\"/>\n",
              "  </svg>\n",
              "      </button>\n",
              "      \n",
              "  <style>\n",
              "    .colab-df-container {\n",
              "      display:flex;\n",
              "      flex-wrap:wrap;\n",
              "      gap: 12px;\n",
              "    }\n",
              "\n",
              "    .colab-df-convert {\n",
              "      background-color: #E8F0FE;\n",
              "      border: none;\n",
              "      border-radius: 50%;\n",
              "      cursor: pointer;\n",
              "      display: none;\n",
              "      fill: #1967D2;\n",
              "      height: 32px;\n",
              "      padding: 0 0 0 0;\n",
              "      width: 32px;\n",
              "    }\n",
              "\n",
              "    .colab-df-convert:hover {\n",
              "      background-color: #E2EBFA;\n",
              "      box-shadow: 0px 1px 2px rgba(60, 64, 67, 0.3), 0px 1px 3px 1px rgba(60, 64, 67, 0.15);\n",
              "      fill: #174EA6;\n",
              "    }\n",
              "\n",
              "    [theme=dark] .colab-df-convert {\n",
              "      background-color: #3B4455;\n",
              "      fill: #D2E3FC;\n",
              "    }\n",
              "\n",
              "    [theme=dark] .colab-df-convert:hover {\n",
              "      background-color: #434B5C;\n",
              "      box-shadow: 0px 1px 3px 1px rgba(0, 0, 0, 0.15);\n",
              "      filter: drop-shadow(0px 1px 2px rgba(0, 0, 0, 0.3));\n",
              "      fill: #FFFFFF;\n",
              "    }\n",
              "  </style>\n",
              "\n",
              "      <script>\n",
              "        const buttonEl =\n",
              "          document.querySelector('#df-5fefe6db-0eba-41d5-b401-3523f94152fc button.colab-df-convert');\n",
              "        buttonEl.style.display =\n",
              "          google.colab.kernel.accessAllowed ? 'block' : 'none';\n",
              "\n",
              "        async function convertToInteractive(key) {\n",
              "          const element = document.querySelector('#df-5fefe6db-0eba-41d5-b401-3523f94152fc');\n",
              "          const dataTable =\n",
              "            await google.colab.kernel.invokeFunction('convertToInteractive',\n",
              "                                                     [key], {});\n",
              "          if (!dataTable) return;\n",
              "\n",
              "          const docLinkHtml = 'Like what you see? Visit the ' +\n",
              "            '<a target=\"_blank\" href=https://colab.research.google.com/notebooks/data_table.ipynb>data table notebook</a>'\n",
              "            + ' to learn more about interactive tables.';\n",
              "          element.innerHTML = '';\n",
              "          dataTable['output_type'] = 'display_data';\n",
              "          await google.colab.output.renderOutput(dataTable, element);\n",
              "          const docLink = document.createElement('div');\n",
              "          docLink.innerHTML = docLinkHtml;\n",
              "          element.appendChild(docLink);\n",
              "        }\n",
              "      </script>\n",
              "    </div>\n",
              "  </div>\n",
              "  "
            ]
          },
          "metadata": {},
          "execution_count": 9
        }
      ],
      "source": [
        "purchases = pd.merge(purchases, items)\n",
        "purchases.head(3)"
      ]
    },
    {
      "cell_type": "markdown",
      "metadata": {
        "id": "tSfDBo8rFs30"
      },
      "source": [
        "Теперь посмотрим сколько у нас было пользователей, покупавших ранее чай"
      ]
    },
    {
      "cell_type": "code",
      "execution_count": null,
      "metadata": {
        "id": "LSEKUfD8Fs31",
        "outputId": "ec6b9738-541e-4b6b-cd79-922963c44b83",
        "colab": {
          "base_uri": "https://localhost:8080/"
        }
      },
      "outputs": [
        {
          "output_type": "execute_result",
          "data": {
            "text/plain": [
              "1360"
            ]
          },
          "metadata": {},
          "execution_count": 10
        }
      ],
      "source": [
        "len(purchases[purchases['item_type'] == 'чай']['user_id'].unique())"
      ]
    },
    {
      "cell_type": "markdown",
      "metadata": {
        "id": "S0UivUXKFs34"
      },
      "source": [
        "1360 любителей чая (нам нужно 5000 по условию задачи). \n",
        "\n",
        "Давайте разметим наш датасет (все кто покупал чай в прошлом - метка 1) - это класс 1. \n",
        "\n",
        "Мы предполагаем, что людям со схожими на класс 1 предпочтениями и покупками (но не покупавшие чай), также понравится и чай. На этом предположении мы и двигаемся дальше. "
      ]
    },
    {
      "cell_type": "code",
      "execution_count": null,
      "metadata": {
        "id": "x5dsxcJ4Fs35",
        "colab": {
          "base_uri": "https://localhost:8080/",
          "height": 206
        },
        "outputId": "5c571365-a5d5-4348-e2bf-cd9155ebbe90"
      },
      "outputs": [
        {
          "output_type": "execute_result",
          "data": {
            "text/plain": [
              "                                user_id  \\\n",
              "0  ed6b1aaf-21df-5b75-9b7f-ed67926cd17c   \n",
              "1  b4a10859-3f8c-5dc1-8d5d-5977f9aa8bde   \n",
              "2  464053f2-ead4-500e-8486-9d5d66c1bbd7   \n",
              "3  baf7d53b-3170-5984-b05c-c5d2b8788d57   \n",
              "4  ef6beb0e-a09e-5372-aa91-eb467f117aa8   \n",
              "\n",
              "                                                Name          item_category  \\\n",
              "0  шоколад \"alpen gold\" белый с миндалем и кокосо...  Хлеб, сладости, снеки   \n",
              "1  шоколад \"alpen gold\" белый с миндалем и кокосо...  Хлеб, сладости, снеки   \n",
              "2  шоколад \"alpen gold\" белый с миндалем и кокосо...  Хлеб, сладости, снеки   \n",
              "3  шоколад \"alpen gold\" белый с миндалем и кокосо...  Хлеб, сладости, снеки   \n",
              "4  шоколад \"alpen gold\" белый с миндалем и кокосо...  Хлеб, сладости, снеки   \n",
              "\n",
              "   item_brand item_weight item_type  y  \n",
              "0  alpen gold         90г   шоколад  0  \n",
              "1  alpen gold         90г   шоколад  0  \n",
              "2  alpen gold         90г   шоколад  0  \n",
              "3  alpen gold         90г   шоколад  0  \n",
              "4  alpen gold         90г   шоколад  0  "
            ],
            "text/html": [
              "\n",
              "  <div id=\"df-f9ab0f56-87b9-4976-beef-93d212fd5b12\">\n",
              "    <div class=\"colab-df-container\">\n",
              "      <div>\n",
              "<style scoped>\n",
              "    .dataframe tbody tr th:only-of-type {\n",
              "        vertical-align: middle;\n",
              "    }\n",
              "\n",
              "    .dataframe tbody tr th {\n",
              "        vertical-align: top;\n",
              "    }\n",
              "\n",
              "    .dataframe thead th {\n",
              "        text-align: right;\n",
              "    }\n",
              "</style>\n",
              "<table border=\"1\" class=\"dataframe\">\n",
              "  <thead>\n",
              "    <tr style=\"text-align: right;\">\n",
              "      <th></th>\n",
              "      <th>user_id</th>\n",
              "      <th>Name</th>\n",
              "      <th>item_category</th>\n",
              "      <th>item_brand</th>\n",
              "      <th>item_weight</th>\n",
              "      <th>item_type</th>\n",
              "      <th>y</th>\n",
              "    </tr>\n",
              "  </thead>\n",
              "  <tbody>\n",
              "    <tr>\n",
              "      <th>0</th>\n",
              "      <td>ed6b1aaf-21df-5b75-9b7f-ed67926cd17c</td>\n",
              "      <td>шоколад \"alpen gold\" белый с миндалем и кокосо...</td>\n",
              "      <td>Хлеб, сладости, снеки</td>\n",
              "      <td>alpen gold</td>\n",
              "      <td>90г</td>\n",
              "      <td>шоколад</td>\n",
              "      <td>0</td>\n",
              "    </tr>\n",
              "    <tr>\n",
              "      <th>1</th>\n",
              "      <td>b4a10859-3f8c-5dc1-8d5d-5977f9aa8bde</td>\n",
              "      <td>шоколад \"alpen gold\" белый с миндалем и кокосо...</td>\n",
              "      <td>Хлеб, сладости, снеки</td>\n",
              "      <td>alpen gold</td>\n",
              "      <td>90г</td>\n",
              "      <td>шоколад</td>\n",
              "      <td>0</td>\n",
              "    </tr>\n",
              "    <tr>\n",
              "      <th>2</th>\n",
              "      <td>464053f2-ead4-500e-8486-9d5d66c1bbd7</td>\n",
              "      <td>шоколад \"alpen gold\" белый с миндалем и кокосо...</td>\n",
              "      <td>Хлеб, сладости, снеки</td>\n",
              "      <td>alpen gold</td>\n",
              "      <td>90г</td>\n",
              "      <td>шоколад</td>\n",
              "      <td>0</td>\n",
              "    </tr>\n",
              "    <tr>\n",
              "      <th>3</th>\n",
              "      <td>baf7d53b-3170-5984-b05c-c5d2b8788d57</td>\n",
              "      <td>шоколад \"alpen gold\" белый с миндалем и кокосо...</td>\n",
              "      <td>Хлеб, сладости, снеки</td>\n",
              "      <td>alpen gold</td>\n",
              "      <td>90г</td>\n",
              "      <td>шоколад</td>\n",
              "      <td>0</td>\n",
              "    </tr>\n",
              "    <tr>\n",
              "      <th>4</th>\n",
              "      <td>ef6beb0e-a09e-5372-aa91-eb467f117aa8</td>\n",
              "      <td>шоколад \"alpen gold\" белый с миндалем и кокосо...</td>\n",
              "      <td>Хлеб, сладости, снеки</td>\n",
              "      <td>alpen gold</td>\n",
              "      <td>90г</td>\n",
              "      <td>шоколад</td>\n",
              "      <td>0</td>\n",
              "    </tr>\n",
              "  </tbody>\n",
              "</table>\n",
              "</div>\n",
              "      <button class=\"colab-df-convert\" onclick=\"convertToInteractive('df-f9ab0f56-87b9-4976-beef-93d212fd5b12')\"\n",
              "              title=\"Convert this dataframe to an interactive table.\"\n",
              "              style=\"display:none;\">\n",
              "        \n",
              "  <svg xmlns=\"http://www.w3.org/2000/svg\" height=\"24px\"viewBox=\"0 0 24 24\"\n",
              "       width=\"24px\">\n",
              "    <path d=\"M0 0h24v24H0V0z\" fill=\"none\"/>\n",
              "    <path d=\"M18.56 5.44l.94 2.06.94-2.06 2.06-.94-2.06-.94-.94-2.06-.94 2.06-2.06.94zm-11 1L8.5 8.5l.94-2.06 2.06-.94-2.06-.94L8.5 2.5l-.94 2.06-2.06.94zm10 10l.94 2.06.94-2.06 2.06-.94-2.06-.94-.94-2.06-.94 2.06-2.06.94z\"/><path d=\"M17.41 7.96l-1.37-1.37c-.4-.4-.92-.59-1.43-.59-.52 0-1.04.2-1.43.59L10.3 9.45l-7.72 7.72c-.78.78-.78 2.05 0 2.83L4 21.41c.39.39.9.59 1.41.59.51 0 1.02-.2 1.41-.59l7.78-7.78 2.81-2.81c.8-.78.8-2.07 0-2.86zM5.41 20L4 18.59l7.72-7.72 1.47 1.35L5.41 20z\"/>\n",
              "  </svg>\n",
              "      </button>\n",
              "      \n",
              "  <style>\n",
              "    .colab-df-container {\n",
              "      display:flex;\n",
              "      flex-wrap:wrap;\n",
              "      gap: 12px;\n",
              "    }\n",
              "\n",
              "    .colab-df-convert {\n",
              "      background-color: #E8F0FE;\n",
              "      border: none;\n",
              "      border-radius: 50%;\n",
              "      cursor: pointer;\n",
              "      display: none;\n",
              "      fill: #1967D2;\n",
              "      height: 32px;\n",
              "      padding: 0 0 0 0;\n",
              "      width: 32px;\n",
              "    }\n",
              "\n",
              "    .colab-df-convert:hover {\n",
              "      background-color: #E2EBFA;\n",
              "      box-shadow: 0px 1px 2px rgba(60, 64, 67, 0.3), 0px 1px 3px 1px rgba(60, 64, 67, 0.15);\n",
              "      fill: #174EA6;\n",
              "    }\n",
              "\n",
              "    [theme=dark] .colab-df-convert {\n",
              "      background-color: #3B4455;\n",
              "      fill: #D2E3FC;\n",
              "    }\n",
              "\n",
              "    [theme=dark] .colab-df-convert:hover {\n",
              "      background-color: #434B5C;\n",
              "      box-shadow: 0px 1px 3px 1px rgba(0, 0, 0, 0.15);\n",
              "      filter: drop-shadow(0px 1px 2px rgba(0, 0, 0, 0.3));\n",
              "      fill: #FFFFFF;\n",
              "    }\n",
              "  </style>\n",
              "\n",
              "      <script>\n",
              "        const buttonEl =\n",
              "          document.querySelector('#df-f9ab0f56-87b9-4976-beef-93d212fd5b12 button.colab-df-convert');\n",
              "        buttonEl.style.display =\n",
              "          google.colab.kernel.accessAllowed ? 'block' : 'none';\n",
              "\n",
              "        async function convertToInteractive(key) {\n",
              "          const element = document.querySelector('#df-f9ab0f56-87b9-4976-beef-93d212fd5b12');\n",
              "          const dataTable =\n",
              "            await google.colab.kernel.invokeFunction('convertToInteractive',\n",
              "                                                     [key], {});\n",
              "          if (!dataTable) return;\n",
              "\n",
              "          const docLinkHtml = 'Like what you see? Visit the ' +\n",
              "            '<a target=\"_blank\" href=https://colab.research.google.com/notebooks/data_table.ipynb>data table notebook</a>'\n",
              "            + ' to learn more about interactive tables.';\n",
              "          element.innerHTML = '';\n",
              "          dataTable['output_type'] = 'display_data';\n",
              "          await google.colab.output.renderOutput(dataTable, element);\n",
              "          const docLink = document.createElement('div');\n",
              "          docLink.innerHTML = docLinkHtml;\n",
              "          element.appendChild(docLink);\n",
              "        }\n",
              "      </script>\n",
              "    </div>\n",
              "  </div>\n",
              "  "
            ]
          },
          "metadata": {},
          "execution_count": 11
        }
      ],
      "source": [
        "purchases['y'] = purchases['item_type'].apply(lambda x: 1 if x == 'чай' else 0)\n",
        "purchases.head()"
      ]
    },
    {
      "cell_type": "markdown",
      "metadata": {
        "id": "CgRMOHhFFs36"
      },
      "source": [
        "Попробуем для начала использовать просто список прошлых покупок (поле Name)"
      ]
    },
    {
      "cell_type": "code",
      "execution_count": null,
      "metadata": {
        "id": "ASrUyxx1Fs37",
        "outputId": "f97582a0-cbe1-4a55-8f8e-4ac24d4fa49a",
        "colab": {
          "base_uri": "https://localhost:8080/",
          "height": 143
        }
      },
      "outputs": [
        {
          "output_type": "execute_result",
          "data": {
            "text/plain": [
              "                                user_id  \\\n",
              "0  00002f01-66e4-5ab8-8d1a-1562a4ddd418   \n",
              "1  0000fed8-b063-51ef-8ca4-c42c5bd022ad   \n",
              "2  0004cfe8-bcb2-5a2c-904b-643e0469cbe3   \n",
              "\n",
              "                                           purchases  y  \n",
              "0  [зубная паста splat stress off антистресс 75мл...  0  \n",
              "1  [шоколад schogetten black & white молочный с к...  0  \n",
              "2  [шоколад воздушный темный 85г, сыр белебеевски...  0  "
            ],
            "text/html": [
              "\n",
              "  <div id=\"df-1a929bdc-c015-41a9-b394-e09fec20ef69\">\n",
              "    <div class=\"colab-df-container\">\n",
              "      <div>\n",
              "<style scoped>\n",
              "    .dataframe tbody tr th:only-of-type {\n",
              "        vertical-align: middle;\n",
              "    }\n",
              "\n",
              "    .dataframe tbody tr th {\n",
              "        vertical-align: top;\n",
              "    }\n",
              "\n",
              "    .dataframe thead th {\n",
              "        text-align: right;\n",
              "    }\n",
              "</style>\n",
              "<table border=\"1\" class=\"dataframe\">\n",
              "  <thead>\n",
              "    <tr style=\"text-align: right;\">\n",
              "      <th></th>\n",
              "      <th>user_id</th>\n",
              "      <th>purchases</th>\n",
              "      <th>y</th>\n",
              "    </tr>\n",
              "  </thead>\n",
              "  <tbody>\n",
              "    <tr>\n",
              "      <th>0</th>\n",
              "      <td>00002f01-66e4-5ab8-8d1a-1562a4ddd418</td>\n",
              "      <td>[зубная паста splat stress off антистресс 75мл...</td>\n",
              "      <td>0</td>\n",
              "    </tr>\n",
              "    <tr>\n",
              "      <th>1</th>\n",
              "      <td>0000fed8-b063-51ef-8ca4-c42c5bd022ad</td>\n",
              "      <td>[шоколад schogetten black &amp; white молочный с к...</td>\n",
              "      <td>0</td>\n",
              "    </tr>\n",
              "    <tr>\n",
              "      <th>2</th>\n",
              "      <td>0004cfe8-bcb2-5a2c-904b-643e0469cbe3</td>\n",
              "      <td>[шоколад воздушный темный 85г, сыр белебеевски...</td>\n",
              "      <td>0</td>\n",
              "    </tr>\n",
              "  </tbody>\n",
              "</table>\n",
              "</div>\n",
              "      <button class=\"colab-df-convert\" onclick=\"convertToInteractive('df-1a929bdc-c015-41a9-b394-e09fec20ef69')\"\n",
              "              title=\"Convert this dataframe to an interactive table.\"\n",
              "              style=\"display:none;\">\n",
              "        \n",
              "  <svg xmlns=\"http://www.w3.org/2000/svg\" height=\"24px\"viewBox=\"0 0 24 24\"\n",
              "       width=\"24px\">\n",
              "    <path d=\"M0 0h24v24H0V0z\" fill=\"none\"/>\n",
              "    <path d=\"M18.56 5.44l.94 2.06.94-2.06 2.06-.94-2.06-.94-.94-2.06-.94 2.06-2.06.94zm-11 1L8.5 8.5l.94-2.06 2.06-.94-2.06-.94L8.5 2.5l-.94 2.06-2.06.94zm10 10l.94 2.06.94-2.06 2.06-.94-2.06-.94-.94-2.06-.94 2.06-2.06.94z\"/><path d=\"M17.41 7.96l-1.37-1.37c-.4-.4-.92-.59-1.43-.59-.52 0-1.04.2-1.43.59L10.3 9.45l-7.72 7.72c-.78.78-.78 2.05 0 2.83L4 21.41c.39.39.9.59 1.41.59.51 0 1.02-.2 1.41-.59l7.78-7.78 2.81-2.81c.8-.78.8-2.07 0-2.86zM5.41 20L4 18.59l7.72-7.72 1.47 1.35L5.41 20z\"/>\n",
              "  </svg>\n",
              "      </button>\n",
              "      \n",
              "  <style>\n",
              "    .colab-df-container {\n",
              "      display:flex;\n",
              "      flex-wrap:wrap;\n",
              "      gap: 12px;\n",
              "    }\n",
              "\n",
              "    .colab-df-convert {\n",
              "      background-color: #E8F0FE;\n",
              "      border: none;\n",
              "      border-radius: 50%;\n",
              "      cursor: pointer;\n",
              "      display: none;\n",
              "      fill: #1967D2;\n",
              "      height: 32px;\n",
              "      padding: 0 0 0 0;\n",
              "      width: 32px;\n",
              "    }\n",
              "\n",
              "    .colab-df-convert:hover {\n",
              "      background-color: #E2EBFA;\n",
              "      box-shadow: 0px 1px 2px rgba(60, 64, 67, 0.3), 0px 1px 3px 1px rgba(60, 64, 67, 0.15);\n",
              "      fill: #174EA6;\n",
              "    }\n",
              "\n",
              "    [theme=dark] .colab-df-convert {\n",
              "      background-color: #3B4455;\n",
              "      fill: #D2E3FC;\n",
              "    }\n",
              "\n",
              "    [theme=dark] .colab-df-convert:hover {\n",
              "      background-color: #434B5C;\n",
              "      box-shadow: 0px 1px 3px 1px rgba(0, 0, 0, 0.15);\n",
              "      filter: drop-shadow(0px 1px 2px rgba(0, 0, 0, 0.3));\n",
              "      fill: #FFFFFF;\n",
              "    }\n",
              "  </style>\n",
              "\n",
              "      <script>\n",
              "        const buttonEl =\n",
              "          document.querySelector('#df-1a929bdc-c015-41a9-b394-e09fec20ef69 button.colab-df-convert');\n",
              "        buttonEl.style.display =\n",
              "          google.colab.kernel.accessAllowed ? 'block' : 'none';\n",
              "\n",
              "        async function convertToInteractive(key) {\n",
              "          const element = document.querySelector('#df-1a929bdc-c015-41a9-b394-e09fec20ef69');\n",
              "          const dataTable =\n",
              "            await google.colab.kernel.invokeFunction('convertToInteractive',\n",
              "                                                     [key], {});\n",
              "          if (!dataTable) return;\n",
              "\n",
              "          const docLinkHtml = 'Like what you see? Visit the ' +\n",
              "            '<a target=\"_blank\" href=https://colab.research.google.com/notebooks/data_table.ipynb>data table notebook</a>'\n",
              "            + ' to learn more about interactive tables.';\n",
              "          element.innerHTML = '';\n",
              "          dataTable['output_type'] = 'display_data';\n",
              "          await google.colab.output.renderOutput(dataTable, element);\n",
              "          const docLink = document.createElement('div');\n",
              "          docLink.innerHTML = docLinkHtml;\n",
              "          element.appendChild(docLink);\n",
              "        }\n",
              "      </script>\n",
              "    </div>\n",
              "  </div>\n",
              "  "
            ]
          },
          "metadata": {},
          "execution_count": 12
        }
      ],
      "source": [
        "X = purchases.groupby(['user_id']).agg({\n",
        "    'Name': lambda x: list(x),\n",
        "    'y': lambda x: max(x)\n",
        "})\n",
        "\n",
        "X['user_id'] = [i for i in X.index.values]\n",
        "X.columns = ['purchases', 'y', 'user_id']\n",
        "X = X[['user_id', 'purchases', 'y']]\n",
        "X.index = range(len(X))\n",
        "X.head(3)"
      ]
    },
    {
      "cell_type": "markdown",
      "metadata": {
        "id": "nAbkwleUFs39"
      },
      "source": [
        "Посмотрим на соотношение классов (P vs U), где P - позитивы и U - все остальные неразмеченные данные"
      ]
    },
    {
      "cell_type": "code",
      "execution_count": null,
      "metadata": {
        "id": "oliGRMt9Fs3-",
        "outputId": "dbe1c2d2-b8b4-48e7-f63f-a09d7c8dd134",
        "colab": {
          "base_uri": "https://localhost:8080/"
        }
      },
      "outputs": [
        {
          "output_type": "execute_result",
          "data": {
            "text/plain": [
              "0    30640\n",
              "1     1360\n",
              "Name: y, dtype: int64"
            ]
          },
          "metadata": {},
          "execution_count": 13
        }
      ],
      "source": [
        "X['y'].value_counts()"
      ]
    },
    {
      "cell_type": "code",
      "execution_count": null,
      "metadata": {
        "id": "DFN9wzFIFs4B",
        "colab": {
          "base_uri": "https://localhost:8080/",
          "height": 206
        },
        "outputId": "92963f83-abe3-4ac5-ccf7-d420b4dc92ee"
      },
      "outputs": [
        {
          "output_type": "execute_result",
          "data": {
            "text/plain": [
              "                                user_id  \\\n",
              "0  00002f01-66e4-5ab8-8d1a-1562a4ddd418   \n",
              "1  0000fed8-b063-51ef-8ca4-c42c5bd022ad   \n",
              "2  0004cfe8-bcb2-5a2c-904b-643e0469cbe3   \n",
              "3  000b8172-b96d-5c99-a418-fe1ca156bee1   \n",
              "4  000bf80e-219c-53b7-a000-6c3474c2bd14   \n",
              "\n",
              "                                           purchases  y  \n",
              "0  зубная паста splat stress off антистресс 75мл ...  0  \n",
              "1  шоколад schogetten black & white молочный с ку...  0  \n",
              "2  шоколад воздушный темный 85г сыр белебеевский ...  0  \n",
              "3  шампунь pantene pro-v интенсивное восстановлен...  0  \n",
              "4  шоколад schogetten black & white молочный с ку...  0  "
            ],
            "text/html": [
              "\n",
              "  <div id=\"df-807c087e-3af2-419a-9d53-7cdb95f42f35\">\n",
              "    <div class=\"colab-df-container\">\n",
              "      <div>\n",
              "<style scoped>\n",
              "    .dataframe tbody tr th:only-of-type {\n",
              "        vertical-align: middle;\n",
              "    }\n",
              "\n",
              "    .dataframe tbody tr th {\n",
              "        vertical-align: top;\n",
              "    }\n",
              "\n",
              "    .dataframe thead th {\n",
              "        text-align: right;\n",
              "    }\n",
              "</style>\n",
              "<table border=\"1\" class=\"dataframe\">\n",
              "  <thead>\n",
              "    <tr style=\"text-align: right;\">\n",
              "      <th></th>\n",
              "      <th>user_id</th>\n",
              "      <th>purchases</th>\n",
              "      <th>y</th>\n",
              "    </tr>\n",
              "  </thead>\n",
              "  <tbody>\n",
              "    <tr>\n",
              "      <th>0</th>\n",
              "      <td>00002f01-66e4-5ab8-8d1a-1562a4ddd418</td>\n",
              "      <td>зубная паста splat stress off антистресс 75мл ...</td>\n",
              "      <td>0</td>\n",
              "    </tr>\n",
              "    <tr>\n",
              "      <th>1</th>\n",
              "      <td>0000fed8-b063-51ef-8ca4-c42c5bd022ad</td>\n",
              "      <td>шоколад schogetten black &amp; white молочный с ку...</td>\n",
              "      <td>0</td>\n",
              "    </tr>\n",
              "    <tr>\n",
              "      <th>2</th>\n",
              "      <td>0004cfe8-bcb2-5a2c-904b-643e0469cbe3</td>\n",
              "      <td>шоколад воздушный темный 85г сыр белебеевский ...</td>\n",
              "      <td>0</td>\n",
              "    </tr>\n",
              "    <tr>\n",
              "      <th>3</th>\n",
              "      <td>000b8172-b96d-5c99-a418-fe1ca156bee1</td>\n",
              "      <td>шампунь pantene pro-v интенсивное восстановлен...</td>\n",
              "      <td>0</td>\n",
              "    </tr>\n",
              "    <tr>\n",
              "      <th>4</th>\n",
              "      <td>000bf80e-219c-53b7-a000-6c3474c2bd14</td>\n",
              "      <td>шоколад schogetten black &amp; white молочный с ку...</td>\n",
              "      <td>0</td>\n",
              "    </tr>\n",
              "  </tbody>\n",
              "</table>\n",
              "</div>\n",
              "      <button class=\"colab-df-convert\" onclick=\"convertToInteractive('df-807c087e-3af2-419a-9d53-7cdb95f42f35')\"\n",
              "              title=\"Convert this dataframe to an interactive table.\"\n",
              "              style=\"display:none;\">\n",
              "        \n",
              "  <svg xmlns=\"http://www.w3.org/2000/svg\" height=\"24px\"viewBox=\"0 0 24 24\"\n",
              "       width=\"24px\">\n",
              "    <path d=\"M0 0h24v24H0V0z\" fill=\"none\"/>\n",
              "    <path d=\"M18.56 5.44l.94 2.06.94-2.06 2.06-.94-2.06-.94-.94-2.06-.94 2.06-2.06.94zm-11 1L8.5 8.5l.94-2.06 2.06-.94-2.06-.94L8.5 2.5l-.94 2.06-2.06.94zm10 10l.94 2.06.94-2.06 2.06-.94-2.06-.94-.94-2.06-.94 2.06-2.06.94z\"/><path d=\"M17.41 7.96l-1.37-1.37c-.4-.4-.92-.59-1.43-.59-.52 0-1.04.2-1.43.59L10.3 9.45l-7.72 7.72c-.78.78-.78 2.05 0 2.83L4 21.41c.39.39.9.59 1.41.59.51 0 1.02-.2 1.41-.59l7.78-7.78 2.81-2.81c.8-.78.8-2.07 0-2.86zM5.41 20L4 18.59l7.72-7.72 1.47 1.35L5.41 20z\"/>\n",
              "  </svg>\n",
              "      </button>\n",
              "      \n",
              "  <style>\n",
              "    .colab-df-container {\n",
              "      display:flex;\n",
              "      flex-wrap:wrap;\n",
              "      gap: 12px;\n",
              "    }\n",
              "\n",
              "    .colab-df-convert {\n",
              "      background-color: #E8F0FE;\n",
              "      border: none;\n",
              "      border-radius: 50%;\n",
              "      cursor: pointer;\n",
              "      display: none;\n",
              "      fill: #1967D2;\n",
              "      height: 32px;\n",
              "      padding: 0 0 0 0;\n",
              "      width: 32px;\n",
              "    }\n",
              "\n",
              "    .colab-df-convert:hover {\n",
              "      background-color: #E2EBFA;\n",
              "      box-shadow: 0px 1px 2px rgba(60, 64, 67, 0.3), 0px 1px 3px 1px rgba(60, 64, 67, 0.15);\n",
              "      fill: #174EA6;\n",
              "    }\n",
              "\n",
              "    [theme=dark] .colab-df-convert {\n",
              "      background-color: #3B4455;\n",
              "      fill: #D2E3FC;\n",
              "    }\n",
              "\n",
              "    [theme=dark] .colab-df-convert:hover {\n",
              "      background-color: #434B5C;\n",
              "      box-shadow: 0px 1px 3px 1px rgba(0, 0, 0, 0.15);\n",
              "      filter: drop-shadow(0px 1px 2px rgba(0, 0, 0, 0.3));\n",
              "      fill: #FFFFFF;\n",
              "    }\n",
              "  </style>\n",
              "\n",
              "      <script>\n",
              "        const buttonEl =\n",
              "          document.querySelector('#df-807c087e-3af2-419a-9d53-7cdb95f42f35 button.colab-df-convert');\n",
              "        buttonEl.style.display =\n",
              "          google.colab.kernel.accessAllowed ? 'block' : 'none';\n",
              "\n",
              "        async function convertToInteractive(key) {\n",
              "          const element = document.querySelector('#df-807c087e-3af2-419a-9d53-7cdb95f42f35');\n",
              "          const dataTable =\n",
              "            await google.colab.kernel.invokeFunction('convertToInteractive',\n",
              "                                                     [key], {});\n",
              "          if (!dataTable) return;\n",
              "\n",
              "          const docLinkHtml = 'Like what you see? Visit the ' +\n",
              "            '<a target=\"_blank\" href=https://colab.research.google.com/notebooks/data_table.ipynb>data table notebook</a>'\n",
              "            + ' to learn more about interactive tables.';\n",
              "          element.innerHTML = '';\n",
              "          dataTable['output_type'] = 'display_data';\n",
              "          await google.colab.output.renderOutput(dataTable, element);\n",
              "          const docLink = document.createElement('div');\n",
              "          docLink.innerHTML = docLinkHtml;\n",
              "          element.appendChild(docLink);\n",
              "        }\n",
              "      </script>\n",
              "    </div>\n",
              "  </div>\n",
              "  "
            ]
          },
          "metadata": {},
          "execution_count": 14
        }
      ],
      "source": [
        "X['purchases'] = X['purchases'].apply(lambda x: \" \".join(x), 1)\n",
        "X.head()"
      ]
    },
    {
      "cell_type": "markdown",
      "metadata": {
        "id": "Tl6VXqkaFs4C"
      },
      "source": [
        "Будем используем обычный random negative sample"
      ]
    },
    {
      "cell_type": "code",
      "execution_count": null,
      "metadata": {
        "id": "vA-IOIFJFs4E"
      },
      "outputs": [],
      "source": [
        "# разделим данные на train/test\n",
        "X_train, X_test, y_train, y_test = train_test_split(X, X['y'], random_state=0)"
      ]
    },
    {
      "cell_type": "markdown",
      "metadata": {
        "id": "SFXNZQlZFs4F"
      },
      "source": [
        "У нас есть разметка (известные позитивы) и поле purchases (список покупок) из которого мы можем извлекать признаки. В качестве признаков будем использовать tfidf"
      ]
    },
    {
      "cell_type": "code",
      "execution_count": null,
      "metadata": {
        "id": "pUvZyXOuFs4H"
      },
      "outputs": [],
      "source": [
        "# соберем наш простой pipeline, но нам понадобится написать класс для выбора нужного поля\n",
        "\n",
        "class FeatureSelector(BaseEstimator, TransformerMixin):\n",
        "    def __init__(self, column):\n",
        "        self.column = column\n",
        "\n",
        "    def fit(self, X, y=None):\n",
        "        return self\n",
        "\n",
        "    def transform(self, X, y=None):\n",
        "        return X[self.column]\n",
        "\n",
        "pipeline = Pipeline([('purchases_selector', FeatureSelector(column='purchases')), \n",
        "                     ('purchases_tfidf', TfidfVectorizer()), \n",
        "                     ('clf', LogisticRegression())])"
      ]
    },
    {
      "cell_type": "code",
      "execution_count": null,
      "metadata": {
        "id": "qikxjg_8Fs4J",
        "outputId": "4127995b-739e-4a08-c2ad-f083c47407c4",
        "colab": {
          "base_uri": "https://localhost:8080/"
        }
      },
      "outputs": [
        {
          "output_type": "execute_result",
          "data": {
            "text/plain": [
              "Pipeline(steps=[('purchases_selector', FeatureSelector(column='purchases')),\n",
              "                ('purchases_tfidf', TfidfVectorizer()),\n",
              "                ('clf', LogisticRegression())])"
            ]
          },
          "metadata": {},
          "execution_count": 17
        }
      ],
      "source": [
        "# обучим наш пайплайн\n",
        "pipeline.fit(X_train, y_train)"
      ]
    },
    {
      "cell_type": "code",
      "source": [
        "tfidf = pipeline.named_steps['purchases_tfidf']\n",
        "len(tfidf.get_feature_names())"
      ],
      "metadata": {
        "colab": {
          "base_uri": "https://localhost:8080/"
        },
        "id": "27_f10nsNkeJ",
        "outputId": "9fd76aa6-ee53-4ff8-d59f-7bbc23451f5e"
      },
      "execution_count": null,
      "outputs": [
        {
          "output_type": "stream",
          "name": "stderr",
          "text": [
            "/usr/local/lib/python3.7/dist-packages/sklearn/utils/deprecation.py:87: FutureWarning: Function get_feature_names is deprecated; get_feature_names is deprecated in 1.0 and will be removed in 1.2. Please use get_feature_names_out instead.\n",
            "  warnings.warn(msg, category=FutureWarning)\n"
          ]
        },
        {
          "output_type": "execute_result",
          "data": {
            "text/plain": [
              "5848"
            ]
          },
          "metadata": {},
          "execution_count": 18
        }
      ]
    },
    {
      "cell_type": "code",
      "source": [
        "df = pd.DataFrame.sparse.from_spmatrix(tfidf.transform(X_test['purchases'].iloc[:10]))\n",
        "df = pd.DataFrame(df)\n",
        "df.columns = tfidf.get_feature_names_out()\n",
        "df"
      ],
      "metadata": {
        "colab": {
          "base_uri": "https://localhost:8080/",
          "height": 392
        },
        "id": "aA740YsLMsWR",
        "outputId": "28665184-7298-4226-c26f-5b788a0c1ba5"
      },
      "execution_count": null,
      "outputs": [
        {
          "output_type": "execute_result",
          "data": {
            "text/plain": [
              "   000   04   05  0601   0г  0кг   0л  0манго   10      100  ...  японски  \\\n",
              "0  0.0  0.0  0.0   0.0  0.0  0.0  0.0     0.0  0.0  0.00000  ...      0.0   \n",
              "1  0.0  0.0  0.0   0.0  0.0  0.0  0.0     0.0  0.0  0.00000  ...      0.0   \n",
              "2  0.0  0.0  0.0   0.0  0.0  0.0  0.0     0.0  0.0  0.15099  ...      0.0   \n",
              "3  0.0  0.0  0.0   0.0  0.0  0.0  0.0     0.0  0.0  0.00000  ...      0.0   \n",
              "4  0.0  0.0  0.0   0.0  0.0  0.0  0.0     0.0  0.0  0.00000  ...      0.0   \n",
              "5  0.0  0.0  0.0   0.0  0.0  0.0  0.0     0.0  0.0  0.00000  ...      0.0   \n",
              "6  0.0  0.0  0.0   0.0  0.0  0.0  0.0     0.0  0.0  0.00000  ...      0.0   \n",
              "7  0.0  0.0  0.0   0.0  0.0  0.0  0.0     0.0  0.0  0.00000  ...      0.0   \n",
              "8  0.0  0.0  0.0   0.0  0.0  0.0  0.0     0.0  0.0  0.00000  ...      0.0   \n",
              "9  0.0  0.0  0.0   0.0  0.0  0.0  0.0     0.0  0.0  0.00000  ...      0.0   \n",
              "\n",
              "   японский  японского  японской  яркие  яркий  яркость  ярлычка  ярлычками  \\\n",
              "0       0.0        0.0       0.0    0.0    0.0      0.0      0.0        0.0   \n",
              "1       0.0        0.0       0.0    0.0    0.0      0.0      0.0        0.0   \n",
              "2       0.0        0.0       0.0    0.0    0.0      0.0      0.0        0.0   \n",
              "3       0.0        0.0       0.0    0.0    0.0      0.0      0.0        0.0   \n",
              "4       0.0        0.0       0.0    0.0    0.0      0.0      0.0        0.0   \n",
              "5       0.0        0.0       0.0    0.0    0.0      0.0      0.0        0.0   \n",
              "6       0.0        0.0       0.0    0.0    0.0      0.0      0.0        0.0   \n",
              "7       0.0        0.0       0.0    0.0    0.0      0.0      0.0        0.0   \n",
              "8       0.0        0.0       0.0    0.0    0.0      0.0      0.0        0.0   \n",
              "9       0.0        0.0       0.0    0.0    0.0      0.0      0.0        0.0   \n",
              "\n",
              "   яшкино  \n",
              "0     0.0  \n",
              "1     0.0  \n",
              "2     0.0  \n",
              "3     0.0  \n",
              "4     0.0  \n",
              "5     0.0  \n",
              "6     0.0  \n",
              "7     0.0  \n",
              "8     0.0  \n",
              "9     0.0  \n",
              "\n",
              "[10 rows x 5848 columns]"
            ],
            "text/html": [
              "\n",
              "  <div id=\"df-32421613-b457-4cd1-a3b5-472b2fc1586d\">\n",
              "    <div class=\"colab-df-container\">\n",
              "      <div>\n",
              "<style scoped>\n",
              "    .dataframe tbody tr th:only-of-type {\n",
              "        vertical-align: middle;\n",
              "    }\n",
              "\n",
              "    .dataframe tbody tr th {\n",
              "        vertical-align: top;\n",
              "    }\n",
              "\n",
              "    .dataframe thead th {\n",
              "        text-align: right;\n",
              "    }\n",
              "</style>\n",
              "<table border=\"1\" class=\"dataframe\">\n",
              "  <thead>\n",
              "    <tr style=\"text-align: right;\">\n",
              "      <th></th>\n",
              "      <th>000</th>\n",
              "      <th>04</th>\n",
              "      <th>05</th>\n",
              "      <th>0601</th>\n",
              "      <th>0г</th>\n",
              "      <th>0кг</th>\n",
              "      <th>0л</th>\n",
              "      <th>0манго</th>\n",
              "      <th>10</th>\n",
              "      <th>100</th>\n",
              "      <th>...</th>\n",
              "      <th>японски</th>\n",
              "      <th>японский</th>\n",
              "      <th>японского</th>\n",
              "      <th>японской</th>\n",
              "      <th>яркие</th>\n",
              "      <th>яркий</th>\n",
              "      <th>яркость</th>\n",
              "      <th>ярлычка</th>\n",
              "      <th>ярлычками</th>\n",
              "      <th>яшкино</th>\n",
              "    </tr>\n",
              "  </thead>\n",
              "  <tbody>\n",
              "    <tr>\n",
              "      <th>0</th>\n",
              "      <td>0.0</td>\n",
              "      <td>0.0</td>\n",
              "      <td>0.0</td>\n",
              "      <td>0.0</td>\n",
              "      <td>0.0</td>\n",
              "      <td>0.0</td>\n",
              "      <td>0.0</td>\n",
              "      <td>0.0</td>\n",
              "      <td>0.0</td>\n",
              "      <td>0.00000</td>\n",
              "      <td>...</td>\n",
              "      <td>0.0</td>\n",
              "      <td>0.0</td>\n",
              "      <td>0.0</td>\n",
              "      <td>0.0</td>\n",
              "      <td>0.0</td>\n",
              "      <td>0.0</td>\n",
              "      <td>0.0</td>\n",
              "      <td>0.0</td>\n",
              "      <td>0.0</td>\n",
              "      <td>0.0</td>\n",
              "    </tr>\n",
              "    <tr>\n",
              "      <th>1</th>\n",
              "      <td>0.0</td>\n",
              "      <td>0.0</td>\n",
              "      <td>0.0</td>\n",
              "      <td>0.0</td>\n",
              "      <td>0.0</td>\n",
              "      <td>0.0</td>\n",
              "      <td>0.0</td>\n",
              "      <td>0.0</td>\n",
              "      <td>0.0</td>\n",
              "      <td>0.00000</td>\n",
              "      <td>...</td>\n",
              "      <td>0.0</td>\n",
              "      <td>0.0</td>\n",
              "      <td>0.0</td>\n",
              "      <td>0.0</td>\n",
              "      <td>0.0</td>\n",
              "      <td>0.0</td>\n",
              "      <td>0.0</td>\n",
              "      <td>0.0</td>\n",
              "      <td>0.0</td>\n",
              "      <td>0.0</td>\n",
              "    </tr>\n",
              "    <tr>\n",
              "      <th>2</th>\n",
              "      <td>0.0</td>\n",
              "      <td>0.0</td>\n",
              "      <td>0.0</td>\n",
              "      <td>0.0</td>\n",
              "      <td>0.0</td>\n",
              "      <td>0.0</td>\n",
              "      <td>0.0</td>\n",
              "      <td>0.0</td>\n",
              "      <td>0.0</td>\n",
              "      <td>0.15099</td>\n",
              "      <td>...</td>\n",
              "      <td>0.0</td>\n",
              "      <td>0.0</td>\n",
              "      <td>0.0</td>\n",
              "      <td>0.0</td>\n",
              "      <td>0.0</td>\n",
              "      <td>0.0</td>\n",
              "      <td>0.0</td>\n",
              "      <td>0.0</td>\n",
              "      <td>0.0</td>\n",
              "      <td>0.0</td>\n",
              "    </tr>\n",
              "    <tr>\n",
              "      <th>3</th>\n",
              "      <td>0.0</td>\n",
              "      <td>0.0</td>\n",
              "      <td>0.0</td>\n",
              "      <td>0.0</td>\n",
              "      <td>0.0</td>\n",
              "      <td>0.0</td>\n",
              "      <td>0.0</td>\n",
              "      <td>0.0</td>\n",
              "      <td>0.0</td>\n",
              "      <td>0.00000</td>\n",
              "      <td>...</td>\n",
              "      <td>0.0</td>\n",
              "      <td>0.0</td>\n",
              "      <td>0.0</td>\n",
              "      <td>0.0</td>\n",
              "      <td>0.0</td>\n",
              "      <td>0.0</td>\n",
              "      <td>0.0</td>\n",
              "      <td>0.0</td>\n",
              "      <td>0.0</td>\n",
              "      <td>0.0</td>\n",
              "    </tr>\n",
              "    <tr>\n",
              "      <th>4</th>\n",
              "      <td>0.0</td>\n",
              "      <td>0.0</td>\n",
              "      <td>0.0</td>\n",
              "      <td>0.0</td>\n",
              "      <td>0.0</td>\n",
              "      <td>0.0</td>\n",
              "      <td>0.0</td>\n",
              "      <td>0.0</td>\n",
              "      <td>0.0</td>\n",
              "      <td>0.00000</td>\n",
              "      <td>...</td>\n",
              "      <td>0.0</td>\n",
              "      <td>0.0</td>\n",
              "      <td>0.0</td>\n",
              "      <td>0.0</td>\n",
              "      <td>0.0</td>\n",
              "      <td>0.0</td>\n",
              "      <td>0.0</td>\n",
              "      <td>0.0</td>\n",
              "      <td>0.0</td>\n",
              "      <td>0.0</td>\n",
              "    </tr>\n",
              "    <tr>\n",
              "      <th>5</th>\n",
              "      <td>0.0</td>\n",
              "      <td>0.0</td>\n",
              "      <td>0.0</td>\n",
              "      <td>0.0</td>\n",
              "      <td>0.0</td>\n",
              "      <td>0.0</td>\n",
              "      <td>0.0</td>\n",
              "      <td>0.0</td>\n",
              "      <td>0.0</td>\n",
              "      <td>0.00000</td>\n",
              "      <td>...</td>\n",
              "      <td>0.0</td>\n",
              "      <td>0.0</td>\n",
              "      <td>0.0</td>\n",
              "      <td>0.0</td>\n",
              "      <td>0.0</td>\n",
              "      <td>0.0</td>\n",
              "      <td>0.0</td>\n",
              "      <td>0.0</td>\n",
              "      <td>0.0</td>\n",
              "      <td>0.0</td>\n",
              "    </tr>\n",
              "    <tr>\n",
              "      <th>6</th>\n",
              "      <td>0.0</td>\n",
              "      <td>0.0</td>\n",
              "      <td>0.0</td>\n",
              "      <td>0.0</td>\n",
              "      <td>0.0</td>\n",
              "      <td>0.0</td>\n",
              "      <td>0.0</td>\n",
              "      <td>0.0</td>\n",
              "      <td>0.0</td>\n",
              "      <td>0.00000</td>\n",
              "      <td>...</td>\n",
              "      <td>0.0</td>\n",
              "      <td>0.0</td>\n",
              "      <td>0.0</td>\n",
              "      <td>0.0</td>\n",
              "      <td>0.0</td>\n",
              "      <td>0.0</td>\n",
              "      <td>0.0</td>\n",
              "      <td>0.0</td>\n",
              "      <td>0.0</td>\n",
              "      <td>0.0</td>\n",
              "    </tr>\n",
              "    <tr>\n",
              "      <th>7</th>\n",
              "      <td>0.0</td>\n",
              "      <td>0.0</td>\n",
              "      <td>0.0</td>\n",
              "      <td>0.0</td>\n",
              "      <td>0.0</td>\n",
              "      <td>0.0</td>\n",
              "      <td>0.0</td>\n",
              "      <td>0.0</td>\n",
              "      <td>0.0</td>\n",
              "      <td>0.00000</td>\n",
              "      <td>...</td>\n",
              "      <td>0.0</td>\n",
              "      <td>0.0</td>\n",
              "      <td>0.0</td>\n",
              "      <td>0.0</td>\n",
              "      <td>0.0</td>\n",
              "      <td>0.0</td>\n",
              "      <td>0.0</td>\n",
              "      <td>0.0</td>\n",
              "      <td>0.0</td>\n",
              "      <td>0.0</td>\n",
              "    </tr>\n",
              "    <tr>\n",
              "      <th>8</th>\n",
              "      <td>0.0</td>\n",
              "      <td>0.0</td>\n",
              "      <td>0.0</td>\n",
              "      <td>0.0</td>\n",
              "      <td>0.0</td>\n",
              "      <td>0.0</td>\n",
              "      <td>0.0</td>\n",
              "      <td>0.0</td>\n",
              "      <td>0.0</td>\n",
              "      <td>0.00000</td>\n",
              "      <td>...</td>\n",
              "      <td>0.0</td>\n",
              "      <td>0.0</td>\n",
              "      <td>0.0</td>\n",
              "      <td>0.0</td>\n",
              "      <td>0.0</td>\n",
              "      <td>0.0</td>\n",
              "      <td>0.0</td>\n",
              "      <td>0.0</td>\n",
              "      <td>0.0</td>\n",
              "      <td>0.0</td>\n",
              "    </tr>\n",
              "    <tr>\n",
              "      <th>9</th>\n",
              "      <td>0.0</td>\n",
              "      <td>0.0</td>\n",
              "      <td>0.0</td>\n",
              "      <td>0.0</td>\n",
              "      <td>0.0</td>\n",
              "      <td>0.0</td>\n",
              "      <td>0.0</td>\n",
              "      <td>0.0</td>\n",
              "      <td>0.0</td>\n",
              "      <td>0.00000</td>\n",
              "      <td>...</td>\n",
              "      <td>0.0</td>\n",
              "      <td>0.0</td>\n",
              "      <td>0.0</td>\n",
              "      <td>0.0</td>\n",
              "      <td>0.0</td>\n",
              "      <td>0.0</td>\n",
              "      <td>0.0</td>\n",
              "      <td>0.0</td>\n",
              "      <td>0.0</td>\n",
              "      <td>0.0</td>\n",
              "    </tr>\n",
              "  </tbody>\n",
              "</table>\n",
              "<p>10 rows × 5848 columns</p>\n",
              "</div>\n",
              "      <button class=\"colab-df-convert\" onclick=\"convertToInteractive('df-32421613-b457-4cd1-a3b5-472b2fc1586d')\"\n",
              "              title=\"Convert this dataframe to an interactive table.\"\n",
              "              style=\"display:none;\">\n",
              "        \n",
              "  <svg xmlns=\"http://www.w3.org/2000/svg\" height=\"24px\"viewBox=\"0 0 24 24\"\n",
              "       width=\"24px\">\n",
              "    <path d=\"M0 0h24v24H0V0z\" fill=\"none\"/>\n",
              "    <path d=\"M18.56 5.44l.94 2.06.94-2.06 2.06-.94-2.06-.94-.94-2.06-.94 2.06-2.06.94zm-11 1L8.5 8.5l.94-2.06 2.06-.94-2.06-.94L8.5 2.5l-.94 2.06-2.06.94zm10 10l.94 2.06.94-2.06 2.06-.94-2.06-.94-.94-2.06-.94 2.06-2.06.94z\"/><path d=\"M17.41 7.96l-1.37-1.37c-.4-.4-.92-.59-1.43-.59-.52 0-1.04.2-1.43.59L10.3 9.45l-7.72 7.72c-.78.78-.78 2.05 0 2.83L4 21.41c.39.39.9.59 1.41.59.51 0 1.02-.2 1.41-.59l7.78-7.78 2.81-2.81c.8-.78.8-2.07 0-2.86zM5.41 20L4 18.59l7.72-7.72 1.47 1.35L5.41 20z\"/>\n",
              "  </svg>\n",
              "      </button>\n",
              "      \n",
              "  <style>\n",
              "    .colab-df-container {\n",
              "      display:flex;\n",
              "      flex-wrap:wrap;\n",
              "      gap: 12px;\n",
              "    }\n",
              "\n",
              "    .colab-df-convert {\n",
              "      background-color: #E8F0FE;\n",
              "      border: none;\n",
              "      border-radius: 50%;\n",
              "      cursor: pointer;\n",
              "      display: none;\n",
              "      fill: #1967D2;\n",
              "      height: 32px;\n",
              "      padding: 0 0 0 0;\n",
              "      width: 32px;\n",
              "    }\n",
              "\n",
              "    .colab-df-convert:hover {\n",
              "      background-color: #E2EBFA;\n",
              "      box-shadow: 0px 1px 2px rgba(60, 64, 67, 0.3), 0px 1px 3px 1px rgba(60, 64, 67, 0.15);\n",
              "      fill: #174EA6;\n",
              "    }\n",
              "\n",
              "    [theme=dark] .colab-df-convert {\n",
              "      background-color: #3B4455;\n",
              "      fill: #D2E3FC;\n",
              "    }\n",
              "\n",
              "    [theme=dark] .colab-df-convert:hover {\n",
              "      background-color: #434B5C;\n",
              "      box-shadow: 0px 1px 3px 1px rgba(0, 0, 0, 0.15);\n",
              "      filter: drop-shadow(0px 1px 2px rgba(0, 0, 0, 0.3));\n",
              "      fill: #FFFFFF;\n",
              "    }\n",
              "  </style>\n",
              "\n",
              "      <script>\n",
              "        const buttonEl =\n",
              "          document.querySelector('#df-32421613-b457-4cd1-a3b5-472b2fc1586d button.colab-df-convert');\n",
              "        buttonEl.style.display =\n",
              "          google.colab.kernel.accessAllowed ? 'block' : 'none';\n",
              "\n",
              "        async function convertToInteractive(key) {\n",
              "          const element = document.querySelector('#df-32421613-b457-4cd1-a3b5-472b2fc1586d');\n",
              "          const dataTable =\n",
              "            await google.colab.kernel.invokeFunction('convertToInteractive',\n",
              "                                                     [key], {});\n",
              "          if (!dataTable) return;\n",
              "\n",
              "          const docLinkHtml = 'Like what you see? Visit the ' +\n",
              "            '<a target=\"_blank\" href=https://colab.research.google.com/notebooks/data_table.ipynb>data table notebook</a>'\n",
              "            + ' to learn more about interactive tables.';\n",
              "          element.innerHTML = '';\n",
              "          dataTable['output_type'] = 'display_data';\n",
              "          await google.colab.output.renderOutput(dataTable, element);\n",
              "          const docLink = document.createElement('div');\n",
              "          docLink.innerHTML = docLinkHtml;\n",
              "          element.appendChild(docLink);\n",
              "        }\n",
              "      </script>\n",
              "    </div>\n",
              "  </div>\n",
              "  "
            ]
          },
          "metadata": {},
          "execution_count": 19
        }
      ]
    },
    {
      "cell_type": "markdown",
      "metadata": {
        "id": "Z68RzSsmFs4K"
      },
      "source": [
        "Получим прогнозы для \"тестовой\" выборки"
      ]
    },
    {
      "cell_type": "code",
      "execution_count": null,
      "metadata": {
        "id": "IuEdLrxXFs4M",
        "outputId": "e3d0d0ad-cc86-4c3d-f51f-a58809e04d09",
        "colab": {
          "base_uri": "https://localhost:8080/"
        }
      },
      "outputs": [
        {
          "output_type": "execute_result",
          "data": {
            "text/plain": [
              "array([0.00987465, 0.00454258, 0.00221269, 0.02663074, 0.00402058,\n",
              "       0.02508175, 0.00269904, 0.11747235, 0.01075453, 0.0036021 ])"
            ]
          },
          "metadata": {},
          "execution_count": 20
        }
      ],
      "source": [
        "# наши прогнозы для тестовой выборки\n",
        "preds = pipeline.predict_proba(X_test)[:, 1]\n",
        "preds[:10]"
      ]
    },
    {
      "cell_type": "code",
      "execution_count": null,
      "metadata": {
        "id": "EQ8Rou2WFs4O",
        "outputId": "47849dc6-c32d-4462-c691-d32cc732bb0c",
        "colab": {
          "base_uri": "https://localhost:8080/"
        }
      },
      "outputs": [
        {
          "output_type": "stream",
          "name": "stdout",
          "text": [
            "Best Threshold=0.2898588358747974, F-Score=0.973, Precision=0.980, Recall=0.966\n"
          ]
        }
      ],
      "source": [
        "from sklearn.metrics import f1_score, roc_auc_score, precision_score, classification_report, precision_recall_curve, confusion_matrix\n",
        "\n",
        "precision, recall, thresholds = precision_recall_curve(y_test, preds)\n",
        "fscore = (2 * precision * recall) / (precision + recall)\n",
        "# locate the index of the largest f score\n",
        "ix = np.argmax(fscore)\n",
        "print(f'Best Threshold={thresholds[ix]}, F-Score={fscore[ix]:.3f}, Precision={precision[ix]:.3f}, Recall={recall[ix]:.3f}')"
      ]
    },
    {
      "cell_type": "markdown",
      "metadata": {
        "id": "BhcZgUHCFs4Q"
      },
      "source": [
        "Довольно неплохие на первый взгляд метрики. Давайте теперь проскорим всю выборку и отсортируем по убыванию прогноза (ведь нам в итоге нужно взять топ 5000 пользователей)"
      ]
    },
    {
      "cell_type": "code",
      "execution_count": null,
      "metadata": {
        "id": "n2LGlqZ6Fs4R",
        "outputId": "3a41aad9-b402-4a40-95f4-76921bd9a0f9",
        "colab": {
          "base_uri": "https://localhost:8080/",
          "height": 143
        }
      },
      "outputs": [
        {
          "output_type": "execute_result",
          "data": {
            "text/plain": [
              "                                    user_id  \\\n",
              "1675   0d2f872b-6a49-5e95-9f2b-3ec9f9365dc6   \n",
              "19586  9c753d40-22ef-5491-b907-ff76f03d2044   \n",
              "15436  7c615620-53bf-59ce-8186-8d4f88ceca73   \n",
              "\n",
              "                                               purchases  y    y_pred  \n",
              "1675   чай dammann зеленый с жасмином, 25пак*2г корм ...  1  0.999988  \n",
              "19586  шоколад chokodelika темный с грецким орехом 16...  1  0.999952  \n",
              "15436  шоколад lindt creation тёмный с мятой 0,15кг н...  1  0.999933  "
            ],
            "text/html": [
              "\n",
              "  <div id=\"df-94b76ddd-0f9a-432a-ad0e-5338a6142b3b\">\n",
              "    <div class=\"colab-df-container\">\n",
              "      <div>\n",
              "<style scoped>\n",
              "    .dataframe tbody tr th:only-of-type {\n",
              "        vertical-align: middle;\n",
              "    }\n",
              "\n",
              "    .dataframe tbody tr th {\n",
              "        vertical-align: top;\n",
              "    }\n",
              "\n",
              "    .dataframe thead th {\n",
              "        text-align: right;\n",
              "    }\n",
              "</style>\n",
              "<table border=\"1\" class=\"dataframe\">\n",
              "  <thead>\n",
              "    <tr style=\"text-align: right;\">\n",
              "      <th></th>\n",
              "      <th>user_id</th>\n",
              "      <th>purchases</th>\n",
              "      <th>y</th>\n",
              "      <th>y_pred</th>\n",
              "    </tr>\n",
              "  </thead>\n",
              "  <tbody>\n",
              "    <tr>\n",
              "      <th>1675</th>\n",
              "      <td>0d2f872b-6a49-5e95-9f2b-3ec9f9365dc6</td>\n",
              "      <td>чай dammann зеленый с жасмином, 25пак*2г корм ...</td>\n",
              "      <td>1</td>\n",
              "      <td>0.999988</td>\n",
              "    </tr>\n",
              "    <tr>\n",
              "      <th>19586</th>\n",
              "      <td>9c753d40-22ef-5491-b907-ff76f03d2044</td>\n",
              "      <td>шоколад chokodelika темный с грецким орехом 16...</td>\n",
              "      <td>1</td>\n",
              "      <td>0.999952</td>\n",
              "    </tr>\n",
              "    <tr>\n",
              "      <th>15436</th>\n",
              "      <td>7c615620-53bf-59ce-8186-8d4f88ceca73</td>\n",
              "      <td>шоколад lindt creation тёмный с мятой 0,15кг н...</td>\n",
              "      <td>1</td>\n",
              "      <td>0.999933</td>\n",
              "    </tr>\n",
              "  </tbody>\n",
              "</table>\n",
              "</div>\n",
              "      <button class=\"colab-df-convert\" onclick=\"convertToInteractive('df-94b76ddd-0f9a-432a-ad0e-5338a6142b3b')\"\n",
              "              title=\"Convert this dataframe to an interactive table.\"\n",
              "              style=\"display:none;\">\n",
              "        \n",
              "  <svg xmlns=\"http://www.w3.org/2000/svg\" height=\"24px\"viewBox=\"0 0 24 24\"\n",
              "       width=\"24px\">\n",
              "    <path d=\"M0 0h24v24H0V0z\" fill=\"none\"/>\n",
              "    <path d=\"M18.56 5.44l.94 2.06.94-2.06 2.06-.94-2.06-.94-.94-2.06-.94 2.06-2.06.94zm-11 1L8.5 8.5l.94-2.06 2.06-.94-2.06-.94L8.5 2.5l-.94 2.06-2.06.94zm10 10l.94 2.06.94-2.06 2.06-.94-2.06-.94-.94-2.06-.94 2.06-2.06.94z\"/><path d=\"M17.41 7.96l-1.37-1.37c-.4-.4-.92-.59-1.43-.59-.52 0-1.04.2-1.43.59L10.3 9.45l-7.72 7.72c-.78.78-.78 2.05 0 2.83L4 21.41c.39.39.9.59 1.41.59.51 0 1.02-.2 1.41-.59l7.78-7.78 2.81-2.81c.8-.78.8-2.07 0-2.86zM5.41 20L4 18.59l7.72-7.72 1.47 1.35L5.41 20z\"/>\n",
              "  </svg>\n",
              "      </button>\n",
              "      \n",
              "  <style>\n",
              "    .colab-df-container {\n",
              "      display:flex;\n",
              "      flex-wrap:wrap;\n",
              "      gap: 12px;\n",
              "    }\n",
              "\n",
              "    .colab-df-convert {\n",
              "      background-color: #E8F0FE;\n",
              "      border: none;\n",
              "      border-radius: 50%;\n",
              "      cursor: pointer;\n",
              "      display: none;\n",
              "      fill: #1967D2;\n",
              "      height: 32px;\n",
              "      padding: 0 0 0 0;\n",
              "      width: 32px;\n",
              "    }\n",
              "\n",
              "    .colab-df-convert:hover {\n",
              "      background-color: #E2EBFA;\n",
              "      box-shadow: 0px 1px 2px rgba(60, 64, 67, 0.3), 0px 1px 3px 1px rgba(60, 64, 67, 0.15);\n",
              "      fill: #174EA6;\n",
              "    }\n",
              "\n",
              "    [theme=dark] .colab-df-convert {\n",
              "      background-color: #3B4455;\n",
              "      fill: #D2E3FC;\n",
              "    }\n",
              "\n",
              "    [theme=dark] .colab-df-convert:hover {\n",
              "      background-color: #434B5C;\n",
              "      box-shadow: 0px 1px 3px 1px rgba(0, 0, 0, 0.15);\n",
              "      filter: drop-shadow(0px 1px 2px rgba(0, 0, 0, 0.3));\n",
              "      fill: #FFFFFF;\n",
              "    }\n",
              "  </style>\n",
              "\n",
              "      <script>\n",
              "        const buttonEl =\n",
              "          document.querySelector('#df-94b76ddd-0f9a-432a-ad0e-5338a6142b3b button.colab-df-convert');\n",
              "        buttonEl.style.display =\n",
              "          google.colab.kernel.accessAllowed ? 'block' : 'none';\n",
              "\n",
              "        async function convertToInteractive(key) {\n",
              "          const element = document.querySelector('#df-94b76ddd-0f9a-432a-ad0e-5338a6142b3b');\n",
              "          const dataTable =\n",
              "            await google.colab.kernel.invokeFunction('convertToInteractive',\n",
              "                                                     [key], {});\n",
              "          if (!dataTable) return;\n",
              "\n",
              "          const docLinkHtml = 'Like what you see? Visit the ' +\n",
              "            '<a target=\"_blank\" href=https://colab.research.google.com/notebooks/data_table.ipynb>data table notebook</a>'\n",
              "            + ' to learn more about interactive tables.';\n",
              "          element.innerHTML = '';\n",
              "          dataTable['output_type'] = 'display_data';\n",
              "          await google.colab.output.renderOutput(dataTable, element);\n",
              "          const docLink = document.createElement('div');\n",
              "          docLink.innerHTML = docLinkHtml;\n",
              "          element.appendChild(docLink);\n",
              "        }\n",
              "      </script>\n",
              "    </div>\n",
              "  </div>\n",
              "  "
            ]
          },
          "metadata": {},
          "execution_count": 22
        }
      ],
      "source": [
        "X['y_pred'] = pipeline.predict_proba(X)[:, 1]\n",
        "X = X.sort_values('y_pred', ascending=False)\n",
        "X.head(3)"
      ]
    },
    {
      "cell_type": "markdown",
      "metadata": {
        "id": "y9wGgCfgFs4T"
      },
      "source": [
        "Наконец, возьмем наши топ 5000 пользователей"
      ]
    },
    {
      "cell_type": "code",
      "execution_count": null,
      "metadata": {
        "id": "l6R1ZKN1Fs4W"
      },
      "outputs": [],
      "source": [
        "selected_users = X.iloc[:5000]['user_id'].values"
      ]
    },
    {
      "cell_type": "markdown",
      "metadata": {
        "id": "v0D7WMeOFs4X"
      },
      "source": [
        "Давайте попробуем понять, чем они отличаются от всех остальных (если отличаются вообще)"
      ]
    },
    {
      "cell_type": "code",
      "execution_count": null,
      "metadata": {
        "id": "x-3PqXAUFs4Z",
        "outputId": "c7911483-a0f7-4e55-ca5e-28b6d0f3bd00",
        "colab": {
          "base_uri": "https://localhost:8080/"
        }
      },
      "outputs": [
        {
          "output_type": "execute_result",
          "data": {
            "text/plain": [
              "кофе            0.22604\n",
              "шоколад         0.20240\n",
              "напиток         0.13028\n",
              "шампунь         0.12380\n",
              "чай             0.06292\n",
              "сыр             0.06284\n",
              "зубная паста    0.05548\n",
              "колбаса         0.05180\n",
              "пюре            0.04372\n",
              "корм            0.04072\n",
              "Name: item_type, dtype: float64"
            ]
          },
          "metadata": {},
          "execution_count": 24
        }
      ],
      "source": [
        "purchases[purchases['user_id'].isin(selected_users)]['item_type'].value_counts(normalize=True)"
      ]
    },
    {
      "cell_type": "code",
      "execution_count": null,
      "metadata": {
        "id": "4JEmfNY2Fs4b",
        "outputId": "1537916c-2813-4bf1-c4e7-97ce795461b5",
        "colab": {
          "base_uri": "https://localhost:8080/"
        }
      },
      "outputs": [
        {
          "output_type": "execute_result",
          "data": {
            "text/plain": [
              "колбаса         0.224785\n",
              "зубная паста    0.178756\n",
              "корм            0.125830\n",
              "шоколад         0.105156\n",
              "шампунь         0.097193\n",
              "напиток         0.096600\n",
              "сыр             0.065822\n",
              "кофе            0.054111\n",
              "пюре            0.051748\n",
              "Name: item_type, dtype: float64"
            ]
          },
          "metadata": {},
          "execution_count": 25
        }
      ],
      "source": [
        "purchases[~purchases['user_id'].isin(selected_users)]['item_type'].value_counts(normalize=True)"
      ]
    },
    {
      "cell_type": "markdown",
      "metadata": {
        "id": "oOPZDNccFs4d"
      },
      "source": [
        "Посмотрим на feature_importances"
      ]
    },
    {
      "cell_type": "code",
      "execution_count": null,
      "metadata": {
        "id": "SY2miWFgFs4e",
        "outputId": "85fa1c46-a3dd-4ec3-bcb8-36682f17d356",
        "colab": {
          "base_uri": "https://localhost:8080/"
        }
      },
      "outputs": [
        {
          "output_type": "execute_result",
          "data": {
            "text/plain": [
              "array(['чай', 'черный', '25пак', 'листовой', 'зеленый', '2г', 'fuzetea',\n",
              "       'greenfield', '20', 'байховый', '20пак', 'ahmad', '8г',\n",
              "       'пакетиков', '100пак', '25', 'крупнолистовой', 'tess', 'curtis',\n",
              "       'травяной', 'richard', 'майский', '5г', 'ароматом', 'grey',\n",
              "       'hyleys', 'dammann', 'принцесса', 'basilur', 'the', 'цейлонский',\n",
              "       'ceylon', 'шиповник', 'maitre', 'milford', 'азерчай', '20п',\n",
              "       'nadin', 'китайский', 'newby', 'de', 'пирамидках', 'mlesna', '50г',\n",
              "       'пирамидок', 'жасмином', 'sonnentor', 'earl', 'чабрецом', 'нури',\n",
              "       'vитамин', 'twinings', 'грей', 'green', 'гармония', '200г',\n",
              "       'витацентр', 'английский', '20пир', 'айдиго', 'жень', 'японски',\n",
              "       'тянь', 'цейлон', 'индийский', 'ромашка', 'природы', '75л',\n",
              "       'grace', 'akbar', 'чёрный', 'ява', 'collection', 'добавками',\n",
              "       'иван', 'улун', 'riston', 'холодный', '25шт', 'вкусов',\n",
              "       'среднелистовой', 'breakfast', '0г', 'юдзу', 'дракон', 'мелиссой',\n",
              "       'пакетированный', '100г', 'эрл', 'hilltop', 'kwinst', 'english',\n",
              "       'ассорти', '40г', 'arizona', 'шкатулка', 'музыкальная', 'отборный',\n",
              "       'жасмин', 'панда'], dtype=object)"
            ]
          },
          "metadata": {},
          "execution_count": 26
        }
      ],
      "source": [
        "feature_names = pipeline.named_steps[\"purchases_tfidf\"].get_feature_names_out()\n",
        "feature_weights = pipeline.named_steps[\"clf\"].coef_[0]\n",
        "\n",
        "weights = pd.DataFrame({\n",
        "    'feature_name': feature_names,\n",
        "    'feature_weight': feature_weights\n",
        "}).sort_values('feature_weight', ascending=False)\n",
        "\n",
        "# топ 100 слов\n",
        "weights['feature_name'].iloc[:100].values"
      ]
    },
    {
      "cell_type": "markdown",
      "metadata": {
        "id": "ym95wCcBFs4j"
      },
      "source": [
        "Понятно, что если в названии покупки есть что-то про чай, то это явный маркер для классификатора, что это объект класса 1. \n",
        "\n",
        "Также по распределению категорий видно также что топ5000 существенно отличаются от остальных"
      ]
    },
    {
      "cell_type": "markdown",
      "metadata": {
        "id": "PBjN7O9bFs47"
      },
      "source": [
        "В рекламе одна из важнейших прикладных задач - lookalike. Часто она решается именно как задача PU"
      ]
    },
    {
      "cell_type": "markdown",
      "source": [
        "## Пример 3"
      ],
      "metadata": {
        "id": "ZL6OKwFRUYX-"
      }
    },
    {
      "cell_type": "markdown",
      "metadata": {
        "id": "aTTFia2bPfpB"
      },
      "source": [
        "Расмотрим пример на датасете из репозитория UCI - задача поиска поддельных купюр. Признаки - это 4 аппартно измеримые характеристики. \n",
        "\n",
        "Описание данных - https://archive.ics.uci.edu/ml/datasets/banknote+authentication#"
      ]
    },
    {
      "cell_type": "markdown",
      "source": [
        "Ссылка на google drive: https://drive.google.com/file/d/1fpVIAEHCbA-tbOlWsC3v1uaUwZ7MF8ih"
      ],
      "metadata": {
        "id": "1kANPj6V83LE"
      }
    },
    {
      "cell_type": "code",
      "source": [
        "!wget 'https://drive.google.com/uc?export=download&id=1fpVIAEHCbA-tbOlWsC3v1uaUwZ7MF8ih' -O data_banknote_authentication.txt"
      ],
      "metadata": {
        "colab": {
          "base_uri": "https://localhost:8080/"
        },
        "id": "n_jenj-XPk5q",
        "outputId": "98fd12cf-58a0-4f28-a02b-0ab7b7f4c364"
      },
      "execution_count": null,
      "outputs": [
        {
          "output_type": "stream",
          "name": "stdout",
          "text": [
            "--2022-04-11 15:28:37--  https://drive.google.com/uc?export=download&id=1fpVIAEHCbA-tbOlWsC3v1uaUwZ7MF8ih\n",
            "Resolving drive.google.com (drive.google.com)... 142.250.141.100, 142.250.141.138, 142.250.141.102, ...\n",
            "Connecting to drive.google.com (drive.google.com)|142.250.141.100|:443... connected.\n",
            "HTTP request sent, awaiting response... 303 See Other\n",
            "Location: https://doc-08-c0-docs.googleusercontent.com/docs/securesc/ha0ro937gcuc7l7deffksulhg5h7mbp1/k9ol5j0mjc6eh12351n9siq8ktc5crtg/1649690850000/14904333240138417226/*/1fpVIAEHCbA-tbOlWsC3v1uaUwZ7MF8ih?e=download [following]\n",
            "Warning: wildcards not supported in HTTP.\n",
            "--2022-04-11 15:28:37--  https://doc-08-c0-docs.googleusercontent.com/docs/securesc/ha0ro937gcuc7l7deffksulhg5h7mbp1/k9ol5j0mjc6eh12351n9siq8ktc5crtg/1649690850000/14904333240138417226/*/1fpVIAEHCbA-tbOlWsC3v1uaUwZ7MF8ih?e=download\n",
            "Resolving doc-08-c0-docs.googleusercontent.com (doc-08-c0-docs.googleusercontent.com)... 142.250.141.132, 2607:f8b0:4023:c0b::84\n",
            "Connecting to doc-08-c0-docs.googleusercontent.com (doc-08-c0-docs.googleusercontent.com)|142.250.141.132|:443... connected.\n",
            "HTTP request sent, awaiting response... 200 OK\n",
            "Length: 46400 (45K) [text/plain]\n",
            "Saving to: ‘data_banknote_authentication.txt’\n",
            "\n",
            "data_banknote_authe 100%[===================>]  45.31K  --.-KB/s    in 0.03s   \n",
            "\n",
            "2022-04-11 15:28:38 (1.50 MB/s) - ‘data_banknote_authentication.txt’ saved [46400/46400]\n",
            "\n"
          ]
        }
      ]
    },
    {
      "cell_type": "code",
      "execution_count": null,
      "metadata": {
        "colab": {
          "base_uri": "https://localhost:8080/",
          "height": 143
        },
        "id": "B3YSU3RKPfpI",
        "outputId": "826f5a52-f0df-4e94-a61a-67be0e9433bc"
      },
      "outputs": [
        {
          "output_type": "execute_result",
          "data": {
            "text/plain": [
              "        0       1       2        3  4\n",
              "0  3.6216  8.6661 -2.8073 -0.44699  0\n",
              "1  4.5459  8.1674 -2.4586 -1.46210  0\n",
              "2  3.8660 -2.6383  1.9242  0.10645  0"
            ],
            "text/html": [
              "\n",
              "  <div id=\"df-bbf02f8e-39a5-4af3-b0c3-501c3df9e0f0\">\n",
              "    <div class=\"colab-df-container\">\n",
              "      <div>\n",
              "<style scoped>\n",
              "    .dataframe tbody tr th:only-of-type {\n",
              "        vertical-align: middle;\n",
              "    }\n",
              "\n",
              "    .dataframe tbody tr th {\n",
              "        vertical-align: top;\n",
              "    }\n",
              "\n",
              "    .dataframe thead th {\n",
              "        text-align: right;\n",
              "    }\n",
              "</style>\n",
              "<table border=\"1\" class=\"dataframe\">\n",
              "  <thead>\n",
              "    <tr style=\"text-align: right;\">\n",
              "      <th></th>\n",
              "      <th>0</th>\n",
              "      <th>1</th>\n",
              "      <th>2</th>\n",
              "      <th>3</th>\n",
              "      <th>4</th>\n",
              "    </tr>\n",
              "  </thead>\n",
              "  <tbody>\n",
              "    <tr>\n",
              "      <th>0</th>\n",
              "      <td>3.6216</td>\n",
              "      <td>8.6661</td>\n",
              "      <td>-2.8073</td>\n",
              "      <td>-0.44699</td>\n",
              "      <td>0</td>\n",
              "    </tr>\n",
              "    <tr>\n",
              "      <th>1</th>\n",
              "      <td>4.5459</td>\n",
              "      <td>8.1674</td>\n",
              "      <td>-2.4586</td>\n",
              "      <td>-1.46210</td>\n",
              "      <td>0</td>\n",
              "    </tr>\n",
              "    <tr>\n",
              "      <th>2</th>\n",
              "      <td>3.8660</td>\n",
              "      <td>-2.6383</td>\n",
              "      <td>1.9242</td>\n",
              "      <td>0.10645</td>\n",
              "      <td>0</td>\n",
              "    </tr>\n",
              "  </tbody>\n",
              "</table>\n",
              "</div>\n",
              "      <button class=\"colab-df-convert\" onclick=\"convertToInteractive('df-bbf02f8e-39a5-4af3-b0c3-501c3df9e0f0')\"\n",
              "              title=\"Convert this dataframe to an interactive table.\"\n",
              "              style=\"display:none;\">\n",
              "        \n",
              "  <svg xmlns=\"http://www.w3.org/2000/svg\" height=\"24px\"viewBox=\"0 0 24 24\"\n",
              "       width=\"24px\">\n",
              "    <path d=\"M0 0h24v24H0V0z\" fill=\"none\"/>\n",
              "    <path d=\"M18.56 5.44l.94 2.06.94-2.06 2.06-.94-2.06-.94-.94-2.06-.94 2.06-2.06.94zm-11 1L8.5 8.5l.94-2.06 2.06-.94-2.06-.94L8.5 2.5l-.94 2.06-2.06.94zm10 10l.94 2.06.94-2.06 2.06-.94-2.06-.94-.94-2.06-.94 2.06-2.06.94z\"/><path d=\"M17.41 7.96l-1.37-1.37c-.4-.4-.92-.59-1.43-.59-.52 0-1.04.2-1.43.59L10.3 9.45l-7.72 7.72c-.78.78-.78 2.05 0 2.83L4 21.41c.39.39.9.59 1.41.59.51 0 1.02-.2 1.41-.59l7.78-7.78 2.81-2.81c.8-.78.8-2.07 0-2.86zM5.41 20L4 18.59l7.72-7.72 1.47 1.35L5.41 20z\"/>\n",
              "  </svg>\n",
              "      </button>\n",
              "      \n",
              "  <style>\n",
              "    .colab-df-container {\n",
              "      display:flex;\n",
              "      flex-wrap:wrap;\n",
              "      gap: 12px;\n",
              "    }\n",
              "\n",
              "    .colab-df-convert {\n",
              "      background-color: #E8F0FE;\n",
              "      border: none;\n",
              "      border-radius: 50%;\n",
              "      cursor: pointer;\n",
              "      display: none;\n",
              "      fill: #1967D2;\n",
              "      height: 32px;\n",
              "      padding: 0 0 0 0;\n",
              "      width: 32px;\n",
              "    }\n",
              "\n",
              "    .colab-df-convert:hover {\n",
              "      background-color: #E2EBFA;\n",
              "      box-shadow: 0px 1px 2px rgba(60, 64, 67, 0.3), 0px 1px 3px 1px rgba(60, 64, 67, 0.15);\n",
              "      fill: #174EA6;\n",
              "    }\n",
              "\n",
              "    [theme=dark] .colab-df-convert {\n",
              "      background-color: #3B4455;\n",
              "      fill: #D2E3FC;\n",
              "    }\n",
              "\n",
              "    [theme=dark] .colab-df-convert:hover {\n",
              "      background-color: #434B5C;\n",
              "      box-shadow: 0px 1px 3px 1px rgba(0, 0, 0, 0.15);\n",
              "      filter: drop-shadow(0px 1px 2px rgba(0, 0, 0, 0.3));\n",
              "      fill: #FFFFFF;\n",
              "    }\n",
              "  </style>\n",
              "\n",
              "      <script>\n",
              "        const buttonEl =\n",
              "          document.querySelector('#df-bbf02f8e-39a5-4af3-b0c3-501c3df9e0f0 button.colab-df-convert');\n",
              "        buttonEl.style.display =\n",
              "          google.colab.kernel.accessAllowed ? 'block' : 'none';\n",
              "\n",
              "        async function convertToInteractive(key) {\n",
              "          const element = document.querySelector('#df-bbf02f8e-39a5-4af3-b0c3-501c3df9e0f0');\n",
              "          const dataTable =\n",
              "            await google.colab.kernel.invokeFunction('convertToInteractive',\n",
              "                                                     [key], {});\n",
              "          if (!dataTable) return;\n",
              "\n",
              "          const docLinkHtml = 'Like what you see? Visit the ' +\n",
              "            '<a target=\"_blank\" href=https://colab.research.google.com/notebooks/data_table.ipynb>data table notebook</a>'\n",
              "            + ' to learn more about interactive tables.';\n",
              "          element.innerHTML = '';\n",
              "          dataTable['output_type'] = 'display_data';\n",
              "          await google.colab.output.renderOutput(dataTable, element);\n",
              "          const docLink = document.createElement('div');\n",
              "          docLink.innerHTML = docLinkHtml;\n",
              "          element.appendChild(docLink);\n",
              "        }\n",
              "      </script>\n",
              "    </div>\n",
              "  </div>\n",
              "  "
            ]
          },
          "metadata": {},
          "execution_count": 2
        }
      ],
      "source": [
        "import pandas as pd\n",
        "import numpy as np\n",
        "data = pd.read_csv(\"data_banknote_authentication.txt\", header=None)\n",
        "data.head(3)"
      ]
    },
    {
      "cell_type": "markdown",
      "metadata": {
        "id": "YcCHeQqxPfpM"
      },
      "source": [
        "У нас есть 4 признака и 1 целевая переменная (бинарная) - нужно определить поддельная купюра или нет"
      ]
    },
    {
      "cell_type": "code",
      "execution_count": null,
      "metadata": {
        "colab": {
          "base_uri": "https://localhost:8080/"
        },
        "id": "1xwersCHPfpO",
        "outputId": "14edcbed-154f-4e0f-efba-092da6e5b2be"
      },
      "outputs": [
        {
          "output_type": "stream",
          "name": "stdout",
          "text": [
            "(1372, 5)\n"
          ]
        }
      ],
      "source": [
        "print(data.shape)"
      ]
    },
    {
      "cell_type": "markdown",
      "metadata": {
        "id": "CSVDaUGDPfpQ"
      },
      "source": [
        "Всего 1372 купюры"
      ]
    },
    {
      "cell_type": "markdown",
      "metadata": {
        "id": "R8QUF5spPfpS"
      },
      "source": [
        "Посмотрим на соотношение классов"
      ]
    },
    {
      "cell_type": "code",
      "execution_count": null,
      "metadata": {
        "colab": {
          "base_uri": "https://localhost:8080/"
        },
        "id": "nRwgsiRwPfpV",
        "outputId": "72b7320a-aaa5-4deb-85a4-bf40f1ff072f"
      },
      "outputs": [
        {
          "output_type": "execute_result",
          "data": {
            "text/plain": [
              "0    762\n",
              "1    610\n",
              "Name: 4, dtype: int64"
            ]
          },
          "metadata": {},
          "execution_count": 4
        }
      ],
      "source": [
        "data.iloc[:, -1].value_counts()"
      ]
    },
    {
      "cell_type": "markdown",
      "metadata": {
        "id": "bvGLaQs4PfpZ"
      },
      "source": [
        "Разбиваем выборку на тренировочную и тестовую части и обучаем модель (в примере - градиентный бустинг)"
      ]
    },
    {
      "cell_type": "code",
      "execution_count": null,
      "metadata": {
        "id": "VfI0zX-DPfpc"
      },
      "outputs": [],
      "source": [
        "from sklearn.model_selection import train_test_split\n",
        "\n",
        "x_data = data.iloc[:,:-1]\n",
        "y_data = data.iloc[:,-1]\n",
        "\n",
        "x_train, x_test, y_train, y_test = train_test_split(x_data, y_data, test_size=0.2, random_state=7)"
      ]
    },
    {
      "cell_type": "code",
      "execution_count": null,
      "metadata": {
        "id": "xntLocMTPfpf"
      },
      "outputs": [],
      "source": [
        "import xgboost as xgb\n",
        "\n",
        "model = xgb.XGBClassifier()\n",
        "\n",
        "model.fit(x_train, y_train)\n",
        "y_predict = model.predict(x_test)"
      ]
    },
    {
      "cell_type": "markdown",
      "metadata": {
        "id": "EjJW1_5-Pfph"
      },
      "source": [
        "Проверяем качество"
      ]
    },
    {
      "cell_type": "code",
      "execution_count": null,
      "metadata": {
        "colab": {
          "base_uri": "https://localhost:8080/"
        },
        "id": "KBWvCmDvPfpk",
        "outputId": "203ce5bf-b995-4d8e-9ce3-8ae6d79b6403"
      },
      "outputs": [
        {
          "output_type": "stream",
          "name": "stdout",
          "text": [
            "Classification results:\n",
            "f1: 99.57%\n",
            "recall: 99.15%\n",
            "precision: 100.00%\n"
          ]
        }
      ],
      "source": [
        "from sklearn.metrics import recall_score, precision_score, roc_auc_score, accuracy_score, f1_score\n",
        "\n",
        "def evaluate_results(y_test, y_predict):\n",
        "    print('Classification results:')\n",
        "    f1 = f1_score(y_test, y_predict)\n",
        "    print(f\"f1: {f1 * 100.0:.2f}%\") \n",
        "    rec = recall_score(y_test, y_predict, average='binary')\n",
        "    print(f\"recall: {rec * 100.0:.2f}%\") \n",
        "    prc = precision_score(y_test, y_predict, average='binary')\n",
        "    print(f\"precision: {prc * 100.0:.2f}%\" ) \n",
        "\n",
        "    \n",
        "evaluate_results(y_test, y_predict)"
      ]
    },
    {
      "cell_type": "markdown",
      "metadata": {
        "id": "1bIoaUg5Pfpo"
      },
      "source": [
        "### Теперь очередь PU learning"
      ]
    },
    {
      "cell_type": "markdown",
      "metadata": {
        "id": "jQ2Rn53ZPfpr"
      },
      "source": [
        "Представим, что нам неизвестны негативы и часть позитивов"
      ]
    },
    {
      "cell_type": "code",
      "execution_count": null,
      "metadata": {
        "colab": {
          "base_uri": "https://localhost:8080/"
        },
        "id": "_Z9eMfhCPfps",
        "outputId": "6c18e298-68b2-42c6-9d39-92f8d65d3163"
      },
      "outputs": [
        {
          "output_type": "stream",
          "name": "stdout",
          "text": [
            "Using 124/493 as positives and unlabeling the rest\n"
          ]
        }
      ],
      "source": [
        "mod_data = x_train.copy()\n",
        "mod_data['label'] = y_train\n",
        "mod_data = mod_data.reset_index(drop=True)\n",
        "\n",
        "# mod_data = data.copy()\n",
        "# get the indices of the positives samples\n",
        "pos_ind = np.where(mod_data.iloc[:, -1].values == 1)[0]\n",
        "\n",
        "# shuffle them\n",
        "np.random.shuffle(pos_ind)\n",
        "# leave just 25% of the positives marked\n",
        "perc = 0.25\n",
        "pos_sample_len = int(np.ceil(perc * len(pos_ind)))\n",
        "\n",
        "print(f'Using {pos_sample_len}/{len(pos_ind)} as positives and unlabeling the rest')\n",
        "pos_sample = pos_ind[:pos_sample_len]"
      ]
    },
    {
      "cell_type": "markdown",
      "metadata": {
        "id": "ij1beNVQPfpu"
      },
      "source": [
        "Создаем столбец для новой целевой переменной, где у нас два класса - P (1) и U (-1)"
      ]
    },
    {
      "cell_type": "code",
      "execution_count": null,
      "metadata": {
        "colab": {
          "base_uri": "https://localhost:8080/"
        },
        "id": "-zF77IMXPfpv",
        "outputId": "23a8ee17-9967-4909-87c9-2d17a9d70173"
      },
      "outputs": [
        {
          "output_type": "stream",
          "name": "stdout",
          "text": [
            "target variable:\n",
            " -1    973\n",
            " 1    124\n",
            "Name: class_test, dtype: int64\n"
          ]
        }
      ],
      "source": [
        "mod_data['class_test'] = -1\n",
        "mod_data.loc[pos_sample,'class_test'] = 1\n",
        "print('target variable:\\n', mod_data.iloc[:,-1].value_counts())"
      ]
    },
    {
      "cell_type": "markdown",
      "metadata": {
        "id": "QLjf9OBSPfpy"
      },
      "source": [
        "* 124 позитивных примеров (1)\n",
        "* 973 без разметки (-1)"
      ]
    },
    {
      "cell_type": "code",
      "execution_count": null,
      "metadata": {
        "colab": {
          "base_uri": "https://localhost:8080/",
          "height": 363
        },
        "id": "Tzry0pSJPfp1",
        "outputId": "abc0559f-6df9-4b71-cdd5-5616b6dddbe3"
      },
      "outputs": [
        {
          "output_type": "execute_result",
          "data": {
            "text/plain": [
              "         0         1         2        3  label  class_test\n",
              "0  3.91210   2.97350   0.92852  0.60558      0          -1\n",
              "1  2.24290  -4.14270   5.23330 -0.40173      0          -1\n",
              "2 -2.16740   0.12415  -1.04650 -0.86208      1          -1\n",
              "3  2.95430   1.07600   0.64577  0.89394      0          -1\n",
              "4  0.63655   5.20220  -5.21590 -6.12110      1           1\n",
              "5 -3.38000  -0.70770   2.53250  0.71808      1          -1\n",
              "6 -1.83480  11.03340   3.18630 -4.88880      0          -1\n",
              "7  3.91020   6.06500  -2.45340 -0.68234      0          -1\n",
              "8  0.38251   6.81210   1.81280 -0.61251      0          -1\n",
              "9 -3.60120  -6.53890  10.52340 -0.48967      1           1"
            ],
            "text/html": [
              "\n",
              "  <div id=\"df-2f7f5a60-9f64-4b59-975d-e2bfdff4bd74\">\n",
              "    <div class=\"colab-df-container\">\n",
              "      <div>\n",
              "<style scoped>\n",
              "    .dataframe tbody tr th:only-of-type {\n",
              "        vertical-align: middle;\n",
              "    }\n",
              "\n",
              "    .dataframe tbody tr th {\n",
              "        vertical-align: top;\n",
              "    }\n",
              "\n",
              "    .dataframe thead th {\n",
              "        text-align: right;\n",
              "    }\n",
              "</style>\n",
              "<table border=\"1\" class=\"dataframe\">\n",
              "  <thead>\n",
              "    <tr style=\"text-align: right;\">\n",
              "      <th></th>\n",
              "      <th>0</th>\n",
              "      <th>1</th>\n",
              "      <th>2</th>\n",
              "      <th>3</th>\n",
              "      <th>label</th>\n",
              "      <th>class_test</th>\n",
              "    </tr>\n",
              "  </thead>\n",
              "  <tbody>\n",
              "    <tr>\n",
              "      <th>0</th>\n",
              "      <td>3.91210</td>\n",
              "      <td>2.97350</td>\n",
              "      <td>0.92852</td>\n",
              "      <td>0.60558</td>\n",
              "      <td>0</td>\n",
              "      <td>-1</td>\n",
              "    </tr>\n",
              "    <tr>\n",
              "      <th>1</th>\n",
              "      <td>2.24290</td>\n",
              "      <td>-4.14270</td>\n",
              "      <td>5.23330</td>\n",
              "      <td>-0.40173</td>\n",
              "      <td>0</td>\n",
              "      <td>-1</td>\n",
              "    </tr>\n",
              "    <tr>\n",
              "      <th>2</th>\n",
              "      <td>-2.16740</td>\n",
              "      <td>0.12415</td>\n",
              "      <td>-1.04650</td>\n",
              "      <td>-0.86208</td>\n",
              "      <td>1</td>\n",
              "      <td>-1</td>\n",
              "    </tr>\n",
              "    <tr>\n",
              "      <th>3</th>\n",
              "      <td>2.95430</td>\n",
              "      <td>1.07600</td>\n",
              "      <td>0.64577</td>\n",
              "      <td>0.89394</td>\n",
              "      <td>0</td>\n",
              "      <td>-1</td>\n",
              "    </tr>\n",
              "    <tr>\n",
              "      <th>4</th>\n",
              "      <td>0.63655</td>\n",
              "      <td>5.20220</td>\n",
              "      <td>-5.21590</td>\n",
              "      <td>-6.12110</td>\n",
              "      <td>1</td>\n",
              "      <td>1</td>\n",
              "    </tr>\n",
              "    <tr>\n",
              "      <th>5</th>\n",
              "      <td>-3.38000</td>\n",
              "      <td>-0.70770</td>\n",
              "      <td>2.53250</td>\n",
              "      <td>0.71808</td>\n",
              "      <td>1</td>\n",
              "      <td>-1</td>\n",
              "    </tr>\n",
              "    <tr>\n",
              "      <th>6</th>\n",
              "      <td>-1.83480</td>\n",
              "      <td>11.03340</td>\n",
              "      <td>3.18630</td>\n",
              "      <td>-4.88880</td>\n",
              "      <td>0</td>\n",
              "      <td>-1</td>\n",
              "    </tr>\n",
              "    <tr>\n",
              "      <th>7</th>\n",
              "      <td>3.91020</td>\n",
              "      <td>6.06500</td>\n",
              "      <td>-2.45340</td>\n",
              "      <td>-0.68234</td>\n",
              "      <td>0</td>\n",
              "      <td>-1</td>\n",
              "    </tr>\n",
              "    <tr>\n",
              "      <th>8</th>\n",
              "      <td>0.38251</td>\n",
              "      <td>6.81210</td>\n",
              "      <td>1.81280</td>\n",
              "      <td>-0.61251</td>\n",
              "      <td>0</td>\n",
              "      <td>-1</td>\n",
              "    </tr>\n",
              "    <tr>\n",
              "      <th>9</th>\n",
              "      <td>-3.60120</td>\n",
              "      <td>-6.53890</td>\n",
              "      <td>10.52340</td>\n",
              "      <td>-0.48967</td>\n",
              "      <td>1</td>\n",
              "      <td>1</td>\n",
              "    </tr>\n",
              "  </tbody>\n",
              "</table>\n",
              "</div>\n",
              "      <button class=\"colab-df-convert\" onclick=\"convertToInteractive('df-2f7f5a60-9f64-4b59-975d-e2bfdff4bd74')\"\n",
              "              title=\"Convert this dataframe to an interactive table.\"\n",
              "              style=\"display:none;\">\n",
              "        \n",
              "  <svg xmlns=\"http://www.w3.org/2000/svg\" height=\"24px\"viewBox=\"0 0 24 24\"\n",
              "       width=\"24px\">\n",
              "    <path d=\"M0 0h24v24H0V0z\" fill=\"none\"/>\n",
              "    <path d=\"M18.56 5.44l.94 2.06.94-2.06 2.06-.94-2.06-.94-.94-2.06-.94 2.06-2.06.94zm-11 1L8.5 8.5l.94-2.06 2.06-.94-2.06-.94L8.5 2.5l-.94 2.06-2.06.94zm10 10l.94 2.06.94-2.06 2.06-.94-2.06-.94-.94-2.06-.94 2.06-2.06.94z\"/><path d=\"M17.41 7.96l-1.37-1.37c-.4-.4-.92-.59-1.43-.59-.52 0-1.04.2-1.43.59L10.3 9.45l-7.72 7.72c-.78.78-.78 2.05 0 2.83L4 21.41c.39.39.9.59 1.41.59.51 0 1.02-.2 1.41-.59l7.78-7.78 2.81-2.81c.8-.78.8-2.07 0-2.86zM5.41 20L4 18.59l7.72-7.72 1.47 1.35L5.41 20z\"/>\n",
              "  </svg>\n",
              "      </button>\n",
              "      \n",
              "  <style>\n",
              "    .colab-df-container {\n",
              "      display:flex;\n",
              "      flex-wrap:wrap;\n",
              "      gap: 12px;\n",
              "    }\n",
              "\n",
              "    .colab-df-convert {\n",
              "      background-color: #E8F0FE;\n",
              "      border: none;\n",
              "      border-radius: 50%;\n",
              "      cursor: pointer;\n",
              "      display: none;\n",
              "      fill: #1967D2;\n",
              "      height: 32px;\n",
              "      padding: 0 0 0 0;\n",
              "      width: 32px;\n",
              "    }\n",
              "\n",
              "    .colab-df-convert:hover {\n",
              "      background-color: #E2EBFA;\n",
              "      box-shadow: 0px 1px 2px rgba(60, 64, 67, 0.3), 0px 1px 3px 1px rgba(60, 64, 67, 0.15);\n",
              "      fill: #174EA6;\n",
              "    }\n",
              "\n",
              "    [theme=dark] .colab-df-convert {\n",
              "      background-color: #3B4455;\n",
              "      fill: #D2E3FC;\n",
              "    }\n",
              "\n",
              "    [theme=dark] .colab-df-convert:hover {\n",
              "      background-color: #434B5C;\n",
              "      box-shadow: 0px 1px 3px 1px rgba(0, 0, 0, 0.15);\n",
              "      filter: drop-shadow(0px 1px 2px rgba(0, 0, 0, 0.3));\n",
              "      fill: #FFFFFF;\n",
              "    }\n",
              "  </style>\n",
              "\n",
              "      <script>\n",
              "        const buttonEl =\n",
              "          document.querySelector('#df-2f7f5a60-9f64-4b59-975d-e2bfdff4bd74 button.colab-df-convert');\n",
              "        buttonEl.style.display =\n",
              "          google.colab.kernel.accessAllowed ? 'block' : 'none';\n",
              "\n",
              "        async function convertToInteractive(key) {\n",
              "          const element = document.querySelector('#df-2f7f5a60-9f64-4b59-975d-e2bfdff4bd74');\n",
              "          const dataTable =\n",
              "            await google.colab.kernel.invokeFunction('convertToInteractive',\n",
              "                                                     [key], {});\n",
              "          if (!dataTable) return;\n",
              "\n",
              "          const docLinkHtml = 'Like what you see? Visit the ' +\n",
              "            '<a target=\"_blank\" href=https://colab.research.google.com/notebooks/data_table.ipynb>data table notebook</a>'\n",
              "            + ' to learn more about interactive tables.';\n",
              "          element.innerHTML = '';\n",
              "          dataTable['output_type'] = 'display_data';\n",
              "          await google.colab.output.renderOutput(dataTable, element);\n",
              "          const docLink = document.createElement('div');\n",
              "          docLink.innerHTML = docLinkHtml;\n",
              "          element.appendChild(docLink);\n",
              "        }\n",
              "      </script>\n",
              "    </div>\n",
              "  </div>\n",
              "  "
            ]
          },
          "metadata": {},
          "execution_count": 29
        }
      ],
      "source": [
        "mod_data.head(10)"
      ]
    },
    {
      "cell_type": "markdown",
      "metadata": {
        "id": "xAs_-ZebPfp6"
      },
      "source": [
        "### random negative sampling"
      ]
    },
    {
      "cell_type": "markdown",
      "metadata": {
        "id": "pCplZOT7Pfp3"
      },
      "source": [
        "Помним, что (x_data) содержит целевой признак, который будем использовать для оценки качества\n",
        "\n",
        "Отделими [:-2] как истиный класс для проверки, и [:-1] как данные для входной разметки PUL"
      ]
    },
    {
      "cell_type": "code",
      "execution_count": null,
      "metadata": {
        "scrolled": true,
        "colab": {
          "base_uri": "https://localhost:8080/"
        },
        "id": "qwR2aLAaPfp9",
        "outputId": "59d0f578-e11c-4772-9eef-e1cc6a8c012d"
      },
      "outputs": [
        {
          "output_type": "stream",
          "name": "stdout",
          "text": [
            "(124, 6) (124, 6)\n"
          ]
        }
      ],
      "source": [
        "mod_data = mod_data.sample(frac=1)\n",
        "\n",
        "\n",
        "data_N = mod_data[mod_data['class_test'] == -1]\n",
        "data_P = mod_data[mod_data['class_test'] == 1]\n",
        "\n",
        "neg_sample = data_N[:data_P.shape[0]]\n",
        "sample_test = data_N[data_P.shape[0]:]\n",
        "pos_sample = data_P.copy()\n",
        "\n",
        "print(neg_sample.shape, pos_sample.shape)\n",
        "sample_train = pd.concat([neg_sample, pos_sample]).sample(frac=1)"
      ]
    },
    {
      "cell_type": "code",
      "source": [
        "sample_train"
      ],
      "metadata": {
        "id": "1zV8dkMoRGIi",
        "outputId": "962df859-f602-43b3-b274-d5933fa11bc2",
        "colab": {
          "base_uri": "https://localhost:8080/",
          "height": 424
        }
      },
      "execution_count": null,
      "outputs": [
        {
          "output_type": "execute_result",
          "data": {
            "text/plain": [
              "           0         1         2        3  label  class_test\n",
              "731 -2.21830  -1.25400  2.998600  0.36378      1           0\n",
              "550 -5.16610   8.04330  0.044265 -4.49830      1           1\n",
              "100 -0.51003  -0.23591  0.020273  0.76334      1           1\n",
              "192 -4.07860   2.92390  0.870260 -0.65389      1           1\n",
              "620  1.06370   3.69570 -4.159400 -1.93790      1           1\n",
              "..       ...       ...       ...      ...    ...         ...\n",
              "246  0.51800   0.25865 -0.840850  0.96118      1           1\n",
              "805 -2.08910  -0.48422  1.704000  1.74350      1           1\n",
              "769 -1.89690  -6.78930  5.276100 -0.32544      1           1\n",
              "465  3.47760   8.81100 -3.188600 -0.92285      0           0\n",
              "172  2.80840  11.30450 -3.339400 -4.41940      0           0\n",
              "\n",
              "[248 rows x 6 columns]"
            ],
            "text/html": [
              "\n",
              "  <div id=\"df-ab71eef3-48d3-455f-8da3-e26ce9a04800\">\n",
              "    <div class=\"colab-df-container\">\n",
              "      <div>\n",
              "<style scoped>\n",
              "    .dataframe tbody tr th:only-of-type {\n",
              "        vertical-align: middle;\n",
              "    }\n",
              "\n",
              "    .dataframe tbody tr th {\n",
              "        vertical-align: top;\n",
              "    }\n",
              "\n",
              "    .dataframe thead th {\n",
              "        text-align: right;\n",
              "    }\n",
              "</style>\n",
              "<table border=\"1\" class=\"dataframe\">\n",
              "  <thead>\n",
              "    <tr style=\"text-align: right;\">\n",
              "      <th></th>\n",
              "      <th>0</th>\n",
              "      <th>1</th>\n",
              "      <th>2</th>\n",
              "      <th>3</th>\n",
              "      <th>label</th>\n",
              "      <th>class_test</th>\n",
              "    </tr>\n",
              "  </thead>\n",
              "  <tbody>\n",
              "    <tr>\n",
              "      <th>731</th>\n",
              "      <td>-2.21830</td>\n",
              "      <td>-1.25400</td>\n",
              "      <td>2.998600</td>\n",
              "      <td>0.36378</td>\n",
              "      <td>1</td>\n",
              "      <td>0</td>\n",
              "    </tr>\n",
              "    <tr>\n",
              "      <th>550</th>\n",
              "      <td>-5.16610</td>\n",
              "      <td>8.04330</td>\n",
              "      <td>0.044265</td>\n",
              "      <td>-4.49830</td>\n",
              "      <td>1</td>\n",
              "      <td>1</td>\n",
              "    </tr>\n",
              "    <tr>\n",
              "      <th>100</th>\n",
              "      <td>-0.51003</td>\n",
              "      <td>-0.23591</td>\n",
              "      <td>0.020273</td>\n",
              "      <td>0.76334</td>\n",
              "      <td>1</td>\n",
              "      <td>1</td>\n",
              "    </tr>\n",
              "    <tr>\n",
              "      <th>192</th>\n",
              "      <td>-4.07860</td>\n",
              "      <td>2.92390</td>\n",
              "      <td>0.870260</td>\n",
              "      <td>-0.65389</td>\n",
              "      <td>1</td>\n",
              "      <td>1</td>\n",
              "    </tr>\n",
              "    <tr>\n",
              "      <th>620</th>\n",
              "      <td>1.06370</td>\n",
              "      <td>3.69570</td>\n",
              "      <td>-4.159400</td>\n",
              "      <td>-1.93790</td>\n",
              "      <td>1</td>\n",
              "      <td>1</td>\n",
              "    </tr>\n",
              "    <tr>\n",
              "      <th>...</th>\n",
              "      <td>...</td>\n",
              "      <td>...</td>\n",
              "      <td>...</td>\n",
              "      <td>...</td>\n",
              "      <td>...</td>\n",
              "      <td>...</td>\n",
              "    </tr>\n",
              "    <tr>\n",
              "      <th>246</th>\n",
              "      <td>0.51800</td>\n",
              "      <td>0.25865</td>\n",
              "      <td>-0.840850</td>\n",
              "      <td>0.96118</td>\n",
              "      <td>1</td>\n",
              "      <td>1</td>\n",
              "    </tr>\n",
              "    <tr>\n",
              "      <th>805</th>\n",
              "      <td>-2.08910</td>\n",
              "      <td>-0.48422</td>\n",
              "      <td>1.704000</td>\n",
              "      <td>1.74350</td>\n",
              "      <td>1</td>\n",
              "      <td>1</td>\n",
              "    </tr>\n",
              "    <tr>\n",
              "      <th>769</th>\n",
              "      <td>-1.89690</td>\n",
              "      <td>-6.78930</td>\n",
              "      <td>5.276100</td>\n",
              "      <td>-0.32544</td>\n",
              "      <td>1</td>\n",
              "      <td>1</td>\n",
              "    </tr>\n",
              "    <tr>\n",
              "      <th>465</th>\n",
              "      <td>3.47760</td>\n",
              "      <td>8.81100</td>\n",
              "      <td>-3.188600</td>\n",
              "      <td>-0.92285</td>\n",
              "      <td>0</td>\n",
              "      <td>0</td>\n",
              "    </tr>\n",
              "    <tr>\n",
              "      <th>172</th>\n",
              "      <td>2.80840</td>\n",
              "      <td>11.30450</td>\n",
              "      <td>-3.339400</td>\n",
              "      <td>-4.41940</td>\n",
              "      <td>0</td>\n",
              "      <td>0</td>\n",
              "    </tr>\n",
              "  </tbody>\n",
              "</table>\n",
              "<p>248 rows × 6 columns</p>\n",
              "</div>\n",
              "      <button class=\"colab-df-convert\" onclick=\"convertToInteractive('df-ab71eef3-48d3-455f-8da3-e26ce9a04800')\"\n",
              "              title=\"Convert this dataframe to an interactive table.\"\n",
              "              style=\"display:none;\">\n",
              "        \n",
              "  <svg xmlns=\"http://www.w3.org/2000/svg\" height=\"24px\"viewBox=\"0 0 24 24\"\n",
              "       width=\"24px\">\n",
              "    <path d=\"M0 0h24v24H0V0z\" fill=\"none\"/>\n",
              "    <path d=\"M18.56 5.44l.94 2.06.94-2.06 2.06-.94-2.06-.94-.94-2.06-.94 2.06-2.06.94zm-11 1L8.5 8.5l.94-2.06 2.06-.94-2.06-.94L8.5 2.5l-.94 2.06-2.06.94zm10 10l.94 2.06.94-2.06 2.06-.94-2.06-.94-.94-2.06-.94 2.06-2.06.94z\"/><path d=\"M17.41 7.96l-1.37-1.37c-.4-.4-.92-.59-1.43-.59-.52 0-1.04.2-1.43.59L10.3 9.45l-7.72 7.72c-.78.78-.78 2.05 0 2.83L4 21.41c.39.39.9.59 1.41.59.51 0 1.02-.2 1.41-.59l7.78-7.78 2.81-2.81c.8-.78.8-2.07 0-2.86zM5.41 20L4 18.59l7.72-7.72 1.47 1.35L5.41 20z\"/>\n",
              "  </svg>\n",
              "      </button>\n",
              "      \n",
              "  <style>\n",
              "    .colab-df-container {\n",
              "      display:flex;\n",
              "      flex-wrap:wrap;\n",
              "      gap: 12px;\n",
              "    }\n",
              "\n",
              "    .colab-df-convert {\n",
              "      background-color: #E8F0FE;\n",
              "      border: none;\n",
              "      border-radius: 50%;\n",
              "      cursor: pointer;\n",
              "      display: none;\n",
              "      fill: #1967D2;\n",
              "      height: 32px;\n",
              "      padding: 0 0 0 0;\n",
              "      width: 32px;\n",
              "    }\n",
              "\n",
              "    .colab-df-convert:hover {\n",
              "      background-color: #E2EBFA;\n",
              "      box-shadow: 0px 1px 2px rgba(60, 64, 67, 0.3), 0px 1px 3px 1px rgba(60, 64, 67, 0.15);\n",
              "      fill: #174EA6;\n",
              "    }\n",
              "\n",
              "    [theme=dark] .colab-df-convert {\n",
              "      background-color: #3B4455;\n",
              "      fill: #D2E3FC;\n",
              "    }\n",
              "\n",
              "    [theme=dark] .colab-df-convert:hover {\n",
              "      background-color: #434B5C;\n",
              "      box-shadow: 0px 1px 3px 1px rgba(0, 0, 0, 0.15);\n",
              "      filter: drop-shadow(0px 1px 2px rgba(0, 0, 0, 0.3));\n",
              "      fill: #FFFFFF;\n",
              "    }\n",
              "  </style>\n",
              "\n",
              "      <script>\n",
              "        const buttonEl =\n",
              "          document.querySelector('#df-ab71eef3-48d3-455f-8da3-e26ce9a04800 button.colab-df-convert');\n",
              "        buttonEl.style.display =\n",
              "          google.colab.kernel.accessAllowed ? 'block' : 'none';\n",
              "\n",
              "        async function convertToInteractive(key) {\n",
              "          const element = document.querySelector('#df-ab71eef3-48d3-455f-8da3-e26ce9a04800');\n",
              "          const dataTable =\n",
              "            await google.colab.kernel.invokeFunction('convertToInteractive',\n",
              "                                                     [key], {});\n",
              "          if (!dataTable) return;\n",
              "\n",
              "          const docLinkHtml = 'Like what you see? Visit the ' +\n",
              "            '<a target=\"_blank\" href=https://colab.research.google.com/notebooks/data_table.ipynb>data table notebook</a>'\n",
              "            + ' to learn more about interactive tables.';\n",
              "          element.innerHTML = '';\n",
              "          dataTable['output_type'] = 'display_data';\n",
              "          await google.colab.output.renderOutput(dataTable, element);\n",
              "          const docLink = document.createElement('div');\n",
              "          docLink.innerHTML = docLinkHtml;\n",
              "          element.appendChild(docLink);\n",
              "        }\n",
              "      </script>\n",
              "    </div>\n",
              "  </div>\n",
              "  "
            ]
          },
          "metadata": {},
          "execution_count": 32
        }
      ]
    },
    {
      "cell_type": "code",
      "execution_count": null,
      "metadata": {
        "colab": {
          "base_uri": "https://localhost:8080/"
        },
        "id": "giyVfYx_Pfp_",
        "outputId": "9e1a1a6c-0094-401c-b4b4-0e326485ce30"
      },
      "outputs": [
        {
          "output_type": "stream",
          "name": "stdout",
          "text": [
            "Classification results:\n",
            "f1: 86.79%\n",
            "recall: 78.63%\n",
            "precision: 96.84%\n"
          ]
        }
      ],
      "source": [
        "model = xgb.XGBClassifier()\n",
        "sample_train.loc[sample_train['class_test'] == -1, 'class_test'] = 0\n",
        "\n",
        "model.fit(sample_train.drop(columns=['class_test', 'label']), \n",
        "          sample_train['class_test'])\n",
        "\n",
        "y_predict = model.predict(x_test)\n",
        "evaluate_results(y_test, y_predict)"
      ]
    },
    {
      "cell_type": "markdown",
      "metadata": {
        "id": "VIm-RBetFs4x"
      },
      "source": [
        "**Краткие выводы**"
      ]
    },
    {
      "cell_type": "markdown",
      "metadata": {
        "id": "Y0MI-9lPFs40"
      },
      "source": [
        "Positive-Unlabeled (PU) learning можно перевести как «обучение на основе положительных и неразмеченных данных». \n",
        "\n",
        "По сути, PU learning —  это аналог бинарной классификация для случаев, когда имеются размеченные данные только одного из классов, но доступна неразмеченная смесь данных обоих классов. \n",
        "\n",
        "В общем случае мы даже не знаем, сколько данных в смеси соответствует положительному классу, а сколько — отрицательному. На основе таких наборов данных мы хотим построить бинарный классификатор: такой же, как и при наличии размеченных данных обоих классов."
      ]
    },
    {
      "cell_type": "markdown",
      "metadata": {
        "id": "QKwfPKC3PfqB"
      },
      "source": [
        "## Домашнее задание\n",
        "\n",
        "1. Взять любой набор данных для бинарной классификации (можно скачать один из модельных с https://archive.ics.uci.edu/ml/datasets.php)\n",
        "2. Обучить любой классификатор (какой вам нравится)\n",
        "3. Разделить ваш набор данных на два множества: P (positives) и U (unlabeled). Причем брать нужно не все положительные примеры (класс 1), а только лишь часть\n",
        "4. Применить random negative sampling для построения классификатора в новых условиях\n",
        "5. Сравнить качество с решением из пункта 3 (построить отчет - таблицу метрик)\n",
        "6. *Поэкспериментировать с долей P на шаге 5 (как будет меняться качество модели при уменьшении/увеличении размера P)"
      ]
    },
    {
      "cell_type": "markdown",
      "metadata": {
        "id": "dJa6fGvvFs49"
      },
      "source": [
        "## Ссылки:"
      ]
    },
    {
      "cell_type": "markdown",
      "metadata": {
        "id": "c28S3aWHFs4-"
      },
      "source": [
        "1. https://arxiv.org/pdf/1811.04820.pdf\n",
        "2. https://habr.com/ru/company/JetBrains-education/blog/512032/\n",
        "3. https://en.wikipedia.org/wiki/Bootstrap_aggregating\n",
        "4. https://www.cs.uic.edu/~liub/publications/EMNLP-2010-no-negative.pdf\n",
        "5. https://towardsdatascience.com/lookalikes-finding-needles-in-a-haystack-683bae8fdfff"
      ]
    }
  ],
  "metadata": {
    "kernelspec": {
      "display_name": "Python 3",
      "language": "python",
      "name": "python3"
    },
    "language_info": {
      "codemirror_mode": {
        "name": "ipython",
        "version": 3
      },
      "file_extension": ".py",
      "mimetype": "text/x-python",
      "name": "python",
      "nbconvert_exporter": "python",
      "pygments_lexer": "ipython3",
      "version": "3.7.3"
    },
    "colab": {
      "name": "Lesson_6.ipynb",
      "provenance": [],
      "collapsed_sections": [],
      "toc_visible": true,
      "include_colab_link": true
    }
  },
  "nbformat": 4,
  "nbformat_minor": 0
}