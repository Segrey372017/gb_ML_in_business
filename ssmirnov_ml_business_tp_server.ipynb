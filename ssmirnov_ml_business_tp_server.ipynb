{
  "cells": [
    {
      "cell_type": "markdown",
      "metadata": {
        "id": "view-in-github",
        "colab_type": "text"
      },
      "source": [
        "<a href=\"https://colab.research.google.com/github/Segrey372017/gb_ML_in_business/blob/main/ssmirnov_ml_business_tp_server.ipynb\" target=\"_parent\"><img src=\"https://colab.research.google.com/assets/colab-badge.svg\" alt=\"Open In Colab\"/></a>"
      ]
    },
    {
      "cell_type": "code",
      "execution_count": 1,
      "metadata": {
        "id": "VAXQMJV04eXT"
      },
      "outputs": [],
      "source": [
        "import numpy as np\n",
        "import pandas as pd\n",
        "import matplotlib.pyplot as plt\n",
        "import seaborn as sns\n",
        "sns.set()"
      ]
    },
    {
      "cell_type": "code",
      "execution_count": 2,
      "metadata": {
        "id": "i5TzqKsF4npq"
      },
      "outputs": [],
      "source": [
        "from sklearn.base import BaseEstimator, TransformerMixin\n",
        "from sklearn.pipeline import Pipeline, make_pipeline, FeatureUnion\n",
        "from sklearn.preprocessing import MinMaxScaler\n",
        "from sklearn.model_selection import train_test_split, GridSearchCV\n",
        "from sklearn.svm import SVC\n",
        "from lightgbm import LGBMClassifier\n",
        "from sklearn.metrics import roc_auc_score, precision_recall_curve, confusion_matrix, classification_report, log_loss"
      ]
    },
    {
      "cell_type": "code",
      "source": [
        "import dill, pickle"
      ],
      "metadata": {
        "id": "Zlw90mZ0uAnr"
      },
      "execution_count": 3,
      "outputs": []
    },
    {
      "cell_type": "markdown",
      "metadata": {
        "id": "rVFOC6Tz5Bki"
      },
      "source": [
        "# Итоговый проект курса \"Машинное обучение в бизнесе\""
      ]
    },
    {
      "cell_type": "markdown",
      "metadata": {
        "id": "u618PMch93O-"
      },
      "source": [
        "### Задание 1\n",
        "<p> выбрать себе датасет (который интересен или нравится больше всего, можно глянуть здесь https://economic-caper-a4c.notion.site</p>"
      ]
    },
    {
      "cell_type": "markdown",
      "metadata": {
        "id": "oQ5zsn98-Dnf"
      },
      "source": [
        "### Описание набора данных \n",
        "<p> Данный набор данных, реализут задачу классификации. Поскольку целью курсового проекта является построение микросервиса, на основе данного набора можно построить прототип сервиса по экспресс скорингу пользователей на предмет риска возникновения сахарного диабета. Поскольку онлайн сервис не заменяет консультацию врача, данный датасет не содержит узкомедицинских факторов: результатов лабораторных анализов, результатов медицинских манипуляций, чуствительной для пациентов информации о состоянии здоровья. Тем немене высокий риск возникновения диабета должен стать сигналом для пользователя пройти углубленное обследование.</p>\n",
        "<hr>\n",
        "<h3> Подробное описание набора \"Diabetes Health Indicators Dataset\"</h3>\n",
        "\n",
        "<h4> <a href= \"https://www.kaggle.com/datasets/alexteboul/diabetes-health-indicators-dataset\">Ссылка на Kaggle </a></h4>\n",
        "\n",
        "<p>Diabetes is among the most prevalent chronic diseases in the United States, impacting millions of Americans each year and exerting a significant financial burden on the economy. Diabetes is a serious chronic disease in which individuals lose the ability to effectively regulate levels of glucose in the blood, and can lead to reduced quality of life and life expectancy. After different foods are broken down into sugars during digestion, the sugars are then released into the bloodstream. This signals the pancreas to release insulin. Insulin helps enable cells within the body to use those sugars in the bloodstream for energy. Diabetes is generally characterized by either the body not making enough insulin or being unable to use the insulin that is made as effectively as needed.\n",
        "\n",
        "Complications like heart disease, vision loss, lower-limb amputation, and kidney disease are associated with chronically high levels of sugar remaining in the bloodstream for those with diabetes. While there is no cure for diabetes, strategies like losing weight, eating healthily, being active, and receiving medical treatments can mitigate the harms of this disease in many patients. Early diagnosis can lead to lifestyle changes and more effective treatment, making predictive models for diabetes risk important tools for public and public health officials.\n",
        "\n",
        "The scale of this problem is also important to recognize. The Centers for Disease Control and Prevention has indicated that as of 2018, 34.2 million Americans have diabetes and 88 million have prediabetes. Furthermore, the CDC estimates that 1 in 5 diabetics, and roughly 8 in 10 prediabetics are unaware of their risk. While there are different types of diabetes, type II diabetes is the most common form and its prevalence varies by age, education, income, location, race, and other social determinants of health. Much of the burden of the disease falls on those of lower socioeconomic status as well.  </p>\n",
        "<p> The Behavioral Risk Factor Surveillance System (BRFSS) is a health-related telephone survey that is collected annually by the CDC. Each year, the survey collects responses from over 400,000 Americans on health-related risk behaviors, chronic health conditions, and the use of preventative services. It has been conducted every year since 1984. For this project, a csv of the dataset available on Kaggle for the year 2015 was used. This original dataset contains responses from 441,455 individuals and has 330 features. These features are either questions directly asked of participants, or calculated variables based on individual participant responses.</p>"
      ]
    },
    {
      "cell_type": "code",
      "execution_count": 4,
      "metadata": {
        "id": "UzvyTfPO46cX"
      },
      "outputs": [],
      "source": [
        "DATA_LINK = \"https://raw.githubusercontent.com/Segrey372017/gb_ML_in_business/main/tp_diabetes_012_health_indicators_BRFSS2015.csv\""
      ]
    },
    {
      "cell_type": "code",
      "execution_count": 5,
      "metadata": {
        "id": "aobCNT_IBRa-"
      },
      "outputs": [],
      "source": [
        "df = pd.read_csv(DATA_LINK, sep = ',')"
      ]
    },
    {
      "cell_type": "code",
      "execution_count": 6,
      "metadata": {
        "colab": {
          "base_uri": "https://localhost:8080/",
          "height": 300
        },
        "id": "6Dk-PEDMBX_F",
        "outputId": "7bb02d19-2f0c-41c5-c808-a2072a821ebc"
      },
      "outputs": [
        {
          "output_type": "execute_result",
          "data": {
            "text/plain": [
              "   Diabetes_012  HighBP  HighChol  CholCheck   BMI  Smoker  Stroke  \\\n",
              "0           0.0     1.0       1.0        1.0  40.0     1.0     0.0   \n",
              "1           0.0     0.0       0.0        0.0  25.0     1.0     0.0   \n",
              "2           0.0     1.0       1.0        1.0  28.0     0.0     0.0   \n",
              "3           0.0     1.0       0.0        1.0  27.0     0.0     0.0   \n",
              "4           0.0     1.0       1.0        1.0  24.0     0.0     0.0   \n",
              "\n",
              "   HeartDiseaseorAttack  PhysActivity  Fruits  ...  AnyHealthcare  \\\n",
              "0                   0.0           0.0     0.0  ...            1.0   \n",
              "1                   0.0           1.0     0.0  ...            0.0   \n",
              "2                   0.0           0.0     1.0  ...            1.0   \n",
              "3                   0.0           1.0     1.0  ...            1.0   \n",
              "4                   0.0           1.0     1.0  ...            1.0   \n",
              "\n",
              "   NoDocbcCost  GenHlth  MentHlth  PhysHlth  DiffWalk  Sex   Age  Education  \\\n",
              "0          0.0      5.0      18.0      15.0       1.0  0.0   9.0        4.0   \n",
              "1          1.0      3.0       0.0       0.0       0.0  0.0   7.0        6.0   \n",
              "2          1.0      5.0      30.0      30.0       1.0  0.0   9.0        4.0   \n",
              "3          0.0      2.0       0.0       0.0       0.0  0.0  11.0        3.0   \n",
              "4          0.0      2.0       3.0       0.0       0.0  0.0  11.0        5.0   \n",
              "\n",
              "   Income  \n",
              "0     3.0  \n",
              "1     1.0  \n",
              "2     8.0  \n",
              "3     6.0  \n",
              "4     4.0  \n",
              "\n",
              "[5 rows x 22 columns]"
            ],
            "text/html": [
              "\n",
              "  <div id=\"df-fdd7b4d5-2cc6-4892-853f-a3ee0b45a49d\">\n",
              "    <div class=\"colab-df-container\">\n",
              "      <div>\n",
              "<style scoped>\n",
              "    .dataframe tbody tr th:only-of-type {\n",
              "        vertical-align: middle;\n",
              "    }\n",
              "\n",
              "    .dataframe tbody tr th {\n",
              "        vertical-align: top;\n",
              "    }\n",
              "\n",
              "    .dataframe thead th {\n",
              "        text-align: right;\n",
              "    }\n",
              "</style>\n",
              "<table border=\"1\" class=\"dataframe\">\n",
              "  <thead>\n",
              "    <tr style=\"text-align: right;\">\n",
              "      <th></th>\n",
              "      <th>Diabetes_012</th>\n",
              "      <th>HighBP</th>\n",
              "      <th>HighChol</th>\n",
              "      <th>CholCheck</th>\n",
              "      <th>BMI</th>\n",
              "      <th>Smoker</th>\n",
              "      <th>Stroke</th>\n",
              "      <th>HeartDiseaseorAttack</th>\n",
              "      <th>PhysActivity</th>\n",
              "      <th>Fruits</th>\n",
              "      <th>...</th>\n",
              "      <th>AnyHealthcare</th>\n",
              "      <th>NoDocbcCost</th>\n",
              "      <th>GenHlth</th>\n",
              "      <th>MentHlth</th>\n",
              "      <th>PhysHlth</th>\n",
              "      <th>DiffWalk</th>\n",
              "      <th>Sex</th>\n",
              "      <th>Age</th>\n",
              "      <th>Education</th>\n",
              "      <th>Income</th>\n",
              "    </tr>\n",
              "  </thead>\n",
              "  <tbody>\n",
              "    <tr>\n",
              "      <th>0</th>\n",
              "      <td>0.0</td>\n",
              "      <td>1.0</td>\n",
              "      <td>1.0</td>\n",
              "      <td>1.0</td>\n",
              "      <td>40.0</td>\n",
              "      <td>1.0</td>\n",
              "      <td>0.0</td>\n",
              "      <td>0.0</td>\n",
              "      <td>0.0</td>\n",
              "      <td>0.0</td>\n",
              "      <td>...</td>\n",
              "      <td>1.0</td>\n",
              "      <td>0.0</td>\n",
              "      <td>5.0</td>\n",
              "      <td>18.0</td>\n",
              "      <td>15.0</td>\n",
              "      <td>1.0</td>\n",
              "      <td>0.0</td>\n",
              "      <td>9.0</td>\n",
              "      <td>4.0</td>\n",
              "      <td>3.0</td>\n",
              "    </tr>\n",
              "    <tr>\n",
              "      <th>1</th>\n",
              "      <td>0.0</td>\n",
              "      <td>0.0</td>\n",
              "      <td>0.0</td>\n",
              "      <td>0.0</td>\n",
              "      <td>25.0</td>\n",
              "      <td>1.0</td>\n",
              "      <td>0.0</td>\n",
              "      <td>0.0</td>\n",
              "      <td>1.0</td>\n",
              "      <td>0.0</td>\n",
              "      <td>...</td>\n",
              "      <td>0.0</td>\n",
              "      <td>1.0</td>\n",
              "      <td>3.0</td>\n",
              "      <td>0.0</td>\n",
              "      <td>0.0</td>\n",
              "      <td>0.0</td>\n",
              "      <td>0.0</td>\n",
              "      <td>7.0</td>\n",
              "      <td>6.0</td>\n",
              "      <td>1.0</td>\n",
              "    </tr>\n",
              "    <tr>\n",
              "      <th>2</th>\n",
              "      <td>0.0</td>\n",
              "      <td>1.0</td>\n",
              "      <td>1.0</td>\n",
              "      <td>1.0</td>\n",
              "      <td>28.0</td>\n",
              "      <td>0.0</td>\n",
              "      <td>0.0</td>\n",
              "      <td>0.0</td>\n",
              "      <td>0.0</td>\n",
              "      <td>1.0</td>\n",
              "      <td>...</td>\n",
              "      <td>1.0</td>\n",
              "      <td>1.0</td>\n",
              "      <td>5.0</td>\n",
              "      <td>30.0</td>\n",
              "      <td>30.0</td>\n",
              "      <td>1.0</td>\n",
              "      <td>0.0</td>\n",
              "      <td>9.0</td>\n",
              "      <td>4.0</td>\n",
              "      <td>8.0</td>\n",
              "    </tr>\n",
              "    <tr>\n",
              "      <th>3</th>\n",
              "      <td>0.0</td>\n",
              "      <td>1.0</td>\n",
              "      <td>0.0</td>\n",
              "      <td>1.0</td>\n",
              "      <td>27.0</td>\n",
              "      <td>0.0</td>\n",
              "      <td>0.0</td>\n",
              "      <td>0.0</td>\n",
              "      <td>1.0</td>\n",
              "      <td>1.0</td>\n",
              "      <td>...</td>\n",
              "      <td>1.0</td>\n",
              "      <td>0.0</td>\n",
              "      <td>2.0</td>\n",
              "      <td>0.0</td>\n",
              "      <td>0.0</td>\n",
              "      <td>0.0</td>\n",
              "      <td>0.0</td>\n",
              "      <td>11.0</td>\n",
              "      <td>3.0</td>\n",
              "      <td>6.0</td>\n",
              "    </tr>\n",
              "    <tr>\n",
              "      <th>4</th>\n",
              "      <td>0.0</td>\n",
              "      <td>1.0</td>\n",
              "      <td>1.0</td>\n",
              "      <td>1.0</td>\n",
              "      <td>24.0</td>\n",
              "      <td>0.0</td>\n",
              "      <td>0.0</td>\n",
              "      <td>0.0</td>\n",
              "      <td>1.0</td>\n",
              "      <td>1.0</td>\n",
              "      <td>...</td>\n",
              "      <td>1.0</td>\n",
              "      <td>0.0</td>\n",
              "      <td>2.0</td>\n",
              "      <td>3.0</td>\n",
              "      <td>0.0</td>\n",
              "      <td>0.0</td>\n",
              "      <td>0.0</td>\n",
              "      <td>11.0</td>\n",
              "      <td>5.0</td>\n",
              "      <td>4.0</td>\n",
              "    </tr>\n",
              "  </tbody>\n",
              "</table>\n",
              "<p>5 rows × 22 columns</p>\n",
              "</div>\n",
              "      <button class=\"colab-df-convert\" onclick=\"convertToInteractive('df-fdd7b4d5-2cc6-4892-853f-a3ee0b45a49d')\"\n",
              "              title=\"Convert this dataframe to an interactive table.\"\n",
              "              style=\"display:none;\">\n",
              "        \n",
              "  <svg xmlns=\"http://www.w3.org/2000/svg\" height=\"24px\"viewBox=\"0 0 24 24\"\n",
              "       width=\"24px\">\n",
              "    <path d=\"M0 0h24v24H0V0z\" fill=\"none\"/>\n",
              "    <path d=\"M18.56 5.44l.94 2.06.94-2.06 2.06-.94-2.06-.94-.94-2.06-.94 2.06-2.06.94zm-11 1L8.5 8.5l.94-2.06 2.06-.94-2.06-.94L8.5 2.5l-.94 2.06-2.06.94zm10 10l.94 2.06.94-2.06 2.06-.94-2.06-.94-.94-2.06-.94 2.06-2.06.94z\"/><path d=\"M17.41 7.96l-1.37-1.37c-.4-.4-.92-.59-1.43-.59-.52 0-1.04.2-1.43.59L10.3 9.45l-7.72 7.72c-.78.78-.78 2.05 0 2.83L4 21.41c.39.39.9.59 1.41.59.51 0 1.02-.2 1.41-.59l7.78-7.78 2.81-2.81c.8-.78.8-2.07 0-2.86zM5.41 20L4 18.59l7.72-7.72 1.47 1.35L5.41 20z\"/>\n",
              "  </svg>\n",
              "      </button>\n",
              "      \n",
              "  <style>\n",
              "    .colab-df-container {\n",
              "      display:flex;\n",
              "      flex-wrap:wrap;\n",
              "      gap: 12px;\n",
              "    }\n",
              "\n",
              "    .colab-df-convert {\n",
              "      background-color: #E8F0FE;\n",
              "      border: none;\n",
              "      border-radius: 50%;\n",
              "      cursor: pointer;\n",
              "      display: none;\n",
              "      fill: #1967D2;\n",
              "      height: 32px;\n",
              "      padding: 0 0 0 0;\n",
              "      width: 32px;\n",
              "    }\n",
              "\n",
              "    .colab-df-convert:hover {\n",
              "      background-color: #E2EBFA;\n",
              "      box-shadow: 0px 1px 2px rgba(60, 64, 67, 0.3), 0px 1px 3px 1px rgba(60, 64, 67, 0.15);\n",
              "      fill: #174EA6;\n",
              "    }\n",
              "\n",
              "    [theme=dark] .colab-df-convert {\n",
              "      background-color: #3B4455;\n",
              "      fill: #D2E3FC;\n",
              "    }\n",
              "\n",
              "    [theme=dark] .colab-df-convert:hover {\n",
              "      background-color: #434B5C;\n",
              "      box-shadow: 0px 1px 3px 1px rgba(0, 0, 0, 0.15);\n",
              "      filter: drop-shadow(0px 1px 2px rgba(0, 0, 0, 0.3));\n",
              "      fill: #FFFFFF;\n",
              "    }\n",
              "  </style>\n",
              "\n",
              "      <script>\n",
              "        const buttonEl =\n",
              "          document.querySelector('#df-fdd7b4d5-2cc6-4892-853f-a3ee0b45a49d button.colab-df-convert');\n",
              "        buttonEl.style.display =\n",
              "          google.colab.kernel.accessAllowed ? 'block' : 'none';\n",
              "\n",
              "        async function convertToInteractive(key) {\n",
              "          const element = document.querySelector('#df-fdd7b4d5-2cc6-4892-853f-a3ee0b45a49d');\n",
              "          const dataTable =\n",
              "            await google.colab.kernel.invokeFunction('convertToInteractive',\n",
              "                                                     [key], {});\n",
              "          if (!dataTable) return;\n",
              "\n",
              "          const docLinkHtml = 'Like what you see? Visit the ' +\n",
              "            '<a target=\"_blank\" href=https://colab.research.google.com/notebooks/data_table.ipynb>data table notebook</a>'\n",
              "            + ' to learn more about interactive tables.';\n",
              "          element.innerHTML = '';\n",
              "          dataTable['output_type'] = 'display_data';\n",
              "          await google.colab.output.renderOutput(dataTable, element);\n",
              "          const docLink = document.createElement('div');\n",
              "          docLink.innerHTML = docLinkHtml;\n",
              "          element.appendChild(docLink);\n",
              "        }\n",
              "      </script>\n",
              "    </div>\n",
              "  </div>\n",
              "  "
            ]
          },
          "metadata": {},
          "execution_count": 6
        }
      ],
      "source": [
        "df.head()"
      ]
    },
    {
      "cell_type": "code",
      "execution_count": 7,
      "metadata": {
        "colab": {
          "base_uri": "https://localhost:8080/"
        },
        "id": "XKj6CXfgC6PE",
        "outputId": "b35f02be-5fd6-45d5-9e34-ad58957cabaa"
      },
      "outputs": [
        {
          "output_type": "stream",
          "name": "stdout",
          "text": [
            "<class 'pandas.core.frame.DataFrame'>\n",
            "RangeIndex: 253680 entries, 0 to 253679\n",
            "Data columns (total 22 columns):\n",
            " #   Column                Non-Null Count   Dtype  \n",
            "---  ------                --------------   -----  \n",
            " 0   Diabetes_012          253680 non-null  float64\n",
            " 1   HighBP                253680 non-null  float64\n",
            " 2   HighChol              253680 non-null  float64\n",
            " 3   CholCheck             253680 non-null  float64\n",
            " 4   BMI                   253680 non-null  float64\n",
            " 5   Smoker                253680 non-null  float64\n",
            " 6   Stroke                253680 non-null  float64\n",
            " 7   HeartDiseaseorAttack  253680 non-null  float64\n",
            " 8   PhysActivity          253680 non-null  float64\n",
            " 9   Fruits                253680 non-null  float64\n",
            " 10  Veggies               253680 non-null  float64\n",
            " 11  HvyAlcoholConsump     253680 non-null  float64\n",
            " 12  AnyHealthcare         253680 non-null  float64\n",
            " 13  NoDocbcCost           253680 non-null  float64\n",
            " 14  GenHlth               253680 non-null  float64\n",
            " 15  MentHlth              253680 non-null  float64\n",
            " 16  PhysHlth              253680 non-null  float64\n",
            " 17  DiffWalk              253680 non-null  float64\n",
            " 18  Sex                   253680 non-null  float64\n",
            " 19  Age                   253680 non-null  float64\n",
            " 20  Education             253680 non-null  float64\n",
            " 21  Income                253680 non-null  float64\n",
            "dtypes: float64(22)\n",
            "memory usage: 42.6 MB\n"
          ]
        }
      ],
      "source": [
        "df.info()"
      ]
    },
    {
      "cell_type": "markdown",
      "metadata": {
        "id": "luB69U53Da_o"
      },
      "source": [
        "Набор содержит 20 признаков. Часть признаков общемедицинские - индекс массы тела, повышенное давление, наличие сердечно-сосудистых заболеваний и т.д. Другая часть признаков - социально демографические: пол, возраст, уровень образования, уровень дохода, наличие вредных привычек. Ряд признаков можно охарактеризовать как производные: общий уровень здоровья, уровень психического здоровья и т.д."
      ]
    },
    {
      "cell_type": "markdown",
      "metadata": {
        "id": "qxB5dhyIG2M7"
      },
      "source": [
        "Большинство признакаов имеют бинарные значения 0 или 1, числовое значение. Ряд признаков, набример возраст закодированые номером группы. Для них Надо будет выполнять предобработку"
      ]
    },
    {
      "cell_type": "code",
      "execution_count": 8,
      "metadata": {
        "colab": {
          "base_uri": "https://localhost:8080/"
        },
        "id": "y7WUPQMKHTeY",
        "outputId": "860e00be-7831-43f2-8c95-9423b949364c"
      },
      "outputs": [
        {
          "output_type": "execute_result",
          "data": {
            "text/plain": [
              "Index(['Diabetes_012', 'HighBP', 'HighChol', 'CholCheck', 'BMI', 'Smoker',\n",
              "       'Stroke', 'HeartDiseaseorAttack', 'PhysActivity', 'Fruits', 'Veggies',\n",
              "       'HvyAlcoholConsump', 'AnyHealthcare', 'NoDocbcCost', 'GenHlth',\n",
              "       'MentHlth', 'PhysHlth', 'DiffWalk', 'Sex', 'Age', 'Education',\n",
              "       'Income'],\n",
              "      dtype='object')"
            ]
          },
          "metadata": {},
          "execution_count": 8
        }
      ],
      "source": [
        "df.columns"
      ]
    },
    {
      "cell_type": "markdown",
      "metadata": {
        "id": "XpWiJlGmHZro"
      },
      "source": [
        "Для специфики нашей задачи подойдет не весь набор признаков. Сосредочимся на тех, которе легко понятны для пользователя и последующей интерпритации:\n",
        "<ul>\n",
        "<li> Diabetes_012 - целевой признак: 0 - нет диабета, 1 - преддиабет, 2 диабет </li>\n",
        "<li> HighBP - \"ПовышенноеДавление\": 0 - в норме; 1 - повышенное - </li>\n",
        "<li> HighChol - \"ВысокийХолестерин\": 0 - нет; 1 - да </li>\n",
        "<li> CholCheck - \"ПроверкаХолистерина\": Измерялся ли за последние 5 лет уровень холистерина (0 - нет, 1 - да) </li>\n",
        "<li> BMI - \"Индекс массы тела\" - числовое значение: $масса / рост^2$ </li>\n",
        "<li> Smoker - \"Курильщик\" 0 - нет; 1 - да (НЕОЖИДАННО: считается да если выкурили от 100 сигарет  В ТЕЧЕНИЕ  ЖИЗНИ</li>\n",
        "<li> Stroke - \"Инсульт\" перенесли инсульт: 0 - нет; 1 - да</li>\n",
        "<li> HeartDiseaseorAttack  - \"Сердечный приступ (инфаркт)\": 0-  нет 1 - да </li>\n",
        "<li>PhysActivity - ФизическаяАктивность - была ли физическая активность за последние 30 дней за исключением работы (спорт, прогулки, пробежки) </li>\n",
        "<li> Fruits - Съедаете ли вы хотя бы 1 фрукт в течение дня (0 - нет; 1 - да)</li>\n",
        "<li>Veggies - тоже самое про овощи  </li>\n",
        "<li> HvyAlcoholConsump - \"Алкоголь\" тяжелое употребление алкоголя: 1 - если выпиваете алкогольный напиток 14 раз в неделю (мужчины) 7 раз (женщины), реже 0.  </li>\n",
        "<li> Sex - \"Пол\": 0 - для женщин, 1 - для мужчин</li>\n",
        "<li> Age - \"Возраст\" - в наборе данных используется номер возрастной группы по 13 групповой возрасной классификации.</li>\n",
        "</ul>\n",
        "<hr>\n",
        "<p> P.S. Надо будет подготовить функции для расчта индекса массы тела по массе и росту пользователя, для расчета возрастной групы по возрасту. </p>"
      ]
    },
    {
      "cell_type": "code",
      "execution_count": 9,
      "metadata": {
        "id": "mMPu9TggHY__"
      },
      "outputs": [],
      "source": [
        "sel_cols = ['Diabetes_012', 'HighBP', 'HighChol', 'CholCheck', 'BMI', 'Smoker',\n",
        "       'Stroke', 'HeartDiseaseorAttack', 'PhysActivity', 'Fruits', 'Veggies','HvyAlcoholConsump', 'Sex', 'Age']"
      ]
    },
    {
      "cell_type": "markdown",
      "metadata": {
        "id": "160T9wUsPuxj"
      },
      "source": [
        "И так, все отобранные признаки категориальные (да/нет), один непрерывный числовой - Индекс массы тела. Таким образом получится простая в заполнении анкета."
      ]
    },
    {
      "cell_type": "code",
      "execution_count": 10,
      "metadata": {
        "colab": {
          "base_uri": "https://localhost:8080/",
          "height": 143
        },
        "id": "hEnCoqVeQH9W",
        "outputId": "973c8c08-6566-49bd-8229-6d1995cbbe30"
      },
      "outputs": [
        {
          "output_type": "execute_result",
          "data": {
            "text/plain": [
              "   Diabetes_012  HighBP  HighChol  CholCheck   BMI  Smoker  Stroke  \\\n",
              "0           0.0     1.0       1.0        1.0  40.0     1.0     0.0   \n",
              "1           0.0     0.0       0.0        0.0  25.0     1.0     0.0   \n",
              "2           0.0     1.0       1.0        1.0  28.0     0.0     0.0   \n",
              "\n",
              "   HeartDiseaseorAttack  PhysActivity  Fruits  Veggies  HvyAlcoholConsump  \\\n",
              "0                   0.0           0.0     0.0      1.0                0.0   \n",
              "1                   0.0           1.0     0.0      0.0                0.0   \n",
              "2                   0.0           0.0     1.0      0.0                0.0   \n",
              "\n",
              "   Sex  Age  \n",
              "0  0.0  9.0  \n",
              "1  0.0  7.0  \n",
              "2  0.0  9.0  "
            ],
            "text/html": [
              "\n",
              "  <div id=\"df-24ad040d-0f8d-4846-a384-f7a59593efe8\">\n",
              "    <div class=\"colab-df-container\">\n",
              "      <div>\n",
              "<style scoped>\n",
              "    .dataframe tbody tr th:only-of-type {\n",
              "        vertical-align: middle;\n",
              "    }\n",
              "\n",
              "    .dataframe tbody tr th {\n",
              "        vertical-align: top;\n",
              "    }\n",
              "\n",
              "    .dataframe thead th {\n",
              "        text-align: right;\n",
              "    }\n",
              "</style>\n",
              "<table border=\"1\" class=\"dataframe\">\n",
              "  <thead>\n",
              "    <tr style=\"text-align: right;\">\n",
              "      <th></th>\n",
              "      <th>Diabetes_012</th>\n",
              "      <th>HighBP</th>\n",
              "      <th>HighChol</th>\n",
              "      <th>CholCheck</th>\n",
              "      <th>BMI</th>\n",
              "      <th>Smoker</th>\n",
              "      <th>Stroke</th>\n",
              "      <th>HeartDiseaseorAttack</th>\n",
              "      <th>PhysActivity</th>\n",
              "      <th>Fruits</th>\n",
              "      <th>Veggies</th>\n",
              "      <th>HvyAlcoholConsump</th>\n",
              "      <th>Sex</th>\n",
              "      <th>Age</th>\n",
              "    </tr>\n",
              "  </thead>\n",
              "  <tbody>\n",
              "    <tr>\n",
              "      <th>0</th>\n",
              "      <td>0.0</td>\n",
              "      <td>1.0</td>\n",
              "      <td>1.0</td>\n",
              "      <td>1.0</td>\n",
              "      <td>40.0</td>\n",
              "      <td>1.0</td>\n",
              "      <td>0.0</td>\n",
              "      <td>0.0</td>\n",
              "      <td>0.0</td>\n",
              "      <td>0.0</td>\n",
              "      <td>1.0</td>\n",
              "      <td>0.0</td>\n",
              "      <td>0.0</td>\n",
              "      <td>9.0</td>\n",
              "    </tr>\n",
              "    <tr>\n",
              "      <th>1</th>\n",
              "      <td>0.0</td>\n",
              "      <td>0.0</td>\n",
              "      <td>0.0</td>\n",
              "      <td>0.0</td>\n",
              "      <td>25.0</td>\n",
              "      <td>1.0</td>\n",
              "      <td>0.0</td>\n",
              "      <td>0.0</td>\n",
              "      <td>1.0</td>\n",
              "      <td>0.0</td>\n",
              "      <td>0.0</td>\n",
              "      <td>0.0</td>\n",
              "      <td>0.0</td>\n",
              "      <td>7.0</td>\n",
              "    </tr>\n",
              "    <tr>\n",
              "      <th>2</th>\n",
              "      <td>0.0</td>\n",
              "      <td>1.0</td>\n",
              "      <td>1.0</td>\n",
              "      <td>1.0</td>\n",
              "      <td>28.0</td>\n",
              "      <td>0.0</td>\n",
              "      <td>0.0</td>\n",
              "      <td>0.0</td>\n",
              "      <td>0.0</td>\n",
              "      <td>1.0</td>\n",
              "      <td>0.0</td>\n",
              "      <td>0.0</td>\n",
              "      <td>0.0</td>\n",
              "      <td>9.0</td>\n",
              "    </tr>\n",
              "  </tbody>\n",
              "</table>\n",
              "</div>\n",
              "      <button class=\"colab-df-convert\" onclick=\"convertToInteractive('df-24ad040d-0f8d-4846-a384-f7a59593efe8')\"\n",
              "              title=\"Convert this dataframe to an interactive table.\"\n",
              "              style=\"display:none;\">\n",
              "        \n",
              "  <svg xmlns=\"http://www.w3.org/2000/svg\" height=\"24px\"viewBox=\"0 0 24 24\"\n",
              "       width=\"24px\">\n",
              "    <path d=\"M0 0h24v24H0V0z\" fill=\"none\"/>\n",
              "    <path d=\"M18.56 5.44l.94 2.06.94-2.06 2.06-.94-2.06-.94-.94-2.06-.94 2.06-2.06.94zm-11 1L8.5 8.5l.94-2.06 2.06-.94-2.06-.94L8.5 2.5l-.94 2.06-2.06.94zm10 10l.94 2.06.94-2.06 2.06-.94-2.06-.94-.94-2.06-.94 2.06-2.06.94z\"/><path d=\"M17.41 7.96l-1.37-1.37c-.4-.4-.92-.59-1.43-.59-.52 0-1.04.2-1.43.59L10.3 9.45l-7.72 7.72c-.78.78-.78 2.05 0 2.83L4 21.41c.39.39.9.59 1.41.59.51 0 1.02-.2 1.41-.59l7.78-7.78 2.81-2.81c.8-.78.8-2.07 0-2.86zM5.41 20L4 18.59l7.72-7.72 1.47 1.35L5.41 20z\"/>\n",
              "  </svg>\n",
              "      </button>\n",
              "      \n",
              "  <style>\n",
              "    .colab-df-container {\n",
              "      display:flex;\n",
              "      flex-wrap:wrap;\n",
              "      gap: 12px;\n",
              "    }\n",
              "\n",
              "    .colab-df-convert {\n",
              "      background-color: #E8F0FE;\n",
              "      border: none;\n",
              "      border-radius: 50%;\n",
              "      cursor: pointer;\n",
              "      display: none;\n",
              "      fill: #1967D2;\n",
              "      height: 32px;\n",
              "      padding: 0 0 0 0;\n",
              "      width: 32px;\n",
              "    }\n",
              "\n",
              "    .colab-df-convert:hover {\n",
              "      background-color: #E2EBFA;\n",
              "      box-shadow: 0px 1px 2px rgba(60, 64, 67, 0.3), 0px 1px 3px 1px rgba(60, 64, 67, 0.15);\n",
              "      fill: #174EA6;\n",
              "    }\n",
              "\n",
              "    [theme=dark] .colab-df-convert {\n",
              "      background-color: #3B4455;\n",
              "      fill: #D2E3FC;\n",
              "    }\n",
              "\n",
              "    [theme=dark] .colab-df-convert:hover {\n",
              "      background-color: #434B5C;\n",
              "      box-shadow: 0px 1px 3px 1px rgba(0, 0, 0, 0.15);\n",
              "      filter: drop-shadow(0px 1px 2px rgba(0, 0, 0, 0.3));\n",
              "      fill: #FFFFFF;\n",
              "    }\n",
              "  </style>\n",
              "\n",
              "      <script>\n",
              "        const buttonEl =\n",
              "          document.querySelector('#df-24ad040d-0f8d-4846-a384-f7a59593efe8 button.colab-df-convert');\n",
              "        buttonEl.style.display =\n",
              "          google.colab.kernel.accessAllowed ? 'block' : 'none';\n",
              "\n",
              "        async function convertToInteractive(key) {\n",
              "          const element = document.querySelector('#df-24ad040d-0f8d-4846-a384-f7a59593efe8');\n",
              "          const dataTable =\n",
              "            await google.colab.kernel.invokeFunction('convertToInteractive',\n",
              "                                                     [key], {});\n",
              "          if (!dataTable) return;\n",
              "\n",
              "          const docLinkHtml = 'Like what you see? Visit the ' +\n",
              "            '<a target=\"_blank\" href=https://colab.research.google.com/notebooks/data_table.ipynb>data table notebook</a>'\n",
              "            + ' to learn more about interactive tables.';\n",
              "          element.innerHTML = '';\n",
              "          dataTable['output_type'] = 'display_data';\n",
              "          await google.colab.output.renderOutput(dataTable, element);\n",
              "          const docLink = document.createElement('div');\n",
              "          docLink.innerHTML = docLinkHtml;\n",
              "          element.appendChild(docLink);\n",
              "        }\n",
              "      </script>\n",
              "    </div>\n",
              "  </div>\n",
              "  "
            ]
          },
          "metadata": {},
          "execution_count": 10
        }
      ],
      "source": [
        "# перенесем отобранные признаки в новый датафрейм\n",
        "data = df[sel_cols]\n",
        "data.head(3)"
      ]
    },
    {
      "cell_type": "code",
      "execution_count": 11,
      "metadata": {
        "colab": {
          "base_uri": "https://localhost:8080/"
        },
        "id": "LyvIb6lgQqvn",
        "outputId": "ab13732e-3e07-43f1-83e2-c9c221d360ea"
      },
      "outputs": [
        {
          "output_type": "execute_result",
          "data": {
            "text/plain": [
              "Diabetes_012            0.0\n",
              "HighBP                  0.0\n",
              "HighChol                0.0\n",
              "CholCheck               0.0\n",
              "BMI                     0.0\n",
              "Smoker                  0.0\n",
              "Stroke                  0.0\n",
              "HeartDiseaseorAttack    0.0\n",
              "PhysActivity            0.0\n",
              "Fruits                  0.0\n",
              "Veggies                 0.0\n",
              "HvyAlcoholConsump       0.0\n",
              "Sex                     0.0\n",
              "Age                     0.0\n",
              "dtype: float64"
            ]
          },
          "metadata": {},
          "execution_count": 11
        }
      ],
      "source": [
        "# набор данных должен быть без пропусков\n",
        "data.isna().mean()*100"
      ]
    },
    {
      "cell_type": "markdown",
      "metadata": {
        "id": "ywGoI3rMQ2NJ"
      },
      "source": [
        "Поскольку планируется сервис по экспресс-тестированию. Целесообразно оставить в целевом признаке 'Diabetes_012' две категории 0 - отсутствует риск диабета; 1 - высокий риск диабета (объединим 1 и 2 классы)"
      ]
    },
    {
      "cell_type": "code",
      "execution_count": 12,
      "metadata": {
        "colab": {
          "base_uri": "https://localhost:8080/"
        },
        "id": "zj4VeK0aRUyN",
        "outputId": "d3185524-6f32-4402-e50e-87ecd3a6d931"
      },
      "outputs": [
        {
          "output_type": "stream",
          "name": "stderr",
          "text": [
            "/usr/local/lib/python3.7/dist-packages/pandas/core/indexing.py:1732: SettingWithCopyWarning: \n",
            "A value is trying to be set on a copy of a slice from a DataFrame\n",
            "\n",
            "See the caveats in the documentation: https://pandas.pydata.org/pandas-docs/stable/user_guide/indexing.html#returning-a-view-versus-a-copy\n",
            "  self._setitem_single_block(indexer, value, name)\n"
          ]
        }
      ],
      "source": [
        "data.Diabetes_012.loc[data.Diabetes_012 != 0] = 1"
      ]
    },
    {
      "cell_type": "code",
      "execution_count": 13,
      "metadata": {
        "colab": {
          "base_uri": "https://localhost:8080/"
        },
        "id": "si8ODDeoR092",
        "outputId": "846b911c-e926-496e-dad4-c89a65160e5e"
      },
      "outputs": [
        {
          "output_type": "execute_result",
          "data": {
            "text/plain": [
              "0.0    213703\n",
              "1.0     39977\n",
              "Name: Diabetes_012, dtype: int64"
            ]
          },
          "metadata": {},
          "execution_count": 13
        }
      ],
      "source": [
        "data.Diabetes_012.value_counts()"
      ]
    },
    {
      "cell_type": "code",
      "execution_count": 14,
      "metadata": {
        "colab": {
          "base_uri": "https://localhost:8080/"
        },
        "id": "Gjmcx2jrHYtM",
        "outputId": "d50e3d0f-e7f3-46e7-b805-a437178cbddb"
      },
      "outputs": [
        {
          "output_type": "execute_result",
          "data": {
            "text/plain": [
              "5.345648748030118"
            ]
          },
          "metadata": {},
          "execution_count": 14
        }
      ],
      "source": [
        "imbalance = 213703/39977\n",
        "imbalance"
      ]
    },
    {
      "cell_type": "markdown",
      "metadata": {
        "id": "kJOdTag0R-0d"
      },
      "source": [
        "Набор данный имеет сильный дисбаланс на 213 тысяч здоровых пригодится всего 40 тысяч людей с диабетом или риском развития диабета"
      ]
    },
    {
      "cell_type": "markdown",
      "metadata": {
        "id": "JI5TM3HoSYlV"
      },
      "source": [
        "Объявим функции для расчета необходимых данных: Индекса массы тела, Возрастной группы. <hr>\n",
        "\n",
        "<h4> 13 ранговая таблица возрастов</h4>\n",
        "<ol> \n",
        "<li>Age 18 - 24 </li>\n",
        "<li>Age 25 to 29 </li>\n",
        "<li>Age 30 to 34 </li>\n",
        "<li>Age 35 to 39 </li>\n",
        "<li>Age 40 to 44 </li>\n",
        "<li>Age 45 to 49 </li>\n",
        "<li>Age 50 to 54 </li>\n",
        "<li>Age 55 to 59 </li>\n",
        "<li>Age 60 to 64 </li>\n",
        "<li>Age 65 to 69 </li>\n",
        "<li>Age 70 to 74 </li>\n",
        "<li>Age 75 to 79 </li>\n",
        "<li>Age 80 or older </li>\n",
        "</ol>"
      ]
    },
    {
      "cell_type": "code",
      "execution_count": 15,
      "metadata": {
        "id": "aI19kWNVR9d8"
      },
      "outputs": [],
      "source": [
        "def get_bmi(weight, height):\n",
        "    \"\"\"\n",
        "    Возвращает значение Индекса массы тела, рассчитываемый по формуле вес человека (кг)\n",
        "    деленный на рост (в метрах) в квадрате \n",
        "    \"\"\"\n",
        "    return weight / height**2\n",
        "\n",
        "def get_age_group(age):\n",
        "    \"\"\"\n",
        "    По заданному значению возраста возращает \n",
        "    номер возрастной группы по 13 ранговой группировке\n",
        "    \"\"\"\n",
        "    age_groups = {1:[18, 19, 20, 21, 22, 23, 24], #словарь с группами возрастов\n",
        "                  2:[25, 26, 27, 28, 29],\n",
        "                  3:[30, 31, 32, 33, 34],\n",
        "                  4:[35, 36, 37, 38, 39],\n",
        "                  5:[40, 41, 42, 43, 44],\n",
        "                  6:[45, 46, 47, 48, 49],\n",
        "                  7:[50, 51, 52, 53, 54],\n",
        "                  8:[55, 56, 57, 58, 59],\n",
        "                  9:[60, 61, 62, 63, 64],\n",
        "                  10:[65, 66, 67, 68, 69],\n",
        "                  11:[70, 71, 72, 73, 74],\n",
        "                  12:[75, 76, 77, 78, 79],\n",
        "                  13:[80, 81, 82, 83, 84]}\n",
        "\n",
        "    #Выполним подгонку полученного возраста если меньше 18, то будет 18, если больше 84, ставим 84\n",
        "    if age < 18:\n",
        "        age = 18\n",
        "    elif age > 84:\n",
        "        age = 84\n",
        "    \n",
        "    for group in age_groups.keys(): # итерируемся по группам словаря\n",
        "        if age in age_groups[group]:\n",
        "            return group\n",
        "\n",
        "    return"
      ]
    },
    {
      "cell_type": "code",
      "execution_count": 16,
      "metadata": {
        "colab": {
          "base_uri": "https://localhost:8080/",
          "height": 364
        },
        "id": "eRrJ5loLuYy-",
        "outputId": "a5821a84-fd64-418d-d26a-e3daf0f43fff"
      },
      "outputs": [
        {
          "output_type": "execute_result",
          "data": {
            "text/plain": [
              "        Diabetes_012         HighBP       HighChol      CholCheck  \\\n",
              "count  253680.000000  253680.000000  253680.000000  253680.000000   \n",
              "mean        0.157588       0.429001       0.424121       0.962670   \n",
              "std         0.364355       0.494934       0.494210       0.189571   \n",
              "min         0.000000       0.000000       0.000000       0.000000   \n",
              "25%         0.000000       0.000000       0.000000       1.000000   \n",
              "50%         0.000000       0.000000       0.000000       1.000000   \n",
              "75%         0.000000       1.000000       1.000000       1.000000   \n",
              "max         1.000000       1.000000       1.000000       1.000000   \n",
              "\n",
              "                 BMI         Smoker         Stroke  HeartDiseaseorAttack  \\\n",
              "count  253680.000000  253680.000000  253680.000000         253680.000000   \n",
              "mean       28.382364       0.443169       0.040571              0.094186   \n",
              "std         6.608694       0.496761       0.197294              0.292087   \n",
              "min        12.000000       0.000000       0.000000              0.000000   \n",
              "25%        24.000000       0.000000       0.000000              0.000000   \n",
              "50%        27.000000       0.000000       0.000000              0.000000   \n",
              "75%        31.000000       1.000000       0.000000              0.000000   \n",
              "max        98.000000       1.000000       1.000000              1.000000   \n",
              "\n",
              "        PhysActivity         Fruits        Veggies  HvyAlcoholConsump  \\\n",
              "count  253680.000000  253680.000000  253680.000000      253680.000000   \n",
              "mean        0.756544       0.634256       0.811420           0.056197   \n",
              "std         0.429169       0.481639       0.391175           0.230302   \n",
              "min         0.000000       0.000000       0.000000           0.000000   \n",
              "25%         1.000000       0.000000       1.000000           0.000000   \n",
              "50%         1.000000       1.000000       1.000000           0.000000   \n",
              "75%         1.000000       1.000000       1.000000           0.000000   \n",
              "max         1.000000       1.000000       1.000000           1.000000   \n",
              "\n",
              "                 Sex            Age  \n",
              "count  253680.000000  253680.000000  \n",
              "mean        0.440342       8.032119  \n",
              "std         0.496429       3.054220  \n",
              "min         0.000000       1.000000  \n",
              "25%         0.000000       6.000000  \n",
              "50%         0.000000       8.000000  \n",
              "75%         1.000000      10.000000  \n",
              "max         1.000000      13.000000  "
            ],
            "text/html": [
              "\n",
              "  <div id=\"df-2b26757c-cc0a-4381-887d-d3f09028c14c\">\n",
              "    <div class=\"colab-df-container\">\n",
              "      <div>\n",
              "<style scoped>\n",
              "    .dataframe tbody tr th:only-of-type {\n",
              "        vertical-align: middle;\n",
              "    }\n",
              "\n",
              "    .dataframe tbody tr th {\n",
              "        vertical-align: top;\n",
              "    }\n",
              "\n",
              "    .dataframe thead th {\n",
              "        text-align: right;\n",
              "    }\n",
              "</style>\n",
              "<table border=\"1\" class=\"dataframe\">\n",
              "  <thead>\n",
              "    <tr style=\"text-align: right;\">\n",
              "      <th></th>\n",
              "      <th>Diabetes_012</th>\n",
              "      <th>HighBP</th>\n",
              "      <th>HighChol</th>\n",
              "      <th>CholCheck</th>\n",
              "      <th>BMI</th>\n",
              "      <th>Smoker</th>\n",
              "      <th>Stroke</th>\n",
              "      <th>HeartDiseaseorAttack</th>\n",
              "      <th>PhysActivity</th>\n",
              "      <th>Fruits</th>\n",
              "      <th>Veggies</th>\n",
              "      <th>HvyAlcoholConsump</th>\n",
              "      <th>Sex</th>\n",
              "      <th>Age</th>\n",
              "    </tr>\n",
              "  </thead>\n",
              "  <tbody>\n",
              "    <tr>\n",
              "      <th>count</th>\n",
              "      <td>253680.000000</td>\n",
              "      <td>253680.000000</td>\n",
              "      <td>253680.000000</td>\n",
              "      <td>253680.000000</td>\n",
              "      <td>253680.000000</td>\n",
              "      <td>253680.000000</td>\n",
              "      <td>253680.000000</td>\n",
              "      <td>253680.000000</td>\n",
              "      <td>253680.000000</td>\n",
              "      <td>253680.000000</td>\n",
              "      <td>253680.000000</td>\n",
              "      <td>253680.000000</td>\n",
              "      <td>253680.000000</td>\n",
              "      <td>253680.000000</td>\n",
              "    </tr>\n",
              "    <tr>\n",
              "      <th>mean</th>\n",
              "      <td>0.157588</td>\n",
              "      <td>0.429001</td>\n",
              "      <td>0.424121</td>\n",
              "      <td>0.962670</td>\n",
              "      <td>28.382364</td>\n",
              "      <td>0.443169</td>\n",
              "      <td>0.040571</td>\n",
              "      <td>0.094186</td>\n",
              "      <td>0.756544</td>\n",
              "      <td>0.634256</td>\n",
              "      <td>0.811420</td>\n",
              "      <td>0.056197</td>\n",
              "      <td>0.440342</td>\n",
              "      <td>8.032119</td>\n",
              "    </tr>\n",
              "    <tr>\n",
              "      <th>std</th>\n",
              "      <td>0.364355</td>\n",
              "      <td>0.494934</td>\n",
              "      <td>0.494210</td>\n",
              "      <td>0.189571</td>\n",
              "      <td>6.608694</td>\n",
              "      <td>0.496761</td>\n",
              "      <td>0.197294</td>\n",
              "      <td>0.292087</td>\n",
              "      <td>0.429169</td>\n",
              "      <td>0.481639</td>\n",
              "      <td>0.391175</td>\n",
              "      <td>0.230302</td>\n",
              "      <td>0.496429</td>\n",
              "      <td>3.054220</td>\n",
              "    </tr>\n",
              "    <tr>\n",
              "      <th>min</th>\n",
              "      <td>0.000000</td>\n",
              "      <td>0.000000</td>\n",
              "      <td>0.000000</td>\n",
              "      <td>0.000000</td>\n",
              "      <td>12.000000</td>\n",
              "      <td>0.000000</td>\n",
              "      <td>0.000000</td>\n",
              "      <td>0.000000</td>\n",
              "      <td>0.000000</td>\n",
              "      <td>0.000000</td>\n",
              "      <td>0.000000</td>\n",
              "      <td>0.000000</td>\n",
              "      <td>0.000000</td>\n",
              "      <td>1.000000</td>\n",
              "    </tr>\n",
              "    <tr>\n",
              "      <th>25%</th>\n",
              "      <td>0.000000</td>\n",
              "      <td>0.000000</td>\n",
              "      <td>0.000000</td>\n",
              "      <td>1.000000</td>\n",
              "      <td>24.000000</td>\n",
              "      <td>0.000000</td>\n",
              "      <td>0.000000</td>\n",
              "      <td>0.000000</td>\n",
              "      <td>1.000000</td>\n",
              "      <td>0.000000</td>\n",
              "      <td>1.000000</td>\n",
              "      <td>0.000000</td>\n",
              "      <td>0.000000</td>\n",
              "      <td>6.000000</td>\n",
              "    </tr>\n",
              "    <tr>\n",
              "      <th>50%</th>\n",
              "      <td>0.000000</td>\n",
              "      <td>0.000000</td>\n",
              "      <td>0.000000</td>\n",
              "      <td>1.000000</td>\n",
              "      <td>27.000000</td>\n",
              "      <td>0.000000</td>\n",
              "      <td>0.000000</td>\n",
              "      <td>0.000000</td>\n",
              "      <td>1.000000</td>\n",
              "      <td>1.000000</td>\n",
              "      <td>1.000000</td>\n",
              "      <td>0.000000</td>\n",
              "      <td>0.000000</td>\n",
              "      <td>8.000000</td>\n",
              "    </tr>\n",
              "    <tr>\n",
              "      <th>75%</th>\n",
              "      <td>0.000000</td>\n",
              "      <td>1.000000</td>\n",
              "      <td>1.000000</td>\n",
              "      <td>1.000000</td>\n",
              "      <td>31.000000</td>\n",
              "      <td>1.000000</td>\n",
              "      <td>0.000000</td>\n",
              "      <td>0.000000</td>\n",
              "      <td>1.000000</td>\n",
              "      <td>1.000000</td>\n",
              "      <td>1.000000</td>\n",
              "      <td>0.000000</td>\n",
              "      <td>1.000000</td>\n",
              "      <td>10.000000</td>\n",
              "    </tr>\n",
              "    <tr>\n",
              "      <th>max</th>\n",
              "      <td>1.000000</td>\n",
              "      <td>1.000000</td>\n",
              "      <td>1.000000</td>\n",
              "      <td>1.000000</td>\n",
              "      <td>98.000000</td>\n",
              "      <td>1.000000</td>\n",
              "      <td>1.000000</td>\n",
              "      <td>1.000000</td>\n",
              "      <td>1.000000</td>\n",
              "      <td>1.000000</td>\n",
              "      <td>1.000000</td>\n",
              "      <td>1.000000</td>\n",
              "      <td>1.000000</td>\n",
              "      <td>13.000000</td>\n",
              "    </tr>\n",
              "  </tbody>\n",
              "</table>\n",
              "</div>\n",
              "      <button class=\"colab-df-convert\" onclick=\"convertToInteractive('df-2b26757c-cc0a-4381-887d-d3f09028c14c')\"\n",
              "              title=\"Convert this dataframe to an interactive table.\"\n",
              "              style=\"display:none;\">\n",
              "        \n",
              "  <svg xmlns=\"http://www.w3.org/2000/svg\" height=\"24px\"viewBox=\"0 0 24 24\"\n",
              "       width=\"24px\">\n",
              "    <path d=\"M0 0h24v24H0V0z\" fill=\"none\"/>\n",
              "    <path d=\"M18.56 5.44l.94 2.06.94-2.06 2.06-.94-2.06-.94-.94-2.06-.94 2.06-2.06.94zm-11 1L8.5 8.5l.94-2.06 2.06-.94-2.06-.94L8.5 2.5l-.94 2.06-2.06.94zm10 10l.94 2.06.94-2.06 2.06-.94-2.06-.94-.94-2.06-.94 2.06-2.06.94z\"/><path d=\"M17.41 7.96l-1.37-1.37c-.4-.4-.92-.59-1.43-.59-.52 0-1.04.2-1.43.59L10.3 9.45l-7.72 7.72c-.78.78-.78 2.05 0 2.83L4 21.41c.39.39.9.59 1.41.59.51 0 1.02-.2 1.41-.59l7.78-7.78 2.81-2.81c.8-.78.8-2.07 0-2.86zM5.41 20L4 18.59l7.72-7.72 1.47 1.35L5.41 20z\"/>\n",
              "  </svg>\n",
              "      </button>\n",
              "      \n",
              "  <style>\n",
              "    .colab-df-container {\n",
              "      display:flex;\n",
              "      flex-wrap:wrap;\n",
              "      gap: 12px;\n",
              "    }\n",
              "\n",
              "    .colab-df-convert {\n",
              "      background-color: #E8F0FE;\n",
              "      border: none;\n",
              "      border-radius: 50%;\n",
              "      cursor: pointer;\n",
              "      display: none;\n",
              "      fill: #1967D2;\n",
              "      height: 32px;\n",
              "      padding: 0 0 0 0;\n",
              "      width: 32px;\n",
              "    }\n",
              "\n",
              "    .colab-df-convert:hover {\n",
              "      background-color: #E2EBFA;\n",
              "      box-shadow: 0px 1px 2px rgba(60, 64, 67, 0.3), 0px 1px 3px 1px rgba(60, 64, 67, 0.15);\n",
              "      fill: #174EA6;\n",
              "    }\n",
              "\n",
              "    [theme=dark] .colab-df-convert {\n",
              "      background-color: #3B4455;\n",
              "      fill: #D2E3FC;\n",
              "    }\n",
              "\n",
              "    [theme=dark] .colab-df-convert:hover {\n",
              "      background-color: #434B5C;\n",
              "      box-shadow: 0px 1px 3px 1px rgba(0, 0, 0, 0.15);\n",
              "      filter: drop-shadow(0px 1px 2px rgba(0, 0, 0, 0.3));\n",
              "      fill: #FFFFFF;\n",
              "    }\n",
              "  </style>\n",
              "\n",
              "      <script>\n",
              "        const buttonEl =\n",
              "          document.querySelector('#df-2b26757c-cc0a-4381-887d-d3f09028c14c button.colab-df-convert');\n",
              "        buttonEl.style.display =\n",
              "          google.colab.kernel.accessAllowed ? 'block' : 'none';\n",
              "\n",
              "        async function convertToInteractive(key) {\n",
              "          const element = document.querySelector('#df-2b26757c-cc0a-4381-887d-d3f09028c14c');\n",
              "          const dataTable =\n",
              "            await google.colab.kernel.invokeFunction('convertToInteractive',\n",
              "                                                     [key], {});\n",
              "          if (!dataTable) return;\n",
              "\n",
              "          const docLinkHtml = 'Like what you see? Visit the ' +\n",
              "            '<a target=\"_blank\" href=https://colab.research.google.com/notebooks/data_table.ipynb>data table notebook</a>'\n",
              "            + ' to learn more about interactive tables.';\n",
              "          element.innerHTML = '';\n",
              "          dataTable['output_type'] = 'display_data';\n",
              "          await google.colab.output.renderOutput(dataTable, element);\n",
              "          const docLink = document.createElement('div');\n",
              "          docLink.innerHTML = docLinkHtml;\n",
              "          element.appendChild(docLink);\n",
              "        }\n",
              "      </script>\n",
              "    </div>\n",
              "  </div>\n",
              "  "
            ]
          },
          "metadata": {},
          "execution_count": 16
        }
      ],
      "source": [
        "# базовая описательная статистика набора\n",
        "data.describe()"
      ]
    },
    {
      "cell_type": "markdown",
      "metadata": {
        "id": "HrHdQbZfy49b"
      },
      "source": [
        "Анализ средних и максимальных значений, значительных выбросов и некорректных значений не выявил."
      ]
    },
    {
      "cell_type": "code",
      "execution_count": 17,
      "metadata": {
        "id": "7WIQTcDK2GIh"
      },
      "outputs": [],
      "source": [
        "# выделим колонки с признаками и тагертом\n",
        "feats_col = ['HighBP', 'HighChol', 'CholCheck', 'BMI', 'Smoker', 'Stroke', 'HeartDiseaseorAttack', 'PhysActivity', 'Fruits', 'Veggies','HvyAlcoholConsump', 'Sex', 'Age']\n",
        "tagert = 'Diabetes_012'"
      ]
    },
    {
      "cell_type": "code",
      "execution_count": 18,
      "metadata": {
        "id": "c-yoS07W2mi3"
      },
      "outputs": [],
      "source": [
        "# разбиваем набор данных на таргет и фичи\n",
        "X = data[feats_col]\n",
        "y = data[tagert]"
      ]
    },
    {
      "cell_type": "code",
      "execution_count": 19,
      "metadata": {
        "id": "pcnb-wgU22i8"
      },
      "outputs": [],
      "source": [
        "X_train, X_test, y_train, y_test = train_test_split(X, y, stratify = y, test_size = 0.2, random_state = 5)"
      ]
    },
    {
      "cell_type": "code",
      "execution_count": 20,
      "metadata": {
        "id": "qIRjE11X3T9r"
      },
      "outputs": [],
      "source": [
        "# сохраним наборы в отдельные файлы\n",
        "X_train.to_csv('tp_x_train.csv', index = None)\n",
        "X_test.to_csv('tp_x_test.csv', index = None)\n",
        "y_train.to_csv('tp_y_train.csv', index = None)\n",
        "y_test.to_csv('tp_y_test.csv', index = None)\n"
      ]
    },
    {
      "cell_type": "code",
      "execution_count": 21,
      "metadata": {
        "colab": {
          "base_uri": "https://localhost:8080/",
          "height": 71
        },
        "id": "rX7_cVXD4YNO",
        "outputId": "d4b1fe4f-4249-4954-f559-5c6df492653f"
      },
      "outputs": [
        {
          "output_type": "execute_result",
          "data": {
            "text/plain": [
              "\"\\nX_train = pd.read_csv('https://raw.githubusercontent.com/Segrey372017/gb_ML_in_business/main/tp_x_train.csv')\\nX_test = pd.read_csv('https://raw.githubusercontent.com/Segrey372017/gb_ML_in_business/main/tp_x_test.csv')\\n\\ny_train = pd.read_csv('https://raw.githubusercontent.com/Segrey372017/gb_ML_in_business/main/tp_y_train.csv')\\ny_test = pd.read_csv('https://github.com/Segrey372017/gb_ML_in_business/blob/main/tp_y_test.csv')\\n\""
            ],
            "application/vnd.google.colaboratory.intrinsic+json": {
              "type": "string"
            }
          },
          "metadata": {},
          "execution_count": 21
        }
      ],
      "source": [
        "# загружаем соотвествующие наборы данных из файлов на гитхаб\n",
        "\"\"\"\n",
        "X_train = pd.read_csv('https://raw.githubusercontent.com/Segrey372017/gb_ML_in_business/main/tp_x_train.csv')\n",
        "X_test = pd.read_csv('https://raw.githubusercontent.com/Segrey372017/gb_ML_in_business/main/tp_x_test.csv')\n",
        "\n",
        "y_train = pd.read_csv('https://raw.githubusercontent.com/Segrey372017/gb_ML_in_business/main/tp_y_train.csv')\n",
        "y_test = pd.read_csv('https://github.com/Segrey372017/gb_ML_in_business/blob/main/tp_y_test.csv')\n",
        "\"\"\""
      ]
    },
    {
      "cell_type": "markdown",
      "metadata": {
        "id": "MDNh4ZBq0iUa"
      },
      "source": [
        "Поскольку данные в наборе уже предобработаны, собирать сложный пайплан нет необходимости, тем неменее для \"чистоты\" эксперимента отмаштабируем все наши данные в интервал от [0...1]. Понятно, что реальному изменению подвергнутся только признаки BMI и AGE"
      ]
    },
    {
      "cell_type": "code",
      "execution_count": 22,
      "metadata": {
        "id": "8qDpAovsy2di"
      },
      "outputs": [],
      "source": [
        "# Будем использвать два классификатора Машину опортных векторов и Легкий бустинг\n",
        "\n",
        "svc_model = Pipeline([('min_max_scaler', MinMaxScaler((0,1))),\n",
        "                      ('classifier', SVC(kernel= 'linear', class_weight= {0:imbalance, 1: 1}))]) # линейное ядро для сокращения рассчетов\n",
        "\n",
        "lgbm_model = Pipeline([('min_max_scaler', MinMaxScaler((0,1))),\n",
        "                      ('classifier', LGBMClassifier(n_estimators = 100, class_weight= {0:imbalance, 1:1}, reg_lambda= 0.0))])"
      ]
    },
    {
      "cell_type": "code",
      "execution_count": 23,
      "metadata": {
        "id": "mpqPuSZ55-xz"
      },
      "outputs": [],
      "source": [
        " # тренируем модели\n",
        " # svc_model.fit(X_train, np.ravel(y_train.values))  модель не сошлась\n"
      ]
    },
    {
      "cell_type": "code",
      "execution_count": 24,
      "metadata": {
        "colab": {
          "base_uri": "https://localhost:8080/"
        },
        "id": "Tjl_9W2z62DO",
        "outputId": "9e92fa60-f251-48c6-b6f0-0fbd3cec3ee9"
      },
      "outputs": [
        {
          "output_type": "stream",
          "name": "stdout",
          "text": [
            "CPU times: user 9.25 s, sys: 66.7 ms, total: 9.32 s\n",
            "Wall time: 8.55 s\n"
          ]
        },
        {
          "output_type": "execute_result",
          "data": {
            "text/plain": [
              "Pipeline(steps=[('min_max_scaler', MinMaxScaler()),\n",
              "                ('classifier',\n",
              "                 LGBMClassifier(class_weight={0: 5.345648748030118, 1: 1}))])"
            ]
          },
          "metadata": {},
          "execution_count": 24
        }
      ],
      "source": [
        "%%time\n",
        "lgbm_model.fit(X_train, np.ravel(y_train))"
      ]
    },
    {
      "cell_type": "code",
      "execution_count": 25,
      "metadata": {
        "id": "Qjt6yXl59K2W"
      },
      "outputs": [],
      "source": [
        "y_lgbm_pred = lgbm_model.predict(X_test)"
      ]
    },
    {
      "cell_type": "code",
      "execution_count": 26,
      "metadata": {
        "colab": {
          "base_uri": "https://localhost:8080/"
        },
        "id": "pTIA4-639UVX",
        "outputId": "c326a296-5d4a-4794-c68c-d27689c3c94f"
      },
      "outputs": [
        {
          "output_type": "stream",
          "name": "stdout",
          "text": [
            "              precision    recall  f1-score   support\n",
            "\n",
            "         0.0       0.84      1.00      0.91     42741\n",
            "         1.0       0.50      0.00      0.00      7995\n",
            "\n",
            "    accuracy                           0.84     50736\n",
            "   macro avg       0.67      0.50      0.46     50736\n",
            "weighted avg       0.79      0.84      0.77     50736\n",
            "\n"
          ]
        }
      ],
      "source": [
        "print(classification_report(y_test, y_lgbm_pred))"
      ]
    },
    {
      "cell_type": "code",
      "execution_count": 27,
      "metadata": {
        "id": "M7KWVWgWFUns"
      },
      "outputs": [],
      "source": [
        "# модель дала довольно слабые результаты классификации по первому классу\n",
        "# попробуем выполнить поиск по сетке\n",
        "gs_param = {'classifier__n_estimators' : [10, 30, 60, 100, 120, 200], # количество решающих деревьев\n",
        "             'classifier__class_weight' : [None, {0:imbalance, 1:1}, {0:5, 1:1}, {0:4, 1:1}], # соотношение при дисбалансе\n",
        "             'classifier__reg_lambda' : [0.0, 0.05, 0.1, 0.2, 0.3, 0.4]} # штрафы за переобучение\n"
      ]
    },
    {
      "cell_type": "code",
      "execution_count": 28,
      "metadata": {
        "id": "pO9fWUGKGQbb"
      },
      "outputs": [],
      "source": [
        "grid = GridSearchCV(lgbm_model,\n",
        "                    param_grid=gs_param,\n",
        "                    cv=5,\n",
        "                    scoring = 'f1',\n",
        "                    refit=False)\n"
      ]
    },
    {
      "cell_type": "code",
      "execution_count": 29,
      "metadata": {
        "colab": {
          "base_uri": "https://localhost:8080/"
        },
        "id": "oMHUqkFIGhXE",
        "outputId": "c16048ab-b260-43a0-8de0-0571aefabb1d"
      },
      "outputs": [
        {
          "output_type": "stream",
          "name": "stdout",
          "text": [
            "CPU times: user 0 ns, sys: 16 µs, total: 16 µs\n",
            "Wall time: 1.25 ms\n"
          ]
        }
      ],
      "source": [
        "%%time\n",
        "# grid.fit(X_train, np.ravel(y_train))"
      ]
    },
    {
      "cell_type": "code",
      "source": [
        "#grid.best_params_"
      ],
      "metadata": {
        "id": "14ypjnyBU9bs"
      },
      "execution_count": 30,
      "outputs": []
    },
    {
      "cell_type": "code",
      "source": [
        "# обучим модель с опитмальными параметрами\n",
        "lgbm_model = Pipeline([('min_max_scaler', MinMaxScaler((0,1))),\n",
        "                      ('classifier', LGBMClassifier(n_estimators = 200, class_weight= None, reg_lambda= 0.05))])"
      ],
      "metadata": {
        "id": "oqOduVXFayO6"
      },
      "execution_count": 31,
      "outputs": []
    },
    {
      "cell_type": "code",
      "source": [
        "lgbm_model.fit(X_train, np.ravel(y_train))"
      ],
      "metadata": {
        "colab": {
          "base_uri": "https://localhost:8080/"
        },
        "id": "1irYtazTbEZL",
        "outputId": "2fa53d1c-67f9-47db-b91c-14f4afcc4d4c"
      },
      "execution_count": 32,
      "outputs": [
        {
          "output_type": "execute_result",
          "data": {
            "text/plain": [
              "Pipeline(steps=[('min_max_scaler', MinMaxScaler()),\n",
              "                ('classifier',\n",
              "                 LGBMClassifier(n_estimators=200, reg_lambda=0.05))])"
            ]
          },
          "metadata": {},
          "execution_count": 32
        }
      ]
    },
    {
      "cell_type": "code",
      "source": [
        "y_lgbm_pred = lgbm_model.predict(X_test)"
      ],
      "metadata": {
        "id": "-vEHv8QabNB_"
      },
      "execution_count": 33,
      "outputs": []
    },
    {
      "cell_type": "code",
      "source": [
        "print(classification_report(y_test, y_lgbm_pred))"
      ],
      "metadata": {
        "colab": {
          "base_uri": "https://localhost:8080/"
        },
        "id": "U4S-fOZ1bcV7",
        "outputId": "709746e1-f6b0-49cd-8b7d-e42afac6ba0f"
      },
      "execution_count": 34,
      "outputs": [
        {
          "output_type": "stream",
          "name": "stdout",
          "text": [
            "              precision    recall  f1-score   support\n",
            "\n",
            "         0.0       0.86      0.98      0.92     42741\n",
            "         1.0       0.56      0.14      0.22      7995\n",
            "\n",
            "    accuracy                           0.85     50736\n",
            "   macro avg       0.71      0.56      0.57     50736\n",
            "weighted avg       0.81      0.85      0.81     50736\n",
            "\n"
          ]
        }
      ]
    },
    {
      "cell_type": "code",
      "execution_count": 35,
      "metadata": {
        "id": "xfo89O_gO3jc"
      },
      "outputs": [],
      "source": [
        "# пвыполним подгонку порога вероятностей\n",
        "y_lgbm_proba = pd.Series(lgbm_model.predict_proba(X_test)[:, 1]) # вероятности для певого класса"
      ]
    },
    {
      "cell_type": "code",
      "execution_count": 36,
      "metadata": {
        "id": "lCfNZEXbPany"
      },
      "outputs": [],
      "source": [
        "# функция для получени метрик модели и подбора наилучшего порога\n",
        "def get_treshold(y_test, y_score, b = 1):\n",
        "    \"\"\"\n",
        "    Функция для подбора оптимального порога вероятности.\n",
        "    Максимизирует F-score\n",
        "    \"\"\"\n",
        "    \n",
        "    precision, recall, thresholds = precision_recall_curve(y_test.values, y_score)\n",
        "    fscore = (1 +b**2) * (precision * recall) / (b**2 * precision + recall)\n",
        "    # locate the index of the largest f score\n",
        "    ix = np.argmax(fscore)\n",
        "    auc = roc_auc_score(y_test, y_score)\n",
        "    # логарифм потерь\n",
        "    llos = log_loss(y_test, y_score)\n",
        "    # отдадим в виде словаря порог вероятности и метрики\n",
        "    return {'BestTreshold': thresholds[ix], 'Precision': precision[ix], 'Recall': recall[ix], 'ROC_AUC': auc, 'F-Score':fscore[ix],'log-loss': llos}"
      ]
    },
    {
      "cell_type": "code",
      "execution_count": 37,
      "metadata": {
        "colab": {
          "base_uri": "https://localhost:8080/"
        },
        "id": "JPKdcfFvPplg",
        "outputId": "dc8efef5-9743-4393-8c38-7475b9e6df4b"
      },
      "outputs": [
        {
          "output_type": "stream",
          "name": "stderr",
          "text": [
            "/usr/local/lib/python3.7/dist-packages/ipykernel_launcher.py:9: RuntimeWarning: invalid value encountered in true_divide\n",
            "  if __name__ == '__main__':\n"
          ]
        },
        {
          "output_type": "execute_result",
          "data": {
            "text/plain": [
              "{'BestTreshold': 0.8445551875457856,\n",
              " 'F-Score': nan,\n",
              " 'Precision': 0.0,\n",
              " 'ROC_AUC': 0.7965799645578187,\n",
              " 'Recall': 0.0,\n",
              " 'log-loss': 0.35681252295647153}"
            ]
          },
          "metadata": {},
          "execution_count": 37
        }
      ],
      "source": [
        "res = get_treshold(y_test, y_lgbm_proba) # автоматически порог подобрать не удалось\n",
        "res"
      ]
    },
    {
      "cell_type": "code",
      "execution_count": 38,
      "metadata": {
        "colab": {
          "base_uri": "https://localhost:8080/"
        },
        "id": "IYJ__gx38NoL",
        "outputId": "d0b7e223-5453-4f6f-a230-69232caa556b"
      },
      "outputs": [
        {
          "output_type": "stream",
          "name": "stdout",
          "text": [
            "              precision    recall  f1-score   support\n",
            "\n",
            "         0.0       0.87      0.95      0.91     42741\n",
            "         1.0       0.51      0.25      0.34      7995\n",
            "\n",
            "    accuracy                           0.84     50736\n",
            "   macro avg       0.69      0.60      0.62     50736\n",
            "weighted avg       0.81      0.84      0.82     50736\n",
            "\n"
          ]
        }
      ],
      "source": [
        "print(classification_report(y_test, y_lgbm_proba > 0.42)) # выберем порог, дающий удовлетворительную точность и полноту"
      ]
    },
    {
      "cell_type": "code",
      "execution_count": 39,
      "metadata": {
        "id": "j_NzVrvt8WSI"
      },
      "outputs": [],
      "source": [
        "treshold = 0.42"
      ]
    },
    {
      "cell_type": "markdown",
      "source": [
        "Сохраним полученную модель в файл"
      ],
      "metadata": {
        "id": "BEgvck6ouUTj"
      }
    },
    {
      "cell_type": "code",
      "source": [
        "with open(\"tp_lgbm_model.dill\", \"wb\") as f:\n",
        "    dill.dump(lgbm_model, f)"
      ],
      "metadata": {
        "id": "X9tmJ4u4uajk"
      },
      "execution_count": 40,
      "outputs": []
    },
    {
      "cell_type": "code",
      "source": [
        "# также сохраним найденный порог вероятностей\n",
        "with open('tp_treshold.pkl', \"wb\") as f:\n",
        "    pickle.dump(treshold, f)"
      ],
      "metadata": {
        "id": "w-DiVImivIGK"
      },
      "execution_count": 41,
      "outputs": []
    },
    {
      "cell_type": "markdown",
      "source": [
        "### Задание 2\n",
        "<p> Реализовать ноутбук с сервером</p>"
      ],
      "metadata": {
        "id": "UbBHr4NAwhmC"
      }
    },
    {
      "cell_type": "code",
      "source": [
        "! pip install flask-ngrok"
      ],
      "metadata": {
        "colab": {
          "base_uri": "https://localhost:8080/"
        },
        "id": "qM54hVE0wnwl",
        "outputId": "f2c1787b-e5fd-484d-bba4-883ec10093c0"
      },
      "execution_count": 42,
      "outputs": [
        {
          "output_type": "stream",
          "name": "stdout",
          "text": [
            "Collecting flask-ngrok\n",
            "  Downloading flask_ngrok-0.0.25-py3-none-any.whl (3.1 kB)\n",
            "Requirement already satisfied: requests in /usr/local/lib/python3.7/dist-packages (from flask-ngrok) (2.23.0)\n",
            "Requirement already satisfied: Flask>=0.8 in /usr/local/lib/python3.7/dist-packages (from flask-ngrok) (1.1.4)\n",
            "Requirement already satisfied: Werkzeug<2.0,>=0.15 in /usr/local/lib/python3.7/dist-packages (from Flask>=0.8->flask-ngrok) (1.0.1)\n",
            "Requirement already satisfied: itsdangerous<2.0,>=0.24 in /usr/local/lib/python3.7/dist-packages (from Flask>=0.8->flask-ngrok) (1.1.0)\n",
            "Requirement already satisfied: click<8.0,>=5.1 in /usr/local/lib/python3.7/dist-packages (from Flask>=0.8->flask-ngrok) (7.1.2)\n",
            "Requirement already satisfied: Jinja2<3.0,>=2.10.1 in /usr/local/lib/python3.7/dist-packages (from Flask>=0.8->flask-ngrok) (2.11.3)\n",
            "Requirement already satisfied: MarkupSafe>=0.23 in /usr/local/lib/python3.7/dist-packages (from Jinja2<3.0,>=2.10.1->Flask>=0.8->flask-ngrok) (2.0.1)\n",
            "Requirement already satisfied: certifi>=2017.4.17 in /usr/local/lib/python3.7/dist-packages (from requests->flask-ngrok) (2021.10.8)\n",
            "Requirement already satisfied: urllib3!=1.25.0,!=1.25.1,<1.26,>=1.21.1 in /usr/local/lib/python3.7/dist-packages (from requests->flask-ngrok) (1.24.3)\n",
            "Requirement already satisfied: chardet<4,>=3.0.2 in /usr/local/lib/python3.7/dist-packages (from requests->flask-ngrok) (3.0.4)\n",
            "Requirement already satisfied: idna<3,>=2.5 in /usr/local/lib/python3.7/dist-packages (from requests->flask-ngrok) (2.10)\n",
            "Installing collected packages: flask-ngrok\n",
            "Successfully installed flask-ngrok-0.0.25\n"
          ]
        }
      ]
    },
    {
      "cell_type": "code",
      "source": [
        "from flask_ngrok import run_with_ngrok\n",
        "from flask import Flask, request, jsonify"
      ],
      "metadata": {
        "id": "ZGSOG9JWw2OU"
      },
      "execution_count": 43,
      "outputs": []
    },
    {
      "cell_type": "markdown",
      "source": [
        "ngrok config add-authtoken 28I4sdcpBe4UB4hjpmYyH3yLvvt_6Gc3WEvrCtS9KFfL9dC1Q\n"
      ],
      "metadata": {
        "id": "6VJvmHfV38QQ"
      }
    },
    {
      "cell_type": "code",
      "source": [
        "!wget https://bin.equinox.io/c/4VmDzA7iaHb/ngrok-stable-linux-amd64.tgz\n",
        "!tar -xvf /content/ngrok-stable-linux-amd64.tgz\n",
        "!./ngrok authtoken 28I4sdcpBe4UB4hjpmYyH3yLvvt_6Gc3WEvrCtS9KFfL9dC1Q\n",
        "!./ngrok http 80"
      ],
      "metadata": {
        "colab": {
          "base_uri": "https://localhost:8080/"
        },
        "id": "IxALVP1hyqIf",
        "outputId": "f3c8d4f3-ee39-49b8-a7a1-e1ee2012e5f7"
      },
      "execution_count": 44,
      "outputs": [
        {
          "output_type": "stream",
          "name": "stdout",
          "text": [
            "--2022-04-28 12:43:49--  https://bin.equinox.io/c/4VmDzA7iaHb/ngrok-stable-linux-amd64.tgz\n",
            "Resolving bin.equinox.io (bin.equinox.io)... 54.237.133.81, 54.161.241.46, 18.205.222.128, ...\n",
            "Connecting to bin.equinox.io (bin.equinox.io)|54.237.133.81|:443... connected.\n",
            "HTTP request sent, awaiting response... 200 OK\n",
            "Length: 13770165 (13M) [application/octet-stream]\n",
            "Saving to: ‘ngrok-stable-linux-amd64.tgz’\n",
            "\n",
            "ngrok-stable-linux- 100%[===================>]  13.13M  14.0MB/s    in 0.9s    \n",
            "\n",
            "2022-04-28 12:43:50 (14.0 MB/s) - ‘ngrok-stable-linux-amd64.tgz’ saved [13770165/13770165]\n",
            "\n",
            "ngrok\n",
            "Authtoken saved to configuration file: /root/.ngrok2/ngrok.yml\n"
          ]
        }
      ]
    },
    {
      "cell_type": "code",
      "source": [
        "# Запуск сервера на Flask\n",
        "\n",
        "def main():\n",
        "    \"\"\"\n",
        "    Выполняет загрузку и настройку модели машинного обучения\n",
        "    \"\"\"\n",
        "    model_path = '/content/tp_lgbm_model.dill'\n",
        "    tr_path =  '/content/tp_treshold.pkl'\n",
        "\n",
        "    model = None\n",
        "    treshold = None\n",
        "\n",
        "    with open(model_path, 'rb') as f:\n",
        "        model = dill.load(f)\n",
        "\n",
        "    with open(tr_path, 'rb') as f:\n",
        "        treshold = pickle.load(f)\n",
        "    \n",
        "    return model, treshold\n",
        "\n",
        "app = Flask(__name__)\n",
        "run_with_ngrok(app)  # Start ngrok when app is run\n",
        "\n",
        "@app.route(\"/\", methods = ['GET'])\n",
        "def hello():\n",
        "    return \"<h3> Hello! Test Flask Server running <h3>\"\n",
        "\n",
        "\n",
        "@app.route(\"/predict\", methods = [\"POST\"])\n",
        "def predict():\n",
        "    resp = {\"OK\": False} # слоарь для формирования ответа от сервера\n",
        "    # создадим структуру для хранения данных поступившего запроса\n",
        "    feats_col = ['HighBP', 'HighChol', 'CholCheck', 'BMI', 'Smoker', 'Stroke', 'HeartDiseaseorAttack', 'PhysActivity', 'Fruits', 'Veggies','HvyAlcoholConsump', 'Sex', 'Age']\n",
        "    data = dict()\n",
        "    for col in feats_col:\n",
        "        data[col] = \"\"\n",
        "\n",
        "    request_json = dict(request.get_json()) # читаем данные поступившие от клиента\n",
        "    print(\"полученный запрос\", request_json)\n",
        "\n",
        "    for col in feats_col:\n",
        "        #print('Колонка', col)\n",
        "        if request_json[col] != '':\n",
        "            data[col] = request_json[col]\n",
        " \n",
        "    data = pd.DataFrame(data = data, columns = feats_col, index = [0])\n",
        "    #print(\"Данные для предсказания\", data)\n",
        "\n",
        "    pred = model.predict_proba(data)\n",
        "    print(\"Рузультат предсказания\",pred)\n",
        "    resp['proba'] = pred[:, 1][0]\n",
        "    resp['treshold'] = treshold\n",
        "    resp['OK'] = True\n",
        "\n",
        "    print('Ответ сервера', resp)\n",
        "\n",
        "    return jsonify(resp)\n",
        "\n",
        "if __name__ == '__main__':\n",
        "    model, treshold = main()\n",
        "    app.run()"
      ],
      "metadata": {
        "colab": {
          "base_uri": "https://localhost:8080/"
        },
        "id": "iRazbEu_0Yrv",
        "outputId": "16d199be-93c7-4237-e3f1-3dfd5a59a240"
      },
      "execution_count": 45,
      "outputs": [
        {
          "output_type": "stream",
          "name": "stdout",
          "text": [
            " * Serving Flask app \"__main__\" (lazy loading)\n",
            " * Environment: production\n",
            "\u001b[31m   WARNING: This is a development server. Do not use it in a production deployment.\u001b[0m\n",
            "\u001b[2m   Use a production WSGI server instead.\u001b[0m\n",
            " * Debug mode: off\n"
          ]
        },
        {
          "output_type": "stream",
          "name": "stderr",
          "text": [
            " * Running on http://127.0.0.1:5000/ (Press CTRL+C to quit)\n"
          ]
        },
        {
          "output_type": "stream",
          "name": "stdout",
          "text": [
            " * Running on http://eb85-34-91-252-59.ngrok.io\n",
            " * Traffic stats available on http://127.0.0.1:4040\n"
          ]
        },
        {
          "output_type": "stream",
          "name": "stderr",
          "text": [
            "127.0.0.1 - - [28/Apr/2022 12:44:39] \"\u001b[37mPOST /predict HTTP/1.1\u001b[0m\" 200 -\n"
          ]
        },
        {
          "output_type": "stream",
          "name": "stdout",
          "text": [
            "полученный запрос {'Age': 4, 'BMI': 27.757487216946675, 'CholCheck': 1, 'Fruits': 0, 'HeartDiseaseorAttack': 0, 'HighBP': 1, 'HighChol': 0, 'HvyAlcoholConsump': 0, 'PhysActivity': 1, 'Sex': 1, 'Smoker': 0, 'Stroke': 0, 'Veggies': 1}\n",
            "Рузультат предсказания [[0.96331221 0.03668779]]\n",
            "Ответ сервера {'OK': True, 'proba': 0.03668778752920068, 'treshold': 0.42}\n"
          ]
        },
        {
          "output_type": "stream",
          "name": "stderr",
          "text": [
            "127.0.0.1 - - [28/Apr/2022 12:45:04] \"\u001b[37mPOST /predict HTTP/1.1\u001b[0m\" 200 -\n"
          ]
        },
        {
          "output_type": "stream",
          "name": "stdout",
          "text": [
            "полученный запрос {'HighBP': 1.0, 'HighChol': 0.0, 'CholCheck': 1.0, 'BMI': 30.0, 'Smoker': 1.0, 'Stroke': 0.0, 'HeartDiseaseorAttack': 0.0, 'PhysActivity': 1.0, 'Fruits': 1.0, 'Veggies': 1.0, 'HvyAlcoholConsump': 0.0, 'Sex': 0.0, 'Age': 9.0}\n",
            "Рузультат предсказания [[0.83404608 0.16595392]]\n",
            "Ответ сервера {'OK': True, 'proba': 0.16595392200502418, 'treshold': 0.42}\n"
          ]
        },
        {
          "output_type": "stream",
          "name": "stderr",
          "text": [
            "127.0.0.1 - - [28/Apr/2022 12:45:05] \"\u001b[37mPOST /predict HTTP/1.1\u001b[0m\" 200 -\n"
          ]
        },
        {
          "output_type": "stream",
          "name": "stdout",
          "text": [
            "полученный запрос {'HighBP': 0.0, 'HighChol': 0.0, 'CholCheck': 1.0, 'BMI': 21.0, 'Smoker': 1.0, 'Stroke': 0.0, 'HeartDiseaseorAttack': 0.0, 'PhysActivity': 0.0, 'Fruits': 1.0, 'Veggies': 1.0, 'HvyAlcoholConsump': 0.0, 'Sex': 0.0, 'Age': 3.0}\n",
            "Рузультат предсказания [[0.98729193 0.01270807]]\n",
            "Ответ сервера {'OK': True, 'proba': 0.012708069789001526, 'treshold': 0.42}\n"
          ]
        },
        {
          "output_type": "stream",
          "name": "stderr",
          "text": [
            "127.0.0.1 - - [28/Apr/2022 12:50:51] \"\u001b[37mPOST /predict HTTP/1.1\u001b[0m\" 200 -\n"
          ]
        },
        {
          "output_type": "stream",
          "name": "stdout",
          "text": [
            "полученный запрос {'HighBP': 1.0, 'HighChol': 0.0, 'CholCheck': 1.0, 'BMI': 30.0, 'Smoker': 1.0, 'Stroke': 0.0, 'HeartDiseaseorAttack': 0.0, 'PhysActivity': 1.0, 'Fruits': 1.0, 'Veggies': 1.0, 'HvyAlcoholConsump': 0.0, 'Sex': 0.0, 'Age': 9.0}\n",
            "Рузультат предсказания [[0.83404608 0.16595392]]\n",
            "Ответ сервера {'OK': True, 'proba': 0.16595392200502418, 'treshold': 0.42}\n"
          ]
        },
        {
          "output_type": "stream",
          "name": "stderr",
          "text": [
            "127.0.0.1 - - [28/Apr/2022 12:51:10] \"\u001b[37mPOST /predict HTTP/1.1\u001b[0m\" 200 -\n"
          ]
        },
        {
          "output_type": "stream",
          "name": "stdout",
          "text": [
            "полученный запрос {'HighBP': 1.0, 'HighChol': 0.0, 'CholCheck': 1.0, 'BMI': 30.0, 'Smoker': 1.0, 'Stroke': 0.0, 'HeartDiseaseorAttack': 0.0, 'PhysActivity': 1.0, 'Fruits': 1.0, 'Veggies': 1.0, 'HvyAlcoholConsump': 0.0, 'Sex': 0.0, 'Age': 9.0}\n",
            "Рузультат предсказания [[0.83404608 0.16595392]]\n",
            "Ответ сервера {'OK': True, 'proba': 0.16595392200502418, 'treshold': 0.42}\n"
          ]
        },
        {
          "output_type": "stream",
          "name": "stderr",
          "text": [
            "127.0.0.1 - - [28/Apr/2022 12:51:10] \"\u001b[37mPOST /predict HTTP/1.1\u001b[0m\" 200 -\n"
          ]
        },
        {
          "output_type": "stream",
          "name": "stdout",
          "text": [
            "полученный запрос {'HighBP': 0.0, 'HighChol': 0.0, 'CholCheck': 1.0, 'BMI': 21.0, 'Smoker': 1.0, 'Stroke': 0.0, 'HeartDiseaseorAttack': 0.0, 'PhysActivity': 0.0, 'Fruits': 1.0, 'Veggies': 1.0, 'HvyAlcoholConsump': 0.0, 'Sex': 0.0, 'Age': 3.0}\n",
            "Рузультат предсказания [[0.98729193 0.01270807]]\n",
            "Ответ сервера {'OK': True, 'proba': 0.012708069789001526, 'treshold': 0.42}\n"
          ]
        },
        {
          "output_type": "stream",
          "name": "stderr",
          "text": [
            "127.0.0.1 - - [28/Apr/2022 12:51:10] \"\u001b[37mPOST /predict HTTP/1.1\u001b[0m\" 200 -\n"
          ]
        },
        {
          "output_type": "stream",
          "name": "stdout",
          "text": [
            "полученный запрос {'HighBP': 1.0, 'HighChol': 0.0, 'CholCheck': 1.0, 'BMI': 29.0, 'Smoker': 0.0, 'Stroke': 0.0, 'HeartDiseaseorAttack': 0.0, 'PhysActivity': 0.0, 'Fruits': 0.0, 'Veggies': 1.0, 'HvyAlcoholConsump': 0.0, 'Sex': 1.0, 'Age': 8.0}\n",
            "Рузультат предсказания [[0.86470544 0.13529456]]\n",
            "Ответ сервера {'OK': True, 'proba': 0.13529455722809858, 'treshold': 0.42}\n"
          ]
        },
        {
          "output_type": "stream",
          "name": "stderr",
          "text": [
            "127.0.0.1 - - [28/Apr/2022 12:51:11] \"\u001b[37mPOST /predict HTTP/1.1\u001b[0m\" 200 -\n"
          ]
        },
        {
          "output_type": "stream",
          "name": "stdout",
          "text": [
            "полученный запрос {'HighBP': 0.0, 'HighChol': 0.0, 'CholCheck': 1.0, 'BMI': 22.0, 'Smoker': 0.0, 'Stroke': 0.0, 'HeartDiseaseorAttack': 0.0, 'PhysActivity': 1.0, 'Fruits': 1.0, 'Veggies': 1.0, 'HvyAlcoholConsump': 1.0, 'Sex': 0.0, 'Age': 7.0}\n",
            "Рузультат предсказания [[0.99445553 0.00554447]]\n",
            "Ответ сервера {'OK': True, 'proba': 0.005544473301431353, 'treshold': 0.42}\n"
          ]
        },
        {
          "output_type": "stream",
          "name": "stderr",
          "text": [
            "127.0.0.1 - - [28/Apr/2022 12:51:11] \"\u001b[37mPOST /predict HTTP/1.1\u001b[0m\" 200 -\n"
          ]
        },
        {
          "output_type": "stream",
          "name": "stdout",
          "text": [
            "полученный запрос {'HighBP': 1.0, 'HighChol': 0.0, 'CholCheck': 1.0, 'BMI': 40.0, 'Smoker': 0.0, 'Stroke': 0.0, 'HeartDiseaseorAttack': 0.0, 'PhysActivity': 1.0, 'Fruits': 0.0, 'Veggies': 1.0, 'HvyAlcoholConsump': 0.0, 'Sex': 1.0, 'Age': 9.0}\n",
            "Рузультат предсказания [[0.65202446 0.34797554]]\n",
            "Ответ сервера {'OK': True, 'proba': 0.3479755379632579, 'treshold': 0.42}\n"
          ]
        },
        {
          "output_type": "stream",
          "name": "stderr",
          "text": [
            "127.0.0.1 - - [28/Apr/2022 12:51:11] \"\u001b[37mPOST /predict HTTP/1.1\u001b[0m\" 200 -\n"
          ]
        },
        {
          "output_type": "stream",
          "name": "stdout",
          "text": [
            "полученный запрос {'HighBP': 0.0, 'HighChol': 1.0, 'CholCheck': 1.0, 'BMI': 20.0, 'Smoker': 1.0, 'Stroke': 1.0, 'HeartDiseaseorAttack': 1.0, 'PhysActivity': 0.0, 'Fruits': 0.0, 'Veggies': 0.0, 'HvyAlcoholConsump': 0.0, 'Sex': 0.0, 'Age': 8.0}\n",
            "Рузультат предсказания [[0.79932563 0.20067437]]\n",
            "Ответ сервера {'OK': True, 'proba': 0.20067437034492946, 'treshold': 0.42}\n"
          ]
        },
        {
          "output_type": "stream",
          "name": "stderr",
          "text": [
            "127.0.0.1 - - [28/Apr/2022 12:51:11] \"\u001b[37mPOST /predict HTTP/1.1\u001b[0m\" 200 -\n"
          ]
        },
        {
          "output_type": "stream",
          "name": "stdout",
          "text": [
            "полученный запрос {'HighBP': 0.0, 'HighChol': 0.0, 'CholCheck': 1.0, 'BMI': 31.0, 'Smoker': 0.0, 'Stroke': 0.0, 'HeartDiseaseorAttack': 0.0, 'PhysActivity': 1.0, 'Fruits': 1.0, 'Veggies': 1.0, 'HvyAlcoholConsump': 0.0, 'Sex': 0.0, 'Age': 6.0}\n",
            "Рузультат предсказания [[0.95104669 0.04895331]]\n",
            "Ответ сервера {'OK': True, 'proba': 0.048953305167583526, 'treshold': 0.42}\n"
          ]
        },
        {
          "output_type": "stream",
          "name": "stderr",
          "text": [
            "127.0.0.1 - - [28/Apr/2022 12:51:12] \"\u001b[37mPOST /predict HTTP/1.1\u001b[0m\" 200 -\n"
          ]
        },
        {
          "output_type": "stream",
          "name": "stdout",
          "text": [
            "полученный запрос {'HighBP': 1.0, 'HighChol': 0.0, 'CholCheck': 1.0, 'BMI': 27.0, 'Smoker': 0.0, 'Stroke': 0.0, 'HeartDiseaseorAttack': 0.0, 'PhysActivity': 1.0, 'Fruits': 0.0, 'Veggies': 1.0, 'HvyAlcoholConsump': 0.0, 'Sex': 1.0, 'Age': 5.0}\n",
            "Рузультат предсказания [[0.95531996 0.04468004]]\n",
            "Ответ сервера {'OK': True, 'proba': 0.044680041287053135, 'treshold': 0.42}\n"
          ]
        },
        {
          "output_type": "stream",
          "name": "stderr",
          "text": [
            "127.0.0.1 - - [28/Apr/2022 12:51:12] \"\u001b[37mPOST /predict HTTP/1.1\u001b[0m\" 200 -\n"
          ]
        },
        {
          "output_type": "stream",
          "name": "stdout",
          "text": [
            "полученный запрос {'HighBP': 0.0, 'HighChol': 0.0, 'CholCheck': 1.0, 'BMI': 20.0, 'Smoker': 0.0, 'Stroke': 0.0, 'HeartDiseaseorAttack': 0.0, 'PhysActivity': 0.0, 'Fruits': 1.0, 'Veggies': 1.0, 'HvyAlcoholConsump': 1.0, 'Sex': 0.0, 'Age': 1.0}\n",
            "Рузультат предсказания [[0.99392861 0.00607139]]\n",
            "Ответ сервера {'OK': True, 'proba': 0.006071392962714292, 'treshold': 0.42}\n"
          ]
        },
        {
          "output_type": "stream",
          "name": "stderr",
          "text": [
            "127.0.0.1 - - [28/Apr/2022 12:51:12] \"\u001b[37mPOST /predict HTTP/1.1\u001b[0m\" 200 -\n"
          ]
        },
        {
          "output_type": "stream",
          "name": "stdout",
          "text": [
            "полученный запрос {'HighBP': 0.0, 'HighChol': 0.0, 'CholCheck': 1.0, 'BMI': 29.0, 'Smoker': 1.0, 'Stroke': 0.0, 'HeartDiseaseorAttack': 0.0, 'PhysActivity': 1.0, 'Fruits': 1.0, 'Veggies': 1.0, 'HvyAlcoholConsump': 0.0, 'Sex': 1.0, 'Age': 11.0}\n",
            "Рузультат предсказания [[0.83580826 0.16419174]]\n",
            "Ответ сервера {'OK': True, 'proba': 0.16419173750930735, 'treshold': 0.42}\n"
          ]
        },
        {
          "output_type": "stream",
          "name": "stderr",
          "text": [
            "127.0.0.1 - - [28/Apr/2022 12:51:12] \"\u001b[37mPOST /predict HTTP/1.1\u001b[0m\" 200 -\n"
          ]
        },
        {
          "output_type": "stream",
          "name": "stdout",
          "text": [
            "полученный запрос {'HighBP': 0.0, 'HighChol': 0.0, 'CholCheck': 1.0, 'BMI': 28.0, 'Smoker': 0.0, 'Stroke': 0.0, 'HeartDiseaseorAttack': 0.0, 'PhysActivity': 1.0, 'Fruits': 1.0, 'Veggies': 0.0, 'HvyAlcoholConsump': 0.0, 'Sex': 1.0, 'Age': 8.0}\n",
            "Рузультат предсказания [[0.94208629 0.05791371]]\n",
            "Ответ сервера {'OK': True, 'proba': 0.05791371364999353, 'treshold': 0.42}\n"
          ]
        },
        {
          "output_type": "stream",
          "name": "stderr",
          "text": [
            "127.0.0.1 - - [28/Apr/2022 12:51:13] \"\u001b[37mPOST /predict HTTP/1.1\u001b[0m\" 200 -\n"
          ]
        },
        {
          "output_type": "stream",
          "name": "stdout",
          "text": [
            "полученный запрос {'HighBP': 0.0, 'HighChol': 1.0, 'CholCheck': 1.0, 'BMI': 36.0, 'Smoker': 0.0, 'Stroke': 0.0, 'HeartDiseaseorAttack': 0.0, 'PhysActivity': 1.0, 'Fruits': 1.0, 'Veggies': 0.0, 'HvyAlcoholConsump': 0.0, 'Sex': 1.0, 'Age': 8.0}\n",
            "Рузультат предсказания [[0.78712774 0.21287226]]\n",
            "Ответ сервера {'OK': True, 'proba': 0.21287226190505756, 'treshold': 0.42}\n"
          ]
        },
        {
          "output_type": "stream",
          "name": "stderr",
          "text": [
            "127.0.0.1 - - [28/Apr/2022 12:51:13] \"\u001b[37mPOST /predict HTTP/1.1\u001b[0m\" 200 -\n"
          ]
        },
        {
          "output_type": "stream",
          "name": "stdout",
          "text": [
            "полученный запрос {'HighBP': 0.0, 'HighChol': 0.0, 'CholCheck': 1.0, 'BMI': 22.0, 'Smoker': 1.0, 'Stroke': 0.0, 'HeartDiseaseorAttack': 0.0, 'PhysActivity': 1.0, 'Fruits': 1.0, 'Veggies': 1.0, 'HvyAlcoholConsump': 1.0, 'Sex': 0.0, 'Age': 9.0}\n",
            "Рузультат предсказания [[0.9909188 0.0090812]]\n",
            "Ответ сервера {'OK': True, 'proba': 0.009081195312939723, 'treshold': 0.42}\n"
          ]
        },
        {
          "output_type": "stream",
          "name": "stderr",
          "text": [
            "127.0.0.1 - - [28/Apr/2022 12:51:13] \"\u001b[37mPOST /predict HTTP/1.1\u001b[0m\" 200 -\n"
          ]
        },
        {
          "output_type": "stream",
          "name": "stdout",
          "text": [
            "полученный запрос {'HighBP': 1.0, 'HighChol': 1.0, 'CholCheck': 1.0, 'BMI': 29.0, 'Smoker': 0.0, 'Stroke': 0.0, 'HeartDiseaseorAttack': 1.0, 'PhysActivity': 1.0, 'Fruits': 1.0, 'Veggies': 1.0, 'HvyAlcoholConsump': 0.0, 'Sex': 0.0, 'Age': 10.0}\n",
            "Рузультат предсказания [[0.62107283 0.37892717]]\n",
            "Ответ сервера {'OK': True, 'proba': 0.37892716669851156, 'treshold': 0.42}\n"
          ]
        },
        {
          "output_type": "stream",
          "name": "stderr",
          "text": [
            "127.0.0.1 - - [28/Apr/2022 12:51:13] \"\u001b[37mPOST /predict HTTP/1.1\u001b[0m\" 200 -\n"
          ]
        },
        {
          "output_type": "stream",
          "name": "stdout",
          "text": [
            "полученный запрос {'HighBP': 0.0, 'HighChol': 0.0, 'CholCheck': 1.0, 'BMI': 31.0, 'Smoker': 1.0, 'Stroke': 0.0, 'HeartDiseaseorAttack': 0.0, 'PhysActivity': 1.0, 'Fruits': 0.0, 'Veggies': 0.0, 'HvyAlcoholConsump': 0.0, 'Sex': 0.0, 'Age': 11.0}\n",
            "Рузультат предсказания [[0.85032037 0.14967963]]\n",
            "Ответ сервера {'OK': True, 'proba': 0.1496796339425962, 'treshold': 0.42}\n"
          ]
        },
        {
          "output_type": "stream",
          "name": "stderr",
          "text": [
            "127.0.0.1 - - [28/Apr/2022 12:51:14] \"\u001b[37mPOST /predict HTTP/1.1\u001b[0m\" 200 -\n"
          ]
        },
        {
          "output_type": "stream",
          "name": "stdout",
          "text": [
            "полученный запрос {'HighBP': 0.0, 'HighChol': 1.0, 'CholCheck': 1.0, 'BMI': 21.0, 'Smoker': 1.0, 'Stroke': 0.0, 'HeartDiseaseorAttack': 0.0, 'PhysActivity': 1.0, 'Fruits': 1.0, 'Veggies': 1.0, 'HvyAlcoholConsump': 0.0, 'Sex': 0.0, 'Age': 7.0}\n",
            "Рузультат предсказания [[0.95352911 0.04647089]]\n",
            "Ответ сервера {'OK': True, 'proba': 0.046470891089820804, 'treshold': 0.42}\n"
          ]
        },
        {
          "output_type": "stream",
          "name": "stderr",
          "text": [
            "127.0.0.1 - - [28/Apr/2022 12:51:14] \"\u001b[37mPOST /predict HTTP/1.1\u001b[0m\" 200 -\n"
          ]
        },
        {
          "output_type": "stream",
          "name": "stdout",
          "text": [
            "полученный запрос {'HighBP': 0.0, 'HighChol': 0.0, 'CholCheck': 1.0, 'BMI': 26.0, 'Smoker': 0.0, 'Stroke': 0.0, 'HeartDiseaseorAttack': 0.0, 'PhysActivity': 1.0, 'Fruits': 0.0, 'Veggies': 1.0, 'HvyAlcoholConsump': 0.0, 'Sex': 1.0, 'Age': 8.0}\n",
            "Рузультат предсказания [[0.96461764 0.03538236]]\n",
            "Ответ сервера {'OK': True, 'proba': 0.0353823639988129, 'treshold': 0.42}\n"
          ]
        },
        {
          "output_type": "stream",
          "name": "stderr",
          "text": [
            "127.0.0.1 - - [28/Apr/2022 12:51:14] \"\u001b[37mPOST /predict HTTP/1.1\u001b[0m\" 200 -\n"
          ]
        },
        {
          "output_type": "stream",
          "name": "stdout",
          "text": [
            "полученный запрос {'HighBP': 0.0, 'HighChol': 0.0, 'CholCheck': 1.0, 'BMI': 30.0, 'Smoker': 0.0, 'Stroke': 0.0, 'HeartDiseaseorAttack': 0.0, 'PhysActivity': 1.0, 'Fruits': 1.0, 'Veggies': 0.0, 'HvyAlcoholConsump': 0.0, 'Sex': 1.0, 'Age': 9.0}\n",
            "Рузультат предсказания [[0.90284317 0.09715683]]\n",
            "Ответ сервера {'OK': True, 'proba': 0.0971568272587298, 'treshold': 0.42}\n"
          ]
        },
        {
          "output_type": "stream",
          "name": "stderr",
          "text": [
            "127.0.0.1 - - [28/Apr/2022 12:51:14] \"\u001b[37mPOST /predict HTTP/1.1\u001b[0m\" 200 -\n"
          ]
        },
        {
          "output_type": "stream",
          "name": "stdout",
          "text": [
            "полученный запрос {'HighBP': 0.0, 'HighChol': 0.0, 'CholCheck': 1.0, 'BMI': 27.0, 'Smoker': 1.0, 'Stroke': 0.0, 'HeartDiseaseorAttack': 1.0, 'PhysActivity': 1.0, 'Fruits': 1.0, 'Veggies': 1.0, 'HvyAlcoholConsump': 0.0, 'Sex': 0.0, 'Age': 12.0}\n",
            "Рузультат предсказания [[0.82829607 0.17170393]]\n",
            "Ответ сервера {'OK': True, 'proba': 0.17170392809708812, 'treshold': 0.42}\n"
          ]
        },
        {
          "output_type": "stream",
          "name": "stderr",
          "text": [
            "127.0.0.1 - - [28/Apr/2022 12:51:14] \"\u001b[37mPOST /predict HTTP/1.1\u001b[0m\" 200 -\n"
          ]
        },
        {
          "output_type": "stream",
          "name": "stdout",
          "text": [
            "полученный запрос {'HighBP': 1.0, 'HighChol': 1.0, 'CholCheck': 1.0, 'BMI': 27.0, 'Smoker': 0.0, 'Stroke': 0.0, 'HeartDiseaseorAttack': 0.0, 'PhysActivity': 0.0, 'Fruits': 0.0, 'Veggies': 0.0, 'HvyAlcoholConsump': 0.0, 'Sex': 0.0, 'Age': 7.0}\n",
            "Рузультат предсказания [[0.69894463 0.30105537]]\n",
            "Ответ сервера {'OK': True, 'proba': 0.3010553688268333, 'treshold': 0.42}\n"
          ]
        },
        {
          "output_type": "stream",
          "name": "stderr",
          "text": [
            "127.0.0.1 - - [28/Apr/2022 12:51:15] \"\u001b[37mPOST /predict HTTP/1.1\u001b[0m\" 200 -\n"
          ]
        },
        {
          "output_type": "stream",
          "name": "stdout",
          "text": [
            "полученный запрос {'HighBP': 1.0, 'HighChol': 0.0, 'CholCheck': 1.0, 'BMI': 23.0, 'Smoker': 1.0, 'Stroke': 0.0, 'HeartDiseaseorAttack': 0.0, 'PhysActivity': 1.0, 'Fruits': 1.0, 'Veggies': 1.0, 'HvyAlcoholConsump': 0.0, 'Sex': 1.0, 'Age': 10.0}\n",
            "Рузультат предсказания [[0.89453445 0.10546555]]\n",
            "Ответ сервера {'OK': True, 'proba': 0.10546554638326604, 'treshold': 0.42}\n"
          ]
        },
        {
          "output_type": "stream",
          "name": "stderr",
          "text": [
            "127.0.0.1 - - [28/Apr/2022 12:51:15] \"\u001b[37mPOST /predict HTTP/1.1\u001b[0m\" 200 -\n"
          ]
        },
        {
          "output_type": "stream",
          "name": "stdout",
          "text": [
            "полученный запрос {'HighBP': 0.0, 'HighChol': 0.0, 'CholCheck': 1.0, 'BMI': 24.0, 'Smoker': 0.0, 'Stroke': 0.0, 'HeartDiseaseorAttack': 0.0, 'PhysActivity': 1.0, 'Fruits': 0.0, 'Veggies': 1.0, 'HvyAlcoholConsump': 1.0, 'Sex': 1.0, 'Age': 6.0}\n",
            "Рузультат предсказания [[0.98626148 0.01373852]]\n",
            "Ответ сервера {'OK': True, 'proba': 0.013738519793605979, 'treshold': 0.42}\n"
          ]
        },
        {
          "output_type": "stream",
          "name": "stderr",
          "text": [
            "127.0.0.1 - - [28/Apr/2022 12:51:15] \"\u001b[37mPOST /predict HTTP/1.1\u001b[0m\" 200 -\n"
          ]
        },
        {
          "output_type": "stream",
          "name": "stdout",
          "text": [
            "полученный запрос {'HighBP': 1.0, 'HighChol': 0.0, 'CholCheck': 1.0, 'BMI': 32.0, 'Smoker': 0.0, 'Stroke': 0.0, 'HeartDiseaseorAttack': 0.0, 'PhysActivity': 1.0, 'Fruits': 0.0, 'Veggies': 1.0, 'HvyAlcoholConsump': 0.0, 'Sex': 1.0, 'Age': 5.0}\n",
            "Рузультат предсказания [[0.90311732 0.09688268]]\n",
            "Ответ сервера {'OK': True, 'proba': 0.09688267915659078, 'treshold': 0.42}\n"
          ]
        },
        {
          "output_type": "stream",
          "name": "stderr",
          "text": [
            "127.0.0.1 - - [28/Apr/2022 12:51:15] \"\u001b[37mPOST /predict HTTP/1.1\u001b[0m\" 200 -\n"
          ]
        },
        {
          "output_type": "stream",
          "name": "stdout",
          "text": [
            "полученный запрос {'HighBP': 0.0, 'HighChol': 0.0, 'CholCheck': 1.0, 'BMI': 19.0, 'Smoker': 1.0, 'Stroke': 0.0, 'HeartDiseaseorAttack': 0.0, 'PhysActivity': 1.0, 'Fruits': 1.0, 'Veggies': 1.0, 'HvyAlcoholConsump': 0.0, 'Sex': 1.0, 'Age': 9.0}\n",
            "Рузультат предсказания [[0.96919673 0.03080327]]\n",
            "Ответ сервера {'OK': True, 'proba': 0.030803270092792337, 'treshold': 0.42}\n"
          ]
        },
        {
          "output_type": "stream",
          "name": "stderr",
          "text": [
            "127.0.0.1 - - [28/Apr/2022 12:51:16] \"\u001b[37mPOST /predict HTTP/1.1\u001b[0m\" 200 -\n"
          ]
        },
        {
          "output_type": "stream",
          "name": "stdout",
          "text": [
            "полученный запрос {'HighBP': 1.0, 'HighChol': 0.0, 'CholCheck': 1.0, 'BMI': 40.0, 'Smoker': 0.0, 'Stroke': 0.0, 'HeartDiseaseorAttack': 0.0, 'PhysActivity': 1.0, 'Fruits': 1.0, 'Veggies': 1.0, 'HvyAlcoholConsump': 0.0, 'Sex': 0.0, 'Age': 3.0}\n",
            "Рузультат предсказания [[0.89290238 0.10709762]]\n",
            "Ответ сервера {'OK': True, 'proba': 0.10709762291232144, 'treshold': 0.42}\n"
          ]
        },
        {
          "output_type": "stream",
          "name": "stderr",
          "text": [
            "127.0.0.1 - - [28/Apr/2022 12:51:16] \"\u001b[37mPOST /predict HTTP/1.1\u001b[0m\" 200 -\n"
          ]
        },
        {
          "output_type": "stream",
          "name": "stdout",
          "text": [
            "полученный запрос {'HighBP': 1.0, 'HighChol': 1.0, 'CholCheck': 1.0, 'BMI': 22.0, 'Smoker': 1.0, 'Stroke': 0.0, 'HeartDiseaseorAttack': 0.0, 'PhysActivity': 1.0, 'Fruits': 1.0, 'Veggies': 1.0, 'HvyAlcoholConsump': 0.0, 'Sex': 1.0, 'Age': 9.0}\n",
            "Рузультат предсказания [[0.84510889 0.15489111]]\n",
            "Ответ сервера {'OK': True, 'proba': 0.15489110845636286, 'treshold': 0.42}\n"
          ]
        },
        {
          "output_type": "stream",
          "name": "stderr",
          "text": [
            "127.0.0.1 - - [28/Apr/2022 12:51:16] \"\u001b[37mPOST /predict HTTP/1.1\u001b[0m\" 200 -\n"
          ]
        },
        {
          "output_type": "stream",
          "name": "stdout",
          "text": [
            "полученный запрос {'HighBP': 1.0, 'HighChol': 0.0, 'CholCheck': 1.0, 'BMI': 30.0, 'Smoker': 0.0, 'Stroke': 0.0, 'HeartDiseaseorAttack': 0.0, 'PhysActivity': 0.0, 'Fruits': 1.0, 'Veggies': 0.0, 'HvyAlcoholConsump': 0.0, 'Sex': 0.0, 'Age': 9.0}\n",
            "Рузультат предсказания [[0.75105965 0.24894035]]\n",
            "Ответ сервера {'OK': True, 'proba': 0.24894035446751403, 'treshold': 0.42}\n"
          ]
        },
        {
          "output_type": "stream",
          "name": "stderr",
          "text": [
            "127.0.0.1 - - [28/Apr/2022 12:51:16] \"\u001b[37mPOST /predict HTTP/1.1\u001b[0m\" 200 -\n"
          ]
        },
        {
          "output_type": "stream",
          "name": "stdout",
          "text": [
            "полученный запрос {'HighBP': 1.0, 'HighChol': 1.0, 'CholCheck': 1.0, 'BMI': 26.0, 'Smoker': 0.0, 'Stroke': 0.0, 'HeartDiseaseorAttack': 0.0, 'PhysActivity': 1.0, 'Fruits': 1.0, 'Veggies': 1.0, 'HvyAlcoholConsump': 0.0, 'Sex': 0.0, 'Age': 12.0}\n",
            "Рузультат предсказания [[0.81414963 0.18585037]]\n",
            "Ответ сервера {'OK': True, 'proba': 0.18585037041557254, 'treshold': 0.42}\n"
          ]
        },
        {
          "output_type": "stream",
          "name": "stderr",
          "text": [
            "127.0.0.1 - - [28/Apr/2022 12:51:17] \"\u001b[37mPOST /predict HTTP/1.1\u001b[0m\" 200 -\n"
          ]
        },
        {
          "output_type": "stream",
          "name": "stdout",
          "text": [
            "полученный запрос {'HighBP': 0.0, 'HighChol': 0.0, 'CholCheck': 1.0, 'BMI': 23.0, 'Smoker': 0.0, 'Stroke': 0.0, 'HeartDiseaseorAttack': 0.0, 'PhysActivity': 1.0, 'Fruits': 0.0, 'Veggies': 0.0, 'HvyAlcoholConsump': 0.0, 'Sex': 0.0, 'Age': 1.0}\n",
            "Рузультат предсказания [[0.99055365 0.00944635]]\n",
            "Ответ сервера {'OK': True, 'proba': 0.009446350611453559, 'treshold': 0.42}\n"
          ]
        },
        {
          "output_type": "stream",
          "name": "stderr",
          "text": [
            "127.0.0.1 - - [28/Apr/2022 12:51:17] \"\u001b[37mPOST /predict HTTP/1.1\u001b[0m\" 200 -\n"
          ]
        },
        {
          "output_type": "stream",
          "name": "stdout",
          "text": [
            "полученный запрос {'HighBP': 1.0, 'HighChol': 1.0, 'CholCheck': 1.0, 'BMI': 30.0, 'Smoker': 1.0, 'Stroke': 0.0, 'HeartDiseaseorAttack': 0.0, 'PhysActivity': 0.0, 'Fruits': 0.0, 'Veggies': 1.0, 'HvyAlcoholConsump': 1.0, 'Sex': 0.0, 'Age': 5.0}\n",
            "Рузультат предсказания [[0.78836175 0.21163825]]\n",
            "Ответ сервера {'OK': True, 'proba': 0.2116382544214328, 'treshold': 0.42}\n"
          ]
        },
        {
          "output_type": "stream",
          "name": "stderr",
          "text": [
            "127.0.0.1 - - [28/Apr/2022 12:51:17] \"\u001b[37mPOST /predict HTTP/1.1\u001b[0m\" 200 -\n"
          ]
        },
        {
          "output_type": "stream",
          "name": "stdout",
          "text": [
            "полученный запрос {'HighBP': 1.0, 'HighChol': 0.0, 'CholCheck': 1.0, 'BMI': 27.0, 'Smoker': 0.0, 'Stroke': 0.0, 'HeartDiseaseorAttack': 0.0, 'PhysActivity': 1.0, 'Fruits': 1.0, 'Veggies': 1.0, 'HvyAlcoholConsump': 0.0, 'Sex': 0.0, 'Age': 8.0}\n",
            "Рузультат предсказания [[0.91453552 0.08546448]]\n",
            "Ответ сервера {'OK': True, 'proba': 0.08546448085421823, 'treshold': 0.42}\n"
          ]
        },
        {
          "output_type": "stream",
          "name": "stderr",
          "text": [
            "127.0.0.1 - - [28/Apr/2022 12:51:17] \"\u001b[37mPOST /predict HTTP/1.1\u001b[0m\" 200 -\n"
          ]
        },
        {
          "output_type": "stream",
          "name": "stdout",
          "text": [
            "полученный запрос {'HighBP': 1.0, 'HighChol': 1.0, 'CholCheck': 1.0, 'BMI': 24.0, 'Smoker': 0.0, 'Stroke': 0.0, 'HeartDiseaseorAttack': 1.0, 'PhysActivity': 1.0, 'Fruits': 0.0, 'Veggies': 1.0, 'HvyAlcoholConsump': 0.0, 'Sex': 1.0, 'Age': 13.0}\n",
            "Рузультат предсказания [[0.71883072 0.28116928]]\n",
            "Ответ сервера {'OK': True, 'proba': 0.28116928158714605, 'treshold': 0.42}\n"
          ]
        },
        {
          "output_type": "stream",
          "name": "stderr",
          "text": [
            "127.0.0.1 - - [28/Apr/2022 12:51:18] \"\u001b[37mPOST /predict HTTP/1.1\u001b[0m\" 200 -\n"
          ]
        },
        {
          "output_type": "stream",
          "name": "stdout",
          "text": [
            "полученный запрос {'HighBP': 1.0, 'HighChol': 0.0, 'CholCheck': 1.0, 'BMI': 26.0, 'Smoker': 1.0, 'Stroke': 0.0, 'HeartDiseaseorAttack': 0.0, 'PhysActivity': 1.0, 'Fruits': 1.0, 'Veggies': 1.0, 'HvyAlcoholConsump': 0.0, 'Sex': 1.0, 'Age': 12.0}\n",
            "Рузультат предсказания [[0.81266801 0.18733199]]\n",
            "Ответ сервера {'OK': True, 'proba': 0.18733199223031605, 'treshold': 0.42}\n"
          ]
        },
        {
          "output_type": "stream",
          "name": "stderr",
          "text": [
            "127.0.0.1 - - [28/Apr/2022 12:51:18] \"\u001b[37mPOST /predict HTTP/1.1\u001b[0m\" 200 -\n"
          ]
        },
        {
          "output_type": "stream",
          "name": "stdout",
          "text": [
            "полученный запрос {'HighBP': 0.0, 'HighChol': 0.0, 'CholCheck': 1.0, 'BMI': 23.0, 'Smoker': 0.0, 'Stroke': 0.0, 'HeartDiseaseorAttack': 0.0, 'PhysActivity': 1.0, 'Fruits': 0.0, 'Veggies': 1.0, 'HvyAlcoholConsump': 0.0, 'Sex': 0.0, 'Age': 5.0}\n",
            "Рузультат предсказания [[0.98697324 0.01302676]]\n",
            "Ответ сервера {'OK': True, 'proba': 0.013026756191249553, 'treshold': 0.42}\n"
          ]
        },
        {
          "output_type": "stream",
          "name": "stderr",
          "text": [
            "127.0.0.1 - - [28/Apr/2022 12:51:18] \"\u001b[37mPOST /predict HTTP/1.1\u001b[0m\" 200 -\n"
          ]
        },
        {
          "output_type": "stream",
          "name": "stdout",
          "text": [
            "полученный запрос {'HighBP': 1.0, 'HighChol': 0.0, 'CholCheck': 1.0, 'BMI': 32.0, 'Smoker': 0.0, 'Stroke': 0.0, 'HeartDiseaseorAttack': 0.0, 'PhysActivity': 1.0, 'Fruits': 0.0, 'Veggies': 0.0, 'HvyAlcoholConsump': 0.0, 'Sex': 0.0, 'Age': 5.0}\n",
            "Рузультат предсказания [[0.8962829 0.1037171]]\n",
            "Ответ сервера {'OK': True, 'proba': 0.10371710245283501, 'treshold': 0.42}\n"
          ]
        },
        {
          "output_type": "stream",
          "name": "stderr",
          "text": [
            "127.0.0.1 - - [28/Apr/2022 12:51:18] \"\u001b[37mPOST /predict HTTP/1.1\u001b[0m\" 200 -\n"
          ]
        },
        {
          "output_type": "stream",
          "name": "stdout",
          "text": [
            "полученный запрос {'HighBP': 0.0, 'HighChol': 0.0, 'CholCheck': 1.0, 'BMI': 24.0, 'Smoker': 0.0, 'Stroke': 0.0, 'HeartDiseaseorAttack': 0.0, 'PhysActivity': 1.0, 'Fruits': 1.0, 'Veggies': 0.0, 'HvyAlcoholConsump': 0.0, 'Sex': 1.0, 'Age': 6.0}\n",
            "Рузультат предсказания [[0.9795479 0.0204521]]\n",
            "Ответ сервера {'OK': True, 'proba': 0.0204520980658434, 'treshold': 0.42}\n"
          ]
        },
        {
          "output_type": "stream",
          "name": "stderr",
          "text": [
            "127.0.0.1 - - [28/Apr/2022 12:51:19] \"\u001b[37mPOST /predict HTTP/1.1\u001b[0m\" 200 -\n"
          ]
        },
        {
          "output_type": "stream",
          "name": "stdout",
          "text": [
            "полученный запрос {'HighBP': 0.0, 'HighChol': 0.0, 'CholCheck': 1.0, 'BMI': 23.0, 'Smoker': 1.0, 'Stroke': 0.0, 'HeartDiseaseorAttack': 0.0, 'PhysActivity': 0.0, 'Fruits': 1.0, 'Veggies': 1.0, 'HvyAlcoholConsump': 0.0, 'Sex': 0.0, 'Age': 8.0}\n",
            "Рузультат предсказания [[0.9608857 0.0391143]]\n",
            "Ответ сервера {'OK': True, 'proba': 0.03911430365374107, 'treshold': 0.42}\n"
          ]
        },
        {
          "output_type": "stream",
          "name": "stderr",
          "text": [
            "127.0.0.1 - - [28/Apr/2022 12:51:19] \"\u001b[37mPOST /predict HTTP/1.1\u001b[0m\" 200 -\n"
          ]
        },
        {
          "output_type": "stream",
          "name": "stdout",
          "text": [
            "полученный запрос {'HighBP': 1.0, 'HighChol': 1.0, 'CholCheck': 1.0, 'BMI': 38.0, 'Smoker': 1.0, 'Stroke': 0.0, 'HeartDiseaseorAttack': 0.0, 'PhysActivity': 0.0, 'Fruits': 0.0, 'Veggies': 0.0, 'HvyAlcoholConsump': 0.0, 'Sex': 0.0, 'Age': 7.0}\n",
            "Рузультат предсказания [[0.49415394 0.50584606]]\n",
            "Ответ сервера {'OK': True, 'proba': 0.5058460594781955, 'treshold': 0.42}\n"
          ]
        },
        {
          "output_type": "stream",
          "name": "stderr",
          "text": [
            "127.0.0.1 - - [28/Apr/2022 12:51:19] \"\u001b[37mPOST /predict HTTP/1.1\u001b[0m\" 200 -\n"
          ]
        },
        {
          "output_type": "stream",
          "name": "stdout",
          "text": [
            "полученный запрос {'HighBP': 0.0, 'HighChol': 0.0, 'CholCheck': 1.0, 'BMI': 17.0, 'Smoker': 0.0, 'Stroke': 0.0, 'HeartDiseaseorAttack': 0.0, 'PhysActivity': 1.0, 'Fruits': 0.0, 'Veggies': 0.0, 'HvyAlcoholConsump': 0.0, 'Sex': 0.0, 'Age': 6.0}\n",
            "Рузультат предсказания [[0.98911163 0.01088837]]\n",
            "Ответ сервера {'OK': True, 'proba': 0.010888367325413536, 'treshold': 0.42}\n"
          ]
        },
        {
          "output_type": "stream",
          "name": "stderr",
          "text": [
            "127.0.0.1 - - [28/Apr/2022 12:51:19] \"\u001b[37mPOST /predict HTTP/1.1\u001b[0m\" 200 -\n"
          ]
        },
        {
          "output_type": "stream",
          "name": "stdout",
          "text": [
            "полученный запрос {'HighBP': 1.0, 'HighChol': 0.0, 'CholCheck': 1.0, 'BMI': 24.0, 'Smoker': 1.0, 'Stroke': 0.0, 'HeartDiseaseorAttack': 0.0, 'PhysActivity': 1.0, 'Fruits': 1.0, 'Veggies': 1.0, 'HvyAlcoholConsump': 0.0, 'Sex': 0.0, 'Age': 13.0}\n",
            "Рузультат предсказания [[0.87345656 0.12654344]]\n",
            "Ответ сервера {'OK': True, 'proba': 0.12654344046799046, 'treshold': 0.42}\n"
          ]
        },
        {
          "output_type": "stream",
          "name": "stderr",
          "text": [
            "127.0.0.1 - - [28/Apr/2022 12:51:19] \"\u001b[37mPOST /predict HTTP/1.1\u001b[0m\" 200 -\n"
          ]
        },
        {
          "output_type": "stream",
          "name": "stdout",
          "text": [
            "полученный запрос {'HighBP': 0.0, 'HighChol': 0.0, 'CholCheck': 1.0, 'BMI': 26.0, 'Smoker': 1.0, 'Stroke': 0.0, 'HeartDiseaseorAttack': 0.0, 'PhysActivity': 1.0, 'Fruits': 0.0, 'Veggies': 1.0, 'HvyAlcoholConsump': 0.0, 'Sex': 0.0, 'Age': 3.0}\n",
            "Рузультат предсказания [[0.98383227 0.01616773]]\n",
            "Ответ сервера {'OK': True, 'proba': 0.0161677322997488, 'treshold': 0.42}\n"
          ]
        },
        {
          "output_type": "stream",
          "name": "stderr",
          "text": [
            "127.0.0.1 - - [28/Apr/2022 12:51:20] \"\u001b[37mPOST /predict HTTP/1.1\u001b[0m\" 200 -\n"
          ]
        },
        {
          "output_type": "stream",
          "name": "stdout",
          "text": [
            "полученный запрос {'HighBP': 0.0, 'HighChol': 0.0, 'CholCheck': 1.0, 'BMI': 33.0, 'Smoker': 0.0, 'Stroke': 0.0, 'HeartDiseaseorAttack': 0.0, 'PhysActivity': 1.0, 'Fruits': 1.0, 'Veggies': 1.0, 'HvyAlcoholConsump': 0.0, 'Sex': 0.0, 'Age': 9.0}\n",
            "Рузультат предсказания [[0.89877948 0.10122052]]\n",
            "Ответ сервера {'OK': True, 'proba': 0.1012205242010429, 'treshold': 0.42}\n"
          ]
        },
        {
          "output_type": "stream",
          "name": "stderr",
          "text": [
            "127.0.0.1 - - [28/Apr/2022 12:51:20] \"\u001b[37mPOST /predict HTTP/1.1\u001b[0m\" 200 -\n"
          ]
        },
        {
          "output_type": "stream",
          "name": "stdout",
          "text": [
            "полученный запрос {'HighBP': 1.0, 'HighChol': 0.0, 'CholCheck': 1.0, 'BMI': 33.0, 'Smoker': 0.0, 'Stroke': 0.0, 'HeartDiseaseorAttack': 0.0, 'PhysActivity': 1.0, 'Fruits': 1.0, 'Veggies': 1.0, 'HvyAlcoholConsump': 0.0, 'Sex': 1.0, 'Age': 6.0}\n",
            "Рузультат предсказания [[0.86526167 0.13473833]]\n",
            "Ответ сервера {'OK': True, 'proba': 0.1347383327811663, 'treshold': 0.42}\n"
          ]
        },
        {
          "output_type": "stream",
          "name": "stderr",
          "text": [
            "127.0.0.1 - - [28/Apr/2022 12:51:20] \"\u001b[37mPOST /predict HTTP/1.1\u001b[0m\" 200 -\n"
          ]
        },
        {
          "output_type": "stream",
          "name": "stdout",
          "text": [
            "полученный запрос {'HighBP': 1.0, 'HighChol': 1.0, 'CholCheck': 1.0, 'BMI': 31.0, 'Smoker': 1.0, 'Stroke': 0.0, 'HeartDiseaseorAttack': 1.0, 'PhysActivity': 1.0, 'Fruits': 0.0, 'Veggies': 1.0, 'HvyAlcoholConsump': 0.0, 'Sex': 1.0, 'Age': 8.0}\n",
            "Рузультат предсказания [[0.61552809 0.38447191]]\n",
            "Ответ сервера {'OK': True, 'proba': 0.38447191156384786, 'treshold': 0.42}\n"
          ]
        },
        {
          "output_type": "stream",
          "name": "stderr",
          "text": [
            "127.0.0.1 - - [28/Apr/2022 12:51:20] \"\u001b[37mPOST /predict HTTP/1.1\u001b[0m\" 200 -\n"
          ]
        },
        {
          "output_type": "stream",
          "name": "stdout",
          "text": [
            "полученный запрос {'HighBP': 1.0, 'HighChol': 1.0, 'CholCheck': 1.0, 'BMI': 33.0, 'Smoker': 1.0, 'Stroke': 0.0, 'HeartDiseaseorAttack': 1.0, 'PhysActivity': 1.0, 'Fruits': 1.0, 'Veggies': 1.0, 'HvyAlcoholConsump': 0.0, 'Sex': 1.0, 'Age': 8.0}\n",
            "Рузультат предсказания [[0.51965457 0.48034543]]\n",
            "Ответ сервера {'OK': True, 'proba': 0.48034543316569533, 'treshold': 0.42}\n"
          ]
        },
        {
          "output_type": "stream",
          "name": "stderr",
          "text": [
            "127.0.0.1 - - [28/Apr/2022 12:51:21] \"\u001b[37mPOST /predict HTTP/1.1\u001b[0m\" 200 -\n"
          ]
        },
        {
          "output_type": "stream",
          "name": "stdout",
          "text": [
            "полученный запрос {'HighBP': 1.0, 'HighChol': 1.0, 'CholCheck': 1.0, 'BMI': 28.0, 'Smoker': 0.0, 'Stroke': 0.0, 'HeartDiseaseorAttack': 0.0, 'PhysActivity': 1.0, 'Fruits': 1.0, 'Veggies': 1.0, 'HvyAlcoholConsump': 0.0, 'Sex': 0.0, 'Age': 11.0}\n",
            "Рузультат предсказания [[0.74067722 0.25932278]]\n",
            "Ответ сервера {'OK': True, 'proba': 0.25932277901495526, 'treshold': 0.42}\n"
          ]
        },
        {
          "output_type": "stream",
          "name": "stderr",
          "text": [
            "127.0.0.1 - - [28/Apr/2022 12:51:21] \"\u001b[37mPOST /predict HTTP/1.1\u001b[0m\" 200 -\n"
          ]
        },
        {
          "output_type": "stream",
          "name": "stdout",
          "text": [
            "полученный запрос {'HighBP': 0.0, 'HighChol': 0.0, 'CholCheck': 1.0, 'BMI': 27.0, 'Smoker': 0.0, 'Stroke': 0.0, 'HeartDiseaseorAttack': 0.0, 'PhysActivity': 1.0, 'Fruits': 1.0, 'Veggies': 1.0, 'HvyAlcoholConsump': 0.0, 'Sex': 0.0, 'Age': 7.0}\n",
            "Рузультат предсказания [[0.97148538 0.02851462]]\n",
            "Ответ сервера {'OK': True, 'proba': 0.028514617942143907, 'treshold': 0.42}\n"
          ]
        },
        {
          "output_type": "stream",
          "name": "stderr",
          "text": [
            "127.0.0.1 - - [28/Apr/2022 12:51:21] \"\u001b[37mPOST /predict HTTP/1.1\u001b[0m\" 200 -\n"
          ]
        },
        {
          "output_type": "stream",
          "name": "stdout",
          "text": [
            "полученный запрос {'HighBP': 0.0, 'HighChol': 0.0, 'CholCheck': 1.0, 'BMI': 26.0, 'Smoker': 1.0, 'Stroke': 0.0, 'HeartDiseaseorAttack': 0.0, 'PhysActivity': 1.0, 'Fruits': 1.0, 'Veggies': 1.0, 'HvyAlcoholConsump': 1.0, 'Sex': 0.0, 'Age': 8.0}\n",
            "Рузультат предсказания [[0.98963405 0.01036595]]\n",
            "Ответ сервера {'OK': True, 'proba': 0.010365948979538958, 'treshold': 0.42}\n"
          ]
        },
        {
          "output_type": "stream",
          "name": "stderr",
          "text": [
            "127.0.0.1 - - [28/Apr/2022 12:51:21] \"\u001b[37mPOST /predict HTTP/1.1\u001b[0m\" 200 -\n"
          ]
        },
        {
          "output_type": "stream",
          "name": "stdout",
          "text": [
            "полученный запрос {'HighBP': 1.0, 'HighChol': 1.0, 'CholCheck': 1.0, 'BMI': 29.0, 'Smoker': 0.0, 'Stroke': 0.0, 'HeartDiseaseorAttack': 0.0, 'PhysActivity': 1.0, 'Fruits': 1.0, 'Veggies': 1.0, 'HvyAlcoholConsump': 0.0, 'Sex': 0.0, 'Age': 8.0}\n",
            "Рузультат предсказания [[0.75905471 0.24094529]]\n",
            "Ответ сервера {'OK': True, 'proba': 0.24094529185152713, 'treshold': 0.42}\n"
          ]
        },
        {
          "output_type": "stream",
          "name": "stderr",
          "text": [
            "127.0.0.1 - - [28/Apr/2022 12:51:22] \"\u001b[37mPOST /predict HTTP/1.1\u001b[0m\" 200 -\n"
          ]
        },
        {
          "output_type": "stream",
          "name": "stdout",
          "text": [
            "полученный запрос {'HighBP': 0.0, 'HighChol': 1.0, 'CholCheck': 1.0, 'BMI': 29.0, 'Smoker': 1.0, 'Stroke': 0.0, 'HeartDiseaseorAttack': 0.0, 'PhysActivity': 1.0, 'Fruits': 1.0, 'Veggies': 1.0, 'HvyAlcoholConsump': 0.0, 'Sex': 1.0, 'Age': 13.0}\n",
            "Рузультат предсказания [[0.8216824 0.1783176]]\n",
            "Ответ сервера {'OK': True, 'proba': 0.1783175998241419, 'treshold': 0.42}\n"
          ]
        }
      ]
    }
  ],
  "metadata": {
    "colab": {
      "collapsed_sections": [],
      "name": "ssmirnov_ml_business_tp_server.ipynb",
      "provenance": [],
      "authorship_tag": "ABX9TyNak6InnJVmHbl544Nngs6u",
      "include_colab_link": true
    },
    "kernelspec": {
      "display_name": "Python 3",
      "name": "python3"
    },
    "language_info": {
      "name": "python"
    }
  },
  "nbformat": 4,
  "nbformat_minor": 0
}